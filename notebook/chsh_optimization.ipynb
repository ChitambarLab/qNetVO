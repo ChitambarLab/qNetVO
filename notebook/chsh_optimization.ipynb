{
 "cells": [
  {
   "cell_type": "markdown",
   "metadata": {},
   "source": [
    "# Optimization of Nonlocality against CHSH Inequality\n",
    "\n",
    "### Goal: Find a set of states and measurements that optimally violate the CHSH inequality."
   ]
  },
  {
   "cell_type": "code",
   "execution_count": 1,
   "metadata": {},
   "outputs": [
    {
     "name": "stderr",
     "output_type": "stream",
     "text": [
      "WARNING:matplotlib.style.core:In /Users/brian/opt/anaconda3/lib/python3.7/site-packages/matplotlib/mpl-data/stylelib/_classic_test.mplstyle: \n",
      "The text.latex.preview rcparam was deprecated in Matplotlib 3.3 and will be removed two minor releases later.\n",
      "WARNING:matplotlib.style.core:In /Users/brian/opt/anaconda3/lib/python3.7/site-packages/matplotlib/mpl-data/stylelib/_classic_test.mplstyle: \n",
      "The mathtext.fallback_to_cm rcparam was deprecated in Matplotlib 3.3 and will be removed two minor releases later.\n",
      "WARNING:matplotlib.style.core:In /Users/brian/opt/anaconda3/lib/python3.7/site-packages/matplotlib/mpl-data/stylelib/_classic_test.mplstyle: Support for setting the 'mathtext.fallback_to_cm' rcParam is deprecated since 3.3 and will be removed two minor releases later; use 'mathtext.fallback : 'cm' instead.\n",
      "WARNING:matplotlib.style.core:In /Users/brian/opt/anaconda3/lib/python3.7/site-packages/matplotlib/mpl-data/stylelib/_classic_test.mplstyle: \n",
      "The validate_bool_maybe_none function was deprecated in Matplotlib 3.3 and will be removed two minor releases later.\n",
      "WARNING:matplotlib.style.core:In /Users/brian/opt/anaconda3/lib/python3.7/site-packages/matplotlib/mpl-data/stylelib/_classic_test.mplstyle: \n",
      "The savefig.jpeg_quality rcparam was deprecated in Matplotlib 3.3 and will be removed two minor releases later.\n",
      "WARNING:matplotlib.style.core:In /Users/brian/opt/anaconda3/lib/python3.7/site-packages/matplotlib/mpl-data/stylelib/_classic_test.mplstyle: \n",
      "The keymap.all_axes rcparam was deprecated in Matplotlib 3.3 and will be removed two minor releases later.\n",
      "WARNING:matplotlib.style.core:In /Users/brian/opt/anaconda3/lib/python3.7/site-packages/matplotlib/mpl-data/stylelib/_classic_test.mplstyle: \n",
      "The animation.avconv_path rcparam was deprecated in Matplotlib 3.3 and will be removed two minor releases later.\n",
      "WARNING:matplotlib.style.core:In /Users/brian/opt/anaconda3/lib/python3.7/site-packages/matplotlib/mpl-data/stylelib/_classic_test.mplstyle: \n",
      "The animation.avconv_args rcparam was deprecated in Matplotlib 3.3 and will be removed two minor releases later.\n"
     ]
    }
   ],
   "source": [
    "import pennylane as qml\n",
    "from pennylane import numpy as np\n",
    "import matplotlib.pyplot as plt"
   ]
  },
  {
   "cell_type": "markdown",
   "metadata": {},
   "source": [
    "### Setup the Quantum Circuits"
   ]
  },
  {
   "cell_type": "code",
   "execution_count": 2,
   "metadata": {},
   "outputs": [],
   "source": [
    "# The CHSH scenario only requires two qubits (\"a\" and \"b\") to simulate\n",
    "dev = qml.device(\"default.qubit\", wires=[\"a\", \"b\"])\n",
    "\n",
    "# optimizer\n",
    "opt = qml.GradientDescentOptimizer()\n",
    "\n",
    "@qml.qnode(dev)\n",
    "def real_chsh_circuit(a_state, b_state, a_measurement, b_measurement):  \n",
    "    \"\"\"\n",
    "    Ansatz circuit where states and measurents are free to rotate about the y-axis.\n",
    "    In this model, all quantum states real.\n",
    "\n",
    "    Args:\n",
    "        a_state (float) : local rotation angle on Alice's state\n",
    "        b_state (float) : local rotation angle on Bob's state\n",
    "        a_measurement (float) : rotation angle of Alice's measurement\n",
    "        b_measurement (float) : rotation angle of Bob's measurement\n",
    "    \"\"\"\n",
    "    qml.Hadamard(wires=\"a\")\n",
    "    qml.CNOT(wires=[\"a\", \"b\"])\n",
    "    \n",
    "    qml.RY(a_state, wires=\"a\")\n",
    "    qml.RY(b_state, wires=\"b\")\n",
    "    \n",
    "    qml.RY(a_measurement, wires=\"a\")\n",
    "    qml.RY(b_measurement, wires=\"b\")\n",
    "    return qml.expval(qml.PauliZ(\"a\") @ qml.PauliZ(\"b\"))\n",
    "\n",
    "@qml.qnode(dev)\n",
    "def arbitrary_chsh_circuit(state_settings, measurement_a_settings, measurement_b_settings):\n",
    "    \"\"\"\n",
    "    Ansatz circuit where states are prepared with a two-qubit `ArbitraryUnitary` gate and\n",
    "    measurements are prepared with a one-qubit `ArbitraryUnitary` gate.\n",
    "\n",
    "    Args:\n",
    "        state_settings (list[float]) : 15 angle parameters for the arbitrary two-qubit state.\n",
    "        measurement_a_settings (list[float]) : 3 angle parameters for Alice's local measurement.\n",
    "        measurement_b_settings (list[float]) : 3 angle parameters for Bob's local measurement.\n",
    "    \"\"\"\n",
    "    qml.templates.subroutines.ArbitraryUnitary(state_settings, [\"a\",\"b\"])\n",
    "    \n",
    "    qml.templates.subroutines.ArbitraryUnitary(measurement_a_settings, [\"a\"])\n",
    "    qml.templates.subroutines.ArbitraryUnitary(measurement_b_settings, [\"b\"])\n",
    "    return qml.expval(qml.PauliZ(\"a\") @ qml.PauliZ(\"b\"))"
   ]
  },
  {
   "cell_type": "markdown",
   "metadata": {},
   "source": [
    "### Setup methods to randomize initial conditions"
   ]
  },
  {
   "cell_type": "code",
   "execution_count": 3,
   "metadata": {},
   "outputs": [],
   "source": [
    "def real_chsh_rand_settings():\n",
    "    \"\"\"\n",
    "    Returns a (3,2) tensor containing random values for the input to `real_chsh_circuit()`.\n",
    "    \"\"\"\n",
    "    return 2*np.pi*np.random.random((3, 2)) - np.pi\n",
    "\n",
    "def arbitrary_chsh_rand_settings():\n",
    "    \"\"\"\n",
    "    Returns a 27-element list containing random values for the input to `arbitrary_chsh_circuit()`.\n",
    "    \"\"\"\n",
    "    return 2*np.pi*np.random.random(27) - np.pi"
   ]
  },
  {
   "cell_type": "markdown",
   "metadata": {},
   "source": [
    "### Setup the Cost Function"
   ]
  },
  {
   "cell_type": "code",
   "execution_count": 4,
   "metadata": {},
   "outputs": [],
   "source": [
    "def real_chsh_cost(real_settings):\n",
    "    \"\"\"\n",
    "    Applies the CHSH inequality as a cost function with respect to the `real_chsh_circuit()`.\n",
    "    \"\"\"\n",
    "    run1 = real_chsh_circuit(real_settings[0,0], real_settings[0,1], real_settings[1, 0], real_settings[2, 0])\n",
    "    run2 = real_chsh_circuit(real_settings[0,0], real_settings[0,1], real_settings[1, 0], real_settings[2, 1])\n",
    "    run3 = real_chsh_circuit(real_settings[0,0], real_settings[0,1], real_settings[1, 1], real_settings[2, 0])\n",
    "    run4 = real_chsh_circuit(real_settings[0,0], real_settings[0,1], real_settings[1, 1], real_settings[2, 1])\n",
    "    return -(run1 + run2 + run3 - run4)\n",
    "    \n",
    "def arbitrary_chsh_cost(arb_settings):\n",
    "    \"\"\"\n",
    "    Applies the CHSH inequality as a cost function with respect to the `arbitrary_chsh_circuit()`.\n",
    "    \"\"\"\n",
    "    run1 = arbitrary_chsh_circuit(arb_settings[0:15], arb_settings[15:18], arb_settings[21:24])\n",
    "    run2 = arbitrary_chsh_circuit(arb_settings[0:15], arb_settings[15:18], arb_settings[24:27])\n",
    "    run3 = arbitrary_chsh_circuit(arb_settings[0:15], arb_settings[18:21], arb_settings[21:24])\n",
    "    run4 = arbitrary_chsh_circuit(arb_settings[0:15], arb_settings[18:21], arb_settings[24:27])\n",
    "    return -(run1 + run2 + run3 - run4)"
   ]
  },
  {
   "cell_type": "markdown",
   "metadata": {},
   "source": [
    "### Optimizing the CHSH circuit over the real parameter space"
   ]
  },
  {
   "cell_type": "code",
   "execution_count": 5,
   "metadata": {},
   "outputs": [
    {
     "name": "stdout",
     "output_type": "stream",
     "text": [
      "iteration :  0 , score :  -0.7011560966086874\n",
      "settings :\n",
      " [[ 0.70758347 -2.96126647]\n",
      " [ 0.36507171  2.64109091]\n",
      " [ 0.08269264  1.44053703]] \n",
      "\n",
      "iteration :  50 , score :  1.516551297558359\n",
      "settings :\n",
      " [[ 0.39655897 -2.65024197]\n",
      " [ 0.22007538  2.47506274]\n",
      " [-0.37044485  2.20469903]] \n",
      "\n",
      "iteration :  100 , score :  2.103360517410068\n",
      "settings :\n",
      " [[ 0.40715582 -2.66083882]\n",
      " [ 0.15322866  2.55250631]\n",
      " [-0.74080206  2.56445938]] \n",
      "\n",
      "iteration :  150 , score :  2.4586018403762977\n",
      "settings :\n",
      " [[ 0.47785794 -2.73154094]\n",
      " [ 0.28416668  2.49227041]\n",
      " [-1.0424089   2.79536411]] \n",
      "\n",
      "iteration :  200 , score :  2.7037564350511962\n",
      "settings :\n",
      " [[ 0.52447234 -2.77815534]\n",
      " [ 0.44120042  2.38185108]\n",
      " [-1.26457532  2.97091612]] \n",
      "\n",
      "iteration :  250 , score :  2.7952826920712806\n",
      "settings :\n",
      " [[ 0.54074335 -2.79442635]\n",
      " [ 0.53911905  2.30020346]\n",
      " [-1.39042885  3.08049865]] \n",
      "\n",
      "iteration :  300 , score :  2.8202460748648273\n",
      "settings :\n",
      " [[ 0.545069   -2.798752  ]\n",
      " [ 0.58918805  2.25446011]\n",
      " [-1.4536153   3.13935945]] \n",
      "\n",
      "iteration :  350 , score :  2.8264459907451327\n",
      "settings :\n",
      " [[ 0.54613503 -2.79981803]\n",
      " [ 0.6137172   2.23099699]\n",
      " [-1.48450641  3.16918452]] \n",
      "\n",
      "iteration :  400 , score :  2.827949606422657\n",
      "settings :\n",
      " [[ 0.54639304 -2.80007604]\n",
      " [ 0.62567786  2.21929434]\n",
      " [-1.49957939  3.18399949]] \n",
      "\n",
      "iteration :  450 , score :  2.828312156983835\n",
      "settings :\n",
      " [[ 0.54645522 -2.80013822]\n",
      " [ 0.63152045  2.21351392]\n",
      " [-1.5069478   3.19130573]] \n",
      "\n",
      "final score :  2.8283986529357055 ,\n",
      "final settings :  [[ 0.54647006 -2.80015305]\n",
      " [ 0.63434035  2.21070886]\n",
      " [-1.51050578  3.19484887]]\n"
     ]
    }
   ],
   "source": [
    "# initial settings\n",
    "real_settings = real_chsh_rand_settings()\n",
    "real_scores = []\n",
    "\n",
    "# performing gradient descent\n",
    "for i in range(500):\n",
    "    real_settings = opt.step(real_chsh_cost, real_settings)\n",
    "    score = -(real_chsh_cost(real_settings))\n",
    "    real_scores.append(score)\n",
    "    \n",
    "    if i%50 == 0:\n",
    "        print(\"iteration : \",i, \", score : \", score)\n",
    "        print(\"settings :\\n\", real_settings, \"\\n\")\n",
    "\n",
    "# printing final results    \n",
    "print(\"final score : \", score,\",\")\n",
    "print(\"final settings : \", real_settings)"
   ]
  },
  {
   "cell_type": "code",
   "execution_count": 6,
   "metadata": {},
   "outputs": [
    {
     "data": {
      "image/png": "[encoded data removed]",
      "text/plain": [
       "<Figure size 432x288 with 1 Axes>"
      ]
     },
     "metadata": {
      "needs_background": "light"
     },
     "output_type": "display_data"
    }
   ],
   "source": [
    "# Plot the individual observables\n",
    "plt.plot(range(500), real_scores , label = \"CHSH Optimzation\")\n",
    "plt.plot(range(500), [2]*500, label = \"Classical Bound\")\n",
    "plt.plot(range(500), [2*np.sqrt(2)]*500, label = \"Quantum Bound\")\n",
    "plt.title(\"CHSH Optimization over Real Parameter Space\")\n",
    "plt.xlabel(\"Iteration\")\n",
    "plt.ylabel(\"CHSH score\")\n",
    "plt.legend()\n",
    "plt.show()"
   ]
  },
  {
   "cell_type": "markdown",
   "metadata": {},
   "source": [
    "### Optimizing the CHSH circuit over general parameter space"
   ]
  },
  {
   "cell_type": "code",
   "execution_count": 7,
   "metadata": {},
   "outputs": [
    {
     "name": "stdout",
     "output_type": "stream",
     "text": [
      "iteration :  0 , score :  0.8837076630160432\n",
      "settings :\n",
      " [-1.23179723 -1.04879025  2.66687117  0.55997136 -1.93005028 -0.32854597\n",
      "  2.92858081  3.04087202 -1.79802396  2.04939637  1.92597529 -0.10948375\n",
      " -1.24851355 -2.53837217  1.81215544 -1.14709777  1.00182415  2.87945331\n",
      " -0.36434714  0.84155464 -2.51367895  1.79500495  0.86588346 -2.33802631\n",
      "  0.91894695  0.52385731 -2.83805503] \n",
      "\n",
      "iteration :  50 , score :  2.3198436193852006\n",
      "settings :\n",
      " [-1.35462833 -1.00443427  2.47737495  0.36097905 -1.95417578 -0.34628327\n",
      "  2.84945928  3.07195005 -1.6444189   2.03770345  1.86789217 -0.29364613\n",
      " -1.27606646 -2.50101087  1.64908269 -1.17787373  0.7154569   2.87945331\n",
      " -0.35336672  1.13853963 -2.51367895  1.73572039  1.1707763  -2.33802631\n",
      "  1.06234043  0.43864793 -2.83805503] \n",
      "\n",
      "iteration :  100 , score :  2.592640773312755\n",
      "settings :\n",
      " [-1.36472808 -0.99802383  2.45279067  0.36168062 -1.89477971 -0.41179106\n",
      "  2.807138    3.07079107 -1.59080987  2.03725847  1.85225621 -0.26858621\n",
      " -1.27388335 -2.47664777  1.70278709 -1.16983965  0.51387497  2.87945331\n",
      " -0.29601983  1.31291311 -2.51367895  1.76084413  1.26407762 -2.33802631\n",
      "  1.08424104  0.26467944 -2.83805503] \n",
      "\n",
      "iteration :  150 , score :  2.7194689778044845\n",
      "settings :\n",
      " [-1.36435466 -1.00361624  2.4675414   0.37992729 -1.85524292 -0.42911959\n",
      "  2.79398514  3.07722728 -1.59263924  2.0452836   1.84457325 -0.23705546\n",
      " -1.28336602 -2.45924989  1.73721471 -1.18242841  0.3466569   2.87945331\n",
      " -0.2605626   1.39684267 -2.51367895  1.78912996  1.31886453 -2.33802631\n",
      "  1.05259649  0.13803013 -2.83805503] \n",
      "\n",
      "iteration :  200 , score :  2.7800014448749213\n",
      "settings :\n",
      " [-1.36386394 -1.01106825  2.48693237  0.39367409 -1.83103228 -0.43174632\n",
      "  2.79348236  3.08725098 -1.60443563  2.0522671   1.83792785 -0.21237787\n",
      " -1.28887839 -2.44453602  1.75728102 -1.19120036  0.22421932  2.87945331\n",
      " -0.24200965  1.4430251  -2.51367895  1.80821352  1.35275061 -2.33802631\n",
      "  1.02088399  0.05365951 -2.83805503] \n",
      "\n",
      "iteration :  250 , score :  2.8073229835039193\n",
      "settings :\n",
      " [-1.36440141e+00 -1.01722969e+00  2.50199769e+00  4.02132679e-01\n",
      " -1.81556473e+00 -4.30345365e-01  2.79561678e+00  3.09602375e+00\n",
      " -1.61384732e+00  2.05829676e+00  1.83285852e+00 -1.96143432e-01\n",
      " -1.29071281e+00 -2.43300557e+00  1.76955355e+00 -1.19314227e+00\n",
      "  1.39264783e-01  2.87945331e+00 -2.32508744e-01  1.47144284e+00\n",
      " -2.51367895e+00  1.82019846e+00  1.37364744e+00 -2.33802631e+00\n",
      "  9.99874481e-01 -1.31225696e-03 -2.83805503e+00] \n",
      "\n",
      "iteration :  300 , score :  2.8192711121176948\n",
      "settings :\n",
      " [-1.36546701 -1.0217754   2.51248929  0.40725    -1.80525363 -0.42802429\n",
      "  2.79761494  3.10266564 -1.61996906  2.06333323  1.82925363 -0.18586675\n",
      " -1.29093896 -2.42440424  1.77727518 -1.19163715  0.08194706  2.87945331\n",
      " -0.22751783  1.48934907 -2.51367895  1.82777519  1.38640735 -2.33802631\n",
      "  0.98708971 -0.0368407  -2.83805503] \n",
      "\n",
      "iteration :  350 , score :  2.8244511006576176\n",
      "settings :\n",
      " [-1.36662246 -1.02500304  2.51959103  0.410414   -1.7982474  -0.42578046\n",
      "  2.79906102  3.10746233 -1.62378581  2.06730686  1.8267519  -0.17933972\n",
      " -1.2906366  -2.41816424  1.78220607 -1.18914022  0.04381894  2.87945331\n",
      " -0.22477944  1.50059606 -2.51367895  1.83265534  1.3942427  -2.33802631\n",
      "  0.97932869 -0.05985758 -2.83805503] \n",
      "\n",
      "iteration :  400 , score :  2.826696517848192\n",
      "settings :\n",
      " [-1.36765263 -1.02725434  2.52435754  0.412414   -1.79346934 -0.42391423\n",
      "  2.80004145  3.11085377 -1.62615887  2.07030106  1.82503274 -0.17515329\n",
      " -1.29023089 -2.41372257  1.78538248 -1.18673634  0.01863501  2.87945331\n",
      " -0.22320767  1.50762819 -2.51367895  1.83584884  1.39913439 -2.33802631\n",
      "  0.97453872 -0.07487486 -2.83805503] \n",
      "\n",
      "iteration :  450 , score :  2.8276720385252574\n",
      "settings :\n",
      " [-1.36848535e+00 -1.02880768e+00  2.52754748e+00  4.13697073e-01\n",
      " -1.79021798e+00 -4.22467849e-01  2.80069287e+00  3.11322014e+00\n",
      " -1.62764553e+00  2.07248561e+00  1.82385831e+00 -1.72447666e-01\n",
      " -1.28986622e+00 -2.41060557e+00  1.78743991e+00 -1.18477087e+00\n",
      "  2.06069149e-03  2.87945331e+00 -2.22270076e-01  1.51201557e+00\n",
      " -2.51367895e+00  1.83796202e+00  1.40224984e+00 -2.33802631e+00\n",
      "  9.71531256e-01 -8.47500480e-02 -2.83805503e+00] \n",
      "\n",
      "final score :  2.8280914501328427 ,\n",
      "final settings :  [-1.36910945 -1.02985384  2.5296454   0.41451357 -1.78804914 -0.4214099\n",
      "  2.80111522  3.11482819 -1.62857087  2.07401828  1.8230727  -0.17071918\n",
      " -1.28958356 -2.40847759  1.78875577 -1.1833048  -0.00865134  2.87945331\n",
      " -0.22170311  1.5147085  -2.51367895  1.83934771  1.40423883 -2.33802631\n",
      "  0.96964765 -0.09118249 -2.83805503]\n"
     ]
    }
   ],
   "source": [
    "# optimizing arbitrary unitary circuit\n",
    "arbitrary_settings = arbitrary_chsh_rand_settings()\n",
    "arb_scores = []\n",
    "\n",
    "# performing gradient descent\n",
    "for i in range(500):\n",
    "    arbitrary_settings = opt.step(arbitrary_chsh_cost, arbitrary_settings)\n",
    "    score = -(arbitrary_chsh_cost(arbitrary_settings))\n",
    "    arb_scores.append(score)\n",
    "    \n",
    "    if i%50 == 0:\n",
    "        print(\"iteration : \",i, \", score : \", score)\n",
    "        print(\"settings :\\n\", arbitrary_settings, \"\\n\")\n",
    "\n",
    "# printing final results    \n",
    "print(\"final score : \", score,\",\")\n",
    "print(\"final settings : \", arbitrary_settings)"
   ]
  },
  {
   "cell_type": "code",
   "execution_count": 8,
   "metadata": {},
   "outputs": [
    {
     "data": {
      "image/png": "[encoded data removed]",
      "text/plain": [
       "<Figure size 432x288 with 1 Axes>"
      ]
     },
     "metadata": {
      "needs_background": "light"
     },
     "output_type": "display_data"
    }
   ],
   "source": [
    "# Plot the individual observables\n",
    "plt.plot(range(500), arb_scores , label = \"CHSH Optimzation\")\n",
    "plt.plot(range(500), [2]*500, label = \"Classical Bound\")\n",
    "plt.plot(range(500), [2*np.sqrt(2)]*500, label = \"Quantum Bound\")\n",
    "plt.title(\"CHSH Optimization over Complex Parameter Space\")\n",
    "plt.xlabel(\"Iteration\")\n",
    "plt.ylabel(\"CHSH score\")\n",
    "plt.legend()\n",
    "plt.show()"
   ]
  },
  {
   "cell_type": "code",
   "execution_count": null,
   "metadata": {},
   "outputs": [],
   "source": []
  }
 ],
 "metadata": {
  "@webio": {
   "lastCommId": null,
   "lastKernelId": null
  },
  "kernelspec": {
   "display_name": "Python 3",
   "language": "python",
   "name": "python3"
  },
  "language_info": {
   "codemirror_mode": {
    "name": "ipython",
    "version": 3
   },
   "file_extension": ".py",
   "mimetype": "text/x-python",
   "name": "python",
   "nbconvert_exporter": "python",
   "pygments_lexer": "ipython3",
   "version": "3.7.4"
  }
 },
 "nbformat": 4,
 "nbformat_minor": 5
}
