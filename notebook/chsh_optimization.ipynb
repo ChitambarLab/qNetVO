{
 "cells": [
  {
   "cell_type": "code",
   "execution_count": 48,
   "metadata": {},
   "outputs": [],
   "source": [
    "import pennylane as qml\n",
    "from pennylane import numpy as np\n",
    "import torch\n",
    "from torch.autograd import Variable"
   ]
  },
  {
   "cell_type": "code",
   "execution_count": 34,
   "metadata": {},
   "outputs": [],
   "source": [
    "# create a device to execute the circuit on\n",
    "dev = qml.device(\"default.qubit\", wires=8)\n",
    "\n",
    "\n",
    "@qml.qnode(dev, intergace=\"torch\", diff_method=\"parameter-shift\")\n",
    "def chsh_circuit(params):\n",
    "    qml.Hadamard(wires=0)\n",
    "    qml.Hadamard(wires=2)\n",
    "    qml.Hadamard(wires=4)\n",
    "    qml.Hadamard(wires=6)\n",
    "    \n",
    "    qml.CNOT(wires=[0,1])\n",
    "    qml.CNOT(wires=[2,3])\n",
    "    qml.CNOT(wires=[4,5])\n",
    "    qml.CNOT(wires=[6,7])\n",
    "\n",
    "    qml.RY(params[0],wires=[0])\n",
    "    qml.RY(params[2],wires=[1])\n",
    "    qml.RY(params[0],wires=[2])\n",
    "    qml.RY(params[3],wires=[3])\n",
    "    qml.RY(params[1],wires=[4])\n",
    "    qml.RY(params[2],wires=[5])\n",
    "    qml.RY(params[1],wires=[6])\n",
    "    qml.RY(params[3],wires=[7])\n",
    "    \n",
    "    return [\n",
    "        qml.expval(qml.PauliZ(0) @ qml.PauliZ(1)),\n",
    "        qml.expval(qml.PauliZ(2) @ qml.PauliZ(3)),\n",
    "        qml.expval(qml.PauliZ(4) @ qml.PauliZ(5)),\n",
    "        qml.expval(qml.PauliZ(6) @ qml.PauliZ(7)),\n",
    "    ]"
   ]
  },
  {
   "cell_type": "code",
   "execution_count": 36,
   "metadata": {},
   "outputs": [
    {
     "name": "stdout",
     "output_type": "stream",
     "text": [
      "Expectation value: [ 0.70710678  0.70710678  0.70710678 -0.70710678]\n"
     ]
    }
   ],
   "source": [
    "print(\"Expectation value:\", chsh_circuit([0,np.pi/2,np.pi/4,-np.pi/4]))"
   ]
  },
  {
   "cell_type": "code",
   "execution_count": 37,
   "metadata": {},
   "outputs": [
    {
     "name": "stdout",
     "output_type": "stream",
     "text": [
      " 0: ──H──╭C──RY(0)───────╭┤ ⟨Z ⊗ Z⟩ \n",
      " 1: ─────╰X──RY(0.785)───╰┤ ⟨Z ⊗ Z⟩ \n",
      " 2: ──H──╭C──RY(0)───────╭┤ ⟨Z ⊗ Z⟩ \n",
      " 3: ─────╰X──RY(-0.785)──╰┤ ⟨Z ⊗ Z⟩ \n",
      " 4: ──H──╭C──RY(1.57)────╭┤ ⟨Z ⊗ Z⟩ \n",
      " 5: ─────╰X──RY(0.785)───╰┤ ⟨Z ⊗ Z⟩ \n",
      " 6: ──H──╭C──RY(1.57)────╭┤ ⟨Z ⊗ Z⟩ \n",
      " 7: ─────╰X──RY(-0.785)──╰┤ ⟨Z ⊗ Z⟩ \n",
      "\n"
     ]
    }
   ],
   "source": [
    "print(chsh_circuit.draw())\n"
   ]
  },
  {
   "cell_type": "code",
   "execution_count": 58,
   "metadata": {},
   "outputs": [],
   "source": [
    "def chsh_cost(exp_vals):\n",
    "    chsh_score = exp_vals[0] + exp_vals[1] + exp_vals[2] - exp_vals[3]\n",
    "    return torch.mul(-1,torch.tensor(chsh_score))\n",
    "    "
   ]
  },
  {
   "cell_type": "code",
   "execution_count": 65,
   "metadata": {},
   "outputs": [
    {
     "name": "stdout",
     "output_type": "stream",
     "text": [
      "Cost after 0 steps is 1.3746\n",
      "Cost after 10 steps is 1.3746\n",
      "Cost after 20 steps is 1.3746\n",
      "Optimized exp vals =  [1. 1. 1. 1.]\n",
      "Optimal chsh score =  tensor(2.0000, dtype=torch.float64)\n"
     ]
    }
   ],
   "source": [
    "# number of qubits in the circuit\n",
    "num_qubits = 8\n",
    "np.random.seed(42)\n",
    "\n",
    "# randomly initialize parameters from a normal distribution\n",
    "params = np.random.normal(0, np.pi, 4)\n",
    "params = Variable(torch.tensor(params), requires_grad=False)\n",
    "\n",
    "# set up the optimizer\n",
    "opt = torch.optim.Adam([params], lr=0.1)\n",
    "\n",
    "# number of steps in the optimization routine\n",
    "steps = 20\n",
    "\n",
    "# the final stage of optimization isn't always the best, so we keep track of\n",
    "# the best parameters along the way\n",
    "best_cost = chsh_cost(chsh_circuit(params))\n",
    "best_params = np.zeros(4)\n",
    "\n",
    "print(\"Cost after 0 steps is {:.4f}\".format(chsh_cost(circuit(params))))\n",
    "\n",
    "# optimization begins\n",
    "for n in range(steps):\n",
    "    opt.zero_grad()\n",
    "    loss = chsh_cost(circuit(params))\n",
    "#     loss.backward()\n",
    "    opt.step()\n",
    "\n",
    "    # keeps track of best parameters\n",
    "    if loss < best_cost:\n",
    "        best_params = params\n",
    "\n",
    "    # Keep track of progress every 10 steps\n",
    "    if n % 10 == 9 or n == steps - 1:\n",
    "        print(\"Cost after {} steps is {:.4f}\".format(n + 1, loss))\n",
    "\n",
    "# calculate the Bloch vector of the output state\n",
    "exp_vals = chsh_circuit(best_params)\n",
    "opt_score = -1*chsh_cost(chsh_circuit(best_params))\n",
    "\n",
    "\n",
    "# print results\n",
    "print(\"Optimized exp vals = \", exp_vals)\n",
    "print(\"Optimal chsh score = \", opt_score)\n",
    "\n"
   ]
  },
  {
   "cell_type": "code",
   "execution_count": 62,
   "metadata": {},
   "outputs": [
    {
     "data": {
      "text/plain": [
       "tensor([-0.73561452, -0.73556294,  4.96124338,  2.41096731], requires_grad=True)"
      ]
     },
     "execution_count": 62,
     "metadata": {},
     "output_type": "execute_result"
    }
   ],
   "source": [
    "params = np.random.normal(0, np.pi, 4)\n",
    "params"
   ]
  },
  {
   "cell_type": "code",
   "execution_count": null,
   "metadata": {},
   "outputs": [],
   "source": []
  }
 ],
 "metadata": {
  "@webio": {
   "lastCommId": null,
   "lastKernelId": null
  },
  "kernelspec": {
   "display_name": "Python 3",
   "language": "python",
   "name": "python3"
  },
  "language_info": {
   "codemirror_mode": {
    "name": "ipython",
    "version": 3
   },
   "file_extension": ".py",
   "mimetype": "text/x-python",
   "name": "python",
   "nbconvert_exporter": "python",
   "pygments_lexer": "ipython3",
   "version": "3.7.4"
  }
 },
 "nbformat": 4,
 "nbformat_minor": 2
}
