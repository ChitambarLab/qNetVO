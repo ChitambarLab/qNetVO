{
 "cells": [
  {
   "attachments": {
    "image.png": {
     "image/png": "[encoded data removed]"
    }
   },
   "cell_type": "markdown",
   "id": "ba6db402",
   "metadata": {},
   "source": [
    "# Optimization of Nonlocality against CHSH Inequality\n",
    "\n",
    "This notebook considers the bipartite, nonsignaling CHSH scenario.\n",
    "\n",
    "<div>\n",
    "<img src=\"attachment:image.png\" width=\"250\"/>\n",
    "</div>\n",
    "    \n",
    "<!-- <img src=\"images/chsh_scenario.png\" alt=\"chsh scenario\" width=\"200\"/> -->\n",
    "\n",
    "Here $x$, $y$, $a$, and $b$ are all classical, binary values.\n",
    "In this scenario, quantum probabilities are constructed as $P(ab|xy) = \\text{Tr}[\\Pi_a^x\\otimes\\Pi_b^y\\Phi_{AB}]$ and expectation values for a particular observable are defined as\n",
    "$\\langle A_xB_y\\rangle = \\sum_{a,b\\in\\{0,1\\}} (-1)^{a+b}P(ab|xy)$.\n",
    "The CHSH inequality is then\n",
    "\n",
    "$$\n",
    "\\langle A_0B_0\\rangle + \\langle A_0 B_1\\rangle \\langle A_1 B_0 \\rangle - \\langle A_1 B_1 \\rangle \\leq 2.\n",
    "$$\n",
    "\n",
    "For quantum systems, the left hand side can be as large as $2\\sqrt{2}$.\n",
    "\n",
    "### Goal: Find a set of states and measurements that optimally violate the CHSH inequality."
   ]
  },
  {
   "cell_type": "code",
   "execution_count": 1,
   "id": "a06a06be",
   "metadata": {},
   "outputs": [],
   "source": [
    "import pennylane as qml\n",
    "from pennylane import numpy as np\n",
    "import matplotlib.pyplot as plt"
   ]
  },
  {
   "cell_type": "markdown",
   "id": "72005229",
   "metadata": {},
   "source": [
    "### Setup the Quantum Circuits"
   ]
  },
  {
   "cell_type": "code",
   "execution_count": 2,
   "id": "a5644a97",
   "metadata": {},
   "outputs": [],
   "source": [
    "# The CHSH scenario only requires two qubits (\"a\" and \"b\") to simulate\n",
    "dev = qml.device(\"default.qubit\", wires=[\"a\", \"b\"])\n",
    "\n",
    "# optimizer\n",
    "opt = qml.GradientDescentOptimizer()\n",
    "\n",
    "@qml.qnode(dev)\n",
    "def real_chsh_circuit(a_state, b_state, a_measurement, b_measurement):  \n",
    "    \"\"\"\n",
    "    Ansatz circuit where states and measurents are free to rotate about the y-axis.\n",
    "    In this model, all quantum states real.\n",
    "\n",
    "    Args:\n",
    "        a_state (float) : local rotation angle on Alice's state\n",
    "        b_state (float) : local rotation angle on Bob's state\n",
    "        a_measurement (float) : rotation angle of Alice's measurement\n",
    "        b_measurement (float) : rotation angle of Bob's measurement\n",
    "    \"\"\"\n",
    "    qml.Hadamard(wires=\"a\")\n",
    "    qml.CNOT(wires=[\"a\", \"b\"])\n",
    "    \n",
    "    qml.RY(a_state, wires=\"a\")\n",
    "    qml.RY(b_state, wires=\"b\")\n",
    "    \n",
    "    qml.RY(a_measurement, wires=\"a\")\n",
    "    qml.RY(b_measurement, wires=\"b\")\n",
    "    return qml.expval(qml.PauliZ(\"a\") @ qml.PauliZ(\"b\"))\n",
    "\n",
    "@qml.qnode(dev)\n",
    "def arbitrary_chsh_circuit(state_settings, measurement_a_settings, measurement_b_settings):\n",
    "    \"\"\"\n",
    "    Ansatz circuit where states are prepared with a two-qubit `ArbitraryUnitary` gate and\n",
    "    measurements are prepared with a one-qubit `ArbitraryUnitary` gate.\n",
    "\n",
    "    Args:\n",
    "        state_settings (list[float]) : 15 angle parameters for the arbitrary two-qubit state.\n",
    "        measurement_a_settings (list[float]) : 3 angle parameters for Alice's local measurement.\n",
    "        measurement_b_settings (list[float]) : 3 angle parameters for Bob's local measurement.\n",
    "    \"\"\"\n",
    "    qml.templates.subroutines.ArbitraryUnitary(state_settings, [\"a\",\"b\"])\n",
    "    \n",
    "    qml.templates.subroutines.ArbitraryUnitary(measurement_a_settings, [\"a\"])\n",
    "    qml.templates.subroutines.ArbitraryUnitary(measurement_b_settings, [\"b\"])\n",
    "    return qml.expval(qml.PauliZ(\"a\") @ qml.PauliZ(\"b\"))"
   ]
  },
  {
   "cell_type": "markdown",
   "id": "2d845e95",
   "metadata": {},
   "source": [
    "### Setup methods to randomize initial conditions"
   ]
  },
  {
   "cell_type": "code",
   "execution_count": 3,
   "id": "675f7726",
   "metadata": {},
   "outputs": [],
   "source": [
    "def real_chsh_rand_settings():\n",
    "    \"\"\"\n",
    "    Returns a (3,2) tensor containing random values for the input to `real_chsh_circuit()`.\n",
    "    \"\"\"\n",
    "    return 2*np.pi*np.random.random((3, 2)) - np.pi\n",
    "\n",
    "def arbitrary_chsh_rand_settings():\n",
    "    \"\"\"\n",
    "    Returns a 27-element list containing random values for the input to `arbitrary_chsh_circuit()`.\n",
    "    \"\"\"\n",
    "    return 2*np.pi*np.random.random(27) - np.pi"
   ]
  },
  {
   "cell_type": "markdown",
   "id": "10b729d1",
   "metadata": {},
   "source": [
    "### Setup the Cost Function"
   ]
  },
  {
   "cell_type": "code",
   "execution_count": 4,
   "id": "817b583e",
   "metadata": {},
   "outputs": [],
   "source": [
    "def real_chsh_cost(real_settings):\n",
    "    \"\"\"\n",
    "    Applies the CHSH inequality as a cost function with respect to the `real_chsh_circuit()`.\n",
    "    \"\"\"\n",
    "    run1 = real_chsh_circuit(real_settings[0,0], real_settings[0,1], real_settings[1, 0], real_settings[2, 0])\n",
    "    run2 = real_chsh_circuit(real_settings[0,0], real_settings[0,1], real_settings[1, 0], real_settings[2, 1])\n",
    "    run3 = real_chsh_circuit(real_settings[0,0], real_settings[0,1], real_settings[1, 1], real_settings[2, 0])\n",
    "    run4 = real_chsh_circuit(real_settings[0,0], real_settings[0,1], real_settings[1, 1], real_settings[2, 1])\n",
    "    return -(run1 + run2 + run3 - run4)\n",
    "    \n",
    "def arbitrary_chsh_cost(arb_settings):\n",
    "    \"\"\"\n",
    "    Applies the CHSH inequality as a cost function with respect to the `arbitrary_chsh_circuit()`.\n",
    "    \"\"\"\n",
    "    run1 = arbitrary_chsh_circuit(arb_settings[0:15], arb_settings[15:18], arb_settings[21:24])\n",
    "    run2 = arbitrary_chsh_circuit(arb_settings[0:15], arb_settings[15:18], arb_settings[24:27])\n",
    "    run3 = arbitrary_chsh_circuit(arb_settings[0:15], arb_settings[18:21], arb_settings[21:24])\n",
    "    run4 = arbitrary_chsh_circuit(arb_settings[0:15], arb_settings[18:21], arb_settings[24:27])\n",
    "    return -(run1 + run2 + run3 - run4)"
   ]
  },
  {
   "cell_type": "markdown",
   "id": "81c03045",
   "metadata": {},
   "source": [
    "### Optimizing the CHSH circuit over the real parameter space"
   ]
  },
  {
   "cell_type": "code",
   "execution_count": 5,
   "id": "93e72467",
   "metadata": {},
   "outputs": [
    {
     "name": "stdout",
     "output_type": "stream",
     "text": [
      "iteration :  0 , score :  1.9723430799740578\n",
      "settings :\n",
      " [[-0.17636146 -1.35831653]\n",
      " [ 2.94099102  2.82410772]\n",
      " [-1.99635734  0.70812706]] \n",
      "\n",
      "iteration :  50 , score :  2.1894087187381035\n",
      "settings :\n",
      " [[-0.05594116 -1.47873683]\n",
      " [ 3.14954841  2.73597063]\n",
      " [-2.00825091  0.59960033]] \n",
      "\n",
      "iteration :  100 , score :  2.482067703814696\n",
      "settings :\n",
      " [[ 0.01940792 -1.55408591]\n",
      " [ 3.38342472  2.5774434 ]\n",
      " [-1.88530136  0.40130169]] \n",
      "\n",
      "iteration :  150 , score :  2.71154293385578\n",
      "settings :\n",
      " [[ 0.06544593 -1.60012392]\n",
      " [ 3.57685797  2.43004816]\n",
      " [-1.75134417  0.2213065 ]] \n",
      "\n",
      "iteration :  200 , score :  2.7974071977777095\n",
      "settings :\n",
      " [[ 0.08118603 -1.61586402]\n",
      " [ 3.68896682  2.33367941]\n",
      " [-1.66074724  0.11496947]] \n",
      "\n",
      "iteration :  250 , score :  2.820774877567115\n",
      "settings :\n",
      " [[ 0.08534486 -1.62002285]\n",
      " [ 3.74546197  2.28134309]\n",
      " [-1.61112454  0.06118794]] \n",
      "\n",
      "iteration :  300 , score :  2.8265743209964342\n",
      "settings :\n",
      " [[ 0.08636822 -1.62104621]\n",
      " [ 3.77308796  2.25474046]\n",
      " [-1.58583852  0.03487855]] \n",
      "\n",
      "iteration :  350 , score :  2.827980554410355\n",
      "settings :\n",
      " [[ 0.08661581 -1.6212938 ]\n",
      " [ 3.78656406  2.24151195]\n",
      " [-1.57325417  0.02204661]] \n",
      "\n",
      "iteration :  400 , score :  2.828319608991907\n",
      "settings :\n",
      " [[ 0.08667548 -1.62135347]\n",
      " [ 3.79315032  2.23498536]\n",
      " [-1.56704337  0.01577616]] \n",
      "\n",
      "iteration :  450 , score :  2.8284012462432457\n",
      "settings :\n",
      " [[ 0.08668984 -1.62136783]\n",
      " [ 3.7963747   2.23177534]\n",
      " [-1.56398826  0.01270668]] \n",
      "\n",
      "final score :  2.828420716343832 ,\n",
      "final settings :  [[ 0.08669327 -1.62137126]\n",
      " [ 3.79793301  2.23022046]\n",
      " [-1.56250832  0.01122332]]\n"
     ]
    }
   ],
   "source": [
    "# initial settings\n",
    "real_settings = real_chsh_rand_settings()\n",
    "real_scores = []\n",
    "\n",
    "# performing gradient descent\n",
    "for i in range(500):\n",
    "    real_settings = opt.step(real_chsh_cost, real_settings)\n",
    "    score = -(real_chsh_cost(real_settings))\n",
    "    real_scores.append(score)\n",
    "    \n",
    "    if i%50 == 0:\n",
    "        print(\"iteration : \",i, \", score : \", score)\n",
    "        print(\"settings :\\n\", real_settings, \"\\n\")\n",
    "\n",
    "# printing final results    \n",
    "print(\"final score : \", score,\",\")\n",
    "print(\"final settings : \", real_settings)"
   ]
  },
  {
   "cell_type": "code",
   "execution_count": 6,
   "id": "225f5a57",
   "metadata": {},
   "outputs": [
    {
     "data": {
      "image/png": "[encoded data removed]",
      "text/plain": [
       "<Figure size 432x288 with 1 Axes>"
      ]
     },
     "metadata": {
      "needs_background": "light"
     },
     "output_type": "display_data"
    }
   ],
   "source": [
    "# Plot the individual observables\n",
    "plt.plot(range(500), real_scores , label = \"CHSH Optimzation\")\n",
    "plt.plot(range(500), [2]*500, label = \"Classical Bound\")\n",
    "plt.plot(range(500), [2*np.sqrt(2)]*500, label = \"Quantum Bound\")\n",
    "plt.title(\"CHSH Optimization over Real Parameter Space\")\n",
    "plt.xlabel(\"Iteration\")\n",
    "plt.ylabel(\"CHSH score\")\n",
    "plt.legend()\n",
    "plt.show()"
   ]
  },
  {
   "cell_type": "markdown",
   "id": "fec29d42",
   "metadata": {},
   "source": [
    "### Optimizing the CHSH circuit over general parameter space"
   ]
  },
  {
   "cell_type": "code",
   "execution_count": 7,
   "id": "d1326040",
   "metadata": {},
   "outputs": [
    {
     "name": "stdout",
     "output_type": "stream",
     "text": [
      "iteration :  0 , score :  0.06772569426838593\n",
      "settings :\n",
      " [-0.56730099 -1.9969323   0.17413592 -1.11732567 -1.74330233  0.01127433\n",
      " -1.83025117  0.80454635 -0.66694076 -1.99237303 -1.60047485  1.5658302\n",
      "  1.54240623  0.96597055  0.19086436  2.2484738   2.15129806  2.74980751\n",
      "  1.38494978  1.17800963  1.44017469 -1.52790173 -0.46972026  1.60016891\n",
      " -0.09469561  2.30177757  1.99225746] \n",
      "\n",
      "iteration :  50 , score :  2.559838890374355\n",
      "settings :\n",
      " [-7.36271920e-01 -1.73451475e+00  7.05455292e-02 -1.22402871e+00\n",
      " -1.79285459e+00  3.89396101e-01 -1.88293905e+00  8.45757215e-01\n",
      " -9.10414265e-01 -2.20870283e+00 -1.39154616e+00  1.25846759e+00\n",
      "  1.65281431e+00  1.08398380e+00  1.13430274e-01  2.25649295e+00\n",
      "  2.17054278e+00  2.74980751e+00  1.14383290e+00  7.34982974e-01\n",
      "  1.44017469e+00 -1.94185539e+00 -3.74489115e-01  1.60016891e+00\n",
      "  1.68640967e-04  2.05065914e+00  1.99225746e+00] \n",
      "\n",
      "iteration :  100 , score :  2.7823883183193754\n",
      "settings :\n",
      " [-0.71922105 -1.73986473  0.08660438 -1.20514117 -1.85551304  0.42124844\n",
      " -1.87156999  0.81737522 -1.02749115 -2.26221023 -1.44441965  1.19165124\n",
      "  1.70371591  1.1854015   0.0517091   2.21233926  2.19078106  2.74980751\n",
      "  1.08795908  0.56736909  1.44017469 -2.0398244  -0.34259286  1.60016891\n",
      "  0.03580494  1.9773087   1.99225746] \n",
      "\n",
      "iteration :  150 , score :  2.815549382924237\n",
      "settings :\n",
      " [-0.7030673  -1.75801705  0.09973845 -1.20592001 -1.87676672  0.41143199\n",
      " -1.86396358  0.79665127 -1.07674455 -2.28589316 -1.46817932  1.18597156\n",
      "  1.71905266  1.22613077  0.02521261  2.17629792  2.21843835  2.74980751\n",
      "  1.09076652  0.50251616  1.44017469 -2.06066594 -0.31578453  1.60016891\n",
      "  0.05590901  1.97551498  1.99225746] \n",
      "\n",
      "iteration :  200 , score :  2.824228791954199\n",
      "settings :\n",
      " [-0.69658082 -1.76809726  0.10448538 -1.2081104  -1.88185445  0.4028817\n",
      " -1.85940548  0.78797932 -1.09672803 -2.29580811 -1.47644935  1.18621877\n",
      "  1.72652532  1.24221497  0.01323687  2.15309698  2.23744689  2.74980751\n",
      "  1.09984321  0.46882358  1.44017469 -2.06800508 -0.29477977  1.60016891\n",
      "  0.06842566  1.98298666  1.99225746] \n",
      "\n",
      "iteration :  250 , score :  2.8269613031267804\n",
      "settings :\n",
      " [-0.69434302 -1.77301505  0.10586465 -1.20923797 -1.88213499  0.39783512\n",
      " -1.85687509  0.78462793 -1.10463021 -2.29974079 -1.47900633  1.18673368\n",
      "  1.73074818  1.24871438  0.00751116  2.13909131  2.24920405  2.74980751\n",
      "  1.10713531  0.44985347  1.44017469 -2.07171812 -0.28011145  1.60016891\n",
      "  0.07620109  1.98985926  1.99225746] \n",
      "\n",
      "iteration :  300 , score :  2.827901802276822\n",
      "settings :\n",
      " [-0.69362697 -1.77544891  0.10615687 -1.20972993 -1.88134816  0.39497247\n",
      " -1.85549341  0.78330097 -1.10782964 -2.30132428 -1.47963941  1.18710473\n",
      "  1.73320843  1.25149454  0.00459482  2.13079237  2.25625668  2.74980751\n",
      "  1.11200792  0.43897709  1.44017469 -2.07388933 -0.27044106  1.60016891\n",
      "  0.08101569  1.99485747  1.99225746] \n",
      "\n",
      "iteration :  350 , score :  2.828237203435209\n",
      "settings :\n",
      " [-0.69341566 -1.7767133   0.10614951 -1.20994242 -1.8805505   0.39333057\n",
      " -1.85472444  0.78273766 -1.10921064 -2.30200204 -1.4796963   1.18734455\n",
      "  1.73466645  1.25278645  0.0030163   2.12590179  2.2604264   2.74980751\n",
      "  1.11504033  0.4326948   1.44017469 -2.07523124 -0.26424652  1.60016891\n",
      "  0.0839955   1.99821246  1.99225746] \n",
      "\n",
      "iteration :  400 , score :  2.8283582213550593\n",
      "settings :\n",
      " [-6.93362781e-01 -1.77740247e+00  1.06083980e-01 -1.21003671e+00\n",
      " -1.87996202e+00  3.92374389e-01 -1.85428529e+00  7.82476244e-01\n",
      " -1.10986039e+00 -2.30231783e+00 -1.47961857e+00  1.18749284e+00\n",
      "  1.73554160e+00  1.25344162e+00  2.12032551e-03  2.12302449e+00\n",
      "  2.26287229e+00  2.74980751e+00  1.11686150e+00  4.29048851e-01\n",
      "  1.44017469e+00 -2.07608023e+00 -2.60338169e-01  1.60016891e+00\n",
      "  8.58395552e-02  2.00038095e+00  1.99225746e+00] \n",
      "\n",
      "iteration :  450 , score :  2.8284020663753906\n",
      "settings :\n",
      " [-6.93356020e-01 -1.77779212e+00  1.06024114e-01 -1.21007981e+00\n",
      " -1.87957219e+00  3.91811229e-01 -1.85402913e+00  7.82344093e-01\n",
      " -1.11019361e+00 -2.30247814e+00 -1.47953418e+00  1.18758227e+00\n",
      "  1.73607128e+00  1.25379885e+00  1.59528105e-03  2.12133226e+00\n",
      "  2.26430090e+00  2.74980751e+00  1.11793430e+00  4.26925984e-01\n",
      "  1.44017469e+00 -2.07662222e+00 -2.57892689e-01  1.60016891e+00\n",
      "  8.69803236e-02  2.00175527e+00  1.99225746e+00] \n",
      "\n",
      "final score :  2.8284178037860963 ,\n",
      "final settings :  [-6.93360435e-01 -1.77801448e+00  1.05981798e-01 -1.21009964e+00\n",
      " -1.87932993e+00  3.91482197e-01 -1.85387984e+00  7.82273703e-01\n",
      " -1.11037406e+00 -2.30256410e+00 -1.47947214e+00  1.18763466e+00\n",
      "  1.73638843e+00  1.25400058e+00  1.28640963e-03  2.12035193e+00\n",
      "  2.26512087e+00  2.74980751e+00  1.11855003e+00  4.25705937e-01\n",
      "  1.44017469e+00 -2.07696337e+00 -2.56393710e-01  1.60016891e+00\n",
      "  8.76745749e-02  2.00260350e+00  1.99225746e+00]\n"
     ]
    }
   ],
   "source": [
    "# optimizing arbitrary unitary circuit\n",
    "arbitrary_settings = arbitrary_chsh_rand_settings()\n",
    "arb_scores = []\n",
    "\n",
    "# performing gradient descent\n",
    "for i in range(500):\n",
    "    arbitrary_settings = opt.step(arbitrary_chsh_cost, arbitrary_settings)\n",
    "    score = -(arbitrary_chsh_cost(arbitrary_settings))\n",
    "    arb_scores.append(score)\n",
    "    \n",
    "    if i%50 == 0:\n",
    "        print(\"iteration : \",i, \", score : \", score)\n",
    "        print(\"settings :\\n\", arbitrary_settings, \"\\n\")\n",
    "\n",
    "# printing final results    \n",
    "print(\"final score : \", score,\",\")\n",
    "print(\"final settings : \", arbitrary_settings)"
   ]
  },
  {
   "cell_type": "code",
   "execution_count": 8,
   "id": "e0bc0ff5",
   "metadata": {},
   "outputs": [
    {
     "data": {
      "image/png": "[encoded data removed]",
      "text/plain": [
       "<Figure size 432x288 with 1 Axes>"
      ]
     },
     "metadata": {
      "needs_background": "light"
     },
     "output_type": "display_data"
    }
   ],
   "source": [
    "# Plot the individual observables\n",
    "plt.plot(range(500), arb_scores , label = \"CHSH Optimzation\")\n",
    "plt.plot(range(500), [2]*500, label = \"Classical Bound\")\n",
    "plt.plot(range(500), [2*np.sqrt(2)]*500, label = \"Quantum Bound\")\n",
    "plt.title(\"CHSH Optimization over Complex Parameter Space\")\n",
    "plt.xlabel(\"Iteration\")\n",
    "plt.ylabel(\"CHSH score\")\n",
    "plt.legend()\n",
    "plt.show()"
   ]
  },
  {
   "cell_type": "code",
   "execution_count": null,
   "id": "4a4f478f",
   "metadata": {},
   "outputs": [],
   "source": []
  }
 ],
 "metadata": {
  "@webio": {
   "lastCommId": null,
   "lastKernelId": null
  },
  "kernelspec": {
   "display_name": "Python 3",
   "language": "python",
   "name": "python3"
  },
  "language_info": {
   "codemirror_mode": {
    "name": "ipython",
    "version": 3
   },
   "file_extension": ".py",
   "mimetype": "text/x-python",
   "name": "python",
   "nbconvert_exporter": "python",
   "pygments_lexer": "ipython3",
   "version": "3.8.10"
  }
 },
 "nbformat": 4,
 "nbformat_minor": 5
}
