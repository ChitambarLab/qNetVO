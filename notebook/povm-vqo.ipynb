{
 "cells": [
  {
   "cell_type": "markdown",
   "id": "d62e6272",
   "metadata": {},
   "source": [
    "# VQO of POVM Measurement\n",
    "\n",
    "This notebook demonstrates how the principle of quantum state discrimination can be applied to train a qubit POVM measurement.\n",
    "We use the fact that the optimal measurement for an ensemble of pure states is the same ensemble of matrices weighted to maintain the completeness of the POVM.\n",
    "When the states in the ensemble are nonorthogonal then projective measurements are not optimal and an unsharp POVM measurement is optimal.\n",
    "By the Naimark dilation theorem, any POVM can be represented as a projector in a larger Hilbert space.\n",
    "\n",
    "In quantum state discrimination, a value $x$ is encoded into a pure quantum state $\\rho_x$ and the objective is to determine the value of $x$ with measurement.\n",
    "This task can be encoded as a reward matrix (the identity matrix) where a score of 1 is rewarded for each correct guess."
   ]
  },
  {
   "cell_type": "code",
   "execution_count": 1,
   "id": "921da88f",
   "metadata": {},
   "outputs": [],
   "source": [
    "from context import QNetOptimizer as QNopt\n",
    "\n",
    "from pennylane import numpy as np\n",
    "import pennylane as qml\n",
    "from pennylane import math as math\n",
    "import math as pymath\n",
    "\n",
    "import matplotlib.pyplot as plt"
   ]
  },
  {
   "cell_type": "markdown",
   "id": "fa0a5811",
   "metadata": {},
   "source": [
    "## Trine State Ensemble\n",
    "\n",
    "The trine state ensemble consists of three states arranged in the $x$-$z$-plane\n",
    "\n",
    "$$\n",
    "|\\psi_0\\rangle = |0\\rangle, \\quad |\\psi_1\\rangle = \\frac{1}{2}(|0\\rangle + \\sqrt{3}|1\\rangle), \\quad |\\psi_2\\rangle = \\frac{1}{2}(|0\\rangle - \\sqrt{3}|1\\rangle)  \n",
    "$$"
   ]
  },
  {
   "cell_type": "code",
   "execution_count": 2,
   "id": "262fc856",
   "metadata": {},
   "outputs": [],
   "source": [
    "trine_prep_node = [\n",
    "    QNopt.PrepareNode(3, [0], QNopt.local_RY, 1, static_settings=np.array([\n",
    "        [0],[2*np.pi/3],[4*np.pi/3]\n",
    "    ]))\n",
    "]"
   ]
  },
  {
   "cell_type": "markdown",
   "id": "97f4c2e9",
   "metadata": {},
   "source": [
    "We optimize an arbitrary 1-qubit measurement for trine state discrimination."
   ]
  },
  {
   "cell_type": "code",
   "execution_count": 3,
   "id": "4b24cf37",
   "metadata": {},
   "outputs": [
    {
     "name": "stdout",
     "output_type": "stream",
     "text": [
      "opt score :  1.8660254037844377\n"
     ]
    }
   ],
   "source": [
    "trine_proj_meas_node = [\n",
    "    QNopt.MeasureNode(1,3, [0], qml.templates.subroutines.ArbitraryUnitary, 3)\n",
    "]\n",
    "\n",
    "trine_proj_ansatz = QNopt.NetworkAnsatz(trine_prep_node, trine_proj_meas_node)\n",
    "\n",
    "trine_proj_settings = trine_proj_ansatz.rand_scenario_settings()\n",
    "trine_proj_cost = QNopt.linear_probs_cost_fn(trine_proj_ansatz, np.eye(3), post_map=np.array([\n",
    "    [1,0],[0,1],[0,0]\n",
    "]))\n",
    "\n",
    "trine_proj_opt_dict = QNopt.gradient_descent(\n",
    "    trine_proj_cost,\n",
    "    trine_proj_settings,\n",
    "    step_size=0.5,\n",
    "    num_steps=50,\n",
    "    sample_width=1,\n",
    "    verbose=False\n",
    ")\n",
    "\n",
    "print(\"opt score : \", trine_proj_opt_dict[\"opt_score\"])"
   ]
  },
  {
   "cell_type": "markdown",
   "id": "2b342e7b",
   "metadata": {},
   "source": [
    "We optimize an arbitrary 2-qubit measurement for trine state discrimination."
   ]
  },
  {
   "cell_type": "code",
   "execution_count": 4,
   "id": "1e89e97f",
   "metadata": {},
   "outputs": [
    {
     "name": "stdout",
     "output_type": "stream",
     "text": [
      "opt_score :  1.9999995747100838\n"
     ]
    }
   ],
   "source": [
    "trine_meas_node = [\n",
    "    QNopt.MeasureNode(1, 3, [0,1], qml.templates.subroutines.ArbitraryUnitary, 15)\n",
    "]\n",
    "\n",
    "trine_povm_ansatz = QNopt.NetworkAnsatz(trine_prep_node, trine_meas_node) \n",
    "\n",
    "trine_povm_settings = trine_povm_ansatz.rand_scenario_settings()\n",
    "trine_povm_cost = QNopt.linear_probs_cost_fn(trine_povm_ansatz, np.eye(3), post_map=np.array([\n",
    "    [1,0,0,0],[0,1,0,0],[0,0,1,1]\n",
    "]))\n",
    "\n",
    "trine_povm_opt_dict = QNopt.gradient_descent(\n",
    "    trine_povm_cost,\n",
    "    trine_povm_settings,\n",
    "    step_size=0.5,\n",
    "    num_steps=50,\n",
    "    sample_width=1,\n",
    "    verbose=False\n",
    ")\n",
    "\n",
    "print(\"opt_score : \", trine_povm_opt_dict[\"opt_score\"])"
   ]
  },
  {
   "cell_type": "code",
   "execution_count": 5,
   "id": "60a764e7",
   "metadata": {},
   "outputs": [
    {
     "data": {
      "image/png": "[encoded data removed]",
      "text/plain": [
       "<Figure size 432x288 with 1 Axes>"
      ]
     },
     "metadata": {
      "needs_background": "light"
     },
     "output_type": "display_data"
    }
   ],
   "source": [
    "plt.plot(trine_povm_opt_dict[\"samples\"], trine_povm_opt_dict[\"scores\"], label = \"Trine Qubit POVM\")\n",
    "plt.plot(trine_proj_opt_dict[\"samples\"], trine_proj_opt_dict[\"scores\"], label = \"Trine QUbit Projector\")\n",
    "\n",
    "\n",
    "plt.plot(trine_povm_opt_dict[\"samples\"], [2] * len(trine_povm_opt_dict[\"samples\"]), label = r\"Upper Bound\", linestyle=\":\")\n",
    "\n",
    "plt.title(\"Optimization of Trine State POVM via State Discrimination\")\n",
    "plt.xlabel(\"Iteration\")\n",
    "plt.ylabel(\"State Discrimination Score\")\n",
    "plt.legend()\n",
    "plt.show()"
   ]
  },
  {
   "cell_type": "markdown",
   "id": "86bb1647",
   "metadata": {},
   "source": [
    "## Qubit SIC POVM Optimization\n",
    "\n",
    "We repeat the optimization procedure for the qubit SIC POVM which is 4-state tetrad ensemble,\n",
    "\n",
    "$$\n",
    "|\\psi_0\\rangle = |0\\rangle, \\quad |\\psi_1\\rangle = \\frac{1}{\\sqrt{3}}(|0\\rangle + \\sqrt{2}|1\\rangle),\n",
    "\\quad |\\psi_2\\rangle = \\frac{1}{\\sqrt{3}}(|0\\rangle + \\sqrt{2}e^{i2\\pi/3}|1\\rangle),\n",
    "\\quad |\\psi_2\\rangle = \\frac{1}{\\sqrt{3}}(|0\\rangle + \\sqrt{2}e^{i4\\pi/3}|1\\rangle)\n",
    "$$"
   ]
  },
  {
   "cell_type": "code",
   "execution_count": 6,
   "id": "6d16a86e",
   "metadata": {},
   "outputs": [],
   "source": [
    "def local_RYRZ(settings, wires):\n",
    "    qml.RY(settings[0],wires=wires[0])\n",
    "    qml.RZ(settings[1],wires=wires[0])\n",
    "    \n",
    "sic_theta = pymath.acos(1/math.sqrt(3))\n",
    "\n",
    "sic_prep_node = [\n",
    "    QNopt.PrepareNode(4, [0], local_RYRZ, 2, static_settings=np.array([\n",
    "        [0,0],[2*sic_theta, 0],[2*sic_theta, 2*np.pi/3],[2*sic_theta, 4*np.pi/3]\n",
    "    ]))\n",
    "]"
   ]
  },
  {
   "cell_type": "markdown",
   "id": "7a81b992",
   "metadata": {},
   "source": [
    "A 1-qubit projective measurement is unable to find the optimal state discrimination score of 2."
   ]
  },
  {
   "cell_type": "code",
   "execution_count": 7,
   "id": "1ac22d73",
   "metadata": {},
   "outputs": [
    {
     "name": "stdout",
     "output_type": "stream",
     "text": [
      "opt_score :  1.8164965809277223\n",
      "CPU times: user 1.75 s, sys: 30.8 ms, total: 1.78 s\n",
      "Wall time: 1.77 s\n"
     ]
    }
   ],
   "source": [
    "%%time\n",
    "\n",
    "sic_proj_meas_node = [\n",
    "    QNopt.MeasureNode(1, 4, [0], qml.templates.subroutines.ArbitraryUnitary, 3)\n",
    "]\n",
    "\n",
    "sic_proj_ansatz = QNopt.NetworkAnsatz(sic_prep_node, sic_proj_meas_node)\n",
    "\n",
    "sic_proj_settings = sic_proj_ansatz.rand_scenario_settings()\n",
    "sic_proj_cost = QNopt.linear_probs_cost_fn(sic_proj_ansatz, np.eye(4), post_map=np.array([\n",
    "    [1,0],[0,1],[0,0],[0,0]\n",
    "]))\n",
    "\n",
    "sic_proj_opt_dict = QNopt.gradient_descent(\n",
    "    sic_proj_cost,\n",
    "    sic_proj_settings,\n",
    "    step_size=0.5,\n",
    "    num_steps=50,\n",
    "    sample_width=1,\n",
    "    verbose=False\n",
    ")\n",
    "\n",
    "print(\"opt_score : \", sic_proj_opt_dict[\"opt_score\"])"
   ]
  },
  {
   "cell_type": "markdown",
   "id": "c50edb1c",
   "metadata": {},
   "source": [
    "The 2-qubit measurement is able to achieve the optimal state discrimination score of 2."
   ]
  },
  {
   "cell_type": "code",
   "execution_count": 8,
   "id": "5174723e",
   "metadata": {},
   "outputs": [
    {
     "name": "stdout",
     "output_type": "stream",
     "text": [
      "opt_score :  1.9871596083162564\n",
      "CPU times: user 6.41 s, sys: 59.7 ms, total: 6.47 s\n",
      "Wall time: 6.48 s\n"
     ]
    }
   ],
   "source": [
    "%%time\n",
    "\n",
    "sic_meas_node = [\n",
    "    QNopt.MeasureNode(1, 4, [0,1], qml.templates.subroutines.ArbitraryUnitary, 15)\n",
    "]\n",
    "\n",
    "sic_povm_ansatz = QNopt.NetworkAnsatz(sic_prep_node, sic_meas_node)\n",
    "\n",
    "sic_povm_settings = sic_povm_ansatz.rand_scenario_settings()\n",
    "sic_povm_cost = QNopt.linear_probs_cost_fn(sic_povm_ansatz, np.eye(4))\n",
    "\n",
    "sic_povm_opt_dict = QNopt.gradient_descent(\n",
    "    sic_povm_cost,\n",
    "    sic_povm_settings,\n",
    "    step_size=0.5,\n",
    "    num_steps=50,\n",
    "    sample_width=1,\n",
    "    verbose=False\n",
    ")\n",
    "\n",
    "print(\"opt_score : \", sic_povm_opt_dict[\"opt_score\"])"
   ]
  },
  {
   "cell_type": "code",
   "execution_count": 9,
   "id": "688ad07e",
   "metadata": {},
   "outputs": [
    {
     "data": {
      "image/png": "[encoded data removed]",
      "text/plain": [
       "<Figure size 432x288 with 1 Axes>"
      ]
     },
     "metadata": {
      "needs_background": "light"
     },
     "output_type": "display_data"
    }
   ],
   "source": [
    "plt.plot(sic_povm_opt_dict[\"samples\"], sic_povm_opt_dict[\"scores\"], label = \"SIC Qubit POVM\")\n",
    "plt.plot(sic_proj_opt_dict[\"samples\"], sic_proj_opt_dict[\"scores\"], label = \"SIC QUbit Projector\")\n",
    "\n",
    "plt.plot(sic_povm_opt_dict[\"samples\"], [2] * len(sic_povm_opt_dict[\"samples\"]), label = r\"Upper Bound\", linestyle=\":\")\n",
    "\n",
    "plt.title(\"Optimization of SIC Qubit POVM via State Discrimination\")\n",
    "plt.xlabel(\"Iteration\")\n",
    "plt.ylabel(\"State Discrimination Score\")\n",
    "plt.legend()\n",
    "plt.show()"
   ]
  },
  {
   "cell_type": "code",
   "execution_count": null,
   "id": "039bbd89",
   "metadata": {},
   "outputs": [],
   "source": []
  }
 ],
 "metadata": {
  "@webio": {
   "lastCommId": null,
   "lastKernelId": null
  },
  "kernelspec": {
   "display_name": "Python 3 (ipykernel)",
   "language": "python",
   "name": "python3"
  },
  "language_info": {
   "codemirror_mode": {
    "name": "ipython",
    "version": 3
   },
   "file_extension": ".py",
   "mimetype": "text/x-python",
   "name": "python",
   "nbconvert_exporter": "python",
   "pygments_lexer": "ipython3",
   "version": "3.8.11"
  }
 },
 "nbformat": 4,
 "nbformat_minor": 5
}
