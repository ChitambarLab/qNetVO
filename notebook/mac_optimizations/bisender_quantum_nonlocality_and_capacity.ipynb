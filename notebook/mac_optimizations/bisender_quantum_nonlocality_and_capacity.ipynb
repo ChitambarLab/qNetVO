{
 "cells": [
  {
   "cell_type": "code",
   "execution_count": 1,
   "id": "eaea5aa1",
   "metadata": {},
   "outputs": [],
   "source": [
    "from context import QNetOptimizer as QNopt\n",
    "from pennylane import numpy as np\n",
    "import pennylane as qml\n",
    "import matplotlib.pyplot as plt\n"
   ]
  },
  {
   "cell_type": "code",
   "execution_count": 2,
   "id": "a2c7bbcb",
   "metadata": {},
   "outputs": [],
   "source": [
    "mac_bound_inequalities = [\n",
    "    (np.array([[0,0,0,0,1,0,1,0,0],[1,1,0,1,0,0,0,0,0]]), 4),\n",
    "    (np.array([[0,0,1,0,1,0,0,0,0],[1,1,0,1,0,0,0,0,0]]), 4),\n",
    "    (np.array([[0,0,0,0,0,1,1,0,0],[1,1,0,1,0,0,0,1,0]]), 5),\n",
    "    (np.array([[0,0,0,0,1,0,0,0,1],[1,1,0,1,0,1,0,0,0]]), 5),\n",
    "    (np.array([[0,0,1,0,1,0,1,0,0],[2,1,0,1,0,1,0,1,0]]), 7),\n",
    "    (np.array([[0,0,1,0,1,0,1,0,0],[2,2,0,1,0,0,0,1,0]]), 7),\n",
    "    (np.array([[0,0,1,0,1,0,1,0,0],[2,1,0,2,0,1,0,0,0]]), 7),\n",
    "    (np.array([[0,0,0,0,1,1,1,0,1],[1,1,0,1,0,0,0,1,0]]), 6),\n",
    "    (np.array([[0,0,0,0,1,1,2,0,0],[2,2,0,1,0,0,0,1,0]]), 8),\n",
    "    (np.array([[0,0,0,0,2,0,1,0,1],[2,2,0,1,0,1,0,0,0]]), 8),\n",
    "    (np.array([[0,0,1,0,2,0,0,0,1],[2,1,0,2,0,1,0,0,0]]), 8),\n",
    "    (np.array([[0,0,1,0,2,0,0,0,1],[2,1,0,2,0,0,0,1,0]]), 8),\n",
    "    (np.array([[0,0,1,0,1,0,2,0,0],[2,1,0,0,0,1,0,2,0]]), 8),\n",
    "    (np.array([[0,0,1,0,2,0,1,0,1],[3,2,0,2,0,1,0,0,0]]), 10),\n",
    "    (np.array([[0,0,1,0,2,0,1,0,1],[3,2,0,2,0,0,0,1,0]]), 10),\n",
    "    (np.array([[0,0,2,0,1,0,2,0,0],[3,1,0,1,0,2,0,2,0]]), 11),\n",
    "    (np.array([[0,0,2,0,2,0,2,0,0],[3,1,0,1,0,3,0,3,1]]), 14),\n",
    "    (np.array([[0,0,2,0,3,0,2,0,1],[5,3,0,3,0,1,0,1,0]]), 16),\n",
    "    (np.array([[0,0,2,1,2,0,5,0,1],[4,2,0,0,0,1,0,4,0]]), 17),\n",
    "]"
   ]
  },
  {
   "cell_type": "code",
   "execution_count": 3,
   "id": "caf35224",
   "metadata": {},
   "outputs": [],
   "source": [
    "def priors_scan_range(num_steps):\n",
    "    x1_range = np.arange(0,1,1/num_steps)\n",
    "    priors = []\n",
    "    for x1 in x1_range:\n",
    "        x2_range = np.arange(0,1-x1,1/num_steps)\n",
    "        for x2 in x2_range:\n",
    "            priors.append(np.array([x1,x2,1-x1-x2]))\n",
    "        \n",
    "    return priors\n",
    "\n",
    "def plot_rate_region(rate_tuple):\n",
    "    r1, r2, r_sum = rate_tuple\n",
    "    \n",
    "    \n",
    "    r1_vals = [0,0,r_sum-r2,r1,r1,0]\n",
    "    r2_vals = [0,r2,r2,r_sum-r1,0,0]\n",
    "    \n",
    "    plt.plot(r1_vals, r2_vals,\"b-\",label=\"Quantum\")\n",
    "    plt.plot([0,0,1,0],[0,1,0,0],\"r--\",label=\"Classical\")\n",
    "    plt.legend()\n",
    "    plt.title(\"Multiple Access Channel Rate Regions\")\n",
    "    plt.xlabel(\"Rate 1\")\n",
    "    plt.ylabel(\"Rate 2\")\n",
    "    plt.show()\n",
    "    \n",
    "def sum_rate_cost(network_ansatz,priors_x,priors_y):\n",
    "    behavior_fn = QNopt.network_behavior_fn(network_ansatz)\n",
    "    \n",
    "    def cost(scenario_settings):\n",
    "        mac_behavior = behavior_fn(scenario_settings)\n",
    "        rate_tuple = QNopt.bisender_mac_mutual_info(mac_behavior,priors_x,priors_y)\n",
    "        \n",
    "        return -(rate_tuple[2])\n",
    "        \n",
    "    return cost"
   ]
  },
  {
   "cell_type": "code",
   "execution_count": 13,
   "id": "e09e9fcf",
   "metadata": {},
   "outputs": [],
   "source": [
    "arb_prep_nodes = [\n",
    "    QNopt.PrepareNode(3, [0], qml.templates.subroutines.ArbitraryUnitary, 3),\n",
    "    QNopt.PrepareNode(3, [1], qml.templates.subroutines.ArbitraryUnitary, 3)\n",
    "]\n",
    "arb_meas_nodes = [\n",
    "    QNopt.MeasureNode(1, 2, [0,1], qml.templates.subroutines.ArbitraryUnitary, 15)\n",
    "]\n",
    "arb_mac_ansatz = QNopt.NetworkAnsatz(arb_prep_nodes, arb_meas_nodes)\n",
    "\n",
    "entanglement_prep_nodes = [\n",
    "    QNopt.PrepareNode(1, [0,1], qml.templates.subroutines.ArbitraryUnitary, 15)\n",
    "]\n",
    "local_arb_meas_nodes = [\n",
    "    QNopt.MeasureNode(3, 2, [0], qml.templates.subroutines.ArbitraryUnitary, 3),\n",
    "    QNopt.MeasureNode(3, 2, [1], qml.templates.subroutines.ArbitraryUnitary, 3),\n",
    "]\n",
    "\n",
    "def local_arb_meas_circuit(settings, wires):\n",
    "    qml.templates.subroutines.ArbitraryUnitary(settings[0:3],wires=[wires[0]])\n",
    "    qml.templates.subroutines.ArbitraryUnitary(settings[3:6],wires=[wires[1]])\n",
    "\n",
    "local_meas_node = [\n",
    "    QNopt.MeasureNode(1,2,[0,1],local_arb_meas_circuit,6)\n",
    "]\n",
    "\n",
    "ea_mac_ansatz = QNopt.NetworkAnsatz(entanglement_prep_nodes, local_arb_meas_nodes)\n",
    "local_mac_ansatz = QNopt.NetworkAnsatz(arb_prep_nodes, local_meas_node)"
   ]
  },
  {
   "cell_type": "code",
   "execution_count": 17,
   "id": "81ea7d60",
   "metadata": {},
   "outputs": [
    {
     "name": "stdout",
     "output_type": "stream",
     "text": [
      "iteration :  0 , score :  12.951336970934175\n",
      "iteration :  25 , score :  16.999102494550158\n",
      "iteration :  50 , score :  16.999999156417243\n",
      "iteration :  75 , score :  16.999999999093212\n",
      "iteration :  100 , score :  16.99999999999884\n",
      "iteration :  125 , score :  16.999999999999993\n"
     ]
    }
   ],
   "source": [
    "local_settings = local_mac_ansatz.rand_scenario_settings()\n",
    "local_cost = QNopt.linear_probs_cost(local_mac_ansatz, mac_bound_inequalities[18][0])\n",
    "local_opt_dict = QNopt.gradient_descent(local_cost, local_settings, step_size=0.1, num_steps=150, sample_width=25)\n"
   ]
  },
  {
   "cell_type": "code",
   "execution_count": 18,
   "id": "513c3c93",
   "metadata": {},
   "outputs": [
    {
     "name": "stdout",
     "output_type": "stream",
     "text": [
      "id :  107\n",
      "rate tuple :  (0.9709505944546697, 0.9709505944546688, 1.9419011889093385)\n",
      "priors tuple :  (tensor([0.2, 0.4, 0.4], requires_grad=True), tensor([0. , 0.4, 0.6], requires_grad=True))\n"
     ]
    },
    {
     "data": {
      "image/png": "[encoded data removed]",
      "text/plain": [
       "<Figure size 432x288 with 1 Axes>"
      ]
     },
     "metadata": {
      "needs_background": "light"
     },
     "output_type": "display_data"
    }
   ],
   "source": [
    "local_mac_behavior = QNopt.network_behavior_fn(local_mac_ansatz)\n",
    "local_opt_behavior = local_mac_behavior(local_opt_dict[\"opt_settings\"])\n",
    "\n",
    "local_rates = []\n",
    "priors = []\n",
    "for priors_x in priors_scan_range(5):\n",
    "    for priors_y in priors_scan_range(5):\n",
    "        priors.append((priors_x, priors_y))\n",
    "        local_rates.append(QNopt.bisender_mac_mutual_info(local_opt_behavior, priors_x, priors_y))\n",
    "        \n",
    "local_rate_sums = [rate_set[2] for rate_set in local_rates]\n",
    "max_local_rate_sum = max(local_rate_sums)\n",
    "max_local_rate_id = local_rate_sums.index(max_local_rate_sum)\n",
    "max_local_rate_tuple = local_rates[max_local_rate_id]\n",
    "\n",
    "print(\"id : \", max_local_rate_id)\n",
    "print(\"rate tuple : \", max_local_rate_tuple)\n",
    "print(\"priors tuple : \", priors[max_local_rate_id])\n",
    "print(np.sum(np.sum(mac_bound_inequalities[18][0]*)))\n",
    "plot_rate_region(max_local_rate_tuple)\n"
   ]
  },
  {
   "cell_type": "code",
   "execution_count": null,
   "id": "8eaa2fe8",
   "metadata": {},
   "outputs": [],
   "source": [
    "arb_settings = arb_mac_ansatz.rand_scenario_settings()\n",
    "arb_cost = QNopt.linear_probs_cost(arb_mac_ansatz, mac_bound_inequalities[5][0])\n",
    "arb_opt_dict = QNopt.gradient_descent(arb_cost, arb_settings, step_size=0.1, num_steps=150, sample_width=25)\n"
   ]
  },
  {
   "cell_type": "code",
   "execution_count": null,
   "id": "f6890f42",
   "metadata": {},
   "outputs": [],
   "source": [
    "arb_mac_behavior = QNopt.network_behavior_fn(arb_mac_ansatz)\n",
    "arb_opt_behavior = arb_mac_behavior(arb_opt_dict[\"opt_settings\"])\n",
    "\n",
    "arb_rates = []\n",
    "priors = []\n",
    "for priors_x in priors_scan_range(5):\n",
    "    for priors_y in priors_scan_range(5):\n",
    "        priors.append((priors_x, priors_y))\n",
    "        arb_rates.append(QNopt.bisender_mac_mutual_info(arb_opt_behavior, priors_x, priors_y))\n",
    "        \n",
    "arb_rate_sums = [rate_set[2] for rate_set in arb_rates]\n",
    "max_arb_rate_sum = max(arb_rate_sums)\n",
    "max_arb_rate_id = arb_rate_sums.index(max_arb_rate_sum)\n",
    "max_arb_rate_tuple = arb_rates[max_arb_rate_id]\n",
    "\n",
    "print(\"id : \", max_arb_rate_id)\n",
    "print(\"rate tuple : \", max_arb_rate_tuple)\n",
    "print(\"priors tuple : \", priors[max_arb_rate_id])\n",
    "plot_rate_region(max_arb_rate_tuple)\n"
   ]
  },
  {
   "cell_type": "code",
   "execution_count": null,
   "id": "a522a808",
   "metadata": {},
   "outputs": [],
   "source": [
    "ea_settings = ea_mac_ansatz.rand_scenario_settings()\n",
    "ea_cost = QNopt.linear_probs_cost(ea_mac_ansatz, mac_bound_inequalities[18][0])\n",
    "ea_opt_dict = QNopt.gradient_descent(ea_cost, ea_settings, step_size=0.1, num_steps=150, sample_width=25)"
   ]
  },
  {
   "cell_type": "code",
   "execution_count": null,
   "id": "763928d4",
   "metadata": {},
   "outputs": [],
   "source": [
    "ea_mac_behavior = QNopt.network_behavior_fn(ea_mac_ansatz)\n",
    "ea_opt_behavior = ea_mac_behavior(ea_opt_dict[\"opt_settings\"])\n",
    "\n",
    "\n",
    "ea_rates = []\n",
    "for priors_x in priors_scan_range(5):\n",
    "    for priors_y in priors_scan_range(5):\n",
    "        ea_rates.append(QNopt.bisender_mac_mutual_info(ea_opt_behavior, priors_x, priors_y))\n",
    "        \n",
    "ea_rate_sums = [rate_set[2] for rate_set in ea_rates]\n",
    "max_ea_rate_sum = max(ea_rate_sums)\n",
    "max_ea_rate_id = ea_rate_sums.index(max_ea_rate_sum) \n",
    "max_ea_rate_tuple = ea_rates[max_ea_rate_id]\n",
    "\n",
    "print(\"id : \", max_ea_rate_id)\n",
    "print(\"rate tuple : \", max_ea_rate_tuple)\n",
    "\n",
    "plot_rate_region(max_ea_rate_tuple)"
   ]
  },
  {
   "cell_type": "code",
   "execution_count": null,
   "id": "4c2de349",
   "metadata": {},
   "outputs": [],
   "source": [
    "arb_rand_settings = arb_mac_ansatz.rand_scenario_settings()\n",
    "arb_sum_rate_cost = sum_rate_cost(arb_mac_ansatz, np.ones(3)/3, np.ones(3)/3)\n",
    "QNopt.gradient_descent(arb_sum_rate_cost, arb_rand_settings, step_size=0.1, num_steps=50, sample_width=5)"
   ]
  },
  {
   "cell_type": "code",
   "execution_count": null,
   "id": "cc8f07e8",
   "metadata": {},
   "outputs": [],
   "source": []
  }
 ],
 "metadata": {
  "kernelspec": {
   "display_name": "Python 3 (ipykernel)",
   "language": "python",
   "name": "python3"
  },
  "language_info": {
   "codemirror_mode": {
    "name": "ipython",
    "version": 3
   },
   "file_extension": ".py",
   "mimetype": "text/x-python",
   "name": "python",
   "nbconvert_exporter": "python",
   "pygments_lexer": "ipython3",
   "version": "3.8.11"
  }
 },
 "nbformat": 4,
 "nbformat_minor": 5
}
