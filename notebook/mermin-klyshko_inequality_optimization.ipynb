{
 "cells": [
  {
   "cell_type": "markdown",
   "id": "30184dee",
   "metadata": {},
   "source": [
    "# Mermin-Klyshko Inequality Optimization\n",
    "\n",
    "This notebook demonstrates through gradient descent optimization that the optimal violation of the Mermin-Klyshko  inequality can be obtained using a GHZ state preparation."
   ]
  },
  {
   "cell_type": "code",
   "execution_count": 1,
   "id": "c8f81e80",
   "metadata": {},
   "outputs": [],
   "source": [
    "from context import qnetvo as QNopt\n",
    "\n",
    "import pennylane as qml\n",
    "from pennylane import numpy as np\n",
    "\n",
    "import matplotlib.pyplot as plt"
   ]
  },
  {
   "cell_type": "code",
   "execution_count": 2,
   "id": "7eb40b65",
   "metadata": {},
   "outputs": [],
   "source": [
    "def cl_prep_nodes(n):\n",
    "    return [\n",
    "        QNopt.PrepareNode(1, range(n), lambda settings, wires: None, 0)\n",
    "    ]\n",
    "\n",
    "def ghz_prep_nodes(n):\n",
    "    return [\n",
    "        QNopt.PrepareNode(1, range(n), QNopt.ghz_state, 0)\n",
    "    ]\n",
    "\n",
    "\n",
    "def ry_meas_nodes(n):\n",
    "    return [\n",
    "        QNopt.MeasureNode(2, 2, [i], QNopt.local_RY, 1)\n",
    "        for i in range(n)\n",
    "    ]\n",
    "\n",
    "def rzry_rot(settings, wires):\n",
    "    qml.RZ(settings[0], wires=wires)\n",
    "    qml.RY(np.pi/2, wires=wires)\n",
    "\n",
    "    \n",
    "def rzry_meas_nodes(n):\n",
    "    return [\n",
    "        QNopt.MeasureNode(2, 2, [i], rzry_rot, 1)\n",
    "        for i in range(n)\n",
    "    ]"
   ]
  },
  {
   "cell_type": "markdown",
   "id": "db716a04",
   "metadata": {},
   "source": [
    "## Classical and Quantum Bounds"
   ]
  },
  {
   "cell_type": "code",
   "execution_count": 3,
   "id": "194a1870",
   "metadata": {},
   "outputs": [],
   "source": [
    "def classical_bound(n):\n",
    "    return 2**(n-1)\n",
    "\n",
    "def quantum_bound(n):\n",
    "    \n",
    "    violation_factor = 2**((n-1)/2)\n",
    "    \n",
    "    return classical_bound(n) * violation_factor"
   ]
  },
  {
   "cell_type": "markdown",
   "id": "93fa5c92",
   "metadata": {},
   "source": [
    "# Optimizations"
   ]
  },
  {
   "cell_type": "markdown",
   "id": "0d6f3e8a",
   "metadata": {},
   "source": [
    "## n = 3"
   ]
  },
  {
   "cell_type": "code",
   "execution_count": 9,
   "id": "7697366d",
   "metadata": {},
   "outputs": [
    {
     "name": "stdout",
     "output_type": "stream",
     "text": [
      "classical bound :  4\n",
      "quantum bound :  8.0 \n",
      "\n",
      "classical optimzation\n",
      "iteration :  0 , score :  1.4737122865243921\n",
      "elapsed time :  0.026818037033081055\n",
      "iteration :  5 , score :  3.9972402515897203\n",
      "elapsed time :  0.02211618423461914\n",
      "iteration :  10 , score :  3.9999757760755816\n",
      "elapsed time :  0.017007827758789062\n",
      "iteration :  15 , score :  3.999999782989441\n",
      "elapsed time :  0.02312493324279785\n",
      "max score :  3.9999999980543883\n",
      "\n",
      "quantum optimization\n",
      "iteration :  0 , score :  3.6058025921458103\n",
      "elapsed time :  0.01971578598022461\n",
      "iteration :  10 , score :  7.999485559032008\n",
      "elapsed time :  0.0185699462890625\n",
      "max score :  7.999999981188921\n",
      "[[array([], shape=(1, 0), dtype=float64)], [array([[1.32082861],\n",
      "       [2.89156476]]), array([[-1.07708747],\n",
      "       [ 0.4937809 ]]), array([[1.32709925],\n",
      "       [2.89779559]])]]\n"
     ]
    }
   ],
   "source": [
    "n = 3\n",
    "\n",
    "print(\"classical bound : \", classical_bound(n))\n",
    "print(\"quantum bound : \", quantum_bound(n), \"\\n\")\n",
    "\n",
    "print(\"classical optimzation\")\n",
    "cl_ansatz = QNopt.NetworkAnsatz(cl_prep_nodes(n), ry_meas_nodes(n))\n",
    "cl_opt_dict = QNopt.gradient_descent(\n",
    "    QNopt.mermin_klyshko_cost_fn(cl_ansatz),\n",
    "    cl_ansatz.rand_scenario_settings(),\n",
    "    sample_width = 5,\n",
    "    num_steps = 20,\n",
    "    step_size = 0.4\n",
    ")\n",
    "print(\"max score : \", cl_opt_dict[\"opt_score\"])\n",
    "\n",
    "print(\"\\nquantum optimization\")\n",
    "ghz_ansatz = QNopt.NetworkAnsatz(ghz_prep_nodes(n), rzry_meas_nodes(n))\n",
    "ghz_opt_dict = QNopt.gradient_descent(\n",
    "    QNopt.mermin_klyshko_cost_fn(ghz_ansatz),\n",
    "    ghz_ansatz.rand_scenario_settings(),\n",
    "    sample_width = 10,\n",
    "    num_steps = 20,\n",
    "    step_size = 0.1\n",
    ")\n",
    "print(\"max score : \", ghz_opt_dict[\"opt_score\"])\n",
    "print(ghz_opt_dict[\"opt_settings\"])"
   ]
  },
  {
   "cell_type": "markdown",
   "id": "8d2c06c4",
   "metadata": {},
   "source": [
    "## n = 4"
   ]
  },
  {
   "cell_type": "code",
   "execution_count": 5,
   "id": "34abd0c9",
   "metadata": {},
   "outputs": [
    {
     "name": "stdout",
     "output_type": "stream",
     "text": [
      "classical bound :  8\n",
      "quantum bound :  22.627416997969522 \n",
      "\n",
      "classical\n",
      "iteration :  0 , score :  3.1803676944980794\n",
      "elapsed time :  0.2038578987121582\n",
      "iteration :  5 , score :  7.94855405411256\n",
      "elapsed time :  0.09899497032165527\n",
      "iteration :  10 , score :  7.997511671602\n",
      "elapsed time :  0.07930803298950195\n",
      "iteration :  15 , score :  7.99984808845492\n",
      "elapsed time :  0.07991504669189453\n",
      "max score 7.99999060387848\n",
      "\n",
      "quantum optimization\n",
      "iteration :  0 , score :  12.10269187921348\n",
      "elapsed time :  0.0904092788696289\n",
      "iteration :  10 , score :  22.62727936273091\n",
      "elapsed time :  0.09158706665039062\n",
      "iteration :  20 , score :  22.627416959614177\n",
      "elapsed time :  0.07882213592529297\n",
      "iteration :  30 , score :  22.627416997411604\n",
      "elapsed time :  0.0817570686340332\n",
      "max score :  22.627416997961234\n",
      "[[array([], shape=(1, 0), dtype=float64)], [array([[-0.32305202],\n",
      "       [ 1.24774431]]), array([[-2.94596631],\n",
      "       [-1.37516999]]), array([[-3.14499394],\n",
      "       [-1.57419762]]), array([[-2.22536667],\n",
      "       [-0.65457034]])]]\n"
     ]
    }
   ],
   "source": [
    "n = 4\n",
    "\n",
    "print(\"classical bound : \", classical_bound(n))\n",
    "print(\"quantum bound : \", quantum_bound(n), \"\\n\")\n",
    "\n",
    "print(\"classical\")\n",
    "cl_ansatz = QNopt.NetworkAnsatz(cl_prep_nodes(n), ry_meas_nodes(n))\n",
    "cl_opt_dict = QNopt.gradient_descent(\n",
    "    QNopt.mermin_klyshko_cost_fn(cl_ansatz),\n",
    "    cl_ansatz.rand_scenario_settings(),\n",
    "    sample_width = 5,\n",
    "    num_steps = 20,\n",
    "    step_size = 0.2\n",
    ")\n",
    "print(\"max score\", cl_opt_dict[\"opt_score\"])\n",
    "\n",
    "print(\"\\nquantum optimization\")\n",
    "ghz_ansatz = QNopt.NetworkAnsatz(ghz_prep_nodes(n), rzry_meas_nodes(n))\n",
    "np.random.seed(1)\n",
    "ghz_opt_dict = QNopt.gradient_descent(\n",
    "    QNopt.mermin_klyshko_cost_fn(ghz_ansatz),\n",
    "    ghz_ansatz.rand_scenario_settings(),\n",
    "    sample_width = 10,\n",
    "    num_steps = 40,\n",
    "    step_size = 0.04\n",
    ")\n",
    "print(\"max score : \", ghz_opt_dict[\"opt_score\"])\n",
    "print(ghz_opt_dict[\"opt_settings\"])"
   ]
  },
  {
   "cell_type": "markdown",
   "id": "deee30c1",
   "metadata": {},
   "source": [
    "## n = 5"
   ]
  },
  {
   "cell_type": "code",
   "execution_count": 6,
   "id": "3272c5bf",
   "metadata": {},
   "outputs": [
    {
     "name": "stdout",
     "output_type": "stream",
     "text": [
      "classical bound :  16\n",
      "quantum bound :  64.0\n",
      "classical optimization\n",
      "iteration :  0 , score :  5.022995939689165\n",
      "elapsed time :  0.11449790000915527\n",
      "iteration :  5 , score :  15.904093925941835\n",
      "elapsed time :  0.2062368392944336\n",
      "max score :  15.990299319049566\n",
      "\n",
      "quantum optimization\n",
      "iteration :  0 , score :  -30.816320489400397\n",
      "elapsed time :  0.10208797454833984\n",
      "iteration :  7 , score :  28.414313656917436\n",
      "elapsed time :  0.10428786277770996\n",
      "iteration :  14 , score :  63.60623389257651\n",
      "elapsed time :  0.11606311798095703\n",
      "iteration :  21 , score :  63.99820398612704\n",
      "elapsed time :  0.10973691940307617\n",
      "iteration :  28 , score :  63.999991881936936\n",
      "elapsed time :  0.10030388832092285\n",
      "max score :  63.99999996330749\n",
      "[[array([], shape=(1, 0), dtype=float64)], [array([[-0.28875605],\n",
      "       [ 1.28205151]]), array([[-2.91167017],\n",
      "       [-1.34086296]]), array([[ 0.03087215],\n",
      "       [-4.68146053]]), array([[-2.19105414],\n",
      "       [-0.6202797 ]]), array([[-0.9225922 ],\n",
      "       [ 0.64817781]])]]\n"
     ]
    }
   ],
   "source": [
    "n = 5\n",
    "\n",
    "print(\"classical bound : \", classical_bound(n))\n",
    "print(\"quantum bound : \", quantum_bound(n))\n",
    "\n",
    "print(\"classical optimization\")\n",
    "cl_ansatz = QNopt.NetworkAnsatz(cl_prep_nodes(n), ry_meas_nodes(n))\n",
    "cl_opt_dict = QNopt.gradient_descent(\n",
    "    QNopt.mermin_klyshko_cost_fn(cl_ansatz),\n",
    "    cl_ansatz.rand_scenario_settings(),\n",
    "    sample_width = 5,\n",
    "    num_steps = 10,\n",
    "    step_size = 0.1\n",
    ")\n",
    "print(\"max score : \", cl_opt_dict[\"opt_score\"])\n",
    "\n",
    "print(\"\\nquantum optimization\")\n",
    "ghz_ansatz = QNopt.NetworkAnsatz(ghz_prep_nodes(n), rzry_meas_nodes(n))\n",
    "np.random.seed(1)\n",
    "ghz_opt_dict = QNopt.gradient_descent(\n",
    "    QNopt.mermin_klyshko_cost_fn(ghz_ansatz),\n",
    "    ghz_ansatz.rand_scenario_settings(),\n",
    "    sample_width = 7,\n",
    "    num_steps = 35,\n",
    "    step_size = 0.01\n",
    ")\n",
    "print(\"max score : \", ghz_opt_dict[\"opt_score\"])\n",
    "print(ghz_opt_dict[\"opt_settings\"])"
   ]
  },
  {
   "cell_type": "markdown",
   "id": "e9bfd0ed",
   "metadata": {},
   "source": [
    "## n = 6"
   ]
  },
  {
   "cell_type": "code",
   "execution_count": 7,
   "id": "a156674b",
   "metadata": {},
   "outputs": [
    {
     "name": "stdout",
     "output_type": "stream",
     "text": [
      "classical bound :  32\n",
      "quantum bound :  181.01933598375618\n",
      "\n",
      "classical optimziation\n",
      "iteration :  0 , score :  4.2033679594592765\n",
      "elapsed time :  0.6582350730895996\n",
      "iteration :  5 , score :  31.228507928787703\n",
      "elapsed time :  0.6432428359985352\n",
      "iteration :  10 , score :  31.926902578106223\n",
      "elapsed time :  0.7417740821838379\n",
      "max score :  31.973110623871403\n",
      "\n",
      "quantum optimization\n",
      "iteration :  0 , score :  91.75782099682029\n",
      "elapsed time :  0.4762592315673828\n",
      "iteration :  5 , score :  178.64468783281947\n",
      "elapsed time :  0.5556223392486572\n",
      "iteration :  10 , score :  180.99226193770355\n",
      "elapsed time :  0.63785719871521\n",
      "iteration :  15 , score :  181.01902889455246\n",
      "elapsed time :  0.5604019165039062\n",
      "iteration :  20 , score :  181.0193096393674\n",
      "elapsed time :  0.584043025970459\n",
      "max score :  181.01922342155228\n",
      "[[array([], shape=(1, 0), dtype=float64)], [array([[-0.3544713 ],\n",
      "       [ 1.21633266]]), array([[-2.97738552],\n",
      "       [-1.40658171]]), array([[-3.17639242],\n",
      "       [-1.60563007]]), array([[-2.25677572],\n",
      "       [-0.68599221]]), array([[-0.98831485],\n",
      "       [ 0.58246636]]), array([[-0.45792908],\n",
      "       [ 1.11286955]])]]\n"
     ]
    }
   ],
   "source": [
    "n = 6\n",
    "\n",
    "print(\"classical bound : \", classical_bound(n))\n",
    "print(\"quantum bound : \", quantum_bound(n))\n",
    "\n",
    "print(\"\\nclassical optimziation\")\n",
    "cl_ansatz = QNopt.NetworkAnsatz(cl_prep_nodes(n), ry_meas_nodes(n))\n",
    "cl_opt_dict = QNopt.gradient_descent(\n",
    "    QNopt.mermin_klyshko_cost_fn(cl_ansatz),\n",
    "    cl_ansatz.rand_scenario_settings(),\n",
    "    sample_width = 5,\n",
    "    num_steps = 15,\n",
    "    step_size = 0.05\n",
    ")\n",
    "print(\"max score : \", cl_opt_dict[\"opt_score\"])\n",
    "\n",
    "print(\"\\nquantum optimization\")\n",
    "ghz_ansatz = QNopt.NetworkAnsatz(ghz_prep_nodes(n), rzry_meas_nodes(n))\n",
    "np.random.seed(1)\n",
    "ghz_opt_dict = QNopt.gradient_descent(\n",
    "    QNopt.mermin_klyshko_cost_fn(ghz_ansatz),\n",
    "    ghz_ansatz.rand_scenario_settings(),\n",
    "    sample_width = 5,\n",
    "    num_steps = 25,\n",
    "    step_size = 0.004\n",
    ")\n",
    "print(\"max score : \", ghz_opt_dict[\"opt_score\"])\n",
    "print(ghz_opt_dict[\"opt_settings\"])"
   ]
  },
  {
   "cell_type": "markdown",
   "id": "b476cc2f",
   "metadata": {},
   "source": [
    "## n = 7"
   ]
  },
  {
   "cell_type": "code",
   "execution_count": 8,
   "id": "fa310529",
   "metadata": {},
   "outputs": [
    {
     "name": "stdout",
     "output_type": "stream",
     "text": [
      "classical bound :  64\n",
      "quantum bound :  512.0\n",
      "\n",
      "classical optimziation\n",
      "iteration :  0 , score :  -3.4948874818977407\n",
      "elapsed time :  0.8393559455871582\n",
      "iteration :  5 , score :  0.7846902985560488\n",
      "elapsed time :  0.7651708126068115\n",
      "iteration :  10 , score :  8.552502845483886\n",
      "elapsed time :  0.6387619972229004\n",
      "iteration :  15 , score :  56.60863881499812\n",
      "elapsed time :  0.7634449005126953\n",
      "max score :  63.999782112462626\n",
      "\n",
      "quantum optimization\n",
      "iteration :  0 , score :  -59.532891596932146\n",
      "elapsed time :  0.6260490417480469\n",
      "iteration :  5 , score :  489.15933006814925\n",
      "elapsed time :  0.5728020668029785\n",
      "iteration :  10 , score :  463.11140305017517\n",
      "elapsed time :  0.6351628303527832\n",
      "iteration :  15 , score :  454.7866517711171\n",
      "elapsed time :  0.4623076915740967\n",
      "max score :  505.90502433763487\n",
      "[[array([], shape=(1, 0), dtype=float64)], [array([[-1.26844741],\n",
      "       [ 0.30551242]]), array([[-3.89133049],\n",
      "       [-2.31743309]]), array([[-4.08255987],\n",
      "       [-2.52425896]]), array([[-3.16655378],\n",
      "       [-1.60101051]]), array([[-1.89763925],\n",
      "       [-0.33300559]]), array([[-1.37082384],\n",
      "       [ 0.20096796]]), array([[-4.57415113],\n",
      "       [ 3.26704329]])]]\n"
     ]
    }
   ],
   "source": [
    "n = 7\n",
    "\n",
    "print(\"classical bound : \", classical_bound(n))\n",
    "print(\"quantum bound : \", quantum_bound(n))\n",
    "\n",
    "print(\"\\nclassical optimziation\")\n",
    "cl_ansatz = QNopt.NetworkAnsatz(cl_prep_nodes(n), ry_meas_nodes(n))\n",
    "cl_opt_dict = QNopt.gradient_descent(\n",
    "    QNopt.mermin_klyshko_cost_fn(cl_ansatz),\n",
    "    cl_ansatz.rand_scenario_settings(),\n",
    "    sample_width = 5,\n",
    "    num_steps = 20,\n",
    "    step_size = 0.03\n",
    ")\n",
    "print(\"max score : \", cl_opt_dict[\"opt_score\"])\n",
    "\n",
    "print(\"\\nquantum optimization\")\n",
    "ghz_ansatz = QNopt.NetworkAnsatz(ghz_prep_nodes(n), rzry_meas_nodes(n))\n",
    "np.random.seed(1)\n",
    "ghz_opt_dict = QNopt.gradient_descent(\n",
    "    QNopt.mermin_klyshko_cost_fn(ghz_ansatz),\n",
    "    ghz_ansatz.rand_scenario_settings(),\n",
    "    sample_width = 5,\n",
    "    num_steps = 20,\n",
    "    step_size = 0.003\n",
    ")\n",
    "print(\"max score : \", ghz_opt_dict[\"opt_score\"])\n",
    "print(ghz_opt_dict[\"opt_settings\"])"
   ]
  },
  {
   "cell_type": "code",
   "execution_count": null,
   "id": "a794f3f5",
   "metadata": {},
   "outputs": [],
   "source": []
  },
  {
   "cell_type": "code",
   "execution_count": null,
   "id": "340282a1",
   "metadata": {},
   "outputs": [],
   "source": []
  }
 ],
 "metadata": {
  "@webio": {
   "lastCommId": null,
   "lastKernelId": null
  },
  "kernelspec": {
   "display_name": "Python 3 (ipykernel)",
   "language": "python",
   "name": "python3"
  },
  "language_info": {
   "codemirror_mode": {
    "name": "ipython",
    "version": 3
   },
   "file_extension": ".py",
   "mimetype": "text/x-python",
   "name": "python",
   "nbconvert_exporter": "python",
   "pygments_lexer": "ipython3",
   "version": "3.8.12"
  }
 },
 "nbformat": 4,
 "nbformat_minor": 5
}
