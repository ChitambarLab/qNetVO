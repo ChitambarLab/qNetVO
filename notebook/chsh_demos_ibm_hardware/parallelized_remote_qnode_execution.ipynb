{
 "cells": [
  {
   "cell_type": "markdown",
   "id": "6a9eff38",
   "metadata": {},
   "source": [
    "# Parallelized Remote QNode Execution\n",
    "\n",
    "This notebook demonstrates how training and execution of remote qnodes can be parallelized.\n",
    "For this demonstration, we use open-access IBM quantum hardware simulators.\n",
    "These simulators have relatively short queue-times in comparison to the available quantum computers yet reveal the advantages of parallelizing the web requests used to invoke the remote IBM Q services."
   ]
  },
  {
   "cell_type": "code",
   "execution_count": 1,
   "id": "db7fdf02",
   "metadata": {},
   "outputs": [],
   "source": [
    "import pennylane as qml\n",
    "from pennylane import numpy as np\n",
    "\n",
    "from context import QNetOptimizer as QNopt"
   ]
  },
  {
   "cell_type": "code",
   "execution_count": 2,
   "id": "d591320e",
   "metadata": {},
   "outputs": [],
   "source": [
    "from qiskit import IBMQ\n",
    "\n",
    "# For details regarding integration between PennyLane and IMB Q,\n",
    "# see https://pennylaneqiskit.readthedocs.io/en/latest/devices/ibmq.html#accounts-and-tokens\n",
    "provider = IBMQ.load_account()"
   ]
  },
  {
   "cell_type": "markdown",
   "id": "f585b5b9",
   "metadata": {},
   "source": [
    "## Setup\n",
    "\n",
    "For simplicity, we consider a CHSH scenario ansatz with a static Bell state preparation and local qubit measurements optimized over the $xz$-plane.\n",
    "The qnodes are executed/trained remotely on the `ibmq_qasm_simulator`.\n",
    "In certain cases, qnode execution is performed locally for greater efficiency."
   ]
  },
  {
   "cell_type": "code",
   "execution_count": 3,
   "id": "b7c98039",
   "metadata": {},
   "outputs": [],
   "source": [
    "prep_nodes = [\n",
    "    QNopt.PrepareNode(1, [0,1], QNopt.ghz_state, 0)\n",
    "]\n",
    "meas_nodes = [\n",
    "    QNopt.MeasureNode(2, 2, [0], QNopt.local_RY, 1),\n",
    "    QNopt.MeasureNode(2, 2, [1], QNopt.local_RY, 1)\n",
    "]\n",
    "\n",
    "dev_ibm_qasm = {\n",
    "    \"name\" : \"qiskit.ibmq\",\n",
    "    \"shots\" : 2000,\n",
    "    \"backend\" : \"ibmq_qasm_simulator\",\n",
    "    \"provider\" : provider\n",
    "}\n",
    "\n",
    "local_sim_chsh_ansatz = QNopt.NetworkAnsatz(prep_nodes, meas_nodes)\n",
    "ibm_sim_chsh_ansatz = QNopt.NetworkAnsatz(\n",
    "    prep_nodes, meas_nodes, dev_kwargs = dev_ibm_qasm\n",
    ")"
   ]
  },
  {
   "cell_type": "markdown",
   "id": "0c3a125e",
   "metadata": {},
   "source": [
    "## QNode Execution Parallelization\n",
    "\n",
    "We now demonstrate the performance gains granted by parallelizing qnode execution across IBM Q hardware simulator devices.\n",
    "In this example the CHSH cost function requires 4 remote qnode executions which are first run serially and then, in parallel.\n",
    "\n",
    "### Non-Parallelized Remote QNode Execution\n",
    "\n",
    "By default, PennyLane will chain web requests invoking remote qnode execution serially. \n",
    "This is a great ineffeciency granted that each of these qnode executions are independent from each other."
   ]
  },
  {
   "cell_type": "code",
   "execution_count": 4,
   "id": "ea2d4714",
   "metadata": {},
   "outputs": [
    {
     "name": "stdout",
     "output_type": "stream",
     "text": [
      "CPU times: user 357 ms, sys: 30.3 ms, total: 387 ms\n",
      "Wall time: 17.5 s\n"
     ]
    },
    {
     "data": {
      "text/plain": [
       "-0.5859999999999999"
      ]
     },
     "execution_count": 4,
     "metadata": {},
     "output_type": "execute_result"
    }
   ],
   "source": [
    "%%time\n",
    "\n",
    "chsh_cost = QNopt.chsh_inequality_cost(ibm_sim_chsh_ansatz)\n",
    "\n",
    "np.random.seed(13)\n",
    "rand_settings = ibm_sim_chsh_ansatz.rand_scenario_settings()\n",
    "\n",
    "chsh_cost(rand_settings)"
   ]
  },
  {
   "cell_type": "markdown",
   "id": "f70765ce",
   "metadata": {},
   "source": [
    "### Parallelized Remote QNode Execution\n",
    "\n",
    "A factor of roughly 2-4x speedup is found by parallelizing the qnode execution across 4 separate threads.\n",
    "This speedup persists even when a single remote device runs all qnode executions because the parallelized web requests populate the queue sooner than serial web requests.\n",
    "\n"
   ]
  },
  {
   "cell_type": "code",
   "execution_count": 5,
   "id": "ff8d749f",
   "metadata": {},
   "outputs": [
    {
     "name": "stdout",
     "output_type": "stream",
     "text": [
      "CPU times: user 460 ms, sys: 43.1 ms, total: 503 ms\n",
      "Wall time: 5.37 s\n"
     ]
    },
    {
     "data": {
      "text/plain": [
       "-0.599"
      ]
     },
     "execution_count": 5,
     "metadata": {},
     "output_type": "execute_result"
    }
   ],
   "source": [
    "%%time\n",
    "\n",
    "parallel_chsh_cost = QNopt.chsh_inequality_cost(\n",
    "    ibm_sim_chsh_ansatz, parallel=True\n",
    ")\n",
    "\n",
    "np.random.seed(13)\n",
    "rand_settings = ibm_sim_chsh_ansatz.rand_scenario_settings()\n",
    "\n",
    "parallel_chsh_cost(rand_settings)"
   ]
  },
  {
   "cell_type": "markdown",
   "id": "96acc766",
   "metadata": {},
   "source": [
    "## QNode Gradients on Remote Hardware\n",
    "\n",
    "In this section we demonstrate that performance gains granted by parallelizing gradient computation of remote qnodes.\n",
    "The gradient is evaluated using the parameter shift rule.\n",
    "\n",
    "\n",
    "### Non-Parallelized Remote Gradient Computation\n",
    "\n",
    "By default, all cost functions and gradients are evaluated serially on remote hardware.\n",
    "This requires 28 web requests in total to IBM remote simulator."
   ]
  },
  {
   "cell_type": "code",
   "execution_count": 6,
   "id": "0ee1ef80",
   "metadata": {},
   "outputs": [
    {
     "name": "stdout",
     "output_type": "stream",
     "text": [
      "iteration :  0 , score :  0.611\n",
      "CPU times: user 1.89 s, sys: 187 ms, total: 2.08 s\n",
      "Wall time: 2min 3s\n"
     ]
    },
    {
     "data": {
      "text/plain": [
       "{'opt_score': 1.149,\n",
       " 'opt_settings': [[array([], shape=(1, 0), dtype=float64)],\n",
       "  [array([[ 1.86700571],\n",
       "          [-1.60032715]]),\n",
       "   array([[2.06005211],\n",
       "          [2.73548852]])]],\n",
       " 'scores': [0.611, 1.149],\n",
       " 'samples': [0, 0],\n",
       " 'settings_history': [[[array([], shape=(1, 0), dtype=float64)],\n",
       "   [array([[ 1.86700571],\n",
       "           [-1.60032715]]),\n",
       "    array([[2.06005211],\n",
       "           [2.73548852]])]]]}"
      ]
     },
     "execution_count": 6,
     "metadata": {},
     "output_type": "execute_result"
    }
   ],
   "source": [
    "%%time\n",
    "\n",
    "ibm_sim_chsh_cost = QNopt.chsh_inequality_cost(ibm_sim_chsh_ansatz)\n",
    "\n",
    "np.random.seed(13)\n",
    "rand_settings = ibm_sim_chsh_ansatz.rand_scenario_settings()\n",
    "\n",
    "QNopt.gradient_descent(\n",
    "    ibm_sim_chsh_cost,\n",
    "    rand_settings,\n",
    "    num_steps=1,\n",
    "    sample_width=1,\n",
    "    step_size=0.1\n",
    ")"
   ]
  },
  {
   "cell_type": "markdown",
   "id": "f8dcaa9a",
   "metadata": {},
   "source": [
    "### Parallelized Remote Gradient Computation\n",
    "\n",
    "To speed up the gradient computation, we parallelize the parameter shift rule across 4 web requests.\n",
    "In total only 20 web requests to remote IBM hardware are needed where we are able to drop 8 requests from the previous example by evaluating the cost function locally.\n",
    "The training is then isolated in 20 web requests split across four independent threads.\n",
    "We see a rough 4x improvement in training time."
   ]
  },
  {
   "cell_type": "code",
   "execution_count": 7,
   "id": "5af72a1e",
   "metadata": {},
   "outputs": [
    {
     "name": "stdout",
     "output_type": "stream",
     "text": [
      "iteration :  0 , score :  0.6183525458603142\n",
      "CPU times: user 1.39 s, sys: 137 ms, total: 1.53 s\n",
      "Wall time: 25.3 s\n"
     ]
    },
    {
     "data": {
      "text/plain": [
       "{'opt_score': 1.127667258710372,\n",
       " 'opt_settings': [[array([], shape=(1, 0), dtype=float64)],\n",
       "  [array([[ 1.86550571],\n",
       "          [-1.60027715]]),\n",
       "   array([[2.06000211],\n",
       "          [2.73408852]])]],\n",
       " 'scores': [0.6183525458603142, 1.127667258710372],\n",
       " 'samples': [0, 0],\n",
       " 'settings_history': [[[array([], shape=(1, 0), dtype=float64)],\n",
       "   [array([[ 1.86550571],\n",
       "           [-1.60027715]]),\n",
       "    array([[2.06000211],\n",
       "           [2.73408852]])]]]}"
      ]
     },
     "execution_count": 7,
     "metadata": {},
     "output_type": "execute_result"
    }
   ],
   "source": [
    "%%time\n",
    "\n",
    "local_sim_chsh_cost = QNopt.chsh_inequality_cost(local_sim_chsh_ansatz)\n",
    "parallel_grad_fn = QNopt.parallel_chsh_grad(\n",
    "    ibm_sim_chsh_ansatz, diff_method=\"parameter-shift\"\n",
    ")\n",
    "\n",
    "\n",
    "np.random.seed(13)\n",
    "rand_settings = ibm_sim_chsh_ansatz.rand_scenario_settings()\n",
    "\n",
    "QNopt.gradient_descent(\n",
    "    local_sim_chsh_cost,\n",
    "    rand_settings,\n",
    "    num_steps=1,\n",
    "    sample_width=1,\n",
    "    step_size=0.1,\n",
    "    grad_fn=parallel_grad_fn\n",
    ")"
   ]
  },
  {
   "cell_type": "code",
   "execution_count": null,
   "id": "3e71ec0f",
   "metadata": {},
   "outputs": [],
   "source": []
  }
 ],
 "metadata": {
  "@webio": {
   "lastCommId": null,
   "lastKernelId": null
  },
  "kernelspec": {
   "display_name": "Python 3 (ipykernel)",
   "language": "python",
   "name": "python3"
  },
  "language_info": {
   "codemirror_mode": {
    "name": "ipython",
    "version": 3
   },
   "file_extension": ".py",
   "mimetype": "text/x-python",
   "name": "python",
   "nbconvert_exporter": "python",
   "pygments_lexer": "ipython3",
   "version": "3.8.11"
  }
 },
 "nbformat": 4,
 "nbformat_minor": 5
}
