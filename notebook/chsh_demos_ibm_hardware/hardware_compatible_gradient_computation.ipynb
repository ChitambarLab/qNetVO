{
 "cells": [
  {
   "cell_type": "markdown",
   "id": "a86efd3f",
   "metadata": {},
   "source": [
    "# Hardware Compatible Gradient Computation on Quantum Hardware\n",
    "\n",
    "This notebook explores the performance of different gradient computation techniques for quantum hardware."
   ]
  },
  {
   "cell_type": "code",
   "execution_count": 1,
   "id": "583f97db",
   "metadata": {},
   "outputs": [],
   "source": [
    "import pennylane as qml\n",
    "from pennylane import numpy as np\n",
    "\n",
    "from context import qnetvo as QNopt"
   ]
  },
  {
   "cell_type": "code",
   "execution_count": 2,
   "id": "7e943f71",
   "metadata": {},
   "outputs": [],
   "source": [
    "from qiskit import IBMQ\n",
    "\n",
    "# For details regarding integration between PennyLane and IMB Q,\n",
    "# see https://pennylaneqiskit.readthedocs.io/en/latest/devices/ibmq.html#accounts-and-tokens\n",
    "provider = IBMQ.load_account()"
   ]
  },
  {
   "cell_type": "markdown",
   "id": "9a3b81a4",
   "metadata": {},
   "source": [
    "## Setup\n",
    "\n",
    "We prepare a static bell state and optimize the CHSH violation over measurements in the $xz$-plane. "
   ]
  },
  {
   "cell_type": "code",
   "execution_count": 3,
   "id": "c764a3f0",
   "metadata": {},
   "outputs": [],
   "source": [
    "prep_nodes = [\n",
    "    QNopt.PrepareNode(1, [0,1], QNopt.ghz_state, 0)\n",
    "]\n",
    "meas_nodes = [\n",
    "    QNopt.MeasureNode(2, 2, [0], QNopt.local_RY, 1),\n",
    "    QNopt.MeasureNode(2, 2, [1], QNopt.local_RY, 1)\n",
    "]"
   ]
  },
  {
   "cell_type": "markdown",
   "id": "a582e735",
   "metadata": {},
   "source": [
    "We use the `defualt.qubit` device to evaluate the cost function."
   ]
  },
  {
   "cell_type": "code",
   "execution_count": 4,
   "id": "59706330",
   "metadata": {},
   "outputs": [],
   "source": [
    "local_chsh_ansatz = QNopt.NetworkAnsatz(prep_nodes, meas_nodes)\n",
    "chsh_cost = QNopt.chsh_inequality_cost(local_chsh_ansatz)"
   ]
  },
  {
   "cell_type": "markdown",
   "id": "3ef34a73",
   "metadata": {},
   "source": [
    "We test the gradients computations on the IBM hwardware simulator and the `ibmq_belem` device."
   ]
  },
  {
   "cell_type": "code",
   "execution_count": 5,
   "id": "2661f5a1",
   "metadata": {},
   "outputs": [],
   "source": [
    "dev_ibm_qasm = {\n",
    "    \"name\" : \"qiskit.ibmq\",\n",
    "    \"shots\" : 4000,\n",
    "    \"backend\" : \"ibmq_qasm_simulator\",\n",
    "    \"provider\" : provider\n",
    "}\n",
    "dev_ibm_belem = {\n",
    "    \"name\" : \"qiskit.ibmq\",\n",
    "    \"shots\" : 4000,\n",
    "    \"backend\" : \"ibmq_belem\",\n",
    "    \"provider\" : provider\n",
    "}\n",
    "\n",
    "ibm_sim_chsh_ansatz = QNopt.NetworkAnsatz(\n",
    "    prep_nodes, meas_nodes, dev_kwargs = dev_ibm_qasm\n",
    ")\n",
    "belem_chsh_ansatz = QNopt.NetworkAnsatz(\n",
    "    prep_nodes, meas_nodes, dev_kwargs = dev_ibm_belem\n",
    ")"
   ]
  },
  {
   "cell_type": "markdown",
   "id": "6bf11281",
   "metadata": {},
   "source": [
    "## Simulator Runs\n",
    "\n",
    "We first demonstrate three different gradients on the IBM hardware simulator including parameter shift rule, finite differences rule, and the quantum natural gradient.\n",
    "In each of these cases, the gradients are computed using 4 parallelized threads.\n",
    "\n",
    "### Parameter Shift Rule"
   ]
  },
  {
   "cell_type": "code",
   "execution_count": 6,
   "id": "5fa918e8",
   "metadata": {},
   "outputs": [
    {
     "name": "stdout",
     "output_type": "stream",
     "text": [
      "iteration :  0 , score :  1.7457550793577905\n",
      "max score :  1.9621092378382046\n",
      "CPU times: user 1.82 s, sys: 162 ms, total: 1.99 s\n",
      "Wall time: 34.2 s\n"
     ]
    }
   ],
   "source": [
    "%%time\n",
    "\n",
    "param_shift_grad = QNopt.parallel_chsh_grad(\n",
    "    ibm_sim_chsh_ansatz, diff_method=\"parameter-shift\"\n",
    ")\n",
    "\n",
    "np.random.seed(73)\n",
    "rand_settings = local_chsh_ansatz.rand_scenario_settings()\n",
    "\n",
    "param_shift_opt = QNopt.gradient_descent(\n",
    "    chsh_cost,\n",
    "    rand_settings,\n",
    "    num_steps=1,\n",
    "    step_size=0.1,\n",
    "    sample_width=1,\n",
    "    grad_fn=param_shift_grad\n",
    ")\n",
    "\n",
    "print(\"max score : \", param_shift_opt[\"opt_score\"])"
   ]
  },
  {
   "cell_type": "markdown",
   "id": "a575e36c",
   "metadata": {},
   "source": [
    "### Finite Differences Rule"
   ]
  },
  {
   "cell_type": "code",
   "execution_count": 20,
   "id": "54483f40",
   "metadata": {},
   "outputs": [
    {
     "name": "stdout",
     "output_type": "stream",
     "text": [
      "iteration :  0 , score :  1.7457550793577905\n",
      "max score :  1.7499837568803895\n",
      "CPU times: user 1.33 s, sys: 116 ms, total: 1.44 s\n",
      "Wall time: 32.9 s\n"
     ]
    }
   ],
   "source": [
    "%%time\n",
    "\n",
    "finite_diff_grad = QNopt.parallel_chsh_grad(ibm_sim_chsh_ansatz, diff_method=\"finite-diff\")\n",
    "\n",
    "np.random.seed(73)\n",
    "rand_settings = local_chsh_ansatz.rand_scenario_settings()\n",
    "\n",
    "finite_diff_opt = QNopt.gradient_descent(\n",
    "    chsh_cost,\n",
    "    rand_settings,\n",
    "    num_steps=1,\n",
    "    step_size=0.0000001,\n",
    "    sample_width=1,\n",
    "    grad_fn=finite_diff_grad\n",
    ")\n",
    "\n",
    "print(\"max score : \", finite_diff_opt[\"opt_score\"])"
   ]
  },
  {
   "cell_type": "markdown",
   "id": "c734a6c9",
   "metadata": {},
   "source": [
    "### Quantum Natural Gradient\n",
    "\n",
    "This approach requires 4 extra calls to the quantum hardware resulting in an increased overhead, however, it may show some optimization advantages over other approaches in practice on noisy hardware."
   ]
  },
  {
   "cell_type": "code",
   "execution_count": 8,
   "id": "498a9269",
   "metadata": {},
   "outputs": [
    {
     "name": "stdout",
     "output_type": "stream",
     "text": [
      "iteration :  0 , score :  1.7457550793577905\n",
      "max score :  2.1185506222910355\n",
      "CPU times: user 1.97 s, sys: 183 ms, total: 2.15 s\n",
      "Wall time: 52.2 s\n"
     ]
    }
   ],
   "source": [
    "%%time\n",
    "\n",
    "natural_grad = QNopt.chsh_natural_grad(\n",
    "    ibm_sim_chsh_ansatz, diff_method=\"parameter-shift\"\n",
    ")\n",
    "\n",
    "np.random.seed(73)\n",
    "rand_settings = local_chsh_ansatz.rand_scenario_settings()\n",
    "\n",
    "natural_grad_opt = QNopt.gradient_descent(\n",
    "    chsh_cost,\n",
    "    rand_settings,\n",
    "    num_steps=1,\n",
    "    step_size=0.1,\n",
    "    sample_width=1,\n",
    "    grad_fn=natural_grad\n",
    ")\n",
    "\n",
    "print(\"max score : \", natural_grad_opt[\"opt_score\"])"
   ]
  },
  {
   "cell_type": "markdown",
   "id": "d3fc729f",
   "metadata": {},
   "source": [
    "## Quantum Hardware Runs\n",
    "\n",
    "### Parameter Shift Rule"
   ]
  },
  {
   "cell_type": "code",
   "execution_count": 9,
   "id": "724d45eb",
   "metadata": {},
   "outputs": [
    {
     "name": "stdout",
     "output_type": "stream",
     "text": [
      "iteration :  0 , score :  1.7457550793577905\n",
      "max score :  1.9289879321908119\n",
      "CPU times: user 1.82 s, sys: 166 ms, total: 1.98 s\n",
      "Wall time: 3min 21s\n"
     ]
    }
   ],
   "source": [
    "%%time\n",
    "\n",
    "param_shift_grad = QNopt.parallel_chsh_grad(\n",
    "    belem_chsh_ansatz, diff_method=\"parameter-shift\"\n",
    ")\n",
    "\n",
    "np.random.seed(73)\n",
    "rand_settings = local_chsh_ansatz.rand_scenario_settings()\n",
    "\n",
    "belem_param_shift_opt = QNopt.gradient_descent(\n",
    "    chsh_cost,\n",
    "    rand_settings,\n",
    "    num_steps=1,\n",
    "    step_size=0.1,\n",
    "    sample_width=1,\n",
    "    grad_fn=param_shift_grad\n",
    ")\n",
    "\n",
    "print(\"max score : \", belem_param_shift_opt[\"opt_score\"])"
   ]
  },
  {
   "cell_type": "markdown",
   "id": "1ad40a72",
   "metadata": {},
   "source": [
    "### Finite Differences Rule"
   ]
  },
  {
   "cell_type": "code",
   "execution_count": 21,
   "id": "bcd26959",
   "metadata": {},
   "outputs": [
    {
     "name": "stdout",
     "output_type": "stream",
     "text": [
      "iteration :  0 , score :  1.7457550793577905\n",
      "max score :  1.6986465726018762\n",
      "CPU times: user 1.44 s, sys: 127 ms, total: 1.57 s\n",
      "Wall time: 2min 37s\n"
     ]
    }
   ],
   "source": [
    "%%time\n",
    "\n",
    "finite_diff_grad = QNopt.parallel_chsh_grad(\n",
    "    belem_chsh_ansatz, diff_method=\"finite-diff\"\n",
    ")\n",
    "\n",
    "np.random.seed(73)\n",
    "rand_settings = local_chsh_ansatz.rand_scenario_settings()\n",
    "\n",
    "belem_finite_diff_opt = QNopt.gradient_descent(\n",
    "    chsh_cost,\n",
    "    rand_settings,\n",
    "    num_steps=1,\n",
    "    step_size=0.0000001,\n",
    "    sample_width=1,\n",
    "    grad_fn=finite_diff_grad\n",
    ")\n",
    "\n",
    "print(\"max score : \", belem_finite_diff_opt[\"opt_score\"])"
   ]
  },
  {
   "cell_type": "markdown",
   "id": "e8c06ef4",
   "metadata": {},
   "source": [
    "### Quantum Natural Gradient"
   ]
  },
  {
   "cell_type": "code",
   "execution_count": 12,
   "id": "a48402f1",
   "metadata": {},
   "outputs": [
    {
     "name": "stdout",
     "output_type": "stream",
     "text": [
      "iteration :  0 , score :  1.7457550793577905\n",
      "max score :  2.10422445187388\n",
      "CPU times: user 2.13 s, sys: 182 ms, total: 2.32 s\n",
      "Wall time: 4min 9s\n"
     ]
    }
   ],
   "source": [
    "%%time\n",
    "\n",
    "natural_grad = QNopt.chsh_natural_grad(\n",
    "    belem_chsh_ansatz, diff_method=\"parameter-shift\"\n",
    ")\n",
    "\n",
    "np.random.seed(73)\n",
    "rand_settings = local_chsh_ansatz.rand_scenario_settings()\n",
    "\n",
    "belem_natural_grad_opt = QNopt.gradient_descent(\n",
    "    chsh_cost,\n",
    "    rand_settings,\n",
    "    num_steps=1,\n",
    "    step_size=0.1,\n",
    "    sample_width=1,\n",
    "    grad_fn=natural_grad\n",
    ")\n",
    "\n",
    "print(\"max score : \", belem_natural_grad_opt[\"opt_score\"])"
   ]
  },
  {
   "cell_type": "markdown",
   "id": "8af8a2c6",
   "metadata": {},
   "source": [
    "## Conclusions\n",
    "\n",
    "The quantum natural gradient takes longer than the other two options because it requires 8 additional web requests to compute the metric tensor across the four parallel differentiated qnodes.\n",
    "The natural gradient however appears to perform significantly better on quantum hardware than parameter shift and finite differences.\n",
    "\n",
    "The finite differences rule may not be optimized in terms of its step size because it does not compute gradients for the CHSH cost function very effectively."
   ]
  },
  {
   "cell_type": "code",
   "execution_count": null,
   "id": "48650a56",
   "metadata": {},
   "outputs": [],
   "source": []
  }
 ],
 "metadata": {
  "@webio": {
   "lastCommId": null,
   "lastKernelId": null
  },
  "kernelspec": {
   "display_name": "Python 3 (ipykernel)",
   "language": "python",
   "name": "python3"
  },
  "language_info": {
   "codemirror_mode": {
    "name": "ipython",
    "version": 3
   },
   "file_extension": ".py",
   "mimetype": "text/x-python",
   "name": "python",
   "nbconvert_exporter": "python",
   "pygments_lexer": "ipython3",
   "version": "3.8.11"
  }
 },
 "nbformat": 4,
 "nbformat_minor": 5
}
