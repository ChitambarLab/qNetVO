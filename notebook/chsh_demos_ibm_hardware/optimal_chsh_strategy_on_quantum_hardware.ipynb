{
 "cells": [
  {
   "cell_type": "markdown",
   "id": "b02faabb",
   "metadata": {},
   "source": [
    "# Optimal CHSH Violation on Quantum Hardware\n",
    "\n",
    "This notebook demonstrates the performance of open-access quantum computers when given the task of implementing the strategy for optimal violation of the CHSH inequality."
   ]
  },
  {
   "cell_type": "code",
   "execution_count": 9,
   "id": "cf348cbe",
   "metadata": {},
   "outputs": [],
   "source": [
    "import pennylane as qml\n",
    "from pennylane import numpy as np\n",
    "\n",
    "from context import qnetvo as qnet"
   ]
  },
  {
   "cell_type": "code",
   "execution_count": 2,
   "id": "a87e71cb",
   "metadata": {},
   "outputs": [],
   "source": [
    "from qiskit import IBMQ\n",
    "\n",
    "# For details regarding integration between PennyLane and IMB Q,\n",
    "# see https://pennylaneqiskit.readthedocs.io/en/latest/devices/ibmq.html#accounts-and-tokens\n",
    "provider = IBMQ.load_account()"
   ]
  },
  {
   "cell_type": "markdown",
   "id": "eae72410",
   "metadata": {},
   "source": [
    "## Setup\n",
    "\n",
    "The ansatz is exceedingly simple where a static Bell state is prepared and local qubit rotations about the $y$-axis are performed before computational basis measurement."
   ]
  },
  {
   "cell_type": "code",
   "execution_count": 3,
   "id": "f8c4eaae",
   "metadata": {},
   "outputs": [],
   "source": [
    "prep_nodes = [\n",
    "    qnet.PrepareNode(1, [0,1], qnet.ghz_state, 0)\n",
    "]\n",
    "meas_nodes = [\n",
    "    qnet.MeasureNode(2, 2, [0], qnet.local_RY, 1),\n",
    "    qnet.MeasureNode(2, 2, [1], qnet.local_RY, 1)\n",
    "]"
   ]
  },
  {
   "cell_type": "markdown",
   "id": "7a665740",
   "metadata": {},
   "source": [
    "The optimal settings are only needed for measurements.\n",
    "In this case, the first measurement node (Alice) measures in either $\\sigma_z$ or $\\sigma_x$ bases and the second measurement node (Bob) applies measurements in orthogonal bases rotated off of the $x$ and $z$-bases.\n",
    "\n",
    "Note: The optimal CHSH score is $2\\sqrt{2} \\approx 2.82$ while the CHSH cost function multiplies this score by $-1$."
   ]
  },
  {
   "cell_type": "code",
   "execution_count": 4,
   "id": "554a16ff",
   "metadata": {},
   "outputs": [],
   "source": [
    "opt_settings = [\n",
    "    [np.array([[]])], # the preparation is static\n",
    "    [np.array([[0],[np.pi/2]]), np.array([[np.pi/4],[-np.pi/4]])],\n",
    "]"
   ]
  },
  {
   "cell_type": "markdown",
   "id": "46a13666",
   "metadata": {},
   "source": [
    "## Device: `default.qubit`\n",
    "\n",
    "Local execution to demonstrate the optimal CHSH score and overhead of waiting in the queue for quantum hardware."
   ]
  },
  {
   "cell_type": "code",
   "execution_count": 5,
   "id": "669edcc0",
   "metadata": {},
   "outputs": [
    {
     "name": "stdout",
     "output_type": "stream",
     "text": [
      "CPU times: user 138 ms, sys: 9.81 ms, total: 147 ms\n",
      "Wall time: 157 ms\n"
     ]
    },
    {
     "data": {
      "text/plain": [
       "-2.828427124746189"
      ]
     },
     "execution_count": 5,
     "metadata": {},
     "output_type": "execute_result"
    }
   ],
   "source": [
    "%%time\n",
    "\n",
    "local_chsh_ansatz = qnet.NetworkAnsatz(prep_nodes, meas_nodes)\n",
    "parallel_chsh_cost = qnet.chsh_inequality_cost(\n",
    "    local_chsh_ansatz, parallel=True\n",
    ")\n",
    "\n",
    "parallel_chsh_cost(opt_settings)"
   ]
  },
  {
   "cell_type": "markdown",
   "id": "6305e7b1",
   "metadata": {},
   "source": [
    "## Device: `ibmq_belem`\n",
    "\n",
    "A 5-qubit Falcon r4T processor with a quantum volume of 16."
   ]
  },
  {
   "cell_type": "code",
   "execution_count": 6,
   "id": "c931d665",
   "metadata": {},
   "outputs": [
    {
     "name": "stdout",
     "output_type": "stream",
     "text": [
      "CPU times: user 1.16 s, sys: 131 ms, total: 1.29 s\n",
      "Wall time: 40.5 s\n"
     ]
    },
    {
     "data": {
      "text/plain": [
       "-2.3550000000000004"
      ]
     },
     "execution_count": 6,
     "metadata": {},
     "output_type": "execute_result"
    }
   ],
   "source": [
    "%%time\n",
    "\n",
    "dev_ibm_belem = {\n",
    "    \"name\" : \"qiskit.ibmq\",\n",
    "    \"shots\" : 4000,\n",
    "    \"backend\" : \"ibmq_belem\",\n",
    "    \"provider\" : provider\n",
    "}\n",
    "\n",
    "belem_chsh_ansatz = qnet.NetworkAnsatz(\n",
    "    prep_nodes, meas_nodes, dev_kwargs = dev_ibm_belem\n",
    ")\n",
    "parallel_chsh_cost = qnet.chsh_inequality_cost(\n",
    "    belem_chsh_ansatz, parallel=True\n",
    ")\n",
    "\n",
    "parallel_chsh_cost(opt_settings)"
   ]
  },
  {
   "cell_type": "markdown",
   "id": "4c860c7e",
   "metadata": {},
   "source": [
    "## Device: `ibmq_manila`\n",
    "\n",
    "A 5-qubit Falcon r5.11L processer with quantum volume of 32."
   ]
  },
  {
   "cell_type": "code",
   "execution_count": 7,
   "id": "e590b8f9",
   "metadata": {},
   "outputs": [
    {
     "name": "stdout",
     "output_type": "stream",
     "text": [
      "CPU times: user 454 ms, sys: 42.9 ms, total: 497 ms\n",
      "Wall time: 1min 27s\n"
     ]
    },
    {
     "data": {
      "text/plain": [
       "-2.418"
      ]
     },
     "execution_count": 7,
     "metadata": {},
     "output_type": "execute_result"
    }
   ],
   "source": [
    "%%time\n",
    "\n",
    "dev_ibm_manila = {\n",
    "    \"name\" : \"qiskit.ibmq\",\n",
    "    \"shots\" : 4000,\n",
    "    \"backend\" : \"ibmq_manila\",\n",
    "    \"provider\" : provider\n",
    "}\n",
    "\n",
    "manila_chsh_ansatz = qnet.NetworkAnsatz(\n",
    "    prep_nodes, meas_nodes, dev_kwargs = dev_ibm_manila\n",
    ")\n",
    "parallel_chsh_cost = qnet.chsh_inequality_cost(\n",
    "    manila_chsh_ansatz, parallel=True\n",
    ")\n",
    "\n",
    "parallel_chsh_cost(opt_settings)"
   ]
  },
  {
   "cell_type": "markdown",
   "id": "bef7c952",
   "metadata": {},
   "source": [
    "## Device: `ibmq_santiago`\n",
    "\n",
    "A 5-qubit Falcon r4L processor with quantum volume of 32."
   ]
  },
  {
   "cell_type": "code",
   "execution_count": 8,
   "id": "a5d153a8",
   "metadata": {},
   "outputs": [
    {
     "name": "stdout",
     "output_type": "stream",
     "text": [
      "CPU times: user 699 ms, sys: 93.7 ms, total: 792 ms\n",
      "Wall time: 14min 18s\n"
     ]
    },
    {
     "data": {
      "text/plain": [
       "-2.4225000000000003"
      ]
     },
     "execution_count": 8,
     "metadata": {},
     "output_type": "execute_result"
    }
   ],
   "source": [
    "%%time\n",
    "\n",
    "dev_ibm_santiago = {\n",
    "    \"name\" : \"qiskit.ibmq\",\n",
    "    \"shots\" : 4000,\n",
    "    \"backend\" : \"ibmq_santiago\",\n",
    "    \"provider\" : provider\n",
    "}\n",
    "\n",
    "santiago_chsh_ansatz = qnet.NetworkAnsatz(\n",
    "    prep_nodes, meas_nodes, dev_kwargs = dev_ibm_santiago\n",
    ")\n",
    "parallel_chsh_cost = qnet.chsh_inequality_cost(\n",
    "    santiago_chsh_ansatz, parallel=True\n",
    ")\n",
    "\n",
    "parallel_chsh_cost(opt_settings)"
   ]
  },
  {
   "cell_type": "markdown",
   "id": "3fd836a7",
   "metadata": {},
   "source": [
    "## Conclusion\n",
    "\n",
    "Open-access devices at IBM are comparable in their ability to faithfully execute small simple circuits.\n",
    "The CHSH score and and computation times are expected to deviate when run again and are therefore not reproducible.\n",
    "It is likely that VQO will lead to greater CHSH violations as the theoretical optimal strategy may not be optimal for the noise in quantum processors. "
   ]
  },
  {
   "cell_type": "code",
   "execution_count": null,
   "id": "267a4af7",
   "metadata": {},
   "outputs": [],
   "source": []
  }
 ],
 "metadata": {
  "@webio": {
   "lastCommId": null,
   "lastKernelId": null
  },
  "kernelspec": {
   "display_name": "Python 3 (ipykernel)",
   "language": "python",
   "name": "python3"
  },
  "language_info": {
   "codemirror_mode": {
    "name": "ipython",
    "version": 3
   },
   "file_extension": ".py",
   "mimetype": "text/x-python",
   "name": "python",
   "nbconvert_exporter": "python",
   "pygments_lexer": "ipython3",
   "version": "3.8.11"
  }
 },
 "nbformat": 4,
 "nbformat_minor": 5
}
