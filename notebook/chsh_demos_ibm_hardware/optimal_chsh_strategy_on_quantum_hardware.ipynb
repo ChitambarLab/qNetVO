{
 "cells": [
  {
   "cell_type": "markdown",
   "id": "de89b95d",
   "metadata": {},
   "source": [
    "# Optimal CHSH Violation on Quantum Hardware\n",
    "\n",
    "This notebook demonstrates the performance of open-access quantum computers when given the task of implementing the strategy for optimal violation of the CHSH inequality."
   ]
  },
  {
   "cell_type": "code",
   "execution_count": 9,
   "id": "2a1f79c2",
   "metadata": {},
   "outputs": [],
   "source": [
    "import pennylane as qml\n",
    "from pennylane import numpy as np\n",
    "\n",
    "from context import QNetOptimizer as QNopt"
   ]
  },
  {
   "cell_type": "code",
   "execution_count": 2,
   "id": "a5c8f6f9",
   "metadata": {},
   "outputs": [],
   "source": [
    "from qiskit import IBMQ\n",
    "\n",
    "# For details regarding integration between PennyLane and IMB Q,\n",
    "# see https://pennylaneqiskit.readthedocs.io/en/latest/devices/ibmq.html#accounts-and-tokens\n",
    "provider = IBMQ.load_account()"
   ]
  },
  {
   "cell_type": "markdown",
   "id": "43a25423",
   "metadata": {},
   "source": [
    "## Setup\n",
    "\n",
    "The ansatz is exceedingly simple where a static Bell state is prepared and local qubit rotations about the $y$-axis are performed before computational basis measurement."
   ]
  },
  {
   "cell_type": "code",
   "execution_count": 3,
   "id": "b34a9c03",
   "metadata": {},
   "outputs": [],
   "source": [
    "prep_nodes = [\n",
    "    QNopt.PrepareNode(1, [0,1], QNopt.ghz_state, 0)\n",
    "]\n",
    "meas_nodes = [\n",
    "    QNopt.MeasureNode(2, 2, [0], QNopt.local_RY, 1),\n",
    "    QNopt.MeasureNode(2, 2, [1], QNopt.local_RY, 1)\n",
    "]"
   ]
  },
  {
   "cell_type": "markdown",
   "id": "962b39b4",
   "metadata": {},
   "source": [
    "The optimal settings are only needed for measurements.\n",
    "In this case, the first measurement node (Alice) measures in either $\\sigma_z$ or $\\sigma_x$ bases and the second measurement node (Bob) applies measurements in orthogonal bases rotated off of the $x$ and $z$-bases.\n",
    "\n",
    "Note: The optimal CHSH score is $2\\sqrt{2} \\approx 2.82$ while the CHSH cost function multiplies this score by $-1$."
   ]
  },
  {
   "cell_type": "code",
   "execution_count": 4,
   "id": "bb73135a",
   "metadata": {},
   "outputs": [],
   "source": [
    "opt_settings = [\n",
    "    [np.array([[]])], # there are no preparation settings\n",
    "    [np.array([[0],[np.pi/2]]), np.array([[np.pi/4],[-np.pi/4]])], # measurement settings\n",
    "]"
   ]
  },
  {
   "cell_type": "markdown",
   "id": "ec5c5c68",
   "metadata": {},
   "source": [
    "## Device: `default.qubit`\n",
    "\n",
    "Local execution to demonstrate the optimal CHSH score and overhead of waiting in the queue for quantum hardware."
   ]
  },
  {
   "cell_type": "code",
   "execution_count": 5,
   "id": "a7b58263",
   "metadata": {},
   "outputs": [
    {
     "name": "stdout",
     "output_type": "stream",
     "text": [
      "CPU times: user 138 ms, sys: 9.81 ms, total: 147 ms\n",
      "Wall time: 157 ms\n"
     ]
    },
    {
     "data": {
      "text/plain": [
       "-2.828427124746189"
      ]
     },
     "execution_count": 5,
     "metadata": {},
     "output_type": "execute_result"
    }
   ],
   "source": [
    "%%time\n",
    "\n",
    "local_chsh_ansatz = QNopt.NetworkAnsatz(prep_nodes, meas_nodes)\n",
    "parallel_chsh_cost = QNopt.chsh_inequality_cost(local_chsh_ansatz, parallel=True)\n",
    "\n",
    "parallel_chsh_cost(opt_settings)"
   ]
  },
  {
   "cell_type": "markdown",
   "id": "c9721ad1",
   "metadata": {},
   "source": [
    "## Device: `ibmq_belem`\n",
    "\n",
    "A 5-qubit Falcon r4T processor with a quantum volume of 16."
   ]
  },
  {
   "cell_type": "code",
   "execution_count": 6,
   "id": "8822f099",
   "metadata": {},
   "outputs": [
    {
     "name": "stdout",
     "output_type": "stream",
     "text": [
      "CPU times: user 1.16 s, sys: 131 ms, total: 1.29 s\n",
      "Wall time: 40.5 s\n"
     ]
    },
    {
     "data": {
      "text/plain": [
       "-2.3550000000000004"
      ]
     },
     "execution_count": 6,
     "metadata": {},
     "output_type": "execute_result"
    }
   ],
   "source": [
    "%%time\n",
    "\n",
    "dev_ibm_belem = {\n",
    "    \"name\" : \"qiskit.ibmq\",\n",
    "    \"shots\" : 4000,\n",
    "    \"backend\" : \"ibmq_belem\",\n",
    "    \"provider\" : provider\n",
    "}\n",
    "\n",
    "belem_chsh_ansatz = QNopt.NetworkAnsatz(prep_nodes, meas_nodes, dev_kwargs = dev_ibm_belem)\n",
    "parallel_chsh_cost = QNopt.chsh_inequality_cost(belem_chsh_ansatz, parallel=True)\n",
    "\n",
    "parallel_chsh_cost(opt_settings)"
   ]
  },
  {
   "cell_type": "markdown",
   "id": "b1917e83",
   "metadata": {},
   "source": [
    "## Device: `ibmq_manila`\n",
    "\n",
    "A 5-qubit Falcon r5.11L processer with quantum volume of 32."
   ]
  },
  {
   "cell_type": "code",
   "execution_count": 7,
   "id": "1897c52a",
   "metadata": {},
   "outputs": [
    {
     "name": "stdout",
     "output_type": "stream",
     "text": [
      "CPU times: user 454 ms, sys: 42.9 ms, total: 497 ms\n",
      "Wall time: 1min 27s\n"
     ]
    },
    {
     "data": {
      "text/plain": [
       "-2.418"
      ]
     },
     "execution_count": 7,
     "metadata": {},
     "output_type": "execute_result"
    }
   ],
   "source": [
    "%%time\n",
    "\n",
    "dev_ibm_manila = {\n",
    "    \"name\" : \"qiskit.ibmq\",\n",
    "    \"shots\" : 4000,\n",
    "    \"backend\" : \"ibmq_manila\",\n",
    "    \"provider\" : provider\n",
    "}\n",
    "\n",
    "manila_chsh_ansatz = QNopt.NetworkAnsatz(prep_nodes, meas_nodes, dev_kwargs = dev_ibm_manila)\n",
    "parallel_chsh_cost = QNopt.chsh_inequality_cost(manila_chsh_ansatz, parallel=True)\n",
    "\n",
    "parallel_chsh_cost(opt_settings)"
   ]
  },
  {
   "cell_type": "markdown",
   "id": "aea23ca9",
   "metadata": {},
   "source": [
    "## Device: `ibmq_santiago`\n",
    "\n",
    "A 5-qubit Falcon r4L processor with quantum volume of 32."
   ]
  },
  {
   "cell_type": "code",
   "execution_count": 8,
   "id": "31f57545",
   "metadata": {},
   "outputs": [
    {
     "name": "stdout",
     "output_type": "stream",
     "text": [
      "CPU times: user 699 ms, sys: 93.7 ms, total: 792 ms\n",
      "Wall time: 14min 18s\n"
     ]
    },
    {
     "data": {
      "text/plain": [
       "-2.4225000000000003"
      ]
     },
     "execution_count": 8,
     "metadata": {},
     "output_type": "execute_result"
    }
   ],
   "source": [
    "%%time\n",
    "\n",
    "dev_ibm_santiago = {\n",
    "    \"name\" : \"qiskit.ibmq\",\n",
    "    \"shots\" : 4000,\n",
    "    \"backend\" : \"ibmq_santiago\",\n",
    "    \"provider\" : provider\n",
    "}\n",
    "\n",
    "santiago_chsh_ansatz = QNopt.NetworkAnsatz(prep_nodes, meas_nodes, dev_kwargs = dev_ibm_santiago)\n",
    "parallel_chsh_cost = QNopt.chsh_inequality_cost(santiago_chsh_ansatz, parallel=True)\n",
    "\n",
    "parallel_chsh_cost(opt_settings)"
   ]
  },
  {
   "cell_type": "markdown",
   "id": "c1fbd0e0",
   "metadata": {},
   "source": [
    "## Conclusion\n",
    "\n",
    "Open-access devices at IBM are comparable in their ability to faithfully execute small simple circuits.\n",
    "The CHSH score and and computation times are expected to deviate when run again and are therefore not reproducible.\n",
    "It is likely that VQO will lead to greater CHSH violations as the theoretical optimal strategy may not be optimal for the noise in quantum processors. "
   ]
  },
  {
   "cell_type": "code",
   "execution_count": null,
   "id": "05d10572",
   "metadata": {},
   "outputs": [],
   "source": []
  }
 ],
 "metadata": {
  "@webio": {
   "lastCommId": null,
   "lastKernelId": null
  },
  "kernelspec": {
   "display_name": "Python 3 (ipykernel)",
   "language": "python",
   "name": "python3"
  },
  "language_info": {
   "codemirror_mode": {
    "name": "ipython",
    "version": 3
   },
   "file_extension": ".py",
   "mimetype": "text/x-python",
   "name": "python",
   "nbconvert_exporter": "python",
   "pygments_lexer": "ipython3",
   "version": "3.8.11"
  }
 },
 "nbformat": 4,
 "nbformat_minor": 5
}
