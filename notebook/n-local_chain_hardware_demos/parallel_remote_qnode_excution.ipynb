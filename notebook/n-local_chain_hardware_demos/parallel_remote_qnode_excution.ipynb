{
 "cells": [
  {
   "cell_type": "markdown",
   "id": "6a9eff38",
   "metadata": {},
   "source": [
    "# $n$-Local Chain: Parallelized Remote QNode Execution\n",
    "\n",
    "This notebook demonstrates how training and execution of remote qnodes can be parallelized for $n$-local chain networks.\n",
    "For this demonstration, we use open-access IBM quantum hardware simulators.\n",
    "These simulators have relatively short queue-times in comparison to the available quantum computers yet reveal the advantages of parallelizing the web requests used to invoke the remote IBM Q services."
   ]
  },
  {
   "cell_type": "code",
   "execution_count": 1,
   "id": "db7fdf02",
   "metadata": {},
   "outputs": [],
   "source": [
    "import pennylane as qml\n",
    "from pennylane import numpy as np\n",
    "\n",
    "from context import QNetOptimizer as QNopt"
   ]
  },
  {
   "cell_type": "code",
   "execution_count": 2,
   "id": "d591320e",
   "metadata": {},
   "outputs": [],
   "source": [
    "from qiskit import IBMQ\n",
    "\n",
    "# For details regarding integration between PennyLane and IMB Q,\n",
    "# see https://pennylaneqiskit.readthedocs.io/en/latest/devices/ibmq.html#accounts-and-tokens\n",
    "provider = IBMQ.load_account()"
   ]
  },
  {
   "cell_type": "markdown",
   "id": "f585b5b9",
   "metadata": {},
   "source": [
    "## Setup\n",
    "\n",
    "For simplicity, we consider the bilocal chain network where two static Bell states are prepared and local qubit measurements parmeterized over the $xz$-plane.\n",
    "The qnodes are executed/trained remotely on the `ibmq_qasm_simulator`.\n",
    "In certain cases, qnode execution is performed locally for greater efficiency."
   ]
  },
  {
   "cell_type": "code",
   "execution_count": 3,
   "id": "b7c98039",
   "metadata": {},
   "outputs": [],
   "source": [
    "prep_nodes = [\n",
    "    QNopt.PrepareNode(1, [0,1], QNopt.ghz_state, 0),\n",
    "    QNopt.PrepareNode(1, [2,3], QNopt.ghz_state, 0)\n",
    "]\n",
    "meas_nodes = [\n",
    "    QNopt.MeasureNode(2, 2, [0], QNopt.local_RY, 1),\n",
    "    QNopt.MeasureNode(2, 2, [1, 2], QNopt.local_RY, 2),\n",
    "    QNopt.MeasureNode(2, 2, [3], QNopt.local_RY, 1),\n",
    "]\n",
    "\n",
    "# executes on local device\n",
    "local_sim_chain_ansatz = QNopt.NetworkAnsatz(prep_nodes, meas_nodes)\n",
    "\n",
    "dev_ibm_qasm = {\n",
    "    \"name\" : \"qiskit.ibmq\",\n",
    "    \"shots\" : 2000,\n",
    "    \"backend\" : \"ibmq_qasm_simulator\",\n",
    "    \"provider\" : provider\n",
    "}\n",
    "\n",
    "# executes on IBM hardware simulator\n",
    "ibm_sim_chain_ansatz = QNopt.NetworkAnsatz(\n",
    "    prep_nodes, meas_nodes, dev_kwargs = dev_ibm_qasm\n",
    ")"
   ]
  },
  {
   "cell_type": "markdown",
   "id": "0c3a125e",
   "metadata": {},
   "source": [
    "## QNode Execution Parallelization\n",
    "\n",
    "We now demonstrate the performance gains granted by parallelizing qnode execution across IBM Q hardware simulator devices.\n",
    "In this example the bilocal chain cost function requires 4 remote qnode executions which are first run serially and then, in parallel.\n",
    "\n",
    "### Benchmark: Local QNode Execution\n",
    "\n",
    "As a benchmark, we first execute the bilocal chain simulation locally. Due to the small circuit size, this is very efficient to compute even when circuit executions are done serially."
   ]
  },
  {
   "cell_type": "code",
   "execution_count": 4,
   "id": "fb09348e",
   "metadata": {},
   "outputs": [
    {
     "name": "stdout",
     "output_type": "stream",
     "text": [
      "CPU times: user 30.7 ms, sys: 2.08 ms, total: 32.7 ms\n",
      "Wall time: 31.9 ms\n"
     ]
    },
    {
     "data": {
      "text/plain": [
       "-0.4091725165341098"
      ]
     },
     "execution_count": 4,
     "metadata": {},
     "output_type": "execute_result"
    }
   ],
   "source": [
    "%%time\n",
    "\n",
    "local_chain_cost = QNopt.nlocal_chain_cost_22(local_sim_chain_ansatz)\n",
    "\n",
    "np.random.seed(13)\n",
    "rand_settings = local_sim_chain_ansatz.rand_scenario_settings()\n",
    "\n",
    "local_chain_cost(rand_settings)"
   ]
  },
  {
   "cell_type": "markdown",
   "id": "93692a4d",
   "metadata": {},
   "source": [
    "### Serial Remote QNode Execution\n",
    "\n",
    "By default, PennyLane will chain web requests invoking remote qnode execution serially. \n",
    "This is a great ineffeciency granted that each of these qnode executions are independent from each other.\n",
    "In total, we run 8 quantum circuits to collect enough data to evaluate the bilocal Bell inequality cost function."
   ]
  },
  {
   "cell_type": "code",
   "execution_count": 5,
   "id": "ea2d4714",
   "metadata": {},
   "outputs": [
    {
     "name": "stdout",
     "output_type": "stream",
     "text": [
      "CPU times: user 742 ms, sys: 58.8 ms, total: 800 ms\n",
      "Wall time: 44.1 s\n"
     ]
    },
    {
     "data": {
      "text/plain": [
       "-0.4020571060527195"
      ]
     },
     "execution_count": 5,
     "metadata": {},
     "output_type": "execute_result"
    }
   ],
   "source": [
    "%%time\n",
    "\n",
    "chain_cost = QNopt.nlocal_chain_cost_22(ibm_sim_chain_ansatz)\n",
    "\n",
    "np.random.seed(13)\n",
    "rand_settings = ibm_sim_chain_ansatz.rand_scenario_settings()\n",
    "\n",
    "chain_cost(rand_settings)"
   ]
  },
  {
   "cell_type": "markdown",
   "id": "f70765ce",
   "metadata": {},
   "source": [
    "### Parallel Remote QNode Execution\n",
    "\n",
    "A factor of roughly 4x speedup is found by parallelizing the qnode execution across 4 separate threads.\n",
    "This speedup persists even when a single remote device runs all qnode executions because the parallelized web requests populate the queue sooner than serial web requests.\n",
    "Note that with the current implementation, we perform two batches of four parallel circuit executions. We break into two batches because IBM allows no more than 5 parallel requests per user."
   ]
  },
  {
   "cell_type": "code",
   "execution_count": 6,
   "id": "ff8d749f",
   "metadata": {},
   "outputs": [
    {
     "name": "stdout",
     "output_type": "stream",
     "text": [
      "CPU times: user 748 ms, sys: 75.9 ms, total: 824 ms\n",
      "Wall time: 10.2 s\n"
     ]
    },
    {
     "data": {
      "text/plain": [
       "-0.4796899545124125"
      ]
     },
     "execution_count": 6,
     "metadata": {},
     "output_type": "execute_result"
    }
   ],
   "source": [
    "%%time\n",
    "\n",
    "parallel_chain_cost = QNopt.nlocal_chain_cost_22(\n",
    "    ibm_sim_chain_ansatz, parallel=True\n",
    ")\n",
    "\n",
    "np.random.seed(13)\n",
    "rand_settings = ibm_sim_chain_ansatz.rand_scenario_settings()\n",
    "\n",
    "parallel_chain_cost(rand_settings)"
   ]
  },
  {
   "cell_type": "markdown",
   "id": "96acc766",
   "metadata": {},
   "source": [
    "## QNode Gradients on Remote Hardware\n",
    "\n",
    "In this section we demonstrate that performance gains granted by parallelizing gradient computation of remote qnodes.\n",
    "The gradient is evaluated using the parameter shift rule.\n",
    "\n",
    "\n",
    "### Benchmark: Local Serial Gradient Computation\n",
    "\n",
    "As a benchmark, we iterate one step of gradient descent computing the gradient locally using parameter shift rule. Note that the quantities evaluated on remote simulator deviate from the benchmark due to finite statistics."
   ]
  },
  {
   "cell_type": "code",
   "execution_count": 7,
   "id": "46acd502",
   "metadata": {},
   "outputs": [
    {
     "name": "stdout",
     "output_type": "stream",
     "text": [
      "iteration :  0 , score :  0.4091725165341098\n",
      "elapsed time :  0.03605079650878906\n",
      "max score :  0.4947684708958426\n",
      "CPU times: user 84.2 ms, sys: 6.29 ms, total: 90.5 ms\n",
      "Wall time: 86.3 ms\n"
     ]
    }
   ],
   "source": [
    "%%time\n",
    "\n",
    "local_sim_chain_cost = QNopt.nlocal_chain_cost_22(local_sim_chain_ansatz)\n",
    "\n",
    "np.random.seed(13)\n",
    "rand_settings = local_sim_chain_ansatz.rand_scenario_settings()\n",
    "\n",
    "serial_local_opt_dict = QNopt.gradient_descent(\n",
    "    local_sim_chain_cost,\n",
    "    rand_settings,\n",
    "    num_steps=1,\n",
    "    sample_width=1,\n",
    "    step_size=0.1\n",
    ")\n",
    "\n",
    "print(\"max score : \", serial_local_opt_dict[\"opt_score\"])"
   ]
  },
  {
   "cell_type": "markdown",
   "id": "39c107e2",
   "metadata": {},
   "source": [
    "### Serial Remote Gradient Computation\n",
    "\n",
    "By default, all cost functions and gradients are evaluated serially on remote hardware resulting in 88 total requests.\n",
    "This requires 16 web requests to evaluate the cost function before and after the gradient evaluation.\n",
    "Additionally, 8 web requests are used to evaluate $I_{22}$ and $J_{22}$ quantities during the gradient computation.\n",
    "Finally, the parameter-shift with 4 parameters runs 64 times to evaluate the gradient."
   ]
  },
  {
   "cell_type": "code",
   "execution_count": 8,
   "id": "0ee1ef80",
   "metadata": {},
   "outputs": [
    {
     "name": "stdout",
     "output_type": "stream",
     "text": [
      "iteration :  0 , score :  0.3840006525675499\n",
      "elapsed time :  439.6573350429535\n",
      "max score :  0.45923454469413194\n",
      "CPU times: user 6.97 s, sys: 588 ms, total: 7.56 s\n",
      "Wall time: 8min 42s\n"
     ]
    }
   ],
   "source": [
    "%%time\n",
    "\n",
    "ibm_sim_chain_cost = QNopt.nlocal_chain_cost_22(ibm_sim_chain_ansatz)\n",
    "\n",
    "np.random.seed(13)\n",
    "rand_settings = ibm_sim_chain_ansatz.rand_scenario_settings()\n",
    "\n",
    "serial_remote_opt_dict = QNopt.gradient_descent(\n",
    "    ibm_sim_chain_cost,\n",
    "    rand_settings,\n",
    "    num_steps=1,\n",
    "    sample_width=1,\n",
    "    step_size=0.1\n",
    ")\n",
    "\n",
    "print(\"max score : \", serial_remote_opt_dict[\"opt_score\"])"
   ]
  },
  {
   "cell_type": "markdown",
   "id": "f8dcaa9a",
   "metadata": {},
   "source": [
    "### Parallel Remote Gradient Computation\n",
    "\n",
    "To speed up the gradient computation, we first evaluate the cost function locally, saving 16 web requests.\n",
    "Second, we parallelize the $I_{22}$ and $J_{22}$ evaluations across 4 threads each. Finally, the remaining 64 web requests are parallelized using 4 threads. \n",
    "This roughly yields a 4x improvement in training time."
   ]
  },
  {
   "cell_type": "code",
   "execution_count": 9,
   "id": "5af72a1e",
   "metadata": {},
   "outputs": [
    {
     "name": "stdout",
     "output_type": "stream",
     "text": [
      "iteration :  0 , score :  0.4091725165341098\n",
      "elapsed time :  134.71274995803833\n",
      "max score :  0.5013923944456432\n",
      "CPU times: user 6.43 s, sys: 578 ms, total: 7.01 s\n",
      "Wall time: 2min 14s\n"
     ]
    }
   ],
   "source": [
    "%%time\n",
    "\n",
    "local_sim_chain_cost = QNopt.nlocal_chain_cost_22(local_sim_chain_ansatz)\n",
    "parallel_grad_fn = QNopt.parallel_nlocal_chain_grad_fn(\n",
    "    ibm_sim_chain_ansatz, diff_method=\"parameter-shift\"\n",
    ")\n",
    "\n",
    "np.random.seed(13)\n",
    "rand_settings = ibm_sim_chain_ansatz.rand_scenario_settings()\n",
    "\n",
    "parallel_remote_opt_dict = QNopt.gradient_descent(\n",
    "    local_sim_chain_cost,\n",
    "    rand_settings,\n",
    "    num_steps=1,\n",
    "    sample_width=1,\n",
    "    step_size=0.1,\n",
    "    grad_fn=parallel_grad_fn\n",
    ")\n",
    "\n",
    "print(\"max score : \", parallel_remote_opt_dict[\"opt_score\"])"
   ]
  },
  {
   "cell_type": "code",
   "execution_count": null,
   "id": "3e71ec0f",
   "metadata": {},
   "outputs": [],
   "source": []
  },
  {
   "cell_type": "code",
   "execution_count": null,
   "id": "ac49d144",
   "metadata": {},
   "outputs": [],
   "source": []
  }
 ],
 "metadata": {
  "@webio": {
   "lastCommId": null,
   "lastKernelId": null
  },
  "kernelspec": {
   "display_name": "Python 3 (ipykernel)",
   "language": "python",
   "name": "python3"
  },
  "language_info": {
   "codemirror_mode": {
    "name": "ipython",
    "version": 3
   },
   "file_extension": ".py",
   "mimetype": "text/x-python",
   "name": "python",
   "nbconvert_exporter": "python",
   "pygments_lexer": "ipython3",
   "version": "3.8.11"
  }
 },
 "nbformat": 4,
 "nbformat_minor": 5
}
