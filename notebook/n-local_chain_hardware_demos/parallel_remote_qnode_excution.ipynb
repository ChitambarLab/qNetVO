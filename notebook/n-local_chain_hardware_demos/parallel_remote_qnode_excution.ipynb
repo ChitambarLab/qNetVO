{
 "cells": [
  {
   "cell_type": "markdown",
   "id": "6a9eff38",
   "metadata": {},
   "source": [
    "# $n$-Local Chain: Parallelized Remote QNode Execution\n",
    "\n",
    "This notebook demonstrates how training and execution of remote qnodes can be parallelized for $n$-local chain networks.\n",
    "For this demonstration, we use open-access IBM quantum hardware simulators.\n",
    "These simulators have relatively short queue-times in comparison to the available quantum computers yet reveal the advantages of parallelizing the web requests used to invoke the remote IBM Q services."
   ]
  },
  {
   "cell_type": "code",
   "execution_count": 1,
   "id": "db7fdf02",
   "metadata": {},
   "outputs": [],
   "source": [
    "import pennylane as qml\n",
    "from pennylane import numpy as np\n",
    "\n",
    "from context import QNetOptimizer as QNopt"
   ]
  },
  {
   "cell_type": "code",
   "execution_count": 2,
   "id": "d591320e",
   "metadata": {},
   "outputs": [],
   "source": [
    "from qiskit import IBMQ\n",
    "\n",
    "# For details regarding integration between PennyLane and IMB Q,\n",
    "# see https://pennylaneqiskit.readthedocs.io/en/latest/devices/ibmq.html#accounts-and-tokens\n",
    "provider = IBMQ.load_account()"
   ]
  },
  {
   "cell_type": "markdown",
   "id": "f585b5b9",
   "metadata": {},
   "source": [
    "## Setup\n",
    "\n",
    "For simplicity, we consider the bilocal chain network where two static Bell states are prepared and local qubit measurements parmeterized over the $xz$-plane.\n",
    "The qnodes are executed/trained remotely on the `ibmq_qasm_simulator`.\n",
    "In certain cases, qnode execution is performed locally for greater efficiency."
   ]
  },
  {
   "cell_type": "code",
   "execution_count": 3,
   "id": "b7c98039",
   "metadata": {},
   "outputs": [],
   "source": [
    "prep_nodes = [\n",
    "    QNopt.PrepareNode(1, [0,1], QNopt.ghz_state, 0),\n",
    "    QNopt.PrepareNode(1, [2,3], QNopt.ghz_state, 0)\n",
    "]\n",
    "meas_nodes = [\n",
    "    QNopt.MeasureNode(2, 2, [0], QNopt.local_RY, 1),\n",
    "    QNopt.MeasureNode(2, 2, [1, 2], QNopt.local_RY, 2),\n",
    "    QNopt.MeasureNode(2, 2, [3], QNopt.local_RY, 1),\n",
    "]\n",
    "\n",
    "dev_ibm_qasm = {\n",
    "    \"name\" : \"qiskit.ibmq\",\n",
    "    \"shots\" : 4000,\n",
    "    \"backend\" : \"ibmq_qasm_simulator\",\n",
    "    \"provider\" : provider\n",
    "}\n",
    "\n",
    "local_sim_chain_ansatz = QNopt.NetworkAnsatz(prep_nodes, meas_nodes)\n",
    "ibm_sim_chain_ansatz = QNopt.NetworkAnsatz(\n",
    "    prep_nodes, meas_nodes, dev_kwargs = dev_ibm_qasm\n",
    ")"
   ]
  },
  {
   "cell_type": "markdown",
   "id": "0c3a125e",
   "metadata": {},
   "source": [
    "## QNode Execution Parallelization\n",
    "\n",
    "We now demonstrate the performance gains granted by parallelizing qnode execution across IBM Q hardware simulator devices.\n",
    "In this example the bilocal chain cost function requires 4 remote qnode executions which are first run serially and then, in parallel.\n",
    "\n",
    "### Ideal Cost Evaluation\n",
    "\n",
    "First, we demonstrate the evaluation of the cost function on the local `\"default.qubit\"` simulator."
   ]
  },
  {
   "cell_type": "code",
   "execution_count": 4,
   "id": "63df76ee",
   "metadata": {},
   "outputs": [
    {
     "name": "stdout",
     "output_type": "stream",
     "text": [
      "CPU times: user 30 ms, sys: 3.54 ms, total: 33.5 ms\n",
      "Wall time: 31.4 ms\n"
     ]
    },
    {
     "data": {
      "text/plain": [
       "-0.4091725165341098"
      ]
     },
     "execution_count": 4,
     "metadata": {},
     "output_type": "execute_result"
    }
   ],
   "source": [
    "%%time\n",
    "\n",
    "local_chain_cost = QNopt.nlocal_chain_cost_22(local_sim_chain_ansatz)\n",
    "\n",
    "np.random.seed(13)\n",
    "rand_settings = local_sim_chain_ansatz.rand_scenario_settings()\n",
    "\n",
    "local_chain_cost(rand_settings)"
   ]
  },
  {
   "cell_type": "markdown",
   "id": "ae5c66ef",
   "metadata": {},
   "source": [
    "### Non-Parallelized Remote QNode Execution\n",
    "\n",
    "By default, PennyLane will chain web requests invoking remote qnode execution serially. \n",
    "This is a great ineffeciency granted that each of these qnode executions are independent from each other."
   ]
  },
  {
   "cell_type": "code",
   "execution_count": 5,
   "id": "ea2d4714",
   "metadata": {},
   "outputs": [
    {
     "name": "stdout",
     "output_type": "stream",
     "text": [
      "CPU times: user 711 ms, sys: 58.8 ms, total: 769 ms\n",
      "Wall time: 38.7 s\n"
     ]
    },
    {
     "data": {
      "text/plain": [
       "-0.3560966626228658"
      ]
     },
     "execution_count": 5,
     "metadata": {},
     "output_type": "execute_result"
    }
   ],
   "source": [
    "%%time\n",
    "\n",
    "serial_chain_cost = QNopt.nlocal_chain_cost_22(ibm_sim_chain_ansatz)\n",
    "\n",
    "np.random.seed(13)\n",
    "rand_settings = ibm_sim_chain_ansatz.rand_scenario_settings()\n",
    "\n",
    "serial_chain_cost(rand_settings)"
   ]
  },
  {
   "cell_type": "markdown",
   "id": "f70765ce",
   "metadata": {},
   "source": [
    "### Parallelized Remote QNode Execution\n",
    "\n",
    "A factor of roughly 2-4x speedup is found by parallelizing the qnode execution across 4 separate threads.\n",
    "This speedup persists even when a single remote device runs all qnode executions because the parallelized web requests populate the queue sooner than serial web requests.\n",
    "\n"
   ]
  },
  {
   "cell_type": "code",
   "execution_count": 6,
   "id": "ff8d749f",
   "metadata": {},
   "outputs": [
    {
     "name": "stdout",
     "output_type": "stream",
     "text": [
      "[[tensor([], shape=(1, 0), dtype=float64, requires_grad=True), tensor([], shape=(1, 0), dtype=float64, requires_grad=True)], [tensor([[ 1.74485571],\n",
      "        [-1.64907715]], requires_grad=True), tensor([[ 2.03750211,  2.92638852],\n",
      "        [ 2.96944038, -0.292487  ]], requires_grad=True), tensor([[0.685134  ],\n",
      "        [1.73118415]], requires_grad=True)]]\n",
      "CPU times: user 801 ms, sys: 71.1 ms, total: 872 ms\n",
      "Wall time: 10.6 s\n"
     ]
    },
    {
     "data": {
      "text/plain": [
       "-0.4663243690497446"
      ]
     },
     "execution_count": 6,
     "metadata": {},
     "output_type": "execute_result"
    }
   ],
   "source": [
    "%%time\n",
    "\n",
    "parallel_chain_cost = QNopt.nlocal_chain_cost_22(\n",
    "    ibm_sim_chain_ansatz, parallel=True\n",
    ")\n",
    "\n",
    "np.random.seed(13)\n",
    "rand_settings = ibm_sim_chain_ansatz.rand_scenario_settings()\n",
    "\n",
    "parallel_chain_cost(rand_settings)"
   ]
  },
  {
   "cell_type": "markdown",
   "id": "96acc766",
   "metadata": {},
   "source": [
    "## QNode Gradients on Remote Hardware\n",
    "\n",
    "In this section we demonstrate that performance gains granted by parallelizing gradient computation of remote qnodes.\n",
    "The gradient is evaluated using the parameter shift rule.\n",
    "\n",
    "\n",
    "### Non-Parallelized Remote Gradient Computation\n",
    "\n",
    "By default, all cost functions and gradients are evaluated serially on remote hardware.\n",
    "This requires 28 web requests in total to IBM remote simulator."
   ]
  },
  {
   "cell_type": "code",
   "execution_count": null,
   "id": "0ee1ef80",
   "metadata": {},
   "outputs": [],
   "source": [
    "%%time\n",
    "\n",
    "ibm_sim_chsh_cost = QNopt.chsh_inequality_cost(ibm_sim_chain_ansatz)\n",
    "\n",
    "np.random.seed(13)\n",
    "rand_settings = ibm_sim_chsh_ansatz.rand_scenario_settings()\n",
    "\n",
    "QNopt.gradient_descent(\n",
    "    ibm_sim_chsh_cost,\n",
    "    rand_settings,\n",
    "    num_steps=1,\n",
    "    sample_width=1,\n",
    "    step_size=0.1\n",
    ")"
   ]
  },
  {
   "cell_type": "markdown",
   "id": "f8dcaa9a",
   "metadata": {},
   "source": [
    "### Parallelized Remote Gradient Computation\n",
    "\n",
    "To speed up the gradient computation, we parallelize the parameter shift rule across 4 web requests.\n",
    "In total only 20 web requests to remote IBM hardware are needed where we are able to drop 8 requests from the previous example by evaluating the cost function locally.\n",
    "The training is then isolated in 20 web requests split across four independent threads.\n",
    "We see a rough 4x improvement in training time."
   ]
  },
  {
   "cell_type": "code",
   "execution_count": null,
   "id": "5af72a1e",
   "metadata": {},
   "outputs": [],
   "source": [
    "%%time\n",
    "\n",
    "local_sim_chsh_cost = QNopt.chsh_inequality_cost(local_sim_chsh_ansatz)\n",
    "parallel_grad_fn = QNopt.parallel_chsh_grad(\n",
    "    ibm_sim_chsh_ansatz, diff_method=\"parameter-shift\"\n",
    ")\n",
    "\n",
    "\n",
    "np.random.seed(13)\n",
    "rand_settings = ibm_sim_chsh_ansatz.rand_scenario_settings()\n",
    "\n",
    "QNopt.gradient_descent(\n",
    "    local_sim_chsh_cost,\n",
    "    rand_settings,\n",
    "    num_steps=1,\n",
    "    sample_width=1,\n",
    "    step_size=0.1,\n",
    "    grad_fn=parallel_grad_fn\n",
    ")"
   ]
  },
  {
   "cell_type": "code",
   "execution_count": null,
   "id": "3e71ec0f",
   "metadata": {},
   "outputs": [],
   "source": []
  }
 ],
 "metadata": {
  "@webio": {
   "lastCommId": null,
   "lastKernelId": null
  },
  "kernelspec": {
   "display_name": "Python 3 (ipykernel)",
   "language": "python",
   "name": "python3"
  },
  "language_info": {
   "codemirror_mode": {
    "name": "ipython",
    "version": 3
   },
   "file_extension": ".py",
   "mimetype": "text/x-python",
   "name": "python",
   "nbconvert_exporter": "python",
   "pygments_lexer": "ipython3",
   "version": "3.8.11"
  }
 },
 "nbformat": 4,
 "nbformat_minor": 5
}
