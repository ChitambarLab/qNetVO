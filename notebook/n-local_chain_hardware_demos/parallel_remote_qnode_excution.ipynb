{
 "cells": [
  {
   "cell_type": "markdown",
   "id": "6a9eff38",
   "metadata": {},
   "source": [
    "# $n$-Local Chain: Parallelized Remote QNode Execution\n",
    "\n",
    "This notebook demonstrates how training and execution of remote qnodes can be parallelized for $n$-local chain networks.\n",
    "For this demonstration, we use open-access IBM quantum hardware simulators.\n",
    "These simulators have relatively short queue-times in comparison to the available quantum computers yet reveal the advantages of parallelizing the web requests used to invoke the remote IBM Q services."
   ]
  },
  {
   "cell_type": "code",
   "execution_count": 1,
   "id": "db7fdf02",
   "metadata": {},
   "outputs": [],
   "source": [
    "import pennylane as qml\n",
    "from pennylane import numpy as np\n",
    "\n",
    "from context import qnetvo as QNopt"
   ]
  },
  {
   "cell_type": "code",
   "execution_count": 2,
   "id": "d591320e",
   "metadata": {},
   "outputs": [],
   "source": [
    "from qiskit import IBMQ\n",
    "\n",
    "# For details regarding integration between PennyLane and IBM Q,\n",
    "# see https://pennylaneqiskit.readthedocs.io/en/latest/devices/ibmq.html#accounts-and-tokens\n",
    "provider = IBMQ.load_account()"
   ]
  },
  {
   "cell_type": "markdown",
   "id": "f585b5b9",
   "metadata": {},
   "source": [
    "## Setup\n",
    "\n",
    "For simplicity, we consider the bilocal chain network where two static Bell states are prepared and local qubit measurements parmeterized over the $xz$-plane.\n",
    "The qnodes are executed/trained remotely on the `ibmq_qasm_simulator`.\n",
    "In certain cases, qnode execution is performed locally for greater efficiency."
   ]
  },
  {
   "cell_type": "code",
   "execution_count": 3,
   "id": "b7c98039",
   "metadata": {},
   "outputs": [],
   "source": [
    "prep_nodes = [\n",
    "    QNopt.PrepareNode(1, [0,1], QNopt.ghz_state, 0),\n",
    "    QNopt.PrepareNode(1, [2,3], QNopt.ghz_state, 0)\n",
    "]\n",
    "meas_nodes = [\n",
    "    QNopt.MeasureNode(2, 2, [0], QNopt.local_RY, 1),\n",
    "    QNopt.MeasureNode(2, 2, [1, 2], QNopt.local_RY, 2),\n",
    "    QNopt.MeasureNode(2, 2, [3], QNopt.local_RY, 1),\n",
    "]\n",
    "\n",
    "# executes on local device\n",
    "local_sim_chain_ansatz = QNopt.NetworkAnsatz(prep_nodes, meas_nodes)\n",
    "\n",
    "dev_ibm_qasm = {\n",
    "    \"name\" : \"qiskit.ibmq\",\n",
    "    \"shots\" : 2000,\n",
    "    \"backend\" : \"ibmq_qasm_simulator\",\n",
    "    \"provider\" : provider\n",
    "}\n",
    "\n",
    "# executes on IBM hardware simulator\n",
    "ibm_sim_chain_ansatz = QNopt.NetworkAnsatz(\n",
    "    prep_nodes, meas_nodes, dev_kwargs = dev_ibm_qasm\n",
    ")"
   ]
  },
  {
   "cell_type": "markdown",
   "id": "0c3a125e",
   "metadata": {},
   "source": [
    "## QNode Execution Parallelization\n",
    "\n",
    "We now demonstrate the performance gains granted by parallelizing qnode execution across IBM Q hardware simulator devices.\n",
    "In this example the bilocal chain cost function requires 4 remote qnode executions which are first run serially and then, in parallel.\n",
    "\n",
    "### Benchmark: Local QNode Execution\n",
    "\n",
    "As a benchmark, we first execute the bilocal chain simulation locally. Due to the small circuit size, this is very efficient to compute even when circuit executions are done serially."
   ]
  },
  {
   "cell_type": "code",
   "execution_count": 4,
   "id": "d49356d1",
   "metadata": {},
   "outputs": [
    {
     "name": "stdout",
     "output_type": "stream",
     "text": [
      "CPU times: user 40.3 ms, sys: 3.43 ms, total: 43.7 ms\n",
      "Wall time: 43.7 ms\n"
     ]
    },
    {
     "data": {
      "text/plain": [
       "-0.4091725165341098"
      ]
     },
     "execution_count": 4,
     "metadata": {},
     "output_type": "execute_result"
    }
   ],
   "source": [
    "%%time\n",
    "\n",
    "local_chain_cost = QNopt.nlocal_chain_cost_22(local_sim_chain_ansatz)\n",
    "\n",
    "np.random.seed(13)\n",
    "rand_settings = local_sim_chain_ansatz.rand_scenario_settings()\n",
    "\n",
    "local_chain_cost(rand_settings)"
   ]
  },
  {
   "cell_type": "markdown",
   "id": "937e0cd1",
   "metadata": {},
   "source": [
    "### Serial Remote QNode Execution\n",
    "\n",
    "By default, PennyLane will chain web requests invoking remote qnode execution serially. \n",
    "This is a great ineffeciency granted that each of these qnode executions are independent from each other.\n",
    "In total, we run 8 quantum circuits to collect enough data to evaluate the bilocal Bell inequality cost function."
   ]
  },
  {
   "cell_type": "code",
   "execution_count": 5,
   "id": "ea2d4714",
   "metadata": {},
   "outputs": [
    {
     "name": "stdout",
     "output_type": "stream",
     "text": [
      "CPU times: user 714 ms, sys: 60 ms, total: 774 ms\n",
      "Wall time: 37.4 s\n"
     ]
    },
    {
     "data": {
      "text/plain": [
       "-0.40430852320829"
      ]
     },
     "execution_count": 5,
     "metadata": {},
     "output_type": "execute_result"
    }
   ],
   "source": [
    "%%time\n",
    "\n",
    "chain_cost = QNopt.nlocal_chain_cost_22(ibm_sim_chain_ansatz)\n",
    "\n",
    "np.random.seed(13)\n",
    "rand_settings = ibm_sim_chain_ansatz.rand_scenario_settings()\n",
    "\n",
    "chain_cost(rand_settings)"
   ]
  },
  {
   "cell_type": "markdown",
   "id": "f70765ce",
   "metadata": {},
   "source": [
    "### Parallel Remote QNode Execution\n",
    "\n",
    "A factor of roughly 4x speedup is found by parallelizing the qnode execution across 4 separate threads.\n",
    "This speedup persists even when a single remote device runs all qnode executions because the parallelized web requests populate the queue sooner than serial web requests.\n",
    "Note that with the current implementation, we perform two batches of four parallel circuit executions. We break into two batches because IBM allows no more than 5 parallel requests per user."
   ]
  },
  {
   "cell_type": "code",
   "execution_count": 6,
   "id": "ff8d749f",
   "metadata": {},
   "outputs": [
    {
     "name": "stdout",
     "output_type": "stream",
     "text": [
      "CPU times: user 753 ms, sys: 70.5 ms, total: 823 ms\n",
      "Wall time: 11.2 s\n"
     ]
    },
    {
     "data": {
      "text/plain": [
       "-0.45880553786673633"
      ]
     },
     "execution_count": 6,
     "metadata": {},
     "output_type": "execute_result"
    }
   ],
   "source": [
    "%%time\n",
    "\n",
    "parallel_chain_cost = QNopt.nlocal_chain_cost_22(\n",
    "    ibm_sim_chain_ansatz, parallel=True\n",
    ")\n",
    "\n",
    "np.random.seed(13)\n",
    "rand_settings = ibm_sim_chain_ansatz.rand_scenario_settings()\n",
    "\n",
    "parallel_chain_cost(rand_settings)"
   ]
  },
  {
   "cell_type": "markdown",
   "id": "96acc766",
   "metadata": {},
   "source": [
    "## QNode Gradients on Remote Hardware\n",
    "\n",
    "In this section we demonstrate that performance gains granted by parallelizing gradient computation of remote qnodes.\n",
    "The gradient is evaluated using the parameter shift rule.\n",
    "\n",
    "\n",
    "### Benchmark: Local Serial Gradient Computation\n",
    "\n",
    "As a benchmark, we iterate one step of gradient descent computing the gradient locally using parameter shift rule. Note that the quantities evaluated on remote simulator deviate from the benchmark due to finite statistics."
   ]
  },
  {
   "cell_type": "code",
   "execution_count": 7,
   "id": "bbcc0ba2",
   "metadata": {},
   "outputs": [
    {
     "name": "stdout",
     "output_type": "stream",
     "text": [
      "iteration :  0 , score :  0.4091725165341098\n",
      "elapsed time :  0.044850826263427734\n",
      "max score :  0.4947684708958426\n",
      "CPU times: user 97.2 ms, sys: 7.16 ms, total: 104 ms\n",
      "Wall time: 102 ms\n"
     ]
    }
   ],
   "source": [
    "%%time\n",
    "\n",
    "local_sim_chain_cost = QNopt.nlocal_chain_cost_22(local_sim_chain_ansatz)\n",
    "\n",
    "np.random.seed(13)\n",
    "rand_settings = local_sim_chain_ansatz.rand_scenario_settings()\n",
    "\n",
    "serial_local_opt_dict = QNopt.gradient_descent(\n",
    "    local_sim_chain_cost,\n",
    "    rand_settings,\n",
    "    num_steps=1,\n",
    "    sample_width=1,\n",
    "    step_size=0.1\n",
    ")\n",
    "\n",
    "print(\"max score : \", serial_local_opt_dict[\"opt_score\"])"
   ]
  },
  {
   "cell_type": "markdown",
   "id": "bda7b9ce",
   "metadata": {},
   "source": [
    "### Serial Remote Gradient Computation\n",
    "\n",
    "By default, all cost functions and gradients are evaluated serially on remote hardware resulting in 88 total requests.\n",
    "This requires 16 web requests to evaluate the cost function before and after the gradient evaluation.\n",
    "Additionally, 8 web requests are used to evaluate $I_{22}$ and $J_{22}$ quantities during the gradient computation.\n",
    "Finally, the parameter-shift with 4 parameters runs 64 times to evaluate the gradient."
   ]
  },
  {
   "cell_type": "code",
   "execution_count": 8,
   "id": "0ee1ef80",
   "metadata": {},
   "outputs": [
    {
     "name": "stdout",
     "output_type": "stream",
     "text": [
      "iteration :  0 , score :  0.35410250498847456\n",
      "elapsed time :  322.37982392311096\n",
      "max score :  0.4952960262985534\n",
      "CPU times: user 6.84 s, sys: 581 ms, total: 7.42 s\n",
      "Wall time: 6min 33s\n"
     ]
    }
   ],
   "source": [
    "%%time\n",
    "\n",
    "ibm_sim_chain_cost = QNopt.nlocal_chain_cost_22(ibm_sim_chain_ansatz)\n",
    "\n",
    "np.random.seed(13)\n",
    "rand_settings = ibm_sim_chain_ansatz.rand_scenario_settings()\n",
    "\n",
    "serial_remote_opt_dict = QNopt.gradient_descent(\n",
    "    ibm_sim_chain_cost,\n",
    "    rand_settings,\n",
    "    num_steps=1,\n",
    "    sample_width=1,\n",
    "    step_size=0.1\n",
    ")\n",
    "\n",
    "print(\"max score : \", serial_remote_opt_dict[\"opt_score\"])"
   ]
  },
  {
   "cell_type": "markdown",
   "id": "f8dcaa9a",
   "metadata": {},
   "source": [
    "### Parallel Remote Gradient Computation\n",
    "\n",
    "To speed up the gradient computation, we first evaluate the cost function locally, saving 16 web requests.\n",
    "Second, we parallelize the $I_{22}$ and $J_{22}$ evaluations across 4 threads each. Finally, the remaining 64 web requests are parallelized using 4 threads. \n",
    "This roughly yields a 4x improvement in training time."
   ]
  },
  {
   "cell_type": "code",
   "execution_count": 9,
   "id": "5af72a1e",
   "metadata": {
    "scrolled": false
   },
   "outputs": [
    {
     "name": "stdout",
     "output_type": "stream",
     "text": [
      "iteration :  0 , score :  0.4091725165341098\n",
      "elapsed time :  88.0086669921875\n",
      "max score :  0.4907867582069676\n",
      "CPU times: user 6.54 s, sys: 591 ms, total: 7.13 s\n",
      "Wall time: 1min 28s\n"
     ]
    }
   ],
   "source": [
    "%%time\n",
    "\n",
    "local_sim_chain_cost = QNopt.nlocal_chain_cost_22(local_sim_chain_ansatz)\n",
    "parallel_grad_fn = QNopt.parallel_nlocal_chain_grad_fn(\n",
    "    ibm_sim_chain_ansatz, diff_method=\"parameter-shift\"\n",
    ")\n",
    "\n",
    "np.random.seed(13)\n",
    "rand_settings = ibm_sim_chain_ansatz.rand_scenario_settings()\n",
    "\n",
    "parallel_remote_opt_dict = QNopt.gradient_descent(\n",
    "    local_sim_chain_cost,\n",
    "    rand_settings,\n",
    "    num_steps=1,\n",
    "    sample_width=1,\n",
    "    step_size=0.1,\n",
    "    grad_fn=parallel_grad_fn\n",
    ")\n",
    "\n",
    "print(\"max score : \", parallel_remote_opt_dict[\"opt_score\"])"
   ]
  },
  {
   "cell_type": "markdown",
   "id": "9890b18c",
   "metadata": {},
   "source": [
    "### Parallel Natural Gradient Descent Optimization Step"
   ]
  },
  {
   "cell_type": "code",
   "execution_count": 10,
   "id": "b92c93cf",
   "metadata": {},
   "outputs": [
    {
     "name": "stdout",
     "output_type": "stream",
     "text": [
      "iteration :  0 , score :  0.4091725165341098\n",
      "elapsed time :  95.79748916625977\n",
      "max score :  0.8289509758224339\n",
      "CPU times: user 6.91 s, sys: 610 ms, total: 7.52 s\n",
      "Wall time: 1min 35s\n"
     ]
    }
   ],
   "source": [
    "%%time\n",
    "\n",
    "local_sim_chain_cost = QNopt.nlocal_chain_cost_22(local_sim_chain_ansatz)\n",
    "natural_grad_fn = QNopt.parallel_nlocal_chain_grad_fn(\n",
    "    ibm_sim_chain_ansatz, natural_gradient=True, diff_method=\"parameter-shift\"\n",
    ")\n",
    "\n",
    "np.random.seed(13)\n",
    "rand_settings = ibm_sim_chain_ansatz.rand_scenario_settings()\n",
    "\n",
    "nat_grad_remote_opt_dict = QNopt.gradient_descent(\n",
    "    local_sim_chain_cost,\n",
    "    rand_settings,\n",
    "    num_steps=1,\n",
    "    sample_width=1,\n",
    "    step_size=0.5,\n",
    "    grad_fn=natural_grad_fn\n",
    ")\n",
    "\n",
    "print(\"max score : \", nat_grad_remote_opt_dict[\"opt_score\"])"
   ]
  },
  {
   "cell_type": "code",
   "execution_count": null,
   "id": "8657d5db",
   "metadata": {},
   "outputs": [],
   "source": []
  }
 ],
 "metadata": {
  "@webio": {
   "lastCommId": null,
   "lastKernelId": null
  },
  "kernelspec": {
   "display_name": "Python 3 (ipykernel)",
   "language": "python",
   "name": "python3"
  },
  "language_info": {
   "codemirror_mode": {
    "name": "ipython",
    "version": 3
   },
   "file_extension": ".py",
   "mimetype": "text/x-python",
   "name": "python",
   "nbconvert_exporter": "python",
   "pygments_lexer": "ipython3",
   "version": "3.8.11"
  }
 },
 "nbformat": 4,
 "nbformat_minor": 5
}
