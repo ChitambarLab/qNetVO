{
 "cells": [
  {
   "cell_type": "markdown",
   "metadata": {},
   "source": [
    "# Optimization of Dimensionality Witness Nonlocality\n",
    "\n",
    "### Goal: Optimize nonlocality against simple qubit dimensionality witnesses\n",
    "\n",
    "### Background:\n",
    "\n",
    "Dimensionality witnesses are Bell inequalities for bipartite prepare and measure scenarios (see [Device-Independent Tests of Classical and Quantum Dimensions](https://journals.aps.org/prl/abstract/10.1103/PhysRevLett.105.230501)).\n",
    "\n",
    "<img src=\"images/dimensionality_witnessing_scenario.png\" alt=\"dimensionality witnessing scenario\" width=\"300\"/>\n",
    "\n",
    "In this setting, Alice and Bob receive independent inputs $x$ and $y$ respectively.\n",
    "Alice encodes input $x$ into a quantum states $\\rho_x$ which is then sent to Bob over a quantum channel.\n",
    "Bob performs a measurent $\\Pi_b^y$ conditioned on input $y$ to produce an output $b\\in\\{0,1\\}$.\n",
    "A simple Bell inequality with known quantum violations is expressed as:\n",
    "\n",
    "$$I_3 \\equiv |\\langle B_{11}\\rangle + \\langle B_{12} \\rangle + \\langle B_{21} \\rangle - \\langle B_{22} \\rangle - \\langle B_{31} \\rangle  | \\leq 3$$\n",
    "\n",
    "where $\\langle B_{xy} \\rangle = P(0|xy) - P(1|xy)$. The bound on the quantum score is $I_3 \\leq 1 + 2\\sqrt{2} \\approx 3.8284$. "
   ]
  },
  {
   "cell_type": "code",
   "execution_count": 1,
   "metadata": {},
   "outputs": [],
   "source": [
    "import pennylane as qml\n",
    "from pennylane import numpy as np\n",
    "import matplotlib.pyplot as plt"
   ]
  },
  {
   "cell_type": "markdown",
   "metadata": {},
   "source": [
    "### Setup Quantum Circuits"
   ]
  },
  {
   "cell_type": "code",
   "execution_count": 2,
   "metadata": {},
   "outputs": [],
   "source": [
    "# The I_3 dimensionality witness only requires one qubit to simulate\n",
    "dev = qml.device(\"default.qubit\", wires=1)\n",
    "\n",
    "# optimizer\n",
    "opt = qml.GradientDescentOptimizer()\n",
    "\n",
    "@qml.qnode(dev)\n",
    "def real_I3_circuit(θ_state, θ_measurement):  \n",
    "    \"\"\"\n",
    "    Ansatz circuit where states ρ_x and measurements Π_b^y are free to rotate about the y-axis.\n",
    "    In this model, all quantum states real.\n",
    "\n",
    "    Args:\n",
    "        θ_state (float) : rotation angle on ρ_x\n",
    "        θ_measurement (float) : rotation angle on Π_b^y\n",
    "    \"\"\"    \n",
    "    qml.RY(θ_state, wires=0)\n",
    "    qml.RY(θ_measurement, wires=0)\n",
    "    \n",
    "    return qml.expval(qml.PauliZ(0))\n",
    "\n",
    "@qml.qnode(dev)\n",
    "def arbitrary_I3_circuit(state_params, measurement_params):\n",
    "    \"\"\"\n",
    "    Ansatz circuit where states ρ_x are prepared with a single qubit `ArbitraryUnitary` gate and\n",
    "    measurements Π_b^y are prepared with a single qubit `ArbitraryUnitary` gate.\n",
    "\n",
    "    Args:\n",
    "        state_params (list[float]) : 3 angle parameters for the arbitrary qubit state.\n",
    "        measurement_params (list[float]) : 3 angle parameters for the arbitrary measurement.\n",
    "    \"\"\"\n",
    "    qml.templates.subroutines.ArbitraryUnitary(state_params, [0])\n",
    "    qml.templates.subroutines.ArbitraryUnitary(measurement_params, [0])\n",
    "    return qml.expval(qml.PauliZ(0))"
   ]
  },
  {
   "cell_type": "markdown",
   "metadata": {},
   "source": [
    "### Setup Cost Functions for the Optimization"
   ]
  },
  {
   "cell_type": "code",
   "execution_count": 3,
   "metadata": {},
   "outputs": [],
   "source": [
    "def real_I3_cost(real_settings):\n",
    "    \"\"\"\n",
    "    Evaluates the I3 inequality by running the `real_I3_circuit` with parameters specified\n",
    "    by `real_settings`.\n",
    "    \n",
    "    Args:\n",
    "        real_settings (list[float]) : 5-element list\n",
    "    \"\"\"\n",
    "    B_11 = real_I3_circuit(real_settings[0], real_settings[3])\n",
    "    B_12 = real_I3_circuit(real_settings[0], real_settings[4])\n",
    "    B_21 = real_I3_circuit(real_settings[1], real_settings[3])\n",
    "    B_22 = real_I3_circuit(real_settings[1], real_settings[4])\n",
    "    B_31 = real_I3_circuit(real_settings[2], real_settings[3])\n",
    "    return -(B_11 + B_12 + B_21 - B_22 - B_31)\n",
    "\n",
    "def arbitrary_I3_cost(arb_settings):\n",
    "    \"\"\"\n",
    "    Evaluates the I3 inequality by running the `arbitrary_I3_circuit` with parameters specified\n",
    "    by `arb_settings`.\n",
    "    \n",
    "    Args:\n",
    "        arb_settings (list[float]) : 15-element list\n",
    "    \"\"\"\n",
    "    B_11 = arbitrary_I3_circuit(arb_settings[0:3], arb_settings[9:12])\n",
    "    B_12 = arbitrary_I3_circuit(arb_settings[0:3], arb_settings[12:15])\n",
    "    B_21 = arbitrary_I3_circuit(arb_settings[3:6], arb_settings[9:12])\n",
    "    B_22 = arbitrary_I3_circuit(arb_settings[3:6], arb_settings[12:15])\n",
    "    B_31 = arbitrary_I3_circuit(arb_settings[6:9], arb_settings[9:12])\n",
    "    return -(B_11 + B_12 + B_21 - B_22 - B_31)"
   ]
  },
  {
   "cell_type": "markdown",
   "metadata": {},
   "source": [
    "### Methods to Randomize Initial Parameters"
   ]
  },
  {
   "cell_type": "code",
   "execution_count": 4,
   "metadata": {},
   "outputs": [],
   "source": [
    "def real_I3_rand_settings():\n",
    "    \"\"\"\n",
    "    Returns a 5-element list with the randomized angles of the `real_I3_cost` method.\n",
    "    \"\"\"\n",
    "    return 2*np.pi*np.random.random(5) - np.pi\n",
    "\n",
    "def arbitrary_I3_rand_settings():\n",
    "    \"\"\"\n",
    "    Returns a 15-element list with the randomized angles of the `arbitrary_I3_cost` method.\n",
    "    \"\"\"\n",
    "    return 2*np.pi*np.random.random(15) - np.pi"
   ]
  },
  {
   "cell_type": "markdown",
   "metadata": {},
   "source": [
    "### Optimizing $I_3$ Inequality over Real Parameter Space"
   ]
  },
  {
   "cell_type": "code",
   "execution_count": 5,
   "metadata": {},
   "outputs": [
    {
     "name": "stdout",
     "output_type": "stream",
     "text": [
      "iteration :  0 , cost :  -2.257935398635778\n",
      "settings :\n",
      " [ 2.61242888 -1.33209434  2.02509076 -1.89675479 -0.04992808] \n",
      "\n",
      "iteration :  50 , cost :  0.9340983640757259\n",
      "settings :\n",
      " [ 2.0572583  -1.98080486  2.00202382 -2.295779   -0.87785189] \n",
      "\n",
      "iteration :  100 , cost :  2.302811881176977\n",
      "settings :\n",
      " [ 1.93908258 -2.39185009  1.70303587 -2.80802398 -1.19381583] \n",
      "\n",
      "iteration :  150 , cost :  3.165382433286932\n",
      "settings :\n",
      " [ 2.03251401 -2.48426441  1.21983428 -3.21405302 -1.26997127] \n",
      "\n",
      "iteration :  200 , cost :  3.5397579657381093\n",
      "settings :\n",
      " [ 2.1464277  -2.43722365  0.84581802 -3.36409984 -1.33298625] \n",
      "\n",
      "iteration :  250 , cost :  3.6863657488102226\n",
      "settings :\n",
      " [ 2.2408583  -2.38038     0.61182616 -3.37528843 -1.40451528] \n",
      "\n",
      "iteration :  300 , cost :  3.756546385423555\n",
      "settings :\n",
      " [ 2.31122731 -2.34072047  0.4595437  -3.35053501 -1.47152261] \n",
      "\n",
      "iteration :  350 , cost :  3.7921598577073414\n",
      "settings :\n",
      " [ 2.36051202 -2.31446667  0.35544645 -3.324004   -1.52661236] \n",
      "\n",
      "iteration :  400 , cost :  3.810215911490821\n",
      "settings :\n",
      " [ 2.39396198 -2.29635516  0.28268043 -3.3029495  -1.56887141] \n",
      "\n",
      "iteration :  450 , cost :  3.8193079677497717\n",
      "settings :\n",
      " [ 2.41642205 -2.28334925  0.23141764 -3.28749563 -1.60012208] \n",
      "\n",
      "final cost :  -3.823802995190098 ,\n",
      "final settings :  [ 2.43126005 -2.27398454  0.19582457 -3.27661371 -1.62239437]\n"
     ]
    }
   ],
   "source": [
    "# initial settings\n",
    "real_settings = real_I3_rand_settings()\n",
    "real_scores = []\n",
    "\n",
    "# performing gradient descent\n",
    "for i in range(500):\n",
    "    real_settings = opt.step(real_I3_cost, real_settings)\n",
    "    score = -(real_I3_cost(real_settings))\n",
    "    real_scores.append(score)\n",
    "    \n",
    "    \n",
    "    if i%50 == 0:\n",
    "        print(\"iteration : \",i, \", cost : \", score)\n",
    "        print(\"settings :\\n\", real_settings, \"\\n\")\n",
    "\n",
    "\n",
    "# printing final results    \n",
    "print(\"final cost : \", real_I3_cost(real_settings),\",\")\n",
    "print(\"final settings : \", real_settings)"
   ]
  },
  {
   "cell_type": "code",
   "execution_count": 6,
   "metadata": {},
   "outputs": [
    {
     "data": {
      "image/png": "[encoded data removed]",
      "text/plain": [
       "<Figure size 432x288 with 1 Axes>"
      ]
     },
     "metadata": {
      "needs_background": "light"
     },
     "output_type": "display_data"
    }
   ],
   "source": [
    "# Plot the individual observables\n",
    "plt.plot(range(500), real_scores , label = r\"$I_3$ Optimzation\")\n",
    "plt.plot(range(500), [3]*500, label = r\"Classical Bound\")\n",
    "plt.plot(range(500), [1+2*np.sqrt(2)]*500, label = r\"Quantum Bound\")\n",
    "plt.title(r\"$I_3$ Optimization over Real Parameter Space\")\n",
    "plt.xlabel(\"Iteration\")\n",
    "plt.ylabel(r\"$I_3$ score\")\n",
    "plt.legend()\n",
    "plt.show()"
   ]
  },
  {
   "cell_type": "markdown",
   "metadata": {},
   "source": [
    "### Optimize $I_3$ Inequality over Complex Parameter Space"
   ]
  },
  {
   "cell_type": "code",
   "execution_count": 7,
   "metadata": {},
   "outputs": [
    {
     "name": "stdout",
     "output_type": "stream",
     "text": [
      "iteration :  0 , score :  -2.996041889170079\n",
      "settings :\n",
      " [-0.80854079 -0.16679727 -0.84554038 -0.08353517 -2.1372791  -0.63545046\n",
      " -0.82907927 -2.55182114 -2.81219945  0.71560766 -2.35118387  0.82202108\n",
      " -0.68915656  2.73422698  2.015667  ] \n",
      "\n",
      "iteration :  50 , score :  -0.18338279572574212\n",
      "settings :\n",
      " [-1.42151795 -0.19675618 -0.89404485  0.03431564 -2.58108396 -0.56794493\n",
      " -0.96877365 -2.66116779 -3.00064095  0.35116251 -2.0418365   0.82202108\n",
      " -1.15579949  3.24049093  2.015667  ] \n",
      "\n",
      "iteration :  100 , score :  2.305503209239976\n",
      "settings :\n",
      " [-1.70610993 -0.19870043 -0.9368508   0.32148985 -3.04880035 -0.40416063\n",
      " -1.28951016 -2.80136943 -3.38900683  0.00933535 -2.08478948  0.82202108\n",
      " -1.60905022  3.67893043  2.015667  ] \n",
      "\n",
      "iteration :  150 , score :  3.3517672867964334\n",
      "settings :\n",
      " [-1.77076287 -0.19912357 -0.95315421  0.45769533 -3.26816632 -0.31429051\n",
      " -1.67196021 -2.82853789 -3.74572547 -0.24460821 -2.23507184  0.82202108\n",
      " -1.84697573  3.77078386  2.015667  ] \n",
      "\n",
      "iteration :  200 , score :  3.665094304509717\n",
      "settings :\n",
      " [-1.77093615 -0.19376659 -0.9276762   0.4675516  -3.34802517 -0.27580629\n",
      " -1.94417189 -2.80323612 -3.93791788 -0.34672036 -2.30288075  0.82202108\n",
      " -1.96866789  3.74924188  2.015667  ] \n",
      "\n",
      "iteration :  250 , score :  3.7569001578246004\n",
      "settings :\n",
      " [-1.75293353 -0.18892606 -0.89985884  0.44335869 -3.38420406 -0.25297602\n",
      " -2.10332663 -2.78689999 -4.02444961 -0.35522724 -2.32658174  0.82202108\n",
      " -2.04306554  3.70547662  2.015667  ] \n",
      "\n",
      "iteration :  300 , score :  3.7933311696895835\n",
      "settings :\n",
      " [-1.73424396 -0.18624207 -0.88134339  0.41790565 -3.40647065 -0.23666277\n",
      " -2.19920724 -2.78196155 -4.06524436 -0.33412509 -2.33914643  0.82202108\n",
      " -2.09407262  3.6631555   2.015667  ] \n",
      "\n",
      "iteration :  350 , score :  3.8107206860938962\n",
      "settings :\n",
      " [-1.71894542 -0.18492312 -0.87030306  0.39856589 -3.42224115 -0.22488393\n",
      " -2.26125781 -2.78250302 -4.08647304 -0.30959986 -2.348243    0.82202108\n",
      " -2.13041948  3.62847727  2.015667  ] \n",
      "\n",
      "iteration :  400 , score :  3.819467288037646\n",
      "settings :\n",
      " [-1.70710474 -0.18429328 -0.86382171  0.38529076 -3.43376359 -0.21656709\n",
      " -2.30355271 -2.78500172 -4.09859083 -0.28911558 -2.35506983  0.82202108\n",
      " -2.15638406  3.60198363  2.015667  ] \n",
      "\n",
      "iteration :  450 , score :  3.8239018007699905\n",
      "settings :\n",
      " [-1.69807948 -0.18399732 -0.85998118  0.37649666 -3.44217948 -0.21077657\n",
      " -2.33318919 -2.78786282 -4.10600856 -0.2736809  -2.36006022  0.82202108\n",
      " -2.17479851  3.58244898  2.015667  ] \n",
      "\n",
      "final score :  -3.826114867929501 ,\n",
      "final settings :  [-1.69137764 -0.18386418 -0.85770748  0.37081159 -3.44818854 -0.20682923\n",
      " -2.35385465 -2.79041357 -4.11068851 -0.26270447 -2.36357075  0.82202108\n",
      " -2.18755347  3.56855904  2.015667  ]\n"
     ]
    }
   ],
   "source": [
    "# initial settings\n",
    "arb_settings = arbitrary_I3_rand_settings()\n",
    "arb_scores = []\n",
    "\n",
    "# performing gradient descent\n",
    "for i in range(500):\n",
    "    arb_settings = opt.step(arbitrary_I3_cost, arb_settings)\n",
    "    \n",
    "    score = -(arbitrary_I3_cost(arb_settings))\n",
    "    arb_scores.append(score)\n",
    "    \n",
    "    if i%50 == 0:\n",
    "        print(\"iteration : \",i, \", score : \", score)\n",
    "        print(\"settings :\\n\", arb_settings, \"\\n\")\n",
    "\n",
    "# printing final results    \n",
    "print(\"final score : \", arbitrary_I3_cost(arb_settings),\",\")\n",
    "print(\"final settings : \", arb_settings)"
   ]
  },
  {
   "cell_type": "code",
   "execution_count": 8,
   "metadata": {},
   "outputs": [
    {
     "data": {
      "image/png": "[encoded data removed]",
      "text/plain": [
       "<Figure size 432x288 with 1 Axes>"
      ]
     },
     "metadata": {
      "needs_background": "light"
     },
     "output_type": "display_data"
    }
   ],
   "source": [
    "# Plot the individual observables\n",
    "plt.plot(range(500), arb_scores , label = r\"$I_3$ Optimzation\")\n",
    "plt.plot(range(500), [3]*500, label = r\"Classical Bound\")\n",
    "plt.plot(range(500), [1+2*np.sqrt(2)]*500, label = r\"Quantum Bound\")\n",
    "plt.title(r\"$I_3$ Optimization over Complex Parameter Space\")\n",
    "plt.xlabel(\"Iteration\")\n",
    "plt.ylabel(r\"$I_3$ score\")\n",
    "plt.legend()\n",
    "plt.show()"
   ]
  },
  {
   "cell_type": "code",
   "execution_count": null,
   "metadata": {},
   "outputs": [],
   "source": []
  }
 ],
 "metadata": {
  "@webio": {
   "lastCommId": null,
   "lastKernelId": null
  },
  "kernelspec": {
   "display_name": "Python 3",
   "language": "python",
   "name": "python3"
  },
  "language_info": {
   "codemirror_mode": {
    "name": "ipython",
    "version": 3
   },
   "file_extension": ".py",
   "mimetype": "text/x-python",
   "name": "python",
   "nbconvert_exporter": "python",
   "pygments_lexer": "ipython3",
   "version": "3.8.10"
  }
 },
 "nbformat": 4,
 "nbformat_minor": 2
}
