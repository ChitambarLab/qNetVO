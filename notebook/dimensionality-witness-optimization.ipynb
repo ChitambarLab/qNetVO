{
 "cells": [
  {
   "cell_type": "markdown",
   "metadata": {},
   "source": [
    "# Optimization of Dimensionality Witness Nonlocality\n",
    "\n",
    "### Goal: Optimize nonlocality against simple qubit dimensionality witnesses\n",
    "\n",
    "### Background:\n",
    "\n",
    "Dimensionality witnesses are Bell inequalities for bipartite prepare and measure scenarios (see [Device-Independent Tests of Classical and Quantum Dimensions](https://journals.aps.org/prl/abstract/10.1103/PhysRevLett.105.230501)).\n",
    "In this setting, Alice and Bob receive independent inputs $x$ and $y$ respectively.\n",
    "Alice encodes input $x$ into a quantum states $\\rho_x$ which is then sent to Bob over a quantum channel.\n",
    "Bob performs a measurent $\\Pi_b^y$ conditioned on input $y$ to produce an output $b\\in\\{0,1\\}$.\n",
    "A simple Bell inequality with known quantum violations is expressed as:\n",
    "\n",
    "$$I_3 \\equiv |\\langle B_{11}\\rangle + \\langle B_{12} \\rangle + \\langle B_{21} \\rangle - \\langle B_{22} \\rangle - \\langle B_{31} \\rangle  | \\leq 3$$\n",
    "\n",
    "where $\\langle B_{xy} \\rangle = P(0|xy) - P(1|xy)$. The bound on the quantum score is $I_3 \\leq 1 + 2\\sqrt{2} \\approx 3.8284$. "
   ]
  },
  {
   "cell_type": "code",
   "execution_count": 1,
   "metadata": {},
   "outputs": [
    {
     "name": "stderr",
     "output_type": "stream",
     "text": [
      "WARNING:matplotlib.style.core:In /Users/brian/opt/anaconda3/lib/python3.7/site-packages/matplotlib/mpl-data/stylelib/_classic_test.mplstyle: \n",
      "The text.latex.preview rcparam was deprecated in Matplotlib 3.3 and will be removed two minor releases later.\n",
      "WARNING:matplotlib.style.core:In /Users/brian/opt/anaconda3/lib/python3.7/site-packages/matplotlib/mpl-data/stylelib/_classic_test.mplstyle: \n",
      "The mathtext.fallback_to_cm rcparam was deprecated in Matplotlib 3.3 and will be removed two minor releases later.\n",
      "WARNING:matplotlib.style.core:In /Users/brian/opt/anaconda3/lib/python3.7/site-packages/matplotlib/mpl-data/stylelib/_classic_test.mplstyle: Support for setting the 'mathtext.fallback_to_cm' rcParam is deprecated since 3.3 and will be removed two minor releases later; use 'mathtext.fallback : 'cm' instead.\n",
      "WARNING:matplotlib.style.core:In /Users/brian/opt/anaconda3/lib/python3.7/site-packages/matplotlib/mpl-data/stylelib/_classic_test.mplstyle: \n",
      "The validate_bool_maybe_none function was deprecated in Matplotlib 3.3 and will be removed two minor releases later.\n",
      "WARNING:matplotlib.style.core:In /Users/brian/opt/anaconda3/lib/python3.7/site-packages/matplotlib/mpl-data/stylelib/_classic_test.mplstyle: \n",
      "The savefig.jpeg_quality rcparam was deprecated in Matplotlib 3.3 and will be removed two minor releases later.\n",
      "WARNING:matplotlib.style.core:In /Users/brian/opt/anaconda3/lib/python3.7/site-packages/matplotlib/mpl-data/stylelib/_classic_test.mplstyle: \n",
      "The keymap.all_axes rcparam was deprecated in Matplotlib 3.3 and will be removed two minor releases later.\n",
      "WARNING:matplotlib.style.core:In /Users/brian/opt/anaconda3/lib/python3.7/site-packages/matplotlib/mpl-data/stylelib/_classic_test.mplstyle: \n",
      "The animation.avconv_path rcparam was deprecated in Matplotlib 3.3 and will be removed two minor releases later.\n",
      "WARNING:matplotlib.style.core:In /Users/brian/opt/anaconda3/lib/python3.7/site-packages/matplotlib/mpl-data/stylelib/_classic_test.mplstyle: \n",
      "The animation.avconv_args rcparam was deprecated in Matplotlib 3.3 and will be removed two minor releases later.\n"
     ]
    }
   ],
   "source": [
    "import pennylane as qml\n",
    "from pennylane import numpy as np\n",
    "import matplotlib.pyplot as plt"
   ]
  },
  {
   "cell_type": "markdown",
   "metadata": {},
   "source": [
    "### Setup Quantum Circuits"
   ]
  },
  {
   "cell_type": "code",
   "execution_count": 2,
   "metadata": {},
   "outputs": [],
   "source": [
    "# The I_3 dimensionality witness only requires one qubit to simulate\n",
    "dev = qml.device(\"default.qubit\", wires=1)\n",
    "\n",
    "# optimizer\n",
    "opt = qml.GradientDescentOptimizer()\n",
    "\n",
    "@qml.qnode(dev)\n",
    "def real_I3_circuit(θ_state, θ_measurement):  \n",
    "    \"\"\"\n",
    "    Ansatz circuit where states ρ_x and measurements Π_b^y are free to rotate about the y-axis.\n",
    "    In this model, all quantum states real.\n",
    "\n",
    "    Args:\n",
    "        θ_state (float) : rotation angle on ρ_x\n",
    "        θ_measurement (float) : rotation angle on Π_b^y\n",
    "    \"\"\"    \n",
    "    qml.RY(θ_state, wires=0)\n",
    "    qml.RY(θ_measurement, wires=0)\n",
    "    \n",
    "    return qml.expval(qml.PauliZ(0))\n",
    "\n",
    "@qml.qnode(dev)\n",
    "def arbitrary_I3_circuit(state_params, measurement_params):\n",
    "    \"\"\"\n",
    "    Ansatz circuit where states ρ_x are prepared with a single qubit `ArbitraryUnitary` gate and\n",
    "    measurements Π_b^y are prepared with a single qubit `ArbitraryUnitary` gate.\n",
    "\n",
    "    Args:\n",
    "        state_params (list[float]) : 3 angle parameters for the arbitrary qubit state.\n",
    "        measurement_params (list[float]) : 3 angle parameters for the arbitrary measurement.\n",
    "    \"\"\"\n",
    "    qml.templates.subroutines.ArbitraryUnitary(state_params, [0])\n",
    "    qml.templates.subroutines.ArbitraryUnitary(measurement_params, [0])\n",
    "    return qml.expval(qml.PauliZ(0))"
   ]
  },
  {
   "cell_type": "markdown",
   "metadata": {},
   "source": [
    "### Setup Cost Functions for the Optimization"
   ]
  },
  {
   "cell_type": "code",
   "execution_count": 3,
   "metadata": {},
   "outputs": [],
   "source": [
    "def real_I3_cost(real_settings):\n",
    "    \"\"\"\n",
    "    Evaluates the I3 inequality by running the `real_I3_circuit` with parameters specified\n",
    "    by `real_settings`.\n",
    "    \n",
    "    Args:\n",
    "        real_settings (list[float]) : 5-element list\n",
    "    \"\"\"\n",
    "    B_11 = real_I3_circuit(real_settings[0], real_settings[3])\n",
    "    B_12 = real_I3_circuit(real_settings[0], real_settings[4])\n",
    "    B_21 = real_I3_circuit(real_settings[1], real_settings[3])\n",
    "    B_22 = real_I3_circuit(real_settings[1], real_settings[4])\n",
    "    B_31 = real_I3_circuit(real_settings[2], real_settings[3])\n",
    "    return -(B_11 + B_12 + B_21 - B_22 - B_31)\n",
    "\n",
    "def arbitrary_I3_cost(arb_settings):\n",
    "    \"\"\"\n",
    "    Evaluates the I3 inequality by running the `arbitrary_I3_circuit` with parameters specified\n",
    "    by `arb_settings`.\n",
    "    \n",
    "    Args:\n",
    "        arb_settings (list[float]) : 15-element list\n",
    "    \"\"\"\n",
    "    B_11 = arbitrary_I3_circuit(arb_settings[0:3], arb_settings[9:12])\n",
    "    B_12 = arbitrary_I3_circuit(arb_settings[0:3], arb_settings[12:15])\n",
    "    B_21 = arbitrary_I3_circuit(arb_settings[3:6], arb_settings[9:12])\n",
    "    B_22 = arbitrary_I3_circuit(arb_settings[3:6], arb_settings[12:15])\n",
    "    B_31 = arbitrary_I3_circuit(arb_settings[6:9], arb_settings[9:12])\n",
    "    return -(B_11 + B_12 + B_21 - B_22 - B_31)"
   ]
  },
  {
   "cell_type": "markdown",
   "metadata": {},
   "source": [
    "### Methods to Randomize Initial Parameters"
   ]
  },
  {
   "cell_type": "code",
   "execution_count": 4,
   "metadata": {},
   "outputs": [],
   "source": [
    "def real_I3_rand_settings():\n",
    "    \"\"\"\n",
    "    Returns a 5-element list with the randomized angles of the `real_I3_cost` method.\n",
    "    \"\"\"\n",
    "    return 2*np.pi*np.random.random(5) - np.pi\n",
    "\n",
    "def arbitrary_I3_rand_settings():\n",
    "    \"\"\"\n",
    "    Returns a 15-element list with the randomized angles of the `arbitrary_I3_cost` method.\n",
    "    \"\"\"\n",
    "    return 2*np.pi*np.random.random(15) - np.pi"
   ]
  },
  {
   "cell_type": "markdown",
   "metadata": {},
   "source": [
    "### Optimizing $I_3$ Inequality over Real Parameter Space"
   ]
  },
  {
   "cell_type": "code",
   "execution_count": 5,
   "metadata": {},
   "outputs": [
    {
     "name": "stdout",
     "output_type": "stream",
     "text": [
      "iteration :  0 , cost :  0.43244799805884626\n",
      "settings :\n",
      " [-0.89785908  2.37612914 -3.07431242 -0.10736694 -0.97172404] \n",
      "\n",
      "iteration :  50 , cost :  2.8869576084251283\n",
      "settings :\n",
      " [-0.22043158  2.46060351 -3.05349018 -0.16479733 -0.13156955] \n",
      "\n",
      "iteration :  100 , cost :  3.3016044882075315\n",
      "settings :\n",
      " [-0.0263346   2.3569793  -2.98812979 -0.33750878  0.19697505] \n",
      "\n",
      "iteration :  150 , cost :  3.5101023148679547\n",
      "settings :\n",
      " [ 0.035922    2.16161085 -2.8795775  -0.5067848   0.34169152] \n",
      "\n",
      "iteration :  200 , cost :  3.6606511436049116\n",
      "settings :\n",
      " [ 0.06838787  1.97945518 -2.7559355  -0.63185548  0.4407144 ] \n",
      "\n",
      "iteration :  250 , cost :  3.7456115288667213\n",
      "settings :\n",
      " [ 0.08448387  1.84880259 -2.64192108 -0.70905401  0.51737075] \n",
      "\n",
      "iteration :  300 , cost :  3.7880536778163356\n",
      "settings :\n",
      " [ 0.08889018  1.76520575 -2.54936912 -0.75424427  0.57592245] \n",
      "\n",
      "iteration :  350 , cost :  3.8086570088597753\n",
      "settings :\n",
      " [ 0.08660483  1.71365536 -2.4793678  -0.7816977   0.61954146] \n",
      "\n",
      "iteration :  400 , cost :  3.8186804761625273\n",
      "settings :\n",
      " [ 0.08150246  1.68191733 -2.42829256 -0.79938725  0.65146584] \n",
      "\n",
      "iteration :  450 , cost :  3.8235964700028067\n",
      "settings :\n",
      " [ 0.07584494  1.66212094 -2.39166436 -0.81130092  0.67455381] \n",
      "\n",
      "final cost :  -3.8259908442555264 ,\n",
      "final settings :  [ 0.07079088  1.6497453  -2.3660443  -0.81939301  0.69083624]\n"
     ]
    }
   ],
   "source": [
    "# initial settings\n",
    "real_settings = real_I3_rand_settings()\n",
    "real_scores = []\n",
    "\n",
    "# performing gradient descent\n",
    "for i in range(500):\n",
    "    real_settings = opt.step(real_I3_cost, real_settings)\n",
    "    score = -(real_I3_cost(real_settings))\n",
    "    real_scores.append(score)\n",
    "    \n",
    "    \n",
    "    if i%50 == 0:\n",
    "        print(\"iteration : \",i, \", cost : \", score)\n",
    "        print(\"settings :\\n\", real_settings, \"\\n\")\n",
    "\n",
    "\n",
    "# printing final results    \n",
    "print(\"final cost : \", real_I3_cost(real_settings),\",\")\n",
    "print(\"final settings : \", real_settings)"
   ]
  },
  {
   "cell_type": "code",
   "execution_count": 6,
   "metadata": {},
   "outputs": [
    {
     "data": {
      "image/png": "[encoded data removed]",
      "text/plain": [
       "<Figure size 432x288 with 1 Axes>"
      ]
     },
     "metadata": {
      "needs_background": "light"
     },
     "output_type": "display_data"
    }
   ],
   "source": [
    "# Plot the individual observables\n",
    "plt.plot(range(500), real_scores , label = r\"$I_3$ Optimzation\")\n",
    "plt.plot(range(500), [3]*500, label = r\"Classical Bound\")\n",
    "plt.plot(range(500), [1+2*np.sqrt(2)]*500, label = r\"Quantum Bound\")\n",
    "plt.title(r\"$I_3$ Optimization over Real Parameter Space\")\n",
    "plt.xlabel(\"Iteration\")\n",
    "plt.ylabel(r\"$I_3$ score\")\n",
    "plt.legend()\n",
    "plt.show()"
   ]
  },
  {
   "cell_type": "markdown",
   "metadata": {},
   "source": [
    "### Optimize $I_3$ Inequality over Complex Parameter Space"
   ]
  },
  {
   "cell_type": "code",
   "execution_count": 7,
   "metadata": {},
   "outputs": [
    {
     "name": "stdout",
     "output_type": "stream",
     "text": [
      "iteration :  0 , score :  0.11601534914148431\n",
      "settings :\n",
      " [ 2.8980497  -0.73556805  0.75723606 -0.13858362  2.30839725 -1.23888577\n",
      " -1.27587604 -3.03357787  1.92597107  2.33240853 -0.10778687  2.94182792\n",
      " -1.46665883 -0.23978071 -2.95020405] \n",
      "\n",
      "iteration :  50 , score :  2.9594147567632847\n",
      "settings :\n",
      " [ 2.65423106 -0.68796418  0.59250561 -0.46197015  2.9930754  -0.92192981\n",
      " -1.63003852 -3.00225898  2.06803537  2.60453871 -0.68609626  2.94182792\n",
      " -1.39596754 -0.40010587 -2.95020405] \n",
      "\n",
      "iteration :  100 , score :  3.601901758681818\n",
      "settings :\n",
      " [ 2.44701317 -0.76892562  0.49794998 -0.67273805  3.28568793 -0.73800781\n",
      " -1.8692058  -3.00612648  2.06230841  2.68515923 -0.81230657  2.94182792\n",
      " -1.35353936 -0.4408053  -2.95020405] \n",
      "\n",
      "iteration :  150 , score :  3.7554804435759657\n",
      "settings :\n",
      " [ 2.34241891 -0.84938424  0.47428645 -0.78069615  3.40802241 -0.65401647\n",
      " -2.01309696 -3.00558141  2.04176678  2.71790754 -0.83685474  2.94182792\n",
      " -1.35100255 -0.44347726 -2.95020405] \n",
      "\n",
      "iteration :  200 , score :  3.802208263631392\n",
      "settings :\n",
      " [ 2.29090039 -0.90549163  0.47360188 -0.84029193  3.4662734  -0.6128956\n",
      " -2.10115833 -3.0037159   2.0262742   2.73595741 -0.84199891  2.94182792\n",
      " -1.36015094 -0.43987641 -2.95020405] \n",
      "\n",
      "iteration :  250 , score :  3.8185016905323397\n",
      "settings :\n",
      " [ 2.2636013  -0.94185789  0.4775406  -0.87523088  3.49683913 -0.59125571\n",
      " -2.1556782  -3.00214369  2.01624201  2.7470893  -0.84300462  2.94182792\n",
      " -1.3701397  -0.43711904 -2.95020405] \n",
      "\n",
      "iteration :  300 , score :  3.8245702191340767\n",
      "settings :\n",
      " [ 2.24811885 -0.96499796  0.48131742 -0.89639343  3.51402405 -0.57913628\n",
      " -2.18963915 -3.00107157  2.00995727  2.75424507 -0.84313366  2.94182792\n",
      " -1.37812398 -0.43568369 -2.95020405] \n",
      "\n",
      "iteration :  350 , score :  3.826906624238786\n",
      "settings :\n",
      " [ 2.23893401 -0.97965467  0.48409512 -0.90944169  3.52415543 -0.57200864\n",
      " -2.21086914 -3.00037207  2.00602531  2.75891889 -0.84310883  2.94182792\n",
      " -1.38385772 -0.43505593 -2.95020405] \n",
      "\n",
      "iteration :  400 , score :  3.8278225478551646\n",
      "settings :\n",
      " [ 2.23333851 -0.98893013  0.48597744 -0.91757099  3.53031853 -0.56766811\n",
      " -2.22417218 -2.99990892  2.00354256  2.76198733 -0.84307867  2.94182792\n",
      " -1.38777682 -0.43483318 -2.95020405] \n",
      "\n",
      "iteration :  450 , score :  3.828185426864101\n",
      "settings :\n",
      " [ 2.22987848 -0.99480022  0.48721276 -0.92266821  3.53414387 -0.5649629\n",
      " -2.23252244 -2.99959171  2.00195547  2.76400275 -0.84306465  2.94182792\n",
      " -1.39038758 -0.43479525 -2.95020405] \n",
      "\n",
      "final score :  -3.8283283570571043 ,\n",
      "final settings :  [ 2.22775567 -0.9984567   0.48799982 -0.92582646  3.53651061 -0.56327886\n",
      " -2.23768756 -2.99937089  2.00094478  2.76530356 -0.8430635   2.94182792\n",
      " -1.39207487 -0.43483269 -2.95020405]\n"
     ]
    }
   ],
   "source": [
    "# initial settings\n",
    "arb_settings = arbitrary_I3_rand_settings()\n",
    "arb_scores = []\n",
    "\n",
    "# performing gradient descent\n",
    "for i in range(500):\n",
    "    arb_settings = opt.step(arbitrary_I3_cost, arb_settings)\n",
    "    \n",
    "    score = -(arbitrary_I3_cost(arb_settings))\n",
    "    arb_scores.append(score)\n",
    "    \n",
    "    if i%50 == 0:\n",
    "        print(\"iteration : \",i, \", score : \", score)\n",
    "        print(\"settings :\\n\", arb_settings, \"\\n\")\n",
    "\n",
    "# printing final results    \n",
    "print(\"final score : \", arbitrary_I3_cost(arb_settings),\",\")\n",
    "print(\"final settings : \", arb_settings)"
   ]
  },
  {
   "cell_type": "code",
   "execution_count": 8,
   "metadata": {},
   "outputs": [
    {
     "data": {
      "image/png": "[encoded data removed]",
      "text/plain": [
       "<Figure size 432x288 with 1 Axes>"
      ]
     },
     "metadata": {
      "needs_background": "light"
     },
     "output_type": "display_data"
    }
   ],
   "source": [
    "# Plot the individual observables\n",
    "plt.plot(range(500), arb_scores , label = r\"$I_3$ Optimzation\")\n",
    "plt.plot(range(500), [3]*500, label = r\"Classical Bound\")\n",
    "plt.plot(range(500), [1+2*np.sqrt(2)]*500, label = r\"Quantum Bound\")\n",
    "plt.title(r\"$I_3$ Optimization over Complex Parameter Space\")\n",
    "plt.xlabel(\"Iteration\")\n",
    "plt.ylabel(r\"$I_3$ score\")\n",
    "plt.legend()\n",
    "plt.show()"
   ]
  },
  {
   "cell_type": "code",
   "execution_count": null,
   "metadata": {},
   "outputs": [],
   "source": []
  }
 ],
 "metadata": {
  "@webio": {
   "lastCommId": null,
   "lastKernelId": null
  },
  "kernelspec": {
   "display_name": "Python 3",
   "language": "python",
   "name": "python3"
  },
  "language_info": {
   "codemirror_mode": {
    "name": "ipython",
    "version": 3
   },
   "file_extension": ".py",
   "mimetype": "text/x-python",
   "name": "python",
   "nbconvert_exporter": "python",
   "pygments_lexer": "ipython3",
   "version": "3.7.4"
  }
 },
 "nbformat": 4,
 "nbformat_minor": 2
}
