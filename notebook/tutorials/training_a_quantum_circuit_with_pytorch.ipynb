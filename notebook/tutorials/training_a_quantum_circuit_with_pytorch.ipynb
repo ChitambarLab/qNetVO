{
 "cells": [
  {
   "cell_type": "code",
   "execution_count": 2,
   "metadata": {},
   "outputs": [],
   "source": [
    "import pennylane as qml\n",
    "import numpy as np\n",
    "import torch\n",
    "from torch.autograd import Variable"
   ]
  },
  {
   "cell_type": "code",
   "execution_count": 5,
   "metadata": {},
   "outputs": [],
   "source": [
    "np.random.seed(42)\n",
    "\n",
    "# we generate a three-dimensional random vector by sampling\n",
    "# each entry from a standard normal distribution\n",
    "v = np.random.normal(0, 1, 3)\n",
    "\n",
    "# purity of the target state\n",
    "purity = 0.66\n",
    "\n",
    "# create a random Bloch vector with the specified purity\n",
    "bloch_v = Variable(\n",
    "    torch.tensor(np.sqrt(2 * purity - 1) * v / np.sqrt(np.sum(v ** 2))),\n",
    "    requires_grad=False\n",
    ")\n",
    "\n",
    "# array of Pauli matrices (will be useful later)\n",
    "Paulis = Variable(torch.zeros([3, 2, 2], dtype=torch.complex128), requires_grad=False)\n",
    "Paulis[0] = torch.tensor([[0, 1], [1, 0]])\n",
    "Paulis[1] = torch.tensor([[0, -1j], [1j, 0]])\n",
    "Paulis[2] = torch.tensor([[1, 0], [0, -1]])"
   ]
  },
  {
   "cell_type": "code",
   "execution_count": 6,
   "metadata": {},
   "outputs": [],
   "source": [
    "# number of qubits in the circuit\n",
    "nr_qubits = 3\n",
    "# number of layers in the circuit\n",
    "nr_layers = 2\n",
    "\n",
    "# randomly initialize parameters from a normal distribution\n",
    "params = np.random.normal(0, np.pi, (nr_qubits, nr_layers, 3))\n",
    "params = Variable(torch.tensor(params), requires_grad=True)\n",
    "\n",
    "# a layer of the circuit ansatz\n",
    "def layer(params, j):\n",
    "    for i in range(nr_qubits):\n",
    "        qml.RX(params[i, j, 0], wires=i)\n",
    "        qml.RY(params[i, j, 1], wires=i)\n",
    "        qml.RZ(params[i, j, 2], wires=i)\n",
    "\n",
    "    qml.CNOT(wires=[0, 1])\n",
    "    qml.CNOT(wires=[0, 2])\n",
    "    qml.CNOT(wires=[1, 2])"
   ]
  },
  {
   "cell_type": "code",
   "execution_count": 7,
   "metadata": {},
   "outputs": [],
   "source": [
    "dev = qml.device(\"default.qubit\", wires=3)"
   ]
  },
  {
   "cell_type": "code",
   "execution_count": 8,
   "metadata": {},
   "outputs": [],
   "source": [
    "@qml.qnode(dev, interface=\"torch\")\n",
    "def circuit(params, A):\n",
    "\n",
    "    # repeatedly apply each layer in the circuit\n",
    "    for j in range(nr_layers):\n",
    "        layer(params, j)\n",
    "\n",
    "    # returns the expectation of the input matrix A on the first qubit\n",
    "    return qml.expval(qml.Hermitian(A, wires=0))"
   ]
  },
  {
   "cell_type": "code",
   "execution_count": 9,
   "metadata": {},
   "outputs": [
    {
     "name": "stdout",
     "output_type": "stream",
     "text": [
      "Cost after 0 steps is 1.0179\n",
      "Cost after 10 steps is 0.1467\n",
      "Cost after 20 steps is 0.0768\n",
      "Cost after 30 steps is 0.0813\n",
      "Cost after 40 steps is 0.0807\n",
      "Cost after 50 steps is 0.0940\n",
      "Cost after 60 steps is 0.0614\n",
      "Cost after 70 steps is 0.0932\n",
      "Cost after 80 steps is 0.0455\n",
      "Cost after 90 steps is 0.0752\n",
      "Cost after 100 steps is 0.0301\n",
      "Cost after 110 steps is 0.0363\n",
      "Cost after 120 steps is 0.1332\n",
      "Cost after 130 steps is 0.0687\n",
      "Cost after 140 steps is 0.0505\n",
      "Cost after 150 steps is 0.0800\n",
      "Cost after 160 steps is 0.0644\n",
      "Cost after 170 steps is 0.0813\n",
      "Cost after 180 steps is 0.0592\n",
      "Cost after 190 steps is 0.0502\n",
      "Cost after 200 steps is 0.0573\n",
      "Target Bloch vector =  [ 0.33941241 -0.09447812  0.44257553]\n",
      "Output Bloch vector =  [ 0.3070773  -0.07421859  0.47392787]\n"
     ]
    }
   ],
   "source": [
    "# cost function\n",
    "def cost_fn(params):\n",
    "    cost = 0\n",
    "    for k in range(3):\n",
    "        cost += torch.abs(circuit(params, Paulis[k]) - bloch_v[k])\n",
    "\n",
    "    return cost\n",
    "\n",
    "\n",
    "# set up the optimizer\n",
    "opt = torch.optim.Adam([params], lr=0.1)\n",
    "\n",
    "# number of steps in the optimization routine\n",
    "steps = 200\n",
    "\n",
    "# the final stage of optimization isn't always the best, so we keep track of\n",
    "# the best parameters along the way\n",
    "best_cost = cost_fn(params)\n",
    "best_params = np.zeros((nr_qubits, nr_layers, 3))\n",
    "\n",
    "print(\"Cost after 0 steps is {:.4f}\".format(cost_fn(params)))\n",
    "\n",
    "# optimization begins\n",
    "for n in range(steps):\n",
    "    opt.zero_grad()\n",
    "    loss = cost_fn(params)\n",
    "    loss.backward()\n",
    "    opt.step()\n",
    "\n",
    "    # keeps track of best parameters\n",
    "    if loss < best_cost:\n",
    "        best_params = params\n",
    "\n",
    "    # Keep track of progress every 10 steps\n",
    "    if n % 10 == 9 or n == steps - 1:\n",
    "        print(\"Cost after {} steps is {:.4f}\".format(n + 1, loss))\n",
    "\n",
    "# calculate the Bloch vector of the output state\n",
    "output_bloch_v = np.zeros(3)\n",
    "for l in range(3):\n",
    "    output_bloch_v[l] = circuit(best_params, Paulis[l])\n",
    "\n",
    "# print results\n",
    "print(\"Target Bloch vector = \", bloch_v.numpy())\n",
    "print(\"Output Bloch vector = \", output_bloch_v)\n"
   ]
  },
  {
   "cell_type": "code",
   "execution_count": null,
   "metadata": {},
   "outputs": [],
   "source": []
  }
 ],
 "metadata": {
  "kernelspec": {
   "display_name": "Python 3",
   "language": "python",
   "name": "python3"
  },
  "language_info": {
   "codemirror_mode": {
    "name": "ipython",
    "version": 3
   },
   "file_extension": ".py",
   "mimetype": "text/x-python",
   "name": "python",
   "nbconvert_exporter": "python",
   "pygments_lexer": "ipython3",
   "version": "3.7.4"
  }
 },
 "nbformat": 4,
 "nbformat_minor": 2
}
