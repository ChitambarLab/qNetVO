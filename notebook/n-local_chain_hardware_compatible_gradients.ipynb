{
 "cells": [
  {
   "cell_type": "markdown",
   "id": "fb1cd272",
   "metadata": {},
   "source": [
    "# Hardware Compatible Gradients\n",
    "\n",
    "This notebook compares the performance of finite differences and paramater shift gradient computations.\n",
    "These gradients are hardware compatible although, they run more slowly than backpropagation.\n",
    "The nonlocality optimization is performed for the 6-local chain network."
   ]
  },
  {
   "cell_type": "code",
   "execution_count": 1,
   "id": "32305e2c",
   "metadata": {},
   "outputs": [],
   "source": [
    "import pennylane as qml\n",
    "from pennylane import numpy as np\n",
    "import matplotlib.pyplot as plt\n",
    "import time\n",
    "\n",
    "from context import qnetvo as QNopt"
   ]
  },
  {
   "cell_type": "code",
   "execution_count": 2,
   "id": "6fffc453",
   "metadata": {},
   "outputs": [],
   "source": [
    "def bell_state_local_RY(settings, wires):\n",
    "    qml.Hadamard(wires[0])\n",
    "    qml.CNOT(wires=wires[0:2])\n",
    "        \n",
    "    qml.RY(settings[0], wires=wires[0])\n",
    "    qml.RY(settings[1], wires=wires[1])\n",
    "\n",
    "def static_nlocal_prepare_nodes(n):\n",
    "    return [QNopt.PrepareNode(1, [2*i, 2*i + 1], bell_state_local_RY, 2) for i in range(n)]\n",
    "\n",
    "def local_RY_measure_nodes(n):\n",
    "    meas_nodes = [QNopt.MeasureNode(2, 2, [0], QNopt.local_RY, 1)]\n",
    "    meas_nodes.extend([\n",
    "        QNopt.MeasureNode(2, 2, [2*i + 1, 2*i + 2], QNopt.local_RY, 2) for i in range(0,n-1)\n",
    "    ])\n",
    "    meas_nodes.append(QNopt.MeasureNode(2, 2, [2*n-1], QNopt.local_RY, 1))\n",
    "    \n",
    "    return meas_nodes"
   ]
  },
  {
   "cell_type": "markdown",
   "id": "586c5943",
   "metadata": {},
   "source": [
    "## Comparison Between Gradient Methods for n-Local Chain Optimizations"
   ]
  },
  {
   "cell_type": "code",
   "execution_count": 3,
   "id": "ed457260",
   "metadata": {},
   "outputs": [],
   "source": [
    "n = 6\n",
    "prep_nodes = static_nlocal_prepare_nodes(n)\n",
    "meas_nodes = local_RY_measure_nodes(n)\n",
    "\n",
    "nlocal_ansatz = QNopt.NetworkAnsatz(prep_nodes, meas_nodes)"
   ]
  },
  {
   "cell_type": "markdown",
   "id": "3871e864",
   "metadata": {},
   "source": [
    "### 6-Local Chain Optimization with BackPropagation"
   ]
  },
  {
   "cell_type": "code",
   "execution_count": 4,
   "id": "a80aced7",
   "metadata": {},
   "outputs": [
    {
     "name": "stdout",
     "output_type": "stream",
     "text": [
      "iteration :  0 , score :  0.2910119273912153\n",
      "iteration :  3 , score :  1.170438972976621\n",
      "iteration :  6 , score :  1.3713732007878927\n",
      "iteration :  9 , score :  1.4082694211302902\n",
      "iteration :  12 , score :  1.4134015966515074\n",
      "max score :  1.4141033563290029\n",
      "CPU times: user 4.76 s, sys: 207 ms, total: 4.97 s\n",
      "Wall time: 5.06 s\n"
     ]
    }
   ],
   "source": [
    "%%time\n",
    "\n",
    "backprop_cost = QNopt.nlocal_chain_cost_22(nlocal_ansatz, diff_method=\"backprop\")\n",
    "\n",
    "np.random.seed(1)\n",
    "backprop_settings = nlocal_ansatz.rand_scenario_settings()\n",
    "\n",
    "backprop_opt_dict = QNopt.gradient_descent(\n",
    "    backprop_cost,\n",
    "    backprop_settings,\n",
    "    num_steps=15,\n",
    "    step_size=0.8,\n",
    "    sample_width = 3\n",
    ")\n",
    "\n",
    "print(\"max score : \", backprop_opt_dict[\"opt_score\"])"
   ]
  },
  {
   "cell_type": "markdown",
   "id": "a4c97b39",
   "metadata": {},
   "source": [
    "### 6-Local Chain Optimization with Parameter-Shift Rule"
   ]
  },
  {
   "cell_type": "code",
   "execution_count": 5,
   "id": "0b1a94c9",
   "metadata": {},
   "outputs": [
    {
     "name": "stdout",
     "output_type": "stream",
     "text": [
      "iteration :  0 , score :  0.2910119273912153\n",
      "iteration :  3 , score :  1.1704389729766205\n",
      "iteration :  6 , score :  1.3713732007878923\n",
      "iteration :  9 , score :  1.40826942113029\n",
      "iteration :  12 , score :  1.4134015966515068\n",
      "max score :  1.4141033563290024\n",
      "CPU times: user 24.5 s, sys: 245 ms, total: 24.7 s\n",
      "Wall time: 24.8 s\n"
     ]
    }
   ],
   "source": [
    "%%time\n",
    "\n",
    "param_shift_cost = QNopt.nlocal_chain_cost_22(nlocal_ansatz, diff_method=\"parameter-shift\")\n",
    "\n",
    "np.random.seed(1)\n",
    "param_shift_settings = nlocal_ansatz.rand_scenario_settings()\n",
    "\n",
    "param_shift_opt_dict = QNopt.gradient_descent(\n",
    "    param_shift_cost,\n",
    "    param_shift_settings,\n",
    "    num_steps=15,\n",
    "    step_size=0.8,\n",
    "    sample_width = 3\n",
    ")\n",
    "\n",
    "print(\"max score : \", param_shift_opt_dict[\"opt_score\"])"
   ]
  },
  {
   "cell_type": "markdown",
   "id": "46cc45be",
   "metadata": {},
   "source": [
    "### 6-Local Chain Optimization with Finite-Differences Rule"
   ]
  },
  {
   "cell_type": "code",
   "execution_count": 6,
   "id": "615f99f1",
   "metadata": {},
   "outputs": [
    {
     "name": "stdout",
     "output_type": "stream",
     "text": [
      "iteration :  0 , score :  0.2910119273912153\n",
      "iteration :  3 , score :  1.1704389689194263\n",
      "iteration :  6 , score :  1.371373198239204\n",
      "iteration :  9 , score :  1.4082694207236917\n",
      "iteration :  12 , score :  1.4134015964572182\n",
      "max score :  1.414103356320544\n",
      "CPU times: user 13.3 s, sys: 147 ms, total: 13.4 s\n",
      "Wall time: 13.5 s\n"
     ]
    }
   ],
   "source": [
    "%%time\n",
    "\n",
    "finite_diff_cost = QNopt.nlocal_chain_cost_22(nlocal_ansatz, diff_method=\"finite-diff\")\n",
    "\n",
    "np.random.seed(1)\n",
    "finite_diff_settings = nlocal_ansatz.rand_scenario_settings()\n",
    "\n",
    "finite_diff_opt_dict = QNopt.gradient_descent(\n",
    "    finite_diff_cost,\n",
    "    finite_diff_settings,\n",
    "    num_steps=15,\n",
    "    step_size=0.8,\n",
    "    sample_width = 3\n",
    ")\n",
    "\n",
    "print(\"max score : \", finite_diff_opt_dict[\"opt_score\"])"
   ]
  },
  {
   "cell_type": "code",
   "execution_count": 7,
   "id": "5d3dcb17",
   "metadata": {},
   "outputs": [
    {
     "data": {
      "image/png": "[encoded data removed]",
      "text/plain": [
       "<Figure size 432x288 with 1 Axes>"
      ]
     },
     "metadata": {
      "needs_background": "light"
     },
     "output_type": "display_data"
    }
   ],
   "source": [
    "num_samples = len(backprop_opt_dict[\"samples\"])\n",
    "\n",
    "plt.plot(backprop_opt_dict[\"samples\"], backprop_opt_dict[\"scores\"], label = \"Optimzation w/ Backpropagation\")\n",
    "plt.plot(param_shift_opt_dict[\"samples\"], param_shift_opt_dict[\"scores\"], \"x\", label = \"Optimzation w/ Parameter Shift\", )\n",
    "plt.plot(finite_diff_opt_dict[\"samples\"], finite_diff_opt_dict[\"scores\"], \".\", label = \"Optimzation w/ Finite Differences\")\n",
    "\n",
    "\n",
    "plt.plot(backprop_opt_dict[\"samples\"], [1]*num_samples, label = \"Classical Bound\")\n",
    "plt.plot(backprop_opt_dict[\"samples\"], [2/np.sqrt(2)]*num_samples, label = \"Quantum Bound\")\n",
    "plt.title(r\"6-local Chain Optimization using Different Gradients\")\n",
    "plt.xlabel(\"Iteration\")\n",
    "plt.ylabel(r\"6-local Chain Bell Score\")\n",
    "plt.legend()\n",
    "plt.show()"
   ]
  },
  {
   "cell_type": "code",
   "execution_count": null,
   "id": "64d9b70d",
   "metadata": {},
   "outputs": [],
   "source": []
  }
 ],
 "metadata": {
  "@webio": {
   "lastCommId": null,
   "lastKernelId": null
  },
  "kernelspec": {
   "display_name": "Python 3",
   "language": "python",
   "name": "python3"
  },
  "language_info": {
   "codemirror_mode": {
    "name": "ipython",
    "version": 3
   },
   "file_extension": ".py",
   "mimetype": "text/x-python",
   "name": "python",
   "nbconvert_exporter": "python",
   "pygments_lexer": "ipython3",
   "version": "3.8.11"
  }
 },
 "nbformat": 4,
 "nbformat_minor": 5
}
