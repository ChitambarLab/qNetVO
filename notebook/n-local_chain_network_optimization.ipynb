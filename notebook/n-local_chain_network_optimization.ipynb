{
 "cells": [
  {
   "cell_type": "markdown",
   "id": "809eb30d",
   "metadata": {},
   "source": [
    "# n-Local Chain Network Optimization\n",
    "\n",
    "This notebook uses gradient descent to reproduce the nonlocality results for the $n$-local chain network as described in [\"Correlations in n-local scenario\"](https://arxiv.org/abs/1411.4188).\n",
    "\n",
    "[<img src=\"images/n-local_chain_network.png\" width=\"800\"/>](images/n-local_chain_network.png)\n",
    "\n",
    "## Binary Inputs and Outputs\n",
    "\n",
    "Consider classical inputs $x_i$ and $a_i \\in \\{0,1\\}$ for all $i\\in\\{0,1,\\dots,n+1\\}$.\n",
    "The $n$-local chain network correlation are then expressed\n",
    "\n",
    "$$\n",
    "P(a_1,\\dots,a_{n+1}|x_1,\\dots,x_{n+1}) = \\text{Tr}\\left[\\Big(\\bigotimes_{i=1}^{n+1}\\Pi_{a_i}^{x_i}\\Big)\\Big(\\bigotimes_{j=1}^n \\Phi_j \\Big)\\right],\n",
    "$$\n",
    "\n",
    "where each $\\Phi_j$ is a bipartite state shared between two measurement nodes and each $\\Pi_{a_i}^{x_i}$ is a two-outcome, projective measurement.\n",
    "Note that the measurements on the two end-nodes ($i=1$, $i=n+1$) are single qubit measurements while the interior nodes perform two-qubit measurements.\n",
    "The n-local correlators are expressed as\n",
    "\n",
    "$$\n",
    "\\langle A_1^{x_1},\\dots,A_{n+1}^{x_{n+1}} \\rangle = \\sum_{a_1,\\dots,a_{n+1}} (-1)^{\\sum_{i=1}^{n+1}a_i}P(a_1,\\dots,a_{n+1}|x_1,\\dots,x_{n+1}).\n",
    "$$\n",
    "\n",
    "The $n$-local Bell inequality is expressed as\n",
    "\n",
    "$$\n",
    "\\sqrt{|I|}+\\sqrt{|J|} \\leq 1,\n",
    "$$\n",
    "\n",
    "where\n",
    "\n",
    "$$\n",
    "I = \\frac{1}{4} \\sum_{x_1,x_{n+1}\\in\\{0,1\\}}\\langle A_1^{x_1},A_2^0,\\dots,A_n^0,A_{n+1}^{x_{n+1}} \\rangle,\n",
    "$$\n",
    "\n",
    "$$\n",
    "J = \\frac{1}{4} \\sum_{x_1,x_{n+1}\\in\\{0,1\\}}(-1)^{x_1 + x_{n+1}}\\langle A_1^{x_1},A_2^1,\\dots,A_n^1,A_{n+1}^{x_{n+1}} \\rangle.\n",
    "$$\n"
   ]
  },
  {
   "cell_type": "markdown",
   "id": "2d7266b0",
   "metadata": {},
   "source": [
    "## Setup"
   ]
  },
  {
   "cell_type": "code",
   "execution_count": 1,
   "id": "966f58a6",
   "metadata": {},
   "outputs": [],
   "source": [
    "import pennylane as qml\n",
    "import pennylane.numpy as np\n",
    "import matplotlib.pyplot as plt\n",
    "import time"
   ]
  },
  {
   "cell_type": "markdown",
   "id": "fc69ebad",
   "metadata": {},
   "source": [
    "## General $n$-Local `QNode` Construction\n",
    "\n",
    "An $n$-local chain network contains $n$ Bell pairs and therefore requires $2n$ qubits.\n",
    "The $n$-local correlator $\\langle A_1^{x_1},\\dots,A_{n+1}^{x_{n+1}} \\rangle$ is computed by performing local qubit measurements in the $x$-$z$-plane.\n",
    "Each measurement is prepared with a single qubit `RY` gate followed by a measurement in the computational basis.\n",
    "Below we generalize the `QNode` construction for an arbitrary $n$-local chain network."
   ]
  },
  {
   "cell_type": "code",
   "execution_count": 2,
   "id": "2901a9f7",
   "metadata": {},
   "outputs": [],
   "source": [
    "# function to construct a 2*n qubit device\n",
    "nlocal_device = lambda n: qml.device(\"default.qubit\", wires=2*n)\n",
    "\n",
    "# apply measurement in computational basis to each wire\n",
    "def nlocal_observable(n):\n",
    "    obs = qml.PauliZ(wires=0)\n",
    "    for i in range(1, 2*n):\n",
    "        obs = obs @ qml.PauliZ(wires=i)\n",
    "\n",
    "    return obs\n",
    "\n",
    "def nlocal_chain_qnode(n):\n",
    "    \"\"\"\n",
    "    Constructs a QNode that simulates an n-local chain network.\n",
    "    \n",
    "    Args:\n",
    "        n (int) : Number of Bell pairs in the chain network.\n",
    "    \"\"\"\n",
    "    dev = nlocal_device(n)\n",
    "        \n",
    "    @qml.qnode(dev)\n",
    "    def circuit(settings):\n",
    "        \"\"\"\n",
    "        Simulates the n-local chain network.\n",
    "        Prepares `n` Bell states, performs local `RY` rotations on\n",
    "        each qubit, and measures in the computational basis.\n",
    "        \n",
    "        Args:\n",
    "            settings (array[float]) : `2*n` real values that specify\n",
    "                                      the `RY` rotation on each qubit.\n",
    "        \"\"\"\n",
    "        for i in range(n):\n",
    "            a_id = 2 * i\n",
    "            b_id = a_id + 1\n",
    "\n",
    "            # bell state preparation\n",
    "            qml.Hadamard(wires=a_id)\n",
    "            qml.CNOT(wires=[a_id,b_id])\n",
    "\n",
    "            # local rotation for measurement\n",
    "            qml.RY(settings[a_id], wires=a_id)\n",
    "            qml.RY(settings[b_id], wires=b_id)\n",
    "        \n",
    "        return qml.expval(nlocal_observable(n))\n",
    "\n",
    "    return circuit"
   ]
  },
  {
   "cell_type": "code",
   "execution_count": 3,
   "id": "c5b29136",
   "metadata": {},
   "outputs": [],
   "source": [
    "# Random settings for n-local chain network\n",
    "def nlocal_chain_settings(n):\n",
    "    return 2*np.pi*np.random.random((2*n,2)) - np.pi"
   ]
  },
  {
   "cell_type": "markdown",
   "id": "d3de19ce",
   "metadata": {},
   "source": [
    "## Cost Function: $n$-Local Bell Inequality"
   ]
  },
  {
   "cell_type": "code",
   "execution_count": 4,
   "id": "0e06b470",
   "metadata": {},
   "outputs": [],
   "source": [
    "# The n-local Bell inequality serves as a cost function\n",
    "def nlocal_chain_cost(nlocal_settings):\n",
    "    nlocal_qnode = nlocal_chain_qnode(len(nlocal_settings)//2)\n",
    "    \n",
    "    I = _nlocal_I22(nlocal_qnode, nlocal_settings)\n",
    "    J = _nlocal_J22(nlocal_qnode, nlocal_settings)\n",
    "    \n",
    "    return -1*(np.sqrt(abs(I)) + np.sqrt(abs(J)))\n",
    "  \n",
    "# helper to calculate I quantity\n",
    "def _nlocal_I22(nlocal_qnode, nlocal_settings):\n",
    "    (num_qubits, num_in) = nlocal_settings.shape \n",
    "    \n",
    "    I22 = 0\n",
    "    for x_start, x_end in [(0,0),(0,1),(1,0),(1,1)]:\n",
    "        settings = []\n",
    "        settings.append(nlocal_settings[0,x_start])\n",
    "        settings.extend(nlocal_settings[1:(num_qubits - 1),0])\n",
    "        settings.append(nlocal_settings[num_qubits - 1, x_end])\n",
    "                \n",
    "        I22 += nlocal_qnode(settings)\n",
    "        \n",
    "    return I22/4\n",
    "\n",
    "# helper to calculate J quantity\n",
    "def _nlocal_J22(nlocal_qnode, nlocal_settings):\n",
    "    (num_qubits, num_in) = nlocal_settings.shape \n",
    "    \n",
    "    J22 = 0\n",
    "    for x_start, x_end in [(0,0),(0,1),(1,0),(1,1)]:\n",
    "        settings = []\n",
    "        settings.append(nlocal_settings[0,x_start])\n",
    "        settings.extend(nlocal_settings[1:(num_qubits - 1),1])\n",
    "        settings.append(nlocal_settings[num_qubits - 1, x_end])\n",
    "                \n",
    "        J22 += ((-1)**(x_start + x_end)) * nlocal_qnode(settings)\n",
    "        \n",
    "    return J22/4     "
   ]
  },
  {
   "cell_type": "markdown",
   "id": "dd84aea7",
   "metadata": {},
   "source": [
    "## Gradient Descent Optimization of Nonlocality"
   ]
  },
  {
   "cell_type": "code",
   "execution_count": 5,
   "id": "60dab078",
   "metadata": {},
   "outputs": [],
   "source": [
    "# optimization of n-local network nonlocality\n",
    "def nlocal_gradient_descent(n, num_steps=150, step_size=0.1):\n",
    "    opt = qml.GradientDescentOptimizer(stepsize=step_size)    \n",
    "    nlocal_qnode = nlocal_chain_qnode(n)\n",
    "\n",
    "    # initial settings\n",
    "    settings = nlocal_chain_settings(n)\n",
    "    scores = []\n",
    "    samples = []\n",
    "\n",
    "    # performing gradient descent\n",
    "    for i in range(num_steps):\n",
    "        settings = opt.step(nlocal_chain_cost, settings)\n",
    "        \n",
    "        if i%25 == 0:\n",
    "            score = -(nlocal_chain_cost(settings))\n",
    "            scores.append(score)\n",
    "            samples.append(i)\n",
    "\n",
    "            print(\"iteration : \",i, \", score : \", score)\n",
    "            print(\"settings :\\n\", settings, \"\\n\")\n",
    "    \n",
    "    final_score = -(nlocal_chain_cost(settings))\n",
    "    \n",
    "    scores.append(final_score)\n",
    "    samples.append(num_steps-1)\n",
    "    \n",
    "    return (final_score, settings, scores, samples)"
   ]
  },
  {
   "cell_type": "markdown",
   "id": "fb150116",
   "metadata": {},
   "source": [
    "### Example: $(n = 3)$-Local Network"
   ]
  },
  {
   "cell_type": "code",
   "execution_count": 6,
   "id": "87e419f1",
   "metadata": {},
   "outputs": [
    {
     "data": {
      "text/plain": [
       "tensor(1., requires_grad=True)"
      ]
     },
     "execution_count": 6,
     "metadata": {},
     "output_type": "execute_result"
    }
   ],
   "source": [
    "n3 = 3\n",
    "\n",
    "n3_qnode = nlocal_chain_qnode(n3)\n",
    "n3_qnode(np.zeros(2*n3))"
   ]
  },
  {
   "cell_type": "code",
   "execution_count": 7,
   "id": "2c389e44",
   "metadata": {},
   "outputs": [
    {
     "name": "stdout",
     "output_type": "stream",
     "text": [
      " 0: ──H──╭C──RY(0)──╭┤ ⟨Z ⊗ Z ⊗ Z ⊗ Z ⊗ Z ⊗ Z⟩ \n",
      " 1: ─────╰X──RY(0)──├┤ ⟨Z ⊗ Z ⊗ Z ⊗ Z ⊗ Z ⊗ Z⟩ \n",
      " 2: ──H──╭C──RY(0)──├┤ ⟨Z ⊗ Z ⊗ Z ⊗ Z ⊗ Z ⊗ Z⟩ \n",
      " 3: ─────╰X──RY(0)──├┤ ⟨Z ⊗ Z ⊗ Z ⊗ Z ⊗ Z ⊗ Z⟩ \n",
      " 4: ──H──╭C──RY(0)──├┤ ⟨Z ⊗ Z ⊗ Z ⊗ Z ⊗ Z ⊗ Z⟩ \n",
      " 5: ─────╰X──RY(0)──╰┤ ⟨Z ⊗ Z ⊗ Z ⊗ Z ⊗ Z ⊗ Z⟩ \n",
      "\n"
     ]
    }
   ],
   "source": [
    "print(n3_qnode.draw())"
   ]
  },
  {
   "cell_type": "code",
   "execution_count": 8,
   "id": "441b912e",
   "metadata": {},
   "outputs": [
    {
     "name": "stdout",
     "output_type": "stream",
     "text": [
      "iteration :  0 , score :  0.6630041492418528\n",
      "settings :\n",
      " [[-1.17055995  0.36578614]\n",
      " [ 1.73028409 -1.89147459]\n",
      " [-1.68465518 -2.28561103]\n",
      " [-2.35651265  1.2510549 ]\n",
      " [ 1.97655551 -1.9287973 ]\n",
      " [-2.82224125 -1.8683572 ]] \n",
      "\n",
      "iteration :  25 , score :  1.2960110858251745\n",
      "settings :\n",
      " [[-1.3607447   0.17184775]\n",
      " [ 2.21588901 -1.99295636]\n",
      " [-1.94349267 -2.14038674]\n",
      " [-2.09767516  1.10583061]\n",
      " [ 1.28193714 -1.26446723]\n",
      " [-3.02563551 -1.63467465]] \n",
      "\n",
      "iteration :  50 , score :  1.3957919336297877\n",
      "settings :\n",
      " [[-1.39872105  0.1391198 ]\n",
      " [ 2.3986915  -2.10505456]\n",
      " [-2.00819257 -2.0976618 ]\n",
      " [-2.03297526  1.06310567]\n",
      " [ 0.99647135 -0.97177452]\n",
      " [-3.09057189 -1.57696519]] \n",
      "\n",
      "iteration :  75 , score :  1.4111927631997232\n",
      "settings :\n",
      " [[-1.41086628  0.14314383]\n",
      " [ 2.46451018 -2.16275204]\n",
      " [-2.01863766 -2.08967165]\n",
      " [-2.02253017  1.05511552]\n",
      " [ 0.88213835 -0.85035296]\n",
      " [-3.11235943 -1.5622662 ]] \n",
      "\n",
      "iteration :  100 , score :  1.4137146620225707\n",
      "settings :\n",
      " [[-1.41591707  0.14751736]\n",
      " [ 2.49009425 -2.18765884]\n",
      " [-2.0202759  -2.08833336]\n",
      " [-2.02089193  1.05377723]\n",
      " [ 0.83530812 -0.80124613]\n",
      " [-3.11985467 -1.55704756]] \n",
      "\n",
      "iteration :  125 , score :  1.4141310933974673\n",
      "settings :\n",
      " [[-1.41806211  0.14965809]\n",
      " [ 2.50037177 -2.19793206]\n",
      " [-2.0205349  -2.08811601]\n",
      " [-2.02063293  1.05355988]\n",
      " [ 0.81607849 -0.78145703]\n",
      " [-3.12254079 -1.55492091]] \n",
      "\n",
      "final score :  1.4141989102009576 ,\n",
      "final settings :  [[-1.4189373   0.15054939]\n",
      " [ 2.50443765 -2.20201405]\n",
      " [-2.0205755  -2.08808157]\n",
      " [-2.02059233  1.05352544]\n",
      " [ 0.80840444 -0.77366304]\n",
      " [-3.12352554 -1.5540561 ]] \n",
      "\n",
      "CPU times: user 7.52 s, sys: 63.6 ms, total: 7.58 s\n",
      "Wall time: 7.61 s\n"
     ]
    }
   ],
   "source": [
    "%%time\n",
    "\n",
    "n3_score, n3_settings, n3_scores, samples = nlocal_gradient_descent(n3)\n",
    "\n",
    "# printing final results    \n",
    "print(\"final score : \", n3_score,\",\")\n",
    "print(\"final settings : \", n3_settings,\"\\n\")"
   ]
  },
  {
   "cell_type": "code",
   "execution_count": 9,
   "id": "ae563a7f",
   "metadata": {},
   "outputs": [
    {
     "data": {
      "image/png": "[encoded data removed]",
      "text/plain": [
       "<Figure size 432x288 with 1 Axes>"
      ]
     },
     "metadata": {
      "needs_background": "light"
     },
     "output_type": "display_data"
    }
   ],
   "source": [
    "# Plot the score of the Bell inequality\n",
    "plt.plot(samples, n3_scores, label = r\"$n$-local Real Optimzation\")\n",
    "plt.plot(samples, [1]*len(samples), label = \"Classical Bound\")\n",
    "plt.plot(samples, [2*np.sqrt(1/2)]*len(samples), label = \"Quantum Bound\")\n",
    "plt.title(r\"$(n=3)$-local Optimization over Real Parameter Space\")\n",
    "plt.xlabel(\"Iteration\")\n",
    "plt.ylabel(r\"$n$-local Score\")\n",
    "plt.legend()\n",
    "plt.show()"
   ]
  },
  {
   "cell_type": "markdown",
   "id": "72083349",
   "metadata": {},
   "source": [
    "### Example: $(n=8)$-Local Network"
   ]
  },
  {
   "cell_type": "code",
   "execution_count": 10,
   "id": "446c0f02",
   "metadata": {},
   "outputs": [
    {
     "data": {
      "text/plain": [
       "tensor(1., requires_grad=True)"
      ]
     },
     "execution_count": 10,
     "metadata": {},
     "output_type": "execute_result"
    }
   ],
   "source": [
    "n8 = 8\n",
    "\n",
    "n8_qnode = nlocal_chain_qnode(n8)\n",
    "n8_qnode(np.zeros(2*n8))"
   ]
  },
  {
   "cell_type": "markdown",
   "id": "d6d1dc17",
   "metadata": {},
   "source": [
    "When the settings are initialized to zero, the cost is expected to be $-1$, a saturation of the $n$-local Bell inequality."
   ]
  },
  {
   "cell_type": "code",
   "execution_count": 11,
   "id": "87b36aa4",
   "metadata": {},
   "outputs": [
    {
     "data": {
      "text/plain": [
       "tensor(-1., requires_grad=True)"
      ]
     },
     "execution_count": 11,
     "metadata": {},
     "output_type": "execute_result"
    }
   ],
   "source": [
    "nlocal_chain_cost(np.zeros((2*n8,2)))"
   ]
  },
  {
   "cell_type": "code",
   "execution_count": 12,
   "id": "a6cb810d",
   "metadata": {},
   "outputs": [
    {
     "name": "stdout",
     "output_type": "stream",
     "text": [
      "  0: ──H──╭C──RY(0)──╭┤ ⟨Z ⊗ Z ⊗ Z ⊗ Z ⊗ Z ⊗ Z ⊗ Z ⊗ Z ⊗ Z ⊗ Z ⊗ Z ⊗ Z ⊗ Z ⊗ Z ⊗ Z ⊗ Z⟩ \n",
      "  1: ─────╰X──RY(0)──├┤ ⟨Z ⊗ Z ⊗ Z ⊗ Z ⊗ Z ⊗ Z ⊗ Z ⊗ Z ⊗ Z ⊗ Z ⊗ Z ⊗ Z ⊗ Z ⊗ Z ⊗ Z ⊗ Z⟩ \n",
      "  2: ──H──╭C──RY(0)──├┤ ⟨Z ⊗ Z ⊗ Z ⊗ Z ⊗ Z ⊗ Z ⊗ Z ⊗ Z ⊗ Z ⊗ Z ⊗ Z ⊗ Z ⊗ Z ⊗ Z ⊗ Z ⊗ Z⟩ \n",
      "  3: ─────╰X──RY(0)──├┤ ⟨Z ⊗ Z ⊗ Z ⊗ Z ⊗ Z ⊗ Z ⊗ Z ⊗ Z ⊗ Z ⊗ Z ⊗ Z ⊗ Z ⊗ Z ⊗ Z ⊗ Z ⊗ Z⟩ \n",
      "  4: ──H──╭C──RY(0)──├┤ ⟨Z ⊗ Z ⊗ Z ⊗ Z ⊗ Z ⊗ Z ⊗ Z ⊗ Z ⊗ Z ⊗ Z ⊗ Z ⊗ Z ⊗ Z ⊗ Z ⊗ Z ⊗ Z⟩ \n",
      "  5: ─────╰X──RY(0)──├┤ ⟨Z ⊗ Z ⊗ Z ⊗ Z ⊗ Z ⊗ Z ⊗ Z ⊗ Z ⊗ Z ⊗ Z ⊗ Z ⊗ Z ⊗ Z ⊗ Z ⊗ Z ⊗ Z⟩ \n",
      "  6: ──H──╭C──RY(0)──├┤ ⟨Z ⊗ Z ⊗ Z ⊗ Z ⊗ Z ⊗ Z ⊗ Z ⊗ Z ⊗ Z ⊗ Z ⊗ Z ⊗ Z ⊗ Z ⊗ Z ⊗ Z ⊗ Z⟩ \n",
      "  7: ─────╰X──RY(0)──├┤ ⟨Z ⊗ Z ⊗ Z ⊗ Z ⊗ Z ⊗ Z ⊗ Z ⊗ Z ⊗ Z ⊗ Z ⊗ Z ⊗ Z ⊗ Z ⊗ Z ⊗ Z ⊗ Z⟩ \n",
      "  8: ──H──╭C──RY(0)──├┤ ⟨Z ⊗ Z ⊗ Z ⊗ Z ⊗ Z ⊗ Z ⊗ Z ⊗ Z ⊗ Z ⊗ Z ⊗ Z ⊗ Z ⊗ Z ⊗ Z ⊗ Z ⊗ Z⟩ \n",
      "  9: ─────╰X──RY(0)──├┤ ⟨Z ⊗ Z ⊗ Z ⊗ Z ⊗ Z ⊗ Z ⊗ Z ⊗ Z ⊗ Z ⊗ Z ⊗ Z ⊗ Z ⊗ Z ⊗ Z ⊗ Z ⊗ Z⟩ \n",
      " 10: ──H──╭C──RY(0)──├┤ ⟨Z ⊗ Z ⊗ Z ⊗ Z ⊗ Z ⊗ Z ⊗ Z ⊗ Z ⊗ Z ⊗ Z ⊗ Z ⊗ Z ⊗ Z ⊗ Z ⊗ Z ⊗ Z⟩ \n",
      " 11: ─────╰X──RY(0)──├┤ ⟨Z ⊗ Z ⊗ Z ⊗ Z ⊗ Z ⊗ Z ⊗ Z ⊗ Z ⊗ Z ⊗ Z ⊗ Z ⊗ Z ⊗ Z ⊗ Z ⊗ Z ⊗ Z⟩ \n",
      " 12: ──H──╭C──RY(0)──├┤ ⟨Z ⊗ Z ⊗ Z ⊗ Z ⊗ Z ⊗ Z ⊗ Z ⊗ Z ⊗ Z ⊗ Z ⊗ Z ⊗ Z ⊗ Z ⊗ Z ⊗ Z ⊗ Z⟩ \n",
      " 13: ─────╰X──RY(0)──├┤ ⟨Z ⊗ Z ⊗ Z ⊗ Z ⊗ Z ⊗ Z ⊗ Z ⊗ Z ⊗ Z ⊗ Z ⊗ Z ⊗ Z ⊗ Z ⊗ Z ⊗ Z ⊗ Z⟩ \n",
      " 14: ──H──╭C──RY(0)──├┤ ⟨Z ⊗ Z ⊗ Z ⊗ Z ⊗ Z ⊗ Z ⊗ Z ⊗ Z ⊗ Z ⊗ Z ⊗ Z ⊗ Z ⊗ Z ⊗ Z ⊗ Z ⊗ Z⟩ \n",
      " 15: ─────╰X──RY(0)──╰┤ ⟨Z ⊗ Z ⊗ Z ⊗ Z ⊗ Z ⊗ Z ⊗ Z ⊗ Z ⊗ Z ⊗ Z ⊗ Z ⊗ Z ⊗ Z ⊗ Z ⊗ Z ⊗ Z⟩ \n",
      "\n"
     ]
    }
   ],
   "source": [
    "print(n8_qnode.draw())"
   ]
  },
  {
   "cell_type": "code",
   "execution_count": 13,
   "id": "bf0829ee",
   "metadata": {},
   "outputs": [
    {
     "name": "stdout",
     "output_type": "stream",
     "text": [
      "iteration :  0 , score :  0.26645214387633565\n",
      "settings :\n",
      " [[ 1.54913439  0.10583764]\n",
      " [ 1.84204872 -0.70545846]\n",
      " [ 2.24788714  2.94094885]\n",
      " [ 1.83039317 -2.85237344]\n",
      " [ 1.57766594 -0.9229682 ]\n",
      " [ 0.68894146  2.78119901]\n",
      " [ 1.76605293  2.06856834]\n",
      " [ 0.66869275 -1.92324527]\n",
      " [-3.11725312  1.48449494]\n",
      " [-1.91154971 -0.80571295]\n",
      " [-1.1784573  -2.42589173]\n",
      " [ 0.51198403  3.02389868]\n",
      " [-3.08220348  0.2718623 ]\n",
      " [ 0.34642707  0.99182982]\n",
      " [ 0.81471404  2.79623514]\n",
      " [-2.13825639 -1.27671235]] \n",
      "\n",
      "iteration :  25 , score :  1.1095357482930321\n",
      "settings :\n",
      " [[ 1.80429962  0.12386128]\n",
      " [ 1.55280802 -0.68940663]\n",
      " [ 2.15385842  3.10812377]\n",
      " [ 1.92442189 -3.01954836]\n",
      " [ 1.35771467 -0.72985939]\n",
      " [ 0.90889273  2.5880902 ]\n",
      " [ 1.4768965   1.76777358]\n",
      " [ 0.95784918 -1.62245051]\n",
      " [-2.78759738  1.78574489]\n",
      " [-2.24120545 -1.1069629 ]\n",
      " [-1.61358234 -2.72012494]\n",
      " [ 0.94710907  3.31813189]\n",
      " [-3.01845635  0.52276995]\n",
      " [ 0.28267994  0.74092217]\n",
      " [ 0.96399415  2.85967758]\n",
      " [-2.54168214 -1.08600914]] \n",
      "\n",
      "iteration :  50 , score :  1.3920729717749496\n",
      "settings :\n",
      " [[ 1.88851942  0.23686581]\n",
      " [ 1.26755767 -0.60138061]\n",
      " [ 2.06399978  3.17352278]\n",
      " [ 2.01428053 -3.08494737]\n",
      " [ 1.18068126 -0.65567725]\n",
      " [ 1.08592614  2.51390807]\n",
      " [ 1.27150532  1.66308038]\n",
      " [ 1.16324036 -1.51775731]\n",
      " [-2.57108954  1.89054525]\n",
      " [-2.45771329 -1.21176326]\n",
      " [-1.84418421 -2.82325247]\n",
      " [ 1.17771094  3.42125943]\n",
      " [-2.95605293  0.61458443]\n",
      " [ 0.22027651  0.64910769]\n",
      " [ 1.12985225  2.85174597]\n",
      " [-2.69763899 -1.08797879]] \n",
      "\n",
      "iteration :  75 , score :  1.4120651173786514\n",
      "settings :\n",
      " [[ 1.88649232  0.28410174]\n",
      " [ 1.15699108 -0.53602286]\n",
      " [ 2.04335913  3.1839769 ]\n",
      " [ 2.03492118 -3.09540149]\n",
      " [ 1.14133484 -0.64383673]\n",
      " [ 1.12527257  2.50206754]\n",
      " [ 1.2265445   1.64647984]\n",
      " [ 1.20820118 -1.50115677]\n",
      " [-2.52400412  1.90716234]\n",
      " [-2.50479872 -1.22838034]\n",
      " [-1.89389755 -2.83961119]\n",
      " [ 1.22742428  3.43761814]\n",
      " [-2.94163283  0.62918751]\n",
      " [ 0.20585641  0.63450462]\n",
      " [ 1.19199794  2.82511357]\n",
      " [-2.70837036 -1.11276071]] \n",
      "\n",
      "iteration :  100 , score :  1.413904072332309\n",
      "settings :\n",
      " [[ 1.88111991  0.29809589]\n",
      " [ 1.11644924 -0.50410274]\n",
      " [ 2.03982819  3.18558127]\n",
      " [ 2.03845212 -3.09700586]\n",
      " [ 1.13461339 -0.64201966]\n",
      " [ 1.13199401  2.50025048]\n",
      " [ 1.2188685   1.64393271]\n",
      " [ 1.21587718 -1.49860964]\n",
      " [-2.51596736  1.90971201]\n",
      " [-2.51283547 -1.23093001]\n",
      " [-1.90238016 -2.84212125]\n",
      " [ 1.23590689  3.4401282 ]\n",
      " [-2.93916535  0.63142832]\n",
      " [ 0.20338894  0.6322638 ]\n",
      " [ 1.21369587  2.80988626]\n",
      " [-2.7047703  -1.12283139]] \n",
      "\n",
      "iteration :  125 , score :  1.4141636634650119\n",
      "settings :\n",
      " [[ 1.87823437  0.302586  ]\n",
      " [ 1.10088701 -0.49014509]\n",
      " [ 2.039251    3.18583289]\n",
      " [ 2.03902931 -3.09725748]\n",
      " [ 1.1335147  -0.64173468]\n",
      " [ 1.1330927   2.49996549]\n",
      " [ 1.2176138   1.64353322]\n",
      " [ 1.21713188 -1.49821015]\n",
      " [-2.5146537   1.91011189]\n",
      " [-2.51414913 -1.23132989]\n",
      " [-1.90376668 -2.84251491]\n",
      " [ 1.23729341  3.44052186]\n",
      " [-2.938762    0.63177976]\n",
      " [ 0.20298558  0.63191236]\n",
      " [ 1.22180432  2.80293001]\n",
      " [-2.70211438 -1.12663951]] \n",
      "\n",
      "final score :  1.4142047330867769 ,\n",
      "final settings :  [[ 1.87696538  0.30414449]\n",
      " [ 1.09488942 -0.48443699]\n",
      " [ 2.03915928  3.18587222]\n",
      " [ 2.03912103 -3.09729681]\n",
      " [ 1.13334011 -0.64169014]\n",
      " [ 1.13326729  2.49992095]\n",
      " [ 1.21741442  1.64347079]\n",
      " [ 1.21733126 -1.49814772]\n",
      " [-2.51444495  1.91017438]\n",
      " [-2.51435788 -1.23139239]\n",
      " [-1.90398701 -2.84257644]\n",
      " [ 1.23751375  3.44058339]\n",
      " [-2.9386979   0.63183469]\n",
      " [ 0.20292149  0.63185743]\n",
      " [ 1.22489203  2.80004264]\n",
      " [-2.70087263 -1.12808159]] \n",
      "\n",
      "CPU times: user 21min 8s, sys: 28.2 s, total: 21min 37s\n",
      "Wall time: 3min 40s\n"
     ]
    }
   ],
   "source": [
    "%%time\n",
    "\n",
    "n8_score, n8_settings, n8_scores, samples = nlocal_gradient_descent(n8)\n",
    "\n",
    "# printing final results    \n",
    "print(\"final score : \", n8_score,\",\")\n",
    "print(\"final settings : \", n8_settings,\"\\n\")"
   ]
  },
  {
   "cell_type": "code",
   "execution_count": 14,
   "id": "7446d542",
   "metadata": {},
   "outputs": [
    {
     "data": {
      "image/png": "[encoded data removed]",
      "text/plain": [
       "<Figure size 432x288 with 1 Axes>"
      ]
     },
     "metadata": {
      "needs_background": "light"
     },
     "output_type": "display_data"
    }
   ],
   "source": [
    "# Plot the score of the Bell inequality\n",
    "plt.plot(samples, n8_scores, label = r\"$n$-local Real Optimzation\")\n",
    "plt.plot(samples, [1]*len(samples), label = \"Classical Bound\")\n",
    "plt.plot(samples, [2*np.sqrt(1/2)]*len(samples), label = \"Quantum Bound\")\n",
    "plt.title(r\"$(n=8)$-local Optimization over Real Parameter Space\")\n",
    "plt.xlabel(\"Iteration\")\n",
    "plt.ylabel(r\"$n$-local Score\")\n",
    "plt.legend()\n",
    "plt.show()"
   ]
  },
  {
   "cell_type": "code",
   "execution_count": null,
   "id": "2c2fd129",
   "metadata": {},
   "outputs": [],
   "source": []
  }
 ],
 "metadata": {
  "@webio": {
   "lastCommId": null,
   "lastKernelId": null
  },
  "kernelspec": {
   "display_name": "Python 3",
   "language": "python",
   "name": "python3"
  },
  "language_info": {
   "codemirror_mode": {
    "name": "ipython",
    "version": 3
   },
   "file_extension": ".py",
   "mimetype": "text/x-python",
   "name": "python",
   "nbconvert_exporter": "python",
   "pygments_lexer": "ipython3",
   "version": "3.8.10"
  }
 },
 "nbformat": 4,
 "nbformat_minor": 5
}
