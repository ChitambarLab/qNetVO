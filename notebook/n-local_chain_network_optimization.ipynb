{
 "cells": [
  {
   "cell_type": "markdown",
   "id": "809eb30d",
   "metadata": {},
   "source": [
    "# n-Local Chain Network Optimization\n",
    "\n",
    "This notebook uses gradient descent to reproduce the nonlocality results for the $n$-local chain network as described in [\"Correlations in n-local scenario\"](https://arxiv.org/abs/1411.4188).\n",
    "\n",
    "![](../images/n-local_chain_network.png)\n",
    "\n",
    "## Binary Inputs and Outputs\n",
    "\n",
    "Consider classical inputs $x_i$ and $a_i \\in \\{0,1\\}$ for all $i\\in\\{0,1,\\dots,n+1\\}$.\n",
    "The $n$-local chain network correlation are then expressed\n",
    "\n",
    "$$\n",
    "P(a_1,\\dots,a_{n+1}|x_1,\\dots,x_{n+1}) = \\text{Tr}\\left[\\Big(\\bigotimes_{i=1}^{n+1}\\Pi_{a_i}^{x_i}\\Big)\\Big(\\bigotimes_{j=1}^n \\Phi_j \\Big)\\right],\n",
    "$$\n",
    "\n",
    "where each $\\Phi_j$ is a bipartite state shared between two measurement nodes and each $\\Pi_{a_i}^{x_i}$ is a two-outcome, projective measurement.\n",
    "Note that the measurements on the two end-nodes ($i=1$, $i=n+1$) are single qubit measurements while the interior nodes perform two-qubit measurements.\n",
    "The n-local correlators are expressed as\n",
    "\n",
    "$$\n",
    "\\langle A_1^{x_1},\\dots,A_{n+1}^{x_{n+1}} \\rangle = \\sum_{a_1,\\dots,a_{n+1}} (-1)^{\\sum_{i=1}^{n+1}a_i}P(a_1,\\dots,a_{n+1}|x_1,\\dots,x_{n+1}).\n",
    "$$\n",
    "\n",
    "The $n$-local Bell inequality is expressed as\n",
    "\n",
    "$$\n",
    "\\sqrt{|I|}+\\sqrt{|J|\n",
    "$$\n",
    "\n",
    "where\n",
    "\n",
    "$$\n",
    "I = \\frac{1}{4} \\sum_{x_1,x_{n+1}\\in\\{0,1\\}}\\langle A_1^{x_1},A_2^0,\\dots,A_n^0,A_{n+1}^{x_{n+1}} \\rangle,\n",
    "$$\n",
    "\n",
    "$$\n",
    "J = \\frac{1}{4} \\sum_{x_1,x_{n+1}\\in\\{0,1\\}}(-1)^{x_1 + x_{n+1}}\\langle A_1^{x_1},A_2^1,\\dots,A_n^1,A_{n+1}^{x_{n+1}} \\rangle.\n",
    "$$\n",
    "\n"
   ]
  },
  {
   "cell_type": "code",
   "execution_count": null,
   "id": "966f58a6",
   "metadata": {},
   "outputs": [],
   "source": []
  }
 ],
 "metadata": {
  "kernelspec": {
   "display_name": "Python 3",
   "language": "python",
   "name": "python3"
  },
  "language_info": {
   "codemirror_mode": {
    "name": "ipython",
    "version": 3
   },
   "file_extension": ".py",
   "mimetype": "text/x-python",
   "name": "python",
   "nbconvert_exporter": "python",
   "pygments_lexer": "ipython3",
   "version": "3.8.10"
  }
 },
 "nbformat": 4,
 "nbformat_minor": 5
}
