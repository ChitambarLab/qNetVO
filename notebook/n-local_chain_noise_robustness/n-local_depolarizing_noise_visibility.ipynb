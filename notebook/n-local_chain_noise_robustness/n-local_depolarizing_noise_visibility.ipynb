{
 "cells": [
  {
   "cell_type": "markdown",
   "id": "f01a0fb1",
   "metadata": {},
   "source": [
    "# $n$-Local Chain Depolarizing Noise Visibility\n",
    "\n",
    "This notebook verifies the reported visibility for depolarizing noise on both entanglement sources and qubit communication."
   ]
  },
  {
   "cell_type": "code",
   "execution_count": 1,
   "id": "0abe5175",
   "metadata": {},
   "outputs": [],
   "source": [
    "import pennylane as qml\n",
    "from pennylane import numpy as np\n",
    "import matplotlib.pyplot as plt\n",
    "import time\n",
    "\n",
    "from context import qnetvo as QNopt"
   ]
  },
  {
   "cell_type": "markdown",
   "id": "b253f8da",
   "metadata": {},
   "source": [
    "### Two-Qubit Depolarizing Channel\n",
    "\n",
    "Two-qubit depolarizing noise is applied to each entanglement source. We apply this noise with a custom two-qubit depolarizing channel.\n",
    "\n",
    "In the $n$-local chain literature, the depolarizing channel is typically expressed as \n",
    "\n",
    "$$\n",
    "    \\mathcal{D}(\\rho) = v \\rho + (1-v)\\frac{1}{d}\\mathbb{I} \n",
    "$$\n",
    "\n",
    "where $d$ is the Hilbert space dimension and $v\\in[-\\frac{1}{d^2-1},1]$ is referred to the visibility.\n",
    "Most references lower bound the visibility at $v=0$, however, $v=\\frac{1}{d^2-1}$ yields a completely positive channel and is therefore physical.\n",
    "\n",
    "PennyLane uses kraus operators to represent a quantum depolarizing channel as\n",
    "\n",
    "$$\n",
    "K_{0,0} = \\sqrt{(1-p)}\\mathbb{I}, \\quad K_{j,k} = \\sqrt{\\frac{p}{d^2-1}}\\sigma_j\\otimes\\sigma_k\n",
    "$$\n",
    "\n",
    "where $\\vec{\\sigma} = \\{\\mathbb{I}, \\sigma_x, \\sigma_y, \\sigma_z \\}$ and $j$ and $k$ are considered over all values except $j=k=0$.\n",
    "In this channel representation, $p\\in[0,1]$.\n",
    "\n",
    "To convert the visibility $v$ to $p$ we use $(1-p) = (1 + 15v)/16$ or $p = (1-v)15/16$.\n",
    "By this rescaling, we reproduce the known depolarizing visibility of CHSH, bilocal, trilocal, and quadlocal scenarios."
   ]
  },
  {
   "cell_type": "code",
   "execution_count": 2,
   "id": "7a93af28",
   "metadata": {},
   "outputs": [],
   "source": [
    "from pennylane.operation import Channel\n",
    "\n",
    "class TwoQubitDepolarizing(Channel):\n",
    "\n",
    "    num_params = 1\n",
    "    num_wires = 2\n",
    "    par_domain = \"R\"\n",
    "    grad_method = \"A\"\n",
    "    grad_recipe = ([[1, 0, 1], [-1, 0, 0]],)\n",
    "\n",
    "    @classmethod\n",
    "    def _kraus_matrices(cls, *params):\n",
    "        p = params[0]\n",
    "        \n",
    "        paulis = [\n",
    "            np.eye(2),\n",
    "            np.array([[0, 1], [1, 0]]),\n",
    "            np.array([[0, -1j], [1j, 0]]),\n",
    "            np.array([[1, 0],[0, -1]])\n",
    "        ]\n",
    "        \n",
    "        kraus_ops = []\n",
    "        for i in range(4):\n",
    "            for j in range(4):\n",
    "                kraus_ops.append(np.kron(paulis[i],paulis[j]))\n",
    "        \n",
    "        kraus_ops[0] = kraus_ops[0] * np.sqrt(1 - p)\n",
    "        for i in range(1,16):\n",
    "            kraus_ops[i] = kraus_ops[i] * np.sqrt(p / 15)\n",
    "        \n",
    "        return kraus_ops\n",
    "    \n",
    "# updating default.mixed device to have knowledge of TwoQubitDepolarizing Channel.\n",
    "dev = qml.device(\"default.mixed\", wires=[0,1]) \n",
    "dev.operations.update([\"TwoQubitDepolarizing\"])"
   ]
  },
  {
   "cell_type": "code",
   "execution_count": 3,
   "id": "6723dbf6",
   "metadata": {},
   "outputs": [],
   "source": [
    "def bell_state_local_RY(settings, wires):\n",
    "    qml.Hadamard(wires[0])\n",
    "    qml.CNOT(wires=wires[0:2])\n",
    "        \n",
    "    qml.RY(settings[0], wires=wires[0])\n",
    "    qml.RY(settings[1], wires=wires[1])\n",
    "    \n",
    "def arbitrary_prepare_nodes(n):\n",
    "    return [QNopt.PrepareNode(1, [2*i, 2*i + 1], qml.templates.subroutines.ArbitraryUnitary, 15) for i in range(n)]\n",
    "\n",
    "def arbitrary_measure_nodes(n):\n",
    "    meas_nodes = [QNopt.MeasureNode(2, 2, [0], qml.templates.subroutines.ArbitraryUnitary, 3)]\n",
    "    meas_nodes.extend([QNopt.MeasureNode(2,2, [2*i + 1, 2*i + 2], qml.templates.subroutines.ArbitraryUnitary, 15) for i in range(0,n-1)])\n",
    "    meas_nodes.append(QNopt.MeasureNode(2, 2, [2*n-1], qml.templates.subroutines.ArbitraryUnitary, 3))\n",
    "\n",
    "    return meas_nodes\n",
    "\n",
    "def static_nlocal_prepare_nodes(n):\n",
    "    return [QNopt.PrepareNode(1, [2*i, 2*i + 1], bell_state_local_RY, 2) for i in range(n)]\n",
    "\n",
    "def local_RY_measure_nodes(n):\n",
    "    meas_nodes = [QNopt.MeasureNode(2, 2, [0], QNopt.local_RY, 1)]\n",
    "    meas_nodes.extend([\n",
    "        QNopt.MeasureNode(2, 2, [2*i + 1, 2*i + 2], QNopt.local_RY, 2) for i in range(0,n-1)\n",
    "    ])\n",
    "    meas_nodes.append(QNopt.MeasureNode(2, 2, [2*n-1], QNopt.local_RY, 1))\n",
    "    \n",
    "    return meas_nodes\n",
    "\n",
    "def qubit_noise_nodes(n, fn, chan_params):\n",
    "    return [QNopt.NoiseNode([i], lambda settings, wires: fn(*chan_params[i], wires=wires[0])) for i in range(2*n)]\n",
    "\n",
    "def entanglement_noise_nodes(n, fn, chan_params):\n",
    "    return [QNopt.NoiseNode([2*i, 2*i + 1], lambda settings, wires: fn(*chan_params[i], wires=wires[0:2])) for i in range(n)]"
   ]
  },
  {
   "cell_type": "markdown",
   "id": "1cf744b3",
   "metadata": {},
   "source": [
    "## CHSH Visibility\n",
    "\n"
   ]
  },
  {
   "cell_type": "code",
   "execution_count": 4,
   "id": "e273ad9b",
   "metadata": {},
   "outputs": [],
   "source": [
    "n = 1\n",
    "v1 = 1/2**(1/4)  # qubit depolarizing\n",
    "v2 = 1/2**(1/2)  # entangled source depolarizing\n",
    "\n",
    "p1 = (1-v1)*3/4\n",
    "p2 = (1-v2)*15/16\n",
    "\n",
    "arb_chsh_prep_nodes = arbitrary_prepare_nodes(n)\n",
    "bell_prep_nodes = static_nlocal_prepare_nodes(n)\n",
    "\n",
    "RY_chsh_meas_nodes = [\n",
    "    QNopt.MeasureNode(2,2,[0],QNopt.local_RY, 1),\n",
    "    QNopt.MeasureNode(2,2,[1],QNopt.local_RY, 1),\n",
    "]\n",
    "arb_chsh_meas_nodes = [\n",
    "    QNopt.MeasureNode(2,2,[0],qml.templates.subroutines.ArbitraryUnitary, 3),\n",
    "    QNopt.MeasureNode(2,2,[1],qml.templates.subroutines.ArbitraryUnitary, 3),\n",
    "]\n",
    "\n",
    "depolarized_qubit_nodes = qubit_noise_nodes(n, qml.DepolarizingChannel, [[p1]]*2)\n",
    "depolarized_prep_nodes = entanglement_noise_nodes(n, TwoQubitDepolarizing, [[p2]])"
   ]
  },
  {
   "cell_type": "code",
   "execution_count": 5,
   "id": "c1d7256d",
   "metadata": {},
   "outputs": [
    {
     "name": "stdout",
     "output_type": "stream",
     "text": [
      "iteration :  0 , score :  -1.3978435300167364\n",
      "elapsed time :  0.043894052505493164\n",
      "iteration :  6 , score :  1.849507281053557\n",
      "elapsed time :  0.0375826358795166\n",
      "iteration :  12 , score :  1.9883087659793186\n",
      "elapsed time :  0.11723613739013672\n",
      "max score :  1.9991885381542227\n",
      "CPU times: user 759 ms, sys: 26.7 ms, total: 786 ms\n",
      "Wall time: 769 ms\n"
     ]
    }
   ],
   "source": [
    "%%time\n",
    "\n",
    "depolarized_qubit_chsh_ansatz = QNopt.NetworkAnsatz(bell_prep_nodes, RY_chsh_meas_nodes, depolarized_qubit_nodes)\n",
    "depolarized_qubit_chsh_cost = QNopt.chsh_inequality_cost(depolarized_qubit_chsh_ansatz)\n",
    "\n",
    "np.random.seed(1)\n",
    "depolarized_qubit_chsh_settings = depolarized_qubit_chsh_ansatz.rand_scenario_settings()\n",
    "\n",
    "depolarized_qubit_chsh_opt_dict = QNopt.gradient_descent(\n",
    "    depolarized_qubit_chsh_cost,\n",
    "    depolarized_qubit_chsh_settings,\n",
    "    num_steps=18,\n",
    "    step_size=0.2,\n",
    "    sample_width = 6\n",
    ")\n",
    "\n",
    "print(\"max score : \", depolarized_qubit_chsh_opt_dict[\"opt_score\"])"
   ]
  },
  {
   "cell_type": "code",
   "execution_count": 6,
   "id": "cdf72674",
   "metadata": {},
   "outputs": [
    {
     "name": "stdout",
     "output_type": "stream",
     "text": [
      "iteration :  0 , score :  -1.3978435300167371\n",
      "elapsed time :  0.08796525001525879\n",
      "iteration :  6 , score :  1.8495072810535576\n",
      "elapsed time :  0.08509278297424316\n",
      "iteration :  12 , score :  1.9883087659793182\n",
      "elapsed time :  0.08362698554992676\n",
      "max score :  1.9991885381542223\n",
      "CPU times: user 1.51 s, sys: 22 ms, total: 1.53 s\n",
      "Wall time: 1.52 s\n"
     ]
    }
   ],
   "source": [
    "%%time\n",
    "\n",
    "depolarized_prep_chsh_ansatz = QNopt.NetworkAnsatz(bell_prep_nodes, RY_chsh_meas_nodes, depolarized_prep_nodes)\n",
    "depolarized_prep_chsh_cost = QNopt.chsh_inequality_cost(depolarized_prep_chsh_ansatz)\n",
    "\n",
    "np.random.seed(1)\n",
    "depolarized_prep_chsh_settings = depolarized_prep_chsh_ansatz.rand_scenario_settings()\n",
    "\n",
    "depolarized_prep_chsh_opt_dict = QNopt.gradient_descent(\n",
    "    depolarized_prep_chsh_cost,\n",
    "    depolarized_prep_chsh_settings,\n",
    "    num_steps=18,\n",
    "    step_size=0.2,\n",
    "    sample_width = 6\n",
    ")\n",
    "\n",
    "print(\"max score : \", depolarized_prep_chsh_opt_dict[\"opt_score\"])"
   ]
  },
  {
   "cell_type": "code",
   "execution_count": 7,
   "id": "9cdf5008",
   "metadata": {},
   "outputs": [
    {
     "name": "stdout",
     "output_type": "stream",
     "text": [
      "iteration :  0 , score :  -0.4043861425360129\n",
      "elapsed time :  0.7223312854766846\n",
      "iteration :  6 , score :  1.8848667392922351\n",
      "elapsed time :  0.6924920082092285\n",
      "iteration :  12 , score :  1.982369366669074\n",
      "elapsed time :  0.7062621116638184\n",
      "max score :  1.9964198923138066\n",
      "CPU times: user 11.8 s, sys: 192 ms, total: 12 s\n",
      "Wall time: 12 s\n"
     ]
    }
   ],
   "source": [
    "%%time\n",
    "\n",
    "arb_depolarized_qubit_chsh_ansatz = QNopt.NetworkAnsatz(arb_chsh_prep_nodes, arb_chsh_meas_nodes, depolarized_qubit_nodes)\n",
    "arb_depolarized_qubit_chsh_cost = QNopt.chsh_inequality_cost(arb_depolarized_qubit_chsh_ansatz)\n",
    "\n",
    "np.random.seed(1)\n",
    "arb_depolarized_qubit_chsh_settings = arb_depolarized_qubit_chsh_ansatz.rand_scenario_settings()\n",
    "\n",
    "arb_depolarized_qubit_chsh_opt_dict = QNopt.gradient_descent(\n",
    "    arb_depolarized_qubit_chsh_cost,\n",
    "    arb_depolarized_qubit_chsh_settings,\n",
    "    num_steps=18,\n",
    "    step_size=0.25,\n",
    "    sample_width = 6\n",
    ")\n",
    "\n",
    "print(\"max score : \", arb_depolarized_qubit_chsh_opt_dict[\"opt_score\"])"
   ]
  },
  {
   "cell_type": "code",
   "execution_count": 8,
   "id": "469976b9",
   "metadata": {},
   "outputs": [
    {
     "name": "stdout",
     "output_type": "stream",
     "text": [
      "iteration :  0 , score :  -0.40438614253601335\n",
      "elapsed time :  0.7887029647827148\n",
      "iteration :  6 , score :  1.8848667392922334\n",
      "elapsed time :  0.9663879871368408\n",
      "iteration :  12 , score :  1.9823693666690743\n",
      "elapsed time :  0.8200299739837646\n",
      "max score :  1.9964198923138063\n",
      "CPU times: user 16.6 s, sys: 135 ms, total: 16.7 s\n",
      "Wall time: 16.8 s\n"
     ]
    }
   ],
   "source": [
    "%%time\n",
    "\n",
    "arb_depolarized_prep_chsh_ansatz = QNopt.NetworkAnsatz(arb_chsh_prep_nodes, arb_chsh_meas_nodes, depolarized_prep_nodes)\n",
    "arb_depolarized_prep_chsh_cost = QNopt.chsh_inequality_cost(arb_depolarized_prep_chsh_ansatz)\n",
    "\n",
    "np.random.seed(1)\n",
    "arb_depolarized_prep_chsh_settings = arb_depolarized_prep_chsh_ansatz.rand_scenario_settings()\n",
    "\n",
    "arb_depolarized_prep_chsh_opt_dict = QNopt.gradient_descent(\n",
    "    arb_depolarized_prep_chsh_cost,\n",
    "    arb_depolarized_prep_chsh_settings,\n",
    "    num_steps=18,\n",
    "    step_size=0.25,\n",
    "    sample_width = 6\n",
    ")\n",
    "\n",
    "print(\"max score : \", arb_depolarized_prep_chsh_opt_dict[\"opt_score\"])"
   ]
  },
  {
   "cell_type": "markdown",
   "id": "90c03e60",
   "metadata": {},
   "source": [
    "## Bilocal Chain Visibility"
   ]
  },
  {
   "cell_type": "code",
   "execution_count": 18,
   "id": "c29f0d86",
   "metadata": {},
   "outputs": [],
   "source": [
    "n = 2\n",
    "v1 = 1/2**(1/4)\n",
    "v2 = 1/2**(1/2)\n",
    "\n",
    "p1 = (1 - v1)*3/4\n",
    "p2 = (1 - v2)*15/16\n",
    "\n",
    "arb_prep_nodes = arbitrary_prepare_nodes(n)\n",
    "bell_prep_nodes = static_nlocal_prepare_nodes(n)\n",
    "\n",
    "local_meas_nodes = local_RY_measure_nodes(n)\n",
    "arb_meas_nodes = arbitrary_measure_nodes(n)\n",
    "\n",
    "depolarized_qubit_nodes = qubit_noise_nodes(n, qml.DepolarizingChannel, [[p1]]*4)\n",
    "depolarized_prep_nodes = entanglement_noise_nodes(n, TwoQubitDepolarizing, [[p2]]*2)"
   ]
  },
  {
   "cell_type": "code",
   "execution_count": 19,
   "id": "5795a6fb",
   "metadata": {},
   "outputs": [
    {
     "name": "stdout",
     "output_type": "stream",
     "text": [
      "iteration :  0 , score :  0.642637739143719\n",
      "elapsed time :  0.3215909004211426\n",
      "iteration :  3 , score :  0.9811323177379109\n",
      "elapsed time :  1.1097133159637451\n",
      "iteration :  6 , score :  0.9979186468786521\n",
      "elapsed time :  0.3381540775299072\n",
      "iteration :  9 , score :  0.9997398097084393\n",
      "elapsed time :  0.3406400680541992\n",
      "max score :  0.9999654026506961\n",
      "noiseless score :  -1.4141646343324876\n",
      "CPU times: user 4.23 s, sys: 351 ms, total: 4.58 s\n",
      "Wall time: 4.65 s\n"
     ]
    }
   ],
   "source": [
    "%%time\n",
    "\n",
    "depolarized_qubit_bilocal_ansatz = QNopt.NetworkAnsatz(bell_prep_nodes, local_meas_nodes, depolarized_qubit_nodes)\n",
    "depolarized_qubit_bilocal_cost = QNopt.nlocal_chain_cost_22(depolarized_qubit_bilocal_ansatz)\n",
    "noiseless_cost = QNopt.nlocal_chain_cost_22(QNopt.NetworkAnsatz(bell_prep_nodes,local_meas_nodes))\n",
    "\n",
    "np.random.seed(1)\n",
    "depolarized_qubit_bilocal_settings = depolarized_qubit_bilocal_ansatz.rand_scenario_settings()\n",
    "\n",
    "depolarized_qubit_bilocal_opt_dict = QNopt.gradient_descent(\n",
    "    depolarized_qubit_bilocal_cost,\n",
    "    depolarized_qubit_bilocal_settings,\n",
    "    num_steps=12,\n",
    "    step_size=1.1,\n",
    "    sample_width = 3\n",
    ")\n",
    "\n",
    "print(\"max score : \", depolarized_qubit_bilocal_opt_dict[\"opt_score\"])\n",
    "print(\"noiseless score : \", noiseless_cost(depolarized_qubit_bilocal_opt_dict[\"opt_settings\"]))"
   ]
  },
  {
   "cell_type": "code",
   "execution_count": 11,
   "id": "8d7ff7c9",
   "metadata": {},
   "outputs": [
    {
     "name": "stdout",
     "output_type": "stream",
     "text": [
      "iteration :  0 , score :  0.6426377391437188\n",
      "elapsed time :  0.969027042388916\n",
      "iteration :  3 , score :  0.9811323177379105\n",
      "elapsed time :  0.9351539611816406\n",
      "iteration :  6 , score :  0.9979186468786521\n",
      "elapsed time :  0.9161720275878906\n",
      "iteration :  9 , score :  0.9997398097084393\n",
      "elapsed time :  0.8145499229431152\n",
      "max score :  0.9999654026506961\n",
      "CPU times: user 10.8 s, sys: 80.8 ms, total: 10.9 s\n",
      "Wall time: 10.9 s\n"
     ]
    }
   ],
   "source": [
    "%%time\n",
    "\n",
    "depolarized_prep_bilocal_ansatz = QNopt.NetworkAnsatz(bell_prep_nodes, local_meas_nodes, depolarized_prep_nodes)\n",
    "depolarized_prep_bilocal_cost = QNopt.nlocal_chain_cost_22(depolarized_prep_bilocal_ansatz)\n",
    "\n",
    "np.random.seed(1)\n",
    "depolarized_prep_bilocal_settings = depolarized_prep_bilocal_ansatz.rand_scenario_settings()\n",
    "\n",
    "depolarized_prep_bilocal_opt_dict = QNopt.gradient_descent(\n",
    "    depolarized_prep_bilocal_cost,\n",
    "    depolarized_prep_bilocal_settings,\n",
    "    num_steps=12,\n",
    "    step_size=1.1,\n",
    "    sample_width = 3\n",
    ")\n",
    "\n",
    "print(\"max score : \", depolarized_prep_bilocal_opt_dict[\"opt_score\"])"
   ]
  },
  {
   "cell_type": "code",
   "execution_count": 12,
   "id": "3c89f329",
   "metadata": {},
   "outputs": [
    {
     "name": "stdout",
     "output_type": "stream",
     "text": [
      "iteration :  0 , score :  0.184316004489942\n",
      "elapsed time :  10.186198949813843\n",
      "iteration :  5 , score :  0.8747908363695005\n",
      "elapsed time :  9.567085027694702\n",
      "iteration :  10 , score :  0.987471890280099\n",
      "elapsed time :  9.39594292640686\n",
      "max score :  0.9974032084261946\n",
      "CPU times: user 2min 28s, sys: 637 ms, total: 2min 29s\n",
      "Wall time: 2min 29s\n"
     ]
    }
   ],
   "source": [
    "%%time\n",
    "\n",
    "arb_depolarized_qubit_bilocal_ansatz = QNopt.NetworkAnsatz(arb_prep_nodes, arb_meas_nodes, depolarized_qubit_nodes)\n",
    "arb_depolarized_qubit_bilocal_cost = QNopt.nlocal_chain_cost_22(arb_depolarized_qubit_bilocal_ansatz)\n",
    "\n",
    "np.random.seed(1)\n",
    "arb_depolarized_qubit_bilocal_settings = arb_depolarized_qubit_bilocal_ansatz.rand_scenario_settings()\n",
    "\n",
    "arb_depolarized_qubit_bilocal_opt_dict = QNopt.gradient_descent(\n",
    "    arb_depolarized_qubit_bilocal_cost,\n",
    "    arb_depolarized_qubit_bilocal_settings,\n",
    "    num_steps=15,\n",
    "    step_size=1.1,\n",
    "    sample_width = 5\n",
    ")\n",
    "\n",
    "print(\"max score : \", arb_depolarized_qubit_bilocal_opt_dict[\"opt_score\"])"
   ]
  },
  {
   "cell_type": "markdown",
   "id": "cf69e4fb",
   "metadata": {},
   "source": [
    "## Trilocal Chain Depolarized State Visibility"
   ]
  },
  {
   "cell_type": "code",
   "execution_count": 13,
   "id": "53c2068c",
   "metadata": {},
   "outputs": [],
   "source": [
    "n = 3\n",
    "v1 = 1/2**(1/6)\n",
    "v2 = 1/2**(1/3)\n",
    "\n",
    "p1 = (1 - v1)*3/4\n",
    "p2 = (1 - v2)*15/16\n",
    "\n",
    "arb_prep_nodes = arbitrary_prepare_nodes(n)\n",
    "bell_prep_nodes = static_nlocal_prepare_nodes(n)\n",
    "\n",
    "local_meas_nodes = local_RY_measure_nodes(n)\n",
    "arb_meas_nodes = arbitrary_measure_nodes(n)\n",
    "\n",
    "depolarized_qubit_nodes = qubit_noise_nodes(n, qml.DepolarizingChannel, [[p1]]*6)\n",
    "depolarized_prep_nodes = entanglement_noise_nodes(n, TwoQubitDepolarizing, [[p2]]*3)"
   ]
  },
  {
   "cell_type": "code",
   "execution_count": 14,
   "id": "00627577",
   "metadata": {},
   "outputs": [
    {
     "name": "stdout",
     "output_type": "stream",
     "text": [
      "iteration :  0 , score :  0.708473424641541\n",
      "elapsed time :  3.4709599018096924\n",
      "iteration :  3 , score :  0.9301591674832705\n",
      "elapsed time :  3.327565908432007\n",
      "iteration :  6 , score :  0.9887344661964581\n",
      "elapsed time :  3.363426685333252\n",
      "iteration :  9 , score :  0.9983493628879575\n",
      "elapsed time :  3.5418219566345215\n",
      "iteration :  12 , score :  0.9997617497218667\n",
      "elapsed time :  3.3899240493774414\n",
      "iteration :  15 , score :  0.9999655544878412\n",
      "elapsed time :  3.289108991622925\n",
      "max score :  0.9999654026506961\n",
      "CPU times: user 1min 2s, sys: 368 ms, total: 1min 2s\n",
      "Wall time: 1min 3s\n"
     ]
    }
   ],
   "source": [
    "%%time\n",
    "\n",
    "depolarized_qubit_trilocal_ansatz = QNopt.NetworkAnsatz(bell_prep_nodes, local_meas_nodes, depolarized_qubit_nodes)\n",
    "depolarized_qubit_trilocal_cost = QNopt.nlocal_chain_cost_22(depolarized_qubit_trilocal_ansatz)\n",
    "\n",
    "np.random.seed(1)\n",
    "depolarized_qubit_trilocal_settings = depolarized_qubit_trilocal_ansatz.rand_scenario_settings()\n",
    "\n",
    "depolarized_qubit_trilocal_opt_dict = QNopt.gradient_descent(\n",
    "    depolarized_qubit_trilocal_cost,\n",
    "    depolarized_qubit_trilocal_settings,\n",
    "    num_steps=18,\n",
    "    step_size=1.1,\n",
    "    sample_width = 3\n",
    ")\n",
    "\n",
    "print(\"max score : \", depolarized_qubit_bilocal_opt_dict[\"opt_score\"])"
   ]
  },
  {
   "cell_type": "markdown",
   "id": "30c36754",
   "metadata": {},
   "source": [
    "## Quadlocal Chain Depolarizing Noise Visibility"
   ]
  },
  {
   "cell_type": "code",
   "execution_count": 15,
   "id": "08ccaf0e",
   "metadata": {},
   "outputs": [],
   "source": [
    "n = 4\n",
    "\n",
    "v1 = 1/2**(1/8)\n",
    "v2 = 1/2**(1/4)\n",
    "\n",
    "p1 = (1 - v1)*3/4\n",
    "p2 = (1 - v2)*15/16\n",
    "\n",
    "arb_prep_nodes = arbitrary_prepare_nodes(n)\n",
    "bell_prep_nodes = static_nlocal_prepare_nodes(n)\n",
    "\n",
    "local_meas_nodes = local_RY_measure_nodes(n)\n",
    "\n",
    "depolarized_qubit_nodes = qubit_noise_nodes(n, qml.DepolarizingChannel, [[p1]]*8)\n"
   ]
  },
  {
   "cell_type": "code",
   "execution_count": 16,
   "id": "f968ec94",
   "metadata": {},
   "outputs": [
    {
     "name": "stdout",
     "output_type": "stream",
     "text": [
      "iteration :  0 , score :  0.14908011051425443\n",
      "elapsed time :  67.9748055934906\n",
      "iteration :  3 , score :  0.9189466135624951\n",
      "elapsed time :  65.96015191078186\n",
      "max score :  0.9983287990261192\n",
      "CPU times: user 6min 45s, sys: 695 ms, total: 6min 46s\n",
      "Wall time: 6min 54s\n"
     ]
    }
   ],
   "source": [
    "%%time\n",
    "\n",
    "depolarized_quadlocal_ansatz = QNopt.NetworkAnsatz(bell_prep_nodes, local_meas_nodes, depolarized_qubit_nodes)\n",
    "depolarized_quadlocal_cost = QNopt.nlocal_chain_cost_22(depolarized_quadlocal_ansatz)\n",
    "\n",
    "np.random.seed(1)\n",
    "depolarized_quadlocal_settings = depolarized_quadlocal_ansatz.rand_scenario_settings()\n",
    "\n",
    "depolarized_quadlocal_opt_dict = QNopt.gradient_descent(\n",
    "    depolarized_quadlocal_cost,\n",
    "    depolarized_quadlocal_settings,\n",
    "    num_steps=6,\n",
    "    step_size=1.1,\n",
    "    sample_width = 3\n",
    ")\n",
    "\n",
    "print(\"max score : \", depolarized_quadlocal_opt_dict[\"opt_score\"])"
   ]
  },
  {
   "cell_type": "markdown",
   "id": "32a3930d",
   "metadata": {},
   "source": [
    "## Conclusion\n",
    "\n",
    "This notebook reproduces the observation that $V_{NLOC} = \\frac{1}{2}$ requiring each entangled state preparation to have a visibility of $\\frac{1}{2^{1/n}}$. For noise on individual qubits requires a $V_{qubit} = \\frac{1}{2^{1/2n}}$. As the length of the chain increases, the required visibility on each entanglement sources trends to 0. This scaling is unforunate because as the chain gets longer, the entanglement sources need to be of a higher quality to make a violation to the $n$-local set.\n"
   ]
  },
  {
   "cell_type": "code",
   "execution_count": null,
   "id": "fe50643c",
   "metadata": {},
   "outputs": [],
   "source": []
  }
 ],
 "metadata": {
  "@webio": {
   "lastCommId": null,
   "lastKernelId": null
  },
  "kernelspec": {
   "display_name": "Python 3 (ipykernel)",
   "language": "python",
   "name": "python3"
  },
  "language_info": {
   "codemirror_mode": {
    "name": "ipython",
    "version": 3
   },
   "file_extension": ".py",
   "mimetype": "text/x-python",
   "name": "python",
   "nbconvert_exporter": "python",
   "pygments_lexer": "ipython3",
   "version": "3.8.11"
  }
 },
 "nbformat": 4,
 "nbformat_minor": 5
}
