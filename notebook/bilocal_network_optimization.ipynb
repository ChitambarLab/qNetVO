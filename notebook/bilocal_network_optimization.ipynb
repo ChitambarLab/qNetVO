{
 "cells": [
  {
   "attachments": {
    "image.png": {
     "image/png": "[encoded data removed]"
    }
   },
   "cell_type": "markdown",
   "metadata": {},
   "source": [
    "# Nonlocality Optimization in the Bilocal Scenario\n",
    "\n",
    "This notebook considers the bilocal Bell inequalities described in  [https://arxiv.org/abs/1112.4502](https://arxiv.org/abs/1112.4502).\n",
    "These inequalities pertain to a simple tripartite network known as the bilocal scenario:\n",
    "\n",
    "<div>\n",
    "<img src=\"attachment:image.png\" width=\"300\"/>\n",
    "</div>\n",
    "\n",
    "<!-- ![](images/bilocal_scenario.png) -->"
   ]
  },
  {
   "cell_type": "code",
   "execution_count": 1,
   "metadata": {},
   "outputs": [],
   "source": [
    "import pennylane as qml\n",
    "from pennylane import numpy as np\n",
    "import matplotlib.pyplot as plt\n",
    "\n",
    "import context\n",
    "from QNetOptimizer.gradient_descent import gradient_descent"
   ]
  },
  {
   "cell_type": "markdown",
   "metadata": {},
   "source": [
    "## Binary Inputs and Outputs\n",
    "\n",
    "Consider a bilocal scenario with inputs and outputs $x,y,z,a,b,c\\in\\{0,1\\}$.\n",
    "The correlator is then defined as\n",
    "\n",
    "$$\n",
    "\\langle A_x B_y C_z \\rangle_{P_{22}} := \\sum_{a,b,c}(-1)^{a+b+c}P_{22}(a,b,c|x,y,x).\n",
    "$$\n",
    "\n",
    "The following linear combinations will be useful:\n",
    "\n",
    "$$\n",
    "I_{22} := \\frac{1}{4}\\sum_{x,z\\in\\{0,1\\}}\\langle A_x B_0 C_z\\rangle_{P_{22}}, \\quad \\text{and}\n",
    "$$\n",
    "\n",
    "$$\n",
    "J_{22} := \\frac{1}{4}\\sum_{x,z\\in\\{0,1\\}}(-1)^{x+z}\\langle A_x B_1 C_z\\rangle_{P_{22}}.\n",
    "$$\n",
    "\n",
    "The non-linear bi-local Bell inequality is then expressed as $\\sqrt{|I_{22}|} + \\sqrt{|J_{22}|} \\leq 1.$"
   ]
  },
  {
   "cell_type": "code",
   "execution_count": 2,
   "metadata": {},
   "outputs": [],
   "source": [
    "# The bilocal scenario requires 4 qubits [\"a\",\"b0\",\"b1\",c]\n",
    "dev = qml.device(\"default.qubit\", wires=[\"a\",\"b0\",\"b1\",\"c\"])\n",
    "\n",
    "@qml.qnode(dev)\n",
    "def real_bilocal_measurement_circuit(a_measurement, b_measurement, c_measurement):  \n",
    "    \"\"\"\n",
    "    Ansatz circuit where maximally entangled bipartite states are prepared and\n",
    "    measurents are free to rotate about the y-axis.\n",
    "    In this model, all quantum states real.\n",
    "    This scenario considers binary inputs and outputs for all parties.\n",
    "\n",
    "    Args:\n",
    "        a_measurement (float) : 1 rotation angle of Alice's measurement\n",
    "        b_measurement (array[float]) : 2 rotation angles of Bob's 2-qubit measurement \n",
    "        c_measurement (float) : 1 rotation angle of Charlie's measurement\n",
    "    \"\"\"\n",
    "    # prepare entanglement between Alice and Bob\n",
    "    qml.Hadamard(wires=\"a\")\n",
    "    qml.CNOT(wires=[\"a\", \"b0\"])\n",
    "    \n",
    "    # prepare entanglement between Bob and Charlie\n",
    "    qml.Hadamard(wires=\"c\")\n",
    "    qml.CNOT(wires=[\"c\",\"b1\"])\n",
    "    \n",
    "    # single qubit measurement for Alice and Charlie\n",
    "    qml.RY(a_measurement, wires=\"a\")\n",
    "    qml.RY(c_measurement, wires=\"c\")\n",
    "    \n",
    "    # 2-qubit measurement for Bob\n",
    "    qml.RY(b_measurement[0], wires=\"b0\")\n",
    "    qml.RY(b_measurement[1], wires=\"b1\")\n",
    "\n",
    "    return qml.expval(qml.PauliZ(\"a\") @ qml.PauliZ(\"b0\") @ qml.PauliZ(\"b1\") @ qml.PauliZ(\"c\"))\n",
    "\n",
    "@qml.qnode(dev)\n",
    "def bilocal22_circuit(ab_state, bc_state, a_measurement, b_measurement, c_measurement):\n",
    "    \"\"\"\n",
    "    Ansatz circuit where maximally entangled bipartite states are prepared and\n",
    "    measurents are free to rotate about the y-axis.\n",
    "    In this model, all quantum states real.\n",
    "    This scenario considers binary inputs and outputs for all parties.\n",
    "\n",
    "    Args:\n",
    "        ab_state (array[float]) : 15 rotation angles for the 2-qubit entangled state for alice and bob\n",
    "        bc_state (array[float]) : 15 rotation angles for the 2-qubit entangled state for alice and charlie\n",
    "        a_measurement (array[float]) : 3 rotation angls of Alice's measurement\n",
    "        b_measurement (array[float]) : 15 rotation angles of Bob's 2-qubit measurement \n",
    "        c_measurement (array[float]) : 3 rotation angles of Charlie's measurement\n",
    "    \"\"\"\n",
    "    \n",
    "    qml.templates.subroutines.ArbitraryUnitary(ab_state, [\"a\",\"b0\"])\n",
    "    qml.templates.subroutines.ArbitraryUnitary(bc_state, [\"b1\",\"c\"])\n",
    "    \n",
    "    qml.templates.subroutines.ArbitraryUnitary(a_measurement, [\"a\"])\n",
    "    qml.templates.subroutines.ArbitraryUnitary(b_measurement, [\"b0\",\"b1\"])\n",
    "    qml.templates.subroutines.ArbitraryUnitary(c_measurement, [\"c\"])\n",
    "\n",
    "    return qml.expval(qml.PauliZ(\"a\") @ qml.PauliZ(\"b0\") @ qml.PauliZ(\"b1\") @ qml.PauliZ(\"c\"))"
   ]
  },
  {
   "cell_type": "code",
   "execution_count": 3,
   "metadata": {},
   "outputs": [],
   "source": [
    "def real_bilocal_measurement_settings():\n",
    "    \"\"\"\n",
    "    Returns an array containing randomized tensors containing input values for\n",
    "    `real_bilocal_measurement_circuit()`.\n",
    "    \"\"\"\n",
    "    return [\n",
    "        2*np.pi*np.random.random((2, 1)) - np.pi,\n",
    "        2*np.pi*np.random.random((2, 2)) - np.pi,\n",
    "        2*np.pi*np.random.random((2, 1)) - np.pi\n",
    "    ]\n",
    "\n",
    "def bilocal22_settings():\n",
    "    \"\"\"\n",
    "    Returns an array containing randomized tensors containing input values for\n",
    "    `bilocal22_circuit()`.\n",
    "    \"\"\"\n",
    "    return [\n",
    "        2*np.pi*np.random.random((1, 15)) - np.pi,\n",
    "        2*np.pi*np.random.random((1, 15)) - np.pi,\n",
    "        2*np.pi*np.random.random((2, 3)) - np.pi,\n",
    "        2*np.pi*np.random.random((2, 15)) - np.pi,\n",
    "        2*np.pi*np.random.random((2, 3)) - np.pi\n",
    "    ]"
   ]
  },
  {
   "cell_type": "code",
   "execution_count": 4,
   "metadata": {},
   "outputs": [],
   "source": [
    "def real_bilocal22_cost(settings):\n",
    "    \"\"\"\n",
    "    Applies the bilocality inequality as a cost function with respect to the `real_bilocal_measurement_circuit()`.\n",
    "    \"\"\"\n",
    "    I22_run1 = real_bilocal_measurement_circuit(\n",
    "        settings[0][0],\n",
    "        settings[1][0],\n",
    "        settings[2][0]\n",
    "    )\n",
    "    I22_run2 = real_bilocal_measurement_circuit(\n",
    "        settings[0][1],\n",
    "        settings[1][0],\n",
    "        settings[2][0]\n",
    "    )\n",
    "    I22_run3 = real_bilocal_measurement_circuit(\n",
    "        settings[0][0],\n",
    "        settings[1][0],\n",
    "        settings[2][1]\n",
    "    )\n",
    "    I22_run4 = real_bilocal_measurement_circuit(\n",
    "        settings[0][1],\n",
    "        settings[1][0],\n",
    "        settings[2][1]\n",
    "    ) \n",
    "    I22 = (I22_run1 + I22_run2 + I22_run3 + I22_run4)/4\n",
    "    \n",
    "    J22_run1 = real_bilocal_measurement_circuit(\n",
    "        settings[0][0],\n",
    "        settings[1][1],\n",
    "        settings[2][0]\n",
    "    )\n",
    "    J22_run2 = real_bilocal_measurement_circuit(\n",
    "        settings[0][1],\n",
    "        settings[1][1],\n",
    "        settings[2][0]\n",
    "    )\n",
    "    J22_run3 = real_bilocal_measurement_circuit(\n",
    "        settings[0][0],\n",
    "        settings[1][1],\n",
    "        settings[2][1]\n",
    "    )\n",
    "    J22_run4 = real_bilocal_measurement_circuit(\n",
    "        settings[0][1],\n",
    "        settings[1][1],\n",
    "        settings[2][1]\n",
    "    )\n",
    "    J22 = (J22_run1 - J22_run2 - J22_run3 + J22_run4)/4\n",
    "\n",
    "    return -1*(np.sqrt(abs(I22)) + np.sqrt(abs(J22)))\n",
    "\n",
    "def bilocal22_cost(settings):\n",
    "    \"\"\"\n",
    "    Applies the bilocality inequality as a cost function with respect to the `bilocal22_circuit()`.\n",
    "    \"\"\"\n",
    "    I22_run1 = bilocal22_circuit(\n",
    "        settings[0][0],\n",
    "        settings[1][0],\n",
    "        settings[2][0],\n",
    "        settings[3][0],\n",
    "        settings[4][0]\n",
    "    )\n",
    "    I22_run2 = bilocal22_circuit(\n",
    "        settings[0][0],\n",
    "        settings[1][0],\n",
    "        settings[2][1],\n",
    "        settings[3][0],\n",
    "        settings[4][0]\n",
    "    )\n",
    "    I22_run3 = bilocal22_circuit(\n",
    "        settings[0][0],\n",
    "        settings[1][0],\n",
    "        settings[2][0],\n",
    "        settings[3][0],\n",
    "        settings[4][1]\n",
    "    )\n",
    "    I22_run4 = bilocal22_circuit(\n",
    "        settings[0][0],\n",
    "        settings[1][0],\n",
    "        settings[2][1],\n",
    "        settings[3][0],\n",
    "        settings[4][1]\n",
    "    ) \n",
    "    I22 = (I22_run1 + I22_run2 + I22_run3 + I22_run4)/4\n",
    "    \n",
    "    J22_run1 = bilocal22_circuit(\n",
    "        settings[0][0],\n",
    "        settings[1][0],\n",
    "        settings[2][0],\n",
    "        settings[3][1],\n",
    "        settings[4][0]\n",
    "    )\n",
    "    J22_run2 = bilocal22_circuit(\n",
    "        settings[0][0],\n",
    "        settings[1][0],\n",
    "        settings[2][1],\n",
    "        settings[3][1],\n",
    "        settings[4][0]\n",
    "    )\n",
    "    J22_run3 = bilocal22_circuit(\n",
    "        settings[0][0],\n",
    "        settings[1][0],\n",
    "        settings[2][0],\n",
    "        settings[3][1],\n",
    "        settings[4][1]\n",
    "    )\n",
    "    J22_run4 = bilocal22_circuit(\n",
    "        settings[0][0],\n",
    "        settings[1][0],\n",
    "        settings[2][1],\n",
    "        settings[3][1],\n",
    "        settings[4][1]\n",
    "    )\n",
    "    J22 = (J22_run1 - J22_run2 - J22_run3 + J22_run4)/4\n",
    "\n",
    "    return -1*(np.sqrt(abs(I22)) + np.sqrt(abs(J22)))"
   ]
  },
  {
   "cell_type": "code",
   "execution_count": 5,
   "metadata": {},
   "outputs": [
    {
     "name": "stdout",
     "output_type": "stream",
     "text": [
      "iteration :  0 , score :  0.8287896828532377\n",
      "settings :\n",
      " [array([[0.99390753],\n",
      "       [2.21376404]]), array([[-1.30783492, -3.04987402],\n",
      "       [ 1.9760275 ,  0.68197442]]), array([[-0.64819532],\n",
      "       [-1.48738911]])] \n",
      "\n",
      "iteration :  25 , score :  1.3495171678406535\n",
      "settings :\n",
      " [array([[0.76667972],\n",
      "       [2.08966572]]), array([[-1.52553888, -3.6785086 ],\n",
      "       [ 2.54505759,  0.70306683]]), array([[-0.13845577],\n",
      "       [-1.38958649]])] \n",
      "\n",
      "iteration :  50 , score :  1.4031498916528684\n",
      "settings :\n",
      " [array([[0.65411436],\n",
      "       [2.10515703]]), array([[-1.66286577, -3.80675037],\n",
      "       [ 2.77945854,  0.77156229]]), array([[-0.0144054 ],\n",
      "       [-1.45389056]])] \n",
      "\n",
      "iteration :  75 , score :  1.4123662142769016\n",
      "settings :\n",
      " [array([[0.60610704],\n",
      "       [2.12562965]]), array([[-1.72872522, -3.84793628],\n",
      "       [ 2.87285268,  0.80976276]]), array([[ 0.02618216],\n",
      "       [-1.49149268]])] \n",
      "\n",
      "iteration :  100 , score :  1.4139082830939962\n",
      "settings :\n",
      " [array([[0.58775616],\n",
      "       [2.13736674]]), array([[-1.75824923, -3.86382742],\n",
      "       [ 2.90899047,  0.82629948]]), array([[ 0.04167955],\n",
      "       [-1.50763564]])] \n",
      "\n",
      "iteration :  125 , score :  1.4141631326347435\n",
      "settings :\n",
      " [array([[0.58077764],\n",
      "       [2.14291369]]), array([[-1.77092501, -3.87028668],\n",
      "       [ 2.92309784,  0.83304773]]), array([[ 0.04792187],\n",
      "       [-1.51416696]])] \n",
      "\n",
      "1.4142046050783903\n",
      "[array([[0.57813295],\n",
      "       [2.14527214]]), array([[-1.77609381, -3.87286777],\n",
      "       [ 2.92855287,  0.83570432]]), array([[ 0.05040524],\n",
      "       [-1.51672583]])]\n"
     ]
    }
   ],
   "source": [
    "# initial settings\n",
    "settings = real_bilocal_measurement_settings()\n",
    "(final_score, final_settings, scores, samples, settings_history) = gradient_descent(real_bilocal22_cost, settings)\n",
    "\n",
    "print(final_score)\n",
    "print(final_settings)"
   ]
  },
  {
   "cell_type": "code",
   "execution_count": 6,
   "metadata": {},
   "outputs": [
    {
     "data": {
      "image/png": "[encoded data removed]",
      "text/plain": [
       "<Figure size 432x288 with 1 Axes>"
      ]
     },
     "metadata": {
      "needs_background": "light"
     },
     "output_type": "display_data"
    }
   ],
   "source": [
    "# Plot the score of the Bell inequality\n",
    "plt.plot(samples, scores, label = r\"Bilocal 14 Real Optimzation\")\n",
    "plt.plot(samples, [1]*len(samples), label = \"Classical Bound\")\n",
    "plt.plot(samples, [2*np.sqrt(1/2)]*len(samples), label = \"Quantum Bound\")\n",
    "plt.title(r\"Bilocal Optimization over Real Parameter Space\")\n",
    "plt.xlabel(\"Iteration\")\n",
    "plt.ylabel(r\"Bilocal Score\")\n",
    "plt.legend()\n",
    "plt.show()"
   ]
  },
  {
   "cell_type": "code",
   "execution_count": 7,
   "metadata": {},
   "outputs": [
    {
     "name": "stdout",
     "output_type": "stream",
     "text": [
      "iteration :  0 , score :  0.43289914160448073\n",
      "settings :\n",
      " [array([[ 2.85509951, -0.38361342, -2.28022965, -1.43163701,  1.69572725,\n",
      "        -0.24472482,  1.73205315, -3.06421283,  2.45942876,  2.25223713,\n",
      "        -1.6459261 , -1.27365973,  1.76932666, -0.3845027 ,  0.53032242]]), array([[-3.09946252,  1.12658293,  2.91569257,  2.27451429, -2.07923591,\n",
      "        -0.28632268, -0.87098708,  2.11637172, -0.54829014, -0.9067977 ,\n",
      "         0.94114952, -1.2349244 ,  0.08634786,  0.99903459,  2.78147511]]), array([[ 0.23524281,  2.91384709,  2.44495017],\n",
      "       [ 1.96745743,  1.44452515, -2.83549307]]), array([[-0.50031933,  1.22104807, -3.10012451, -0.27548306,  3.07169768,\n",
      "        -1.59243589, -2.70644143,  0.70357055, -2.61495804, -1.35796981,\n",
      "        -2.81783051,  1.00619867,  1.68083924,  1.94404513, -2.27620492],\n",
      "       [-0.98491185, -0.36507132,  0.02616907, -2.57060087,  1.27751797,\n",
      "         0.7000518 ,  3.16508977, -2.39468232, -2.34756563,  0.69245108,\n",
      "         1.92267062,  2.02548635,  2.98408342,  1.99769311, -2.1095895 ]]), array([[-2.96398707, -0.29378177, -0.01713872],\n",
      "       [ 0.72681647,  1.11536187, -2.89454195]])] \n",
      "\n",
      "iteration :  25 , score :  1.1459642836922865\n",
      "settings :\n",
      " [array([[ 2.84508971, -0.22511343, -2.32841164, -1.63770851,  1.83534323,\n",
      "        -0.35501507,  1.62111782, -2.99457246,  2.06314031,  2.08741196,\n",
      "        -1.54731973, -1.15801976,  1.60650785, -0.25506338,  0.27476507]]), array([[-2.84573745,  1.30860927,  2.68366886,  2.43947678, -2.06209166,\n",
      "        -0.26711277, -1.0709861 ,  2.31898667, -0.72303312, -0.91354802,\n",
      "         1.14601966, -1.40276274,  0.23813793,  0.71788819,  2.64151454]]), array([[ 0.52342488,  3.00608375,  2.44495017],\n",
      "       [ 1.96263274,  1.63227072, -2.83549307]]), array([[-0.50607917,  1.38942356, -3.18737256, -0.45327618,  3.10200777,\n",
      "        -1.63751453, -2.78825983,  0.58750966, -2.15968089, -1.35671464,\n",
      "        -2.80657857,  1.014572  ,  1.63256308,  1.94404513, -2.27620492],\n",
      "       [-1.00854589, -0.40748388,  0.02002909, -2.60924645,  1.36115557,\n",
      "         0.58337193,  3.34609338, -2.24358627, -2.31971504,  0.79045386,\n",
      "         1.78215711,  2.09162932,  2.97344514,  1.99769311, -2.1095895 ]]), array([[-3.09151507, -0.19368984, -0.01713872],\n",
      "       [ 0.74858861,  1.36433784, -2.89454195]])] \n",
      "\n",
      "iteration :  50 , score :  1.3207448074296122\n",
      "settings :\n",
      " [array([[ 2.79678039, -0.24321975, -2.33379925, -1.65681738,  1.79325574,\n",
      "        -0.32017801,  1.60160661, -2.95087365,  1.94311372,  1.9511815 ,\n",
      "        -1.41703665, -1.20657651,  1.64105298, -0.24231307,  0.27721012]]), array([[-2.72063827,  1.3324152 ,  2.56459642,  2.57902673, -2.03029344,\n",
      "        -0.39255519, -1.16677776,  2.36933145, -0.70888211, -1.01469672,\n",
      "         1.19825586, -1.44559566,  0.27888835,  0.64711166,  2.6286681 ]]), array([[ 0.61283455,  3.05813565,  2.44495017],\n",
      "       [ 1.9713725 ,  1.60881415, -2.83549307]]), array([[-0.48887954,  1.40922248, -3.21520529, -0.5288662 ,  3.094362  ,\n",
      "        -1.61841365, -2.81761995,  0.60634758, -1.9513298 , -1.35654174,\n",
      "        -2.81277237,  1.02342662,  1.69442347,  1.94404513, -2.27620492],\n",
      "       [-1.10694971, -0.34129513, -0.03181494, -2.69080581,  1.42148936,\n",
      "         0.46345231,  3.56547302, -2.2105533 , -2.38790233,  0.84331775,\n",
      "         1.59896372,  2.14691262,  2.83472911,  1.99769311, -2.1095895 ]]), array([[-3.07828475, -0.05509556, -0.01713872],\n",
      "       [ 0.76223703,  1.50564783, -2.89454195]])] \n",
      "\n",
      "iteration :  75 , score :  1.3856532228006746\n",
      "settings :\n",
      " [array([[ 2.76251663, -0.24315955, -2.34215083, -1.65422991,  1.75063165,\n",
      "        -0.30426857,  1.57927044, -2.94036471,  1.91771857,  1.87256637,\n",
      "        -1.34459994, -1.23975922,  1.66672825, -0.24652418,  0.29453305]]), array([[-2.66074887,  1.32878643,  2.50593724,  2.63059782, -2.0176918 ,\n",
      "        -0.4810145 , -1.21519548,  2.38280128, -0.6991629 , -1.06940189,\n",
      "         1.19675634, -1.4666323 ,  0.30188687,  0.61457543,  2.64634188]]), array([[ 0.62758416,  3.08841511,  2.44495017],\n",
      "       [ 1.97290747,  1.58278274, -2.83549307]]), array([[-0.4648362 ,  1.40507847, -3.23989389, -0.57733355,  3.0521719 ,\n",
      "        -1.60081545, -2.84288146,  0.63479239, -1.85051798, -1.35477061,\n",
      "        -2.82400737,  1.03418284,  1.73572947,  1.94404513, -2.27620492],\n",
      "       [-1.15985971, -0.31199791, -0.0531831 , -2.79204801,  1.47010265,\n",
      "         0.36606278,  3.72296406, -2.17228263, -2.43161111,  0.89162394,\n",
      "         1.47037245,  2.17146852,  2.72483772,  1.99769311, -2.1095895 ]]), array([[-3.04446834e+00,  1.61452677e-03, -1.71387244e-02],\n",
      "       [ 7.64705197e-01,  1.54561085e+00, -2.89454195e+00]])] \n",
      "\n",
      "iteration :  100 , score :  1.4028799870990851\n",
      "settings :\n",
      " [array([[ 2.74920859, -0.24013222, -2.34653147, -1.65138861,  1.731935  ,\n",
      "        -0.30036787,  1.56802243, -2.93858333,  1.91579866,  1.84207575,\n",
      "        -1.31662411, -1.24771121,  1.67601801, -0.24930079,  0.29874414]]), array([[-2.6484345 ,  1.31592291,  2.4923138 ,  2.64102931, -2.01988946,\n",
      "        -0.51560232, -1.22939897,  2.3885952 , -0.69169454, -1.08428344,\n",
      "         1.18197907, -1.48364743,  0.30939079,  0.60548989,  2.65717403]]), array([[ 0.62546272,  3.11031524,  2.44495017],\n",
      "       [ 1.97311711,  1.57386419, -2.83549307]]), array([[-0.45930486,  1.4034066 , -3.24499983, -0.61184595,  3.01578433,\n",
      "        -1.5940369 , -2.84769416,  0.65725061, -1.79909386, -1.35312862,\n",
      "        -2.83460904,  1.04216648,  1.75202173,  1.94404513, -2.27620492],\n",
      "       [-1.17140122, -0.30893621, -0.05606563, -2.86526886,  1.50744723,\n",
      "         0.31248672,  3.8090412 , -2.13994202, -2.44850554,  0.93142441,\n",
      "         1.41012915,  2.1739221 ,  2.65718752,  1.99769311, -2.1095895 ]]), array([[-3.01630163,  0.0184352 , -0.01713872],\n",
      "       [ 0.76511707,  1.55221066, -2.89454195]])] \n",
      "\n",
      "iteration :  125 , score :  1.4082597078093466\n",
      "settings :\n",
      " [array([[ 2.74466519, -0.23885552, -2.34812597, -1.65009641,  1.72499088,\n",
      "        -0.29924429,  1.56399246, -2.9388692 ,  1.91887858,  1.83174987,\n",
      "        -1.3067807 , -1.25020624,  1.67883399, -0.25057388,  0.30086899]]), array([[-2.64798927,  1.30555088,  2.49044845,  2.64112753, -2.022321  ,\n",
      "        -0.52978867, -1.23248405,  2.39181503, -0.68747551, -1.08707216,\n",
      "         1.16946122, -1.49482477,  0.31167911,  0.60253547,  2.66197065]]), array([[ 0.62117016,  3.12352186,  2.44495017],\n",
      "       [ 1.97313022,  1.56920013, -2.83549307]]), array([[-0.46013881,  1.40251917, -3.24345844, -0.63665251,  2.99265933,\n",
      "        -1.592355  , -2.84570464,  0.67442525, -1.7677763 , -1.35217586,\n",
      "        -2.84382799,  1.04815436,  1.7507989 ,  1.94404513, -2.27620492],\n",
      "       [-1.17128088, -0.31074087, -0.05523657, -2.90608794,  1.53089958,\n",
      "         0.28550062,  3.85523064, -2.12000202, -2.45865151,  0.96101281,\n",
      "         1.38238982,  2.17135436,  2.61419598,  1.99769311, -2.1095895 ]]), array([[-2.9980521 ,  0.02260402, -0.01713872],\n",
      "       [ 0.7652117 ,  1.55076316, -2.89454195]])] \n",
      "\n",
      "1.4102149370874022\n",
      "[array([[ 2.74319538, -0.23815662, -2.34875863, -1.64973065,  1.72249288,\n",
      "        -0.29912714,  1.56256657, -2.93946879,  1.92239078,  1.82835547,\n",
      "        -1.30339321, -1.25195301,  1.67926296, -0.25105328,  0.30315435]]), array([[-2.64938398,  1.29847626,  2.49078418,  2.63965988, -2.02268216,\n",
      "        -0.53705357, -1.23196384,  2.39384814, -0.6852951 , -1.08719172,\n",
      "         1.16072202, -1.50158483,  0.31260358,  0.60099277,  2.66351397]]), array([[ 0.61746901,  3.13065068,  2.44495017],\n",
      "       [ 1.97311053,  1.56563596, -2.83549307]]), array([[-0.4619828 ,  1.40175098, -3.24088848, -0.65435115,  2.97998701,\n",
      "        -1.59243681, -2.84270328,  0.68685246, -1.74635082, -1.35176776,\n",
      "        -2.85120841,  1.05290493,  1.74188716,  1.94404513, -2.27620492],\n",
      "       [-1.16877726, -0.31237511, -0.05417907, -2.92543013,  1.54368042,\n",
      "         0.27263874,  3.87911598, -2.10779521, -2.46755289,  0.98237245,\n",
      "         1.36944815,  2.1674524 ,  2.58733056,  1.99769311, -2.1095895 ]]), array([[-2.98686969,  0.02355331, -0.01713872],\n",
      "       [ 0.7652128 ,  1.54844682, -2.89454195]])]\n"
     ]
    }
   ],
   "source": [
    "# initial settings\n",
    "settings = bilocal22_settings()\n",
    "(final_score, final_settings, scores, samples, settings_history) = gradient_descent(bilocal22_cost, settings)\n",
    "\n",
    "print(final_score)\n",
    "print(final_settings)"
   ]
  },
  {
   "cell_type": "code",
   "execution_count": 8,
   "metadata": {},
   "outputs": [
    {
     "data": {
      "image/png": "[encoded data removed]",
      "text/plain": [
       "<Figure size 432x288 with 1 Axes>"
      ]
     },
     "metadata": {
      "needs_background": "light"
     },
     "output_type": "display_data"
    }
   ],
   "source": [
    "# Plot the score of the Bell inequality\n",
    "plt.plot(samples, scores, label = r\"Bilocal 14 Real Optimzation\")\n",
    "plt.plot(samples, [1]*len(samples), label = \"Classical Bound\")\n",
    "plt.plot(samples, [2*np.sqrt(1/2)]*len(samples), label = \"Quantum Bound\")\n",
    "plt.title(r\"Bilocal Optimization over Real Parameter Space\")\n",
    "plt.xlabel(\"Iteration\")\n",
    "plt.ylabel(r\"Bilocal Score\")\n",
    "plt.legend()\n",
    "plt.show()"
   ]
  },
  {
   "cell_type": "markdown",
   "metadata": {},
   "source": [
    "## Bob has a 1 Input and 4 Outputs\n",
    "\n",
    "This scenario represents the case where Bob performs a complete Bell measurement on the two-qubit states.\n",
    "\n",
    "\n"
   ]
  },
  {
   "cell_type": "code",
   "execution_count": 9,
   "metadata": {},
   "outputs": [],
   "source": [
    "# The bi-local scenario requires 4 qubits [\"a\",\"b0\",\"b1\",c]\n",
    "dev = qml.device(\"default.qubit\", wires=[\"a\",\"b0\",\"b1\",\"c\"])\n",
    "\n",
    "@qml.qnode(dev)\n",
    "def real_bilocal14_measurement_circuit(a_measurement, b_measurement, c_measurement):  \n",
    "    \"\"\"\n",
    "    Ansatz circuit where maximally entangled bipartite states are prepared and\n",
    "    measurents are free to rotate about the y-axis.\n",
    "    In this model, all quantum states real.\n",
    "    This scenario considers binary inputs and outputs for all parties.\n",
    "\n",
    "    Args:\n",
    "        a_measurement (float) : 1 rotation angle of Alice's measurement\n",
    "        c_measurement (float) : 1 rotation angle of Charlie's measurement\n",
    "    \"\"\"\n",
    "    # prepare entanglement between Alice and Bob\n",
    "    qml.Hadamard(wires=\"a\")\n",
    "    qml.CNOT(wires=[\"a\", \"b0\"])\n",
    "    \n",
    "    # prepare entanglement between Bob and Charlie\n",
    "    qml.Hadamard(wires=\"c\")\n",
    "    qml.CNOT(wires=[\"c\",\"b1\"])\n",
    "    \n",
    "    # single qubit measurement for Alice and Charlie\n",
    "    qml.RY(a_measurement, wires=\"a\")\n",
    "    qml.RY(c_measurement, wires=\"c\")\n",
    "    \n",
    "    # 2-qubit measurement for Bob\n",
    "\n",
    "    qml.CNOT(wires=[\"b0\",\"b1\"])    \n",
    "    qml.RY(b_measurement[0], wires=\"b0\")\n",
    "    \n",
    "    qml.RY(b_measurement[1], wires=\"b1\")\n",
    "    \n",
    "    return qml.probs(wires=[\"a\",\"b0\",\"b1\",\"c\"])"
   ]
  },
  {
   "cell_type": "code",
   "execution_count": 10,
   "metadata": {},
   "outputs": [],
   "source": [
    "def real_bilocal14_measurement_settings():\n",
    "    \"\"\"\n",
    "    Returns an array containing randomized tensors containing input values for\n",
    "    `real_bilocal_measurement_circuit()`.\n",
    "    \"\"\"\n",
    "    return [\n",
    "        2*np.pi*np.random.random((2, 1)) - np.pi,\n",
    "        2*np.pi*np.random.random((1, 2)) - np.pi,\n",
    "        2*np.pi*np.random.random((2, 1)) - np.pi\n",
    "    ]\n",
    "def real_bilocal14_zero_settings():\n",
    "    return [\n",
    "        np.zeros((2, 1)),\n",
    "        np.zeros((1, 2)),\n",
    "        np.zeros((2, 1))\n",
    "    ]"
   ]
  },
  {
   "cell_type": "markdown",
   "metadata": {},
   "source": [
    "The bilocal correlator is defined:\n",
    "\n",
    "$$\n",
    "\\langle A_x B^y C_z \\rangle_{P_{14}} := \\sum_{a,b_0 b_1,c}(-1)^{a+b_y+c}P_{14}(a,b_0 b_1,c|x,z)\n",
    "$$\n"
   ]
  },
  {
   "cell_type": "code",
   "execution_count": 11,
   "metadata": {},
   "outputs": [],
   "source": [
    "def bilocal14_correlator(probs,y):\n",
    "    probs14 = np.reshape(probs,(2,2,2,2))\n",
    "\n",
    "    correlator = 0\n",
    "    for a in [0,1]:\n",
    "        for b0 in [0,1]:\n",
    "            for b1 in [0,1]:\n",
    "                for c in [0,1]:\n",
    "                    b = b1 if y == 1 else b0\n",
    "                    correlator += (-1)**(a + b + c)*probs14[a,b0,b1,c]\n",
    "\n",
    "    return correlator"
   ]
  },
  {
   "cell_type": "markdown",
   "metadata": {},
   "source": [
    "The Bilocal Bell inequality is expressed as $\\sqrt{|I_{14}|} + \\sqrt{|J_{14}|} \\leq 1$, where\n",
    "\n",
    "$$\n",
    "I_{14} := \\frac{1}{4}\\sum_{x,z\\in 0,1}\\langle A_x B^0 C_z\\rangle_{P_{14}}, \\quad \\text{and}\n",
    "$$\n",
    "\n",
    "$$\n",
    "J_{14} := \\frac{1}{4}\\sum_{x,z \\in 0,1}(-1)^{x+z}\\langle A_x B^1 C_z \\rangle_{P_{14}}.\n",
    "$$\n",
    "\n",
    "We write this as a cost function."
   ]
  },
  {
   "cell_type": "code",
   "execution_count": 12,
   "metadata": {},
   "outputs": [],
   "source": [
    "def bilocal14_cost(settings):\n",
    "    \n",
    "    I_14 = 0\n",
    "    J_14 = 0\n",
    "    for (x,z) in [(0,0),(0,1),(1,0),(1,1)]:    \n",
    "        probs = real_bilocal14_measurement_circuit(settings[0][x],settings[1][0],settings[2][z])\n",
    "                \n",
    "        I_14 += bilocal14_correlator(probs,0)\n",
    "        J_14 += (-1)**(x+z) * bilocal14_correlator(probs,1)\n",
    "    \n",
    "    return -(np.sqrt(abs(I_14/4)) + np.sqrt(abs(J_14/4)))"
   ]
  },
  {
   "cell_type": "markdown",
   "metadata": {},
   "source": [
    "The optimal circuit is shown below the cost is about $-1.414$."
   ]
  },
  {
   "cell_type": "code",
   "execution_count": 13,
   "metadata": {},
   "outputs": [
    {
     "data": {
      "text/plain": [
       "tensor(-1.41421356, requires_grad=True)"
      ]
     },
     "execution_count": 13,
     "metadata": {},
     "output_type": "execute_result"
    }
   ],
   "source": [
    "opt_settings = [[[np.pi/4], [3*np.pi/4]], [[-np.pi/2,0]], [[3*np.pi/4], [np.pi/4]]]\n",
    "bilocal14_cost(opt_settings)"
   ]
  },
  {
   "cell_type": "markdown",
   "metadata": {},
   "source": [
    "Now we optimize against the cost function with gradient descent."
   ]
  },
  {
   "cell_type": "code",
   "execution_count": 14,
   "metadata": {},
   "outputs": [
    {
     "name": "stdout",
     "output_type": "stream",
     "text": [
      "iteration :  0 , score :  0.43687319873135533\n",
      "settings :\n",
      " [array([[-0.73252164],\n",
      "       [-0.16697474]]), array([[ 2.62090345, -1.03128894]]), array([[-1.11312663],\n",
      "       [ 2.74666002]])] \n",
      "\n",
      "iteration :  25 , score :  1.1142729676960328\n",
      "settings :\n",
      " [array([[-1.61268328],\n",
      "       [-0.37444247]]), array([[ 2.11487751, -0.55760757]]), array([[-1.08555992],\n",
      "       [ 3.36809737]])] \n",
      "\n",
      "iteration :  50 , score :  1.3599044810510463\n",
      "settings :\n",
      " [array([[-2.07237157],\n",
      "       [-0.57607174]]), array([[ 1.80165682, -0.24194607]]), array([[-0.95327605],\n",
      "       [ 3.71973392]])] \n",
      "\n",
      "iteration :  75 , score :  1.4051420296567763\n",
      "settings :\n",
      " [array([[-2.24659811],\n",
      "       [-0.69284586]]), array([[ 1.66498663, -0.09978664]]), array([[-0.86167434],\n",
      "       [ 3.84891345]])] \n",
      "\n",
      "iteration :  100 , score :  1.4127110621796826\n",
      "settings :\n",
      " [array([[-2.31269472],\n",
      "       [-0.74659189]]), array([[ 1.60906104, -0.04072902]]), array([[-0.81767234],\n",
      "       [ 3.8963797 ]])] \n",
      "\n",
      "iteration :  125 , score :  1.4139650520200697\n",
      "settings :\n",
      " [array([[-2.33868347],\n",
      "       [-0.76943492]]), array([[ 1.58634386, -0.01658123]]), array([[-0.79871877],\n",
      "       [ 3.91473303]])] \n",
      "\n",
      "1.4141694037022277\n",
      "[array([[-2.34884218],\n",
      "       [-0.77863994]]), array([[ 1.57734759, -0.0069923 ]]), array([[-0.79104465],\n",
      "       [ 3.92185497]])]\n"
     ]
    }
   ],
   "source": [
    "settings = real_bilocal14_measurement_settings()\n",
    "(final_score, final_settings, scores, samples, settings_history) = gradient_descent(bilocal14_cost, settings)\n",
    "\n",
    "print(final_score)\n",
    "print(final_settings)"
   ]
  },
  {
   "cell_type": "code",
   "execution_count": 15,
   "metadata": {},
   "outputs": [
    {
     "data": {
      "image/png": "[encoded data removed]",
      "text/plain": [
       "<Figure size 432x288 with 1 Axes>"
      ]
     },
     "metadata": {
      "needs_background": "light"
     },
     "output_type": "display_data"
    }
   ],
   "source": [
    "# Plot the score of the Bell inequality\n",
    "plt.plot(samples, scores, label = r\"Bilocal 14 Real Optimzation\")\n",
    "plt.plot(samples, [1]*len(samples), label = \"Classical Bound\")\n",
    "plt.plot(samples, [2*np.sqrt(1/2)]*len(samples), label = \"Quantum Bound\")\n",
    "plt.title(r\"Bilocal Optimization over Real Parameter Space\")\n",
    "plt.xlabel(\"Iteration\")\n",
    "plt.ylabel(r\"Bilocal Score\")\n",
    "plt.legend()\n",
    "plt.show()"
   ]
  },
  {
   "cell_type": "markdown",
   "metadata": {},
   "source": [
    "Now we'll verify our cost function against the experimental data published with https://advances.sciencemag.org/content/3/4/e1602743"
   ]
  },
  {
   "cell_type": "code",
   "execution_count": 16,
   "metadata": {},
   "outputs": [],
   "source": [
    "# experimental probs x,y, https://advances.sciencemag.org/content/advances/suppl/2017/04/24/3.4.e1602743.DC1/1602743_SM.pdf\n",
    "probs00 = np.array([\n",
    "    0.0381, 0.0039, 0.0980, 0.0973,\n",
    "    0.0638, 0.0687, 0.0130, 0.0846,\n",
    "    0.0060, 0.0356, 0.0941, 0.1470,\n",
    "    0.0691, 0.0652, 0.1072, 0.0085\n",
    "])\n",
    "\n",
    "probs01 = np.array([\n",
    "    0.0238, 0.0217, 0.1599, 0.0202,\n",
    "    0.0173, 0.1144, 0.0491, 0.0530,\n",
    "    0.0220, 0.0242, 0.0195, 0.2068,\n",
    "    0.1198, 0.0112, 0.0780, 0.0592\n",
    "])\n",
    "\n",
    "probs10 = np.array([\n",
    "    0.0206, 0.0166, 0.1692, 0.0282,\n",
    "    0.0174, 0.1153, 0.0571, 0.0542,\n",
    "    0.0181, 0.0268, 0.0206, 0.2137,\n",
    "    0.1085, 0.0108, 0.0716, 0.0513\n",
    "])\n",
    "\n",
    "probs11 = np.array([\n",
    "    0.0346, 0.0036, 0.0784, 0.1020,\n",
    "    0.0556, 0.0809, 0.0125, 0.0952,\n",
    "    0.0046, 0.0381, 0.1077, 0.1251,\n",
    "    0.0656, 0.0656, 0.1209, 0.0096\n",
    "])"
   ]
  },
  {
   "cell_type": "code",
   "execution_count": 17,
   "metadata": {},
   "outputs": [
    {
     "data": {
      "text/plain": [
       "tensor(1.24575496, requires_grad=True)"
      ]
     },
     "execution_count": 17,
     "metadata": {},
     "output_type": "execute_result"
    }
   ],
   "source": [
    "I = 0\n",
    "J = 0\n",
    "\n",
    "I += bilocal14_correlator(probs11,0)\n",
    "I += bilocal14_correlator(probs01,0)\n",
    "I += bilocal14_correlator(probs10,0)\n",
    "I += bilocal14_correlator(probs00,0)\n",
    "\n",
    "J += bilocal14_correlator(probs11,1)\n",
    "J += -1*bilocal14_correlator(probs01,1)\n",
    "J += -1*bilocal14_correlator(probs10,1)\n",
    "J += bilocal14_correlator(probs00,1)\n",
    "\n",
    "B = np.sqrt(abs(I/4)) + np.sqrt(abs(J/4))\n",
    "B"
   ]
  }
 ],
 "metadata": {
  "@webio": {
   "lastCommId": null,
   "lastKernelId": null
  },
  "kernelspec": {
   "display_name": "Python 3",
   "language": "python",
   "name": "python3"
  },
  "language_info": {
   "codemirror_mode": {
    "name": "ipython",
    "version": 3
   },
   "file_extension": ".py",
   "mimetype": "text/x-python",
   "name": "python",
   "nbconvert_exporter": "python",
   "pygments_lexer": "ipython3",
   "version": "3.8.10"
  }
 },
 "nbformat": 4,
 "nbformat_minor": 2
}
