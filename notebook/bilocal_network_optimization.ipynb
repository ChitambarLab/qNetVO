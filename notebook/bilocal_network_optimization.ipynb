{
 "cells": [
  {
   "cell_type": "markdown",
   "metadata": {},
   "source": [
    "# Nonlocality Optimization in the Bi-local Scenario\n",
    "\n",
    "This notebook uses the bi-local Bell inequalities described in  [https://arxiv.org/abs/1112.4502](https://arxiv.org/abs/1112.4502)."
   ]
  },
  {
   "cell_type": "code",
   "execution_count": 1,
   "metadata": {},
   "outputs": [
    {
     "name": "stderr",
     "output_type": "stream",
     "text": [
      "WARNING:matplotlib.style.core:In /Users/brian/opt/anaconda3/lib/python3.7/site-packages/matplotlib/mpl-data/stylelib/_classic_test.mplstyle: \n",
      "The text.latex.preview rcparam was deprecated in Matplotlib 3.3 and will be removed two minor releases later.\n",
      "WARNING:matplotlib.style.core:In /Users/brian/opt/anaconda3/lib/python3.7/site-packages/matplotlib/mpl-data/stylelib/_classic_test.mplstyle: \n",
      "The mathtext.fallback_to_cm rcparam was deprecated in Matplotlib 3.3 and will be removed two minor releases later.\n",
      "WARNING:matplotlib.style.core:In /Users/brian/opt/anaconda3/lib/python3.7/site-packages/matplotlib/mpl-data/stylelib/_classic_test.mplstyle: Support for setting the 'mathtext.fallback_to_cm' rcParam is deprecated since 3.3 and will be removed two minor releases later; use 'mathtext.fallback : 'cm' instead.\n",
      "WARNING:matplotlib.style.core:In /Users/brian/opt/anaconda3/lib/python3.7/site-packages/matplotlib/mpl-data/stylelib/_classic_test.mplstyle: \n",
      "The validate_bool_maybe_none function was deprecated in Matplotlib 3.3 and will be removed two minor releases later.\n",
      "WARNING:matplotlib.style.core:In /Users/brian/opt/anaconda3/lib/python3.7/site-packages/matplotlib/mpl-data/stylelib/_classic_test.mplstyle: \n",
      "The savefig.jpeg_quality rcparam was deprecated in Matplotlib 3.3 and will be removed two minor releases later.\n",
      "WARNING:matplotlib.style.core:In /Users/brian/opt/anaconda3/lib/python3.7/site-packages/matplotlib/mpl-data/stylelib/_classic_test.mplstyle: \n",
      "The keymap.all_axes rcparam was deprecated in Matplotlib 3.3 and will be removed two minor releases later.\n",
      "WARNING:matplotlib.style.core:In /Users/brian/opt/anaconda3/lib/python3.7/site-packages/matplotlib/mpl-data/stylelib/_classic_test.mplstyle: \n",
      "The animation.avconv_path rcparam was deprecated in Matplotlib 3.3 and will be removed two minor releases later.\n",
      "WARNING:matplotlib.style.core:In /Users/brian/opt/anaconda3/lib/python3.7/site-packages/matplotlib/mpl-data/stylelib/_classic_test.mplstyle: \n",
      "The animation.avconv_args rcparam was deprecated in Matplotlib 3.3 and will be removed two minor releases later.\n"
     ]
    }
   ],
   "source": [
    "import pennylane as qml\n",
    "from pennylane import numpy as np\n",
    "import matplotlib.pyplot as plt"
   ]
  },
  {
   "cell_type": "markdown",
   "metadata": {},
   "source": [
    "## Binary Inputs and Outputs\n",
    "\n",
    "Consider a bi-local scenario with inputs and outputs $x,y,z,a,b,c\\in\\{0,1\\}$.\n",
    "The correlator is then defined as\n",
    "\n",
    "$$\n",
    "\\langle A_x B_y C_z \\rangle_{P_{22}} := \\sum_{a,b,c}(-1)^{a+b+c}P_{22}(a,b,c|x,y,x).\n",
    "$$\n",
    "\n",
    "The following linear combinations will be useful:\n",
    "\n",
    "$$\n",
    "I_{22} := \\frac{1}{4}\\sum_{x,z\\in\\{0,1\\}}\\langle A_x B_0 C_z\\rangle_{P_{22}}, \\quad \\text{and}\n",
    "$$\n",
    "\n",
    "$$\n",
    "J_{22} := \\frac{1}{4}\\sum_{x,z\\in\\{0,1\\}}(-1)^{x+z}\\langle A_x B_1 C_z\\rangle_{P_{22}}.\n",
    "$$\n",
    "\n",
    "The non-linear bi-local Bell inequality is then expressed as $\\sqrt{|I_{22}|} + \\sqrt{|J_{22}|} \\leq 1.$"
   ]
  },
  {
   "cell_type": "code",
   "execution_count": 29,
   "metadata": {},
   "outputs": [],
   "source": [
    "# The bi-local scenario requires 4 qubits [\"a\",\"b0\",\"b1\",c]\n",
    "dev = qml.device(\"default.qubit\", wires=[\"a\",\"b0\",\"b1\",\"c\"])\n",
    "\n",
    "# optimizer\n",
    "opt = qml.GradientDescentOptimizer()\n",
    "\n",
    "@qml.qnode(dev)\n",
    "def real_bilocal_measurement_circuit(a_measurement, b_measurement, c_measurement):  \n",
    "    \"\"\"\n",
    "    Ansatz circuit where maximally entangled bipartite states are prepared and\n",
    "    measurents are free to rotate about the y-axis.\n",
    "    In this model, all quantum states real.\n",
    "    This scenario considers binary inputs and outputs for all parties.\n",
    "\n",
    "    Args:\n",
    "        a_measurement (float) : 1 rotation angle of Alice's measurement\n",
    "        b_measurement (array[float]) : 15 rotation angles of Bob's 2-qubit measurement \n",
    "        c_measurement (float) : 1 rotation angle of Charlie's measurement\n",
    "    \"\"\"\n",
    "    # prepare entanglement between Alice and Bob\n",
    "    qml.Hadamard(wires=\"a\")\n",
    "    qml.CNOT(wires=[\"a\", \"b0\"])\n",
    "    \n",
    "    # prepare entanglement between Bob and Charlie\n",
    "    qml.Hadamard(wires=\"c\")\n",
    "    qml.CNOT(wires=[\"c\",\"b1\"])\n",
    "    \n",
    "    # single qubit measurement for Alice and Charlie\n",
    "    qml.RY(a_measurement, wires=\"a\")\n",
    "    qml.RY(c_measurement, wires=\"c\")\n",
    "    \n",
    "    # 2-qubit measurement for Bob\n",
    "    qml.RY(b_measurement[0], wires=\"b0\")\n",
    "    qml.RY(b_measurement[1], wires=\"b1\")\n",
    "\n",
    "    return qml.expval(qml.PauliZ(\"a\") @ qml.PauliZ(\"b0\") @ qml.PauliZ(\"b1\") @ qml.PauliZ(\"c\"))"
   ]
  },
  {
   "cell_type": "code",
   "execution_count": 16,
   "metadata": {},
   "outputs": [],
   "source": [
    "def real_bilocal_measurement_settings():\n",
    "    \"\"\"\n",
    "    Returns an array containing randomized tensors containing input values for\n",
    "    `real_bilocal_measurement_circuit()`.\n",
    "    \"\"\"\n",
    "    return [\n",
    "        2*np.pi*np.random.random((2, 1)) - np.pi,\n",
    "        2*np.pi*np.random.random((2, 2)) - np.pi,\n",
    "        2*np.pi*np.random.random((2, 1)) - np.pi\n",
    "    ]"
   ]
  },
  {
   "cell_type": "code",
   "execution_count": 57,
   "metadata": {},
   "outputs": [],
   "source": [
    "def real_bilocal_measurement_cost(settings):\n",
    "    \"\"\"\n",
    "    Applies the bilocality inequality as a cost function with respect to the `real_bilocal_measurement_circuit()`.\n",
    "    \"\"\"\n",
    "    I22_run1 = real_bilocal_measurement_circuit(\n",
    "        settings[0][0],\n",
    "        settings[1][0],\n",
    "        settings[2][0]\n",
    "    )\n",
    "    I22_run2 = real_bilocal_measurement_circuit(\n",
    "        settings[0][1],\n",
    "        settings[1][0],\n",
    "        settings[2][0]\n",
    "    )\n",
    "    I22_run3 = real_bilocal_measurement_circuit(\n",
    "        settings[0][0],\n",
    "        settings[1][0],\n",
    "        settings[2][1]\n",
    "    )\n",
    "    I22_run4 = real_bilocal_measurement_circuit(\n",
    "        settings[0][1],\n",
    "        settings[1][0],\n",
    "        settings[2][1]\n",
    "    ) \n",
    "    I22 = (I22_run1 + I22_run2 + I22_run3 + I22_run4)/4\n",
    "    \n",
    "    J22_run1 = real_bilocal_measurement_circuit(\n",
    "        settings[0][0],\n",
    "        settings[1][1],\n",
    "        settings[2][0]\n",
    "    )\n",
    "    J22_run2 = real_bilocal_measurement_circuit(\n",
    "        settings[0][1],\n",
    "        settings[1][1],\n",
    "        settings[2][0]\n",
    "    )\n",
    "    J22_run3 = real_bilocal_measurement_circuit(\n",
    "        settings[0][0],\n",
    "        settings[1][1],\n",
    "        settings[2][1]\n",
    "    )\n",
    "    J22_run4 = real_bilocal_measurement_circuit(\n",
    "        settings[0][1],\n",
    "        settings[1][1],\n",
    "        settings[2][1]\n",
    "    )\n",
    "    J22 = (J22_run1 - J22_run2 - J22_run3 + J22_run4)/4\n",
    "\n",
    "    return -1*(np.sqrt(abs(I22)) + np.sqrt(abs(J22)))"
   ]
  },
  {
   "cell_type": "code",
   "execution_count": 58,
   "metadata": {},
   "outputs": [
    {
     "name": "stdout",
     "output_type": "stream",
     "text": [
      "iteration :  0 , score :  0.8268111820431274\n",
      "settings :\n",
      " [array([[3.10751155],\n",
      "       [0.1738026 ]]), array([[ 1.48011669, -2.3436165 ],\n",
      "       [ 2.2049385 , -1.74057809]]), array([[-1.3436567],\n",
      "       [ 0.7321358]])] \n",
      "\n",
      "iteration :  50 , score :  1.0648986697836451\n",
      "settings :\n",
      " [array([[2.86540287],\n",
      "       [0.20048133]]), array([[ 1.48517322, -2.4315457 ],\n",
      "       [ 2.41531191, -1.75921244]]), array([[-1.29977749],\n",
      "       [ 0.79482015]])] \n",
      "\n",
      "iteration :  100 , score :  1.185680006568105\n",
      "settings :\n",
      " [array([[2.70098453],\n",
      "       [0.22735597]]), array([[ 1.48587251, -2.52380626],\n",
      "       [ 2.55215633, -1.76636418]]), array([[-1.24582078],\n",
      "       [ 0.84027574]])] \n",
      "\n",
      "iteration :  150 , score :  1.2570175048648569\n",
      "settings :\n",
      " [array([[2.58076108],\n",
      "       [0.25821481]]), array([[ 1.48182137, -2.61022074],\n",
      "       [ 2.64557207, -1.76351929]]), array([[-1.1898956 ],\n",
      "       [ 0.86792015]])] \n",
      "\n",
      "iteration :  200 , score :  1.3029951240695794\n",
      "settings :\n",
      " [array([[2.49038657],\n",
      "       [0.29107182]]), array([[ 1.47396219, -2.68829883],\n",
      "       [ 2.71094876, -1.75390432]]), array([[-1.13559696],\n",
      "       [ 0.88208464]])] \n",
      "\n",
      "iteration :  250 , score :  1.334500843741275\n",
      "settings :\n",
      " [array([[2.4211485 ],\n",
      "       [0.32395192]]), array([[ 1.46357461, -2.75746067],\n",
      "       [ 2.7576943 , -1.74030977]]), array([[-1.08499586],\n",
      "       [ 0.88705082]])] \n",
      "\n",
      "iteration :  300 , score :  1.3568855591715332\n",
      "settings :\n",
      " [array([[2.36726999],\n",
      "       [0.35538975]]), array([[ 1.45186875, -2.81783157],\n",
      "       [ 2.79184085, -1.72475624]]), array([[-1.03922201],\n",
      "       [ 0.88609434]])] \n",
      "\n",
      "iteration :  350 , score :  1.3730516068592955\n",
      "settings :\n",
      " [array([[2.32478076],\n",
      "       [0.38444652]]), array([[ 1.43981701, -2.86988983],\n",
      "       [ 2.81732504, -1.70860494]]), array([[-0.99874248],\n",
      "       [ 0.88152177]])] \n",
      "\n",
      "iteration :  400 , score :  1.3847712105233259\n",
      "settings :\n",
      " [array([[2.29088875],\n",
      "       [0.41062364]]), array([[ 1.42811313, -2.91431756],\n",
      "       [ 2.83674382, -1.69273089]]), array([[-0.96356875],\n",
      "       [ 0.87490171]])] \n",
      "\n",
      "iteration :  450 , score :  1.39324480647563\n",
      "settings :\n",
      " [array([[2.26359207],\n",
      "       [0.43375152]]), array([[ 1.41719705, -2.95190616],\n",
      "       [ 2.8518287 , -1.67766867]]), array([[-0.93342103],\n",
      "       [ 0.86728038]])] \n",
      "\n",
      "final score :  1.3992362743751712 ,\n",
      "final settings :  [array([[2.2418295 ],\n",
      "       [0.45350987]]), array([[ 1.40749387, -2.98290677],\n",
      "       [ 2.8635361 , -1.66398693]]), array([[-0.90832367],\n",
      "       [ 0.85950188]])]\n"
     ]
    }
   ],
   "source": [
    "# initial settings\n",
    "real_settings = real_bilocal_measurement_settings()\n",
    "real_scores = []\n",
    "\n",
    "# performing gradient descent\n",
    "for i in range(500):\n",
    "    real_settings = opt.step(real_bilocal_measurement_cost, real_settings)\n",
    "    score = -(real_bilocal_measurement_cost(real_settings))\n",
    "    real_scores.append(score)\n",
    "    \n",
    "    if i%50 == 0:\n",
    "        print(\"iteration : \",i, \", score : \", score)\n",
    "        print(\"settings :\\n\", real_settings, \"\\n\")\n",
    "\n",
    "# printing final results    \n",
    "print(\"final score : \", score,\",\")\n",
    "print(\"final settings : \", real_settings)"
   ]
  },
  {
   "cell_type": "code",
   "execution_count": 59,
   "metadata": {},
   "outputs": [
    {
     "data": {
      "image/png": "[encoded data removed]",
      "text/plain": [
       "<Figure size 432x288 with 1 Axes>"
      ]
     },
     "metadata": {
      "needs_background": "light"
     },
     "output_type": "display_data"
    }
   ],
   "source": [
    "# Plot the score of the Bell inequality\n",
    "plt.plot(range(500), real_scores , label = \"Bilocal Real Optimzation\")\n",
    "plt.plot(range(500), [1]*500, label = \"Classical Bound\")\n",
    "plt.plot(range(500), [2*np.sqrt(1/2)]*500, label = \"Quantum Bound\")\n",
    "plt.title(\"Bilocal Optimization over Real Parameter Space\")\n",
    "plt.xlabel(\"Iteration\")\n",
    "plt.ylabel(\"Bilocal Score\")\n",
    "plt.legend()\n",
    "plt.show()"
   ]
  },
  {
   "cell_type": "markdown",
   "metadata": {},
   "source": [
    "## Bob has a 1 Input and 4 Outputs\n",
    "\n",
    "This scenario represents the case where Bob performs a complete Bell measurement on the two-qubit states.\n",
    "The correlator is defined:\n",
    "\n",
    "$$\n",
    "\\langle A_x B^y C_z \\rangle_{P_{14}} := \\sum_{a,b^0 b^1,c}(-1)^{a+b^y+c}P_{14}(a,b^0 b^1,c|x,z)\n",
    "$$\n",
    "\n",
    "The following linear combinations simplify the Bell inequality:\n",
    "\n",
    "$$\n",
    "I_{14} := \\frac{1}{4}\\sum_{x,z\\in 0,1}\\langle A_x B^0 C_z\\rangle_{P_{14}}, \\quad \\text{and}\n",
    "$$\n",
    "\n",
    "$$\n",
    "J_{14} := \\frac{1}{4}\\sum_{x,z \\in 0,1}(-1)^{x+z}\\langle A_x B^y C_z \\rangle_{P_{14}}.\n",
    "$$\n",
    "\n",
    "The Bilocal Bell inequality is then expressed as $\\sqrt{|I_{14}|} + \\sqrt{|J_{14}|} \\leq 1.$\n"
   ]
  },
  {
   "cell_type": "code",
   "execution_count": 18,
   "metadata": {},
   "outputs": [
    {
     "data": {
      "text/plain": [
       "tensor([ 2.79195668, -1.88513123], requires_grad=True)"
      ]
     },
     "execution_count": 18,
     "metadata": {},
     "output_type": "execute_result"
    }
   ],
   "source": [
    "settings[1][0]"
   ]
  },
  {
   "cell_type": "code",
   "execution_count": 20,
   "metadata": {},
   "outputs": [
    {
     "data": {
      "text/plain": [
       "1.4142135623730951"
      ]
     },
     "execution_count": 20,
     "metadata": {},
     "output_type": "execute_result"
    }
   ],
   "source": [
    "np.sqrt(2)"
   ]
  },
  {
   "cell_type": "code",
   "execution_count": 21,
   "metadata": {},
   "outputs": [
    {
     "data": {
      "text/plain": [
       "1"
      ]
     },
     "execution_count": 21,
     "metadata": {},
     "output_type": "execute_result"
    }
   ],
   "source": [
    "abs(-1)"
   ]
  },
  {
   "cell_type": "code",
   "execution_count": 22,
   "metadata": {},
   "outputs": [
    {
     "data": {
      "text/plain": [
       "2"
      ]
     },
     "execution_count": 22,
     "metadata": {},
     "output_type": "execute_result"
    }
   ],
   "source": [
    "np.abs(-2)"
   ]
  },
  {
   "cell_type": "code",
   "execution_count": 23,
   "metadata": {},
   "outputs": [
    {
     "data": {
      "text/plain": [
       "10"
      ]
     },
     "execution_count": 23,
     "metadata": {},
     "output_type": "execute_result"
    }
   ],
   "source": [
    "sum([1,2,3,4])"
   ]
  },
  {
   "cell_type": "code",
   "execution_count": 53,
   "metadata": {},
   "outputs": [
    {
     "data": {
      "text/plain": [
       "1.4142135623730951"
      ]
     },
     "execution_count": 53,
     "metadata": {},
     "output_type": "execute_result"
    }
   ],
   "source": [
    "np.sqrt(1/2) + np.sqrt(1/2)"
   ]
  },
  {
   "cell_type": "code",
   "execution_count": null,
   "metadata": {},
   "outputs": [],
   "source": []
  }
 ],
 "metadata": {
  "kernelspec": {
   "display_name": "Python 3",
   "language": "python",
   "name": "python3"
  },
  "language_info": {
   "codemirror_mode": {
    "name": "ipython",
    "version": 3
   },
   "file_extension": ".py",
   "mimetype": "text/x-python",
   "name": "python",
   "nbconvert_exporter": "python",
   "pygments_lexer": "ipython3",
   "version": "3.7.4"
  }
 },
 "nbformat": 4,
 "nbformat_minor": 2
}
