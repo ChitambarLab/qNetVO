{
 "cells": [
  {
   "cell_type": "code",
   "execution_count": 1,
   "id": "96d54f79-dc1f-4330-8938-ec731da8be83",
   "metadata": {},
   "outputs": [],
   "source": [
    "import pennylane as qml\n",
    "from pennylane import numpy as np"
   ]
  },
  {
   "cell_type": "code",
   "execution_count": 2,
   "id": "a7d2482a-e731-4a89-bceb-66267407af46",
   "metadata": {},
   "outputs": [],
   "source": [
    "dev = qml.device(\"default.qubit\", wires=[\"a\", \"b\"])"
   ]
  },
  {
   "cell_type": "code",
   "execution_count": 3,
   "id": "2ef05b78-68a4-47d0-ac5e-466790b092a5",
   "metadata": {},
   "outputs": [],
   "source": [
    "@qml.qnode(dev)\n",
    "def chsh_circuit(a_settings, b_settings):\n",
    "    qml.Hadamard(wires=\"a\")\n",
    "    qml.CNOT(wires=[\"a\", \"b\"])\n",
    "    \n",
    "    qml.RY(a_settings, wires=\"a\")\n",
    "    qml.RY(b_settings, wires=\"b\")\n",
    "    return qml.expval(qml.PauliZ(\"a\") @ qml.PauliZ(\"b\"))"
   ]
  },
  {
   "cell_type": "code",
   "execution_count": 4,
   "id": "6b47debe-87a0-4b23-bf87-964984d70798",
   "metadata": {},
   "outputs": [],
   "source": [
    "settings = np.random.random((2, 2))"
   ]
  },
  {
   "cell_type": "code",
   "execution_count": 5,
   "id": "3f97a803-9717-4bfa-9a9c-92e44479190c",
   "metadata": {},
   "outputs": [],
   "source": [
    "def chsh_cost(settings):\n",
    "    run1 = chsh_circuit(settings[0, 0], settings[1, 0])\n",
    "    run2 = chsh_circuit(settings[0, 0], settings[1, 1])\n",
    "    run3 = chsh_circuit(settings[0, 1], settings[1, 0])\n",
    "    run4 = chsh_circuit(settings[0, 1], settings[1, 1])\n",
    "    return -(run1 - run2 + run3 + run4)"
   ]
  },
  {
   "cell_type": "code",
   "execution_count": 6,
   "id": "96256a06-046c-40cc-bc80-690515f47df9",
   "metadata": {},
   "outputs": [
    {
     "data": {
      "text/plain": [
       "tensor(-1.87317447, requires_grad=True)"
      ]
     },
     "execution_count": 6,
     "metadata": {},
     "output_type": "execute_result"
    }
   ],
   "source": [
    "chsh_cost(settings)"
   ]
  },
  {
   "cell_type": "code",
   "execution_count": 7,
   "id": "895cb431-d862-40c0-a7d3-23b0b9d2d2ea",
   "metadata": {},
   "outputs": [
    {
     "data": {
      "text/plain": [
       "(array([[-0.39680314,  0.76849306],\n",
       "        [-0.17356282, -0.19812711]]),)"
      ]
     },
     "execution_count": 7,
     "metadata": {},
     "output_type": "execute_result"
    }
   ],
   "source": [
    "qml.grad(chsh_cost)(settings)"
   ]
  },
  {
   "cell_type": "code",
   "execution_count": 8,
   "id": "08bf7a81-17fa-4341-8fa6-8fed43511ec4",
   "metadata": {},
   "outputs": [],
   "source": [
    "opt = qml.GradientDescentOptimizer()\n",
    "\n",
    "for i in range(1000):\n",
    "    settings = opt.step(chsh_cost, settings)"
   ]
  },
  {
   "cell_type": "code",
   "execution_count": 9,
   "id": "5d2fda46-0851-48c0-b8d8-06fe2f24ed06",
   "metadata": {},
   "outputs": [
    {
     "data": {
      "text/plain": [
       "tensor(-2.82842712, requires_grad=True)"
      ]
     },
     "execution_count": 9,
     "metadata": {},
     "output_type": "execute_result"
    }
   ],
   "source": [
    "chsh_cost(settings)"
   ]
  },
  {
   "cell_type": "code",
   "execution_count": 10,
   "id": "7ff6e681-cc9d-4324-b883-79ea6d6671b4",
   "metadata": {},
   "outputs": [
    {
     "data": {
      "text/plain": [
       "2.8284271247461903"
      ]
     },
     "execution_count": 10,
     "metadata": {},
     "output_type": "execute_result"
    }
   ],
   "source": [
    "2 * np.sqrt(2)"
   ]
  },
  {
   "cell_type": "code",
   "execution_count": 11,
   "id": "e210f1ba-7444-4701-8eef-734aaa8b5a81",
   "metadata": {},
   "outputs": [
    {
     "data": {
      "text/plain": [
       "tensor([[ 1.64429549,  0.07350389],\n",
       "        [ 0.85889741, -0.71189436]], requires_grad=True)"
      ]
     },
     "execution_count": 11,
     "metadata": {},
     "output_type": "execute_result"
    }
   ],
   "source": [
    "settings"
   ]
  }
 ],
 "metadata": {
  "kernelspec": {
   "display_name": "Python 3",
   "language": "python",
   "name": "python3"
  },
  "language_info": {
   "codemirror_mode": {
    "name": "ipython",
    "version": 3
   },
   "file_extension": ".py",
   "mimetype": "text/x-python",
   "name": "python",
   "nbconvert_exporter": "python",
   "pygments_lexer": "ipython3",
   "version": "3.8.8"
  }
 },
 "nbformat": 4,
 "nbformat_minor": 5
}
