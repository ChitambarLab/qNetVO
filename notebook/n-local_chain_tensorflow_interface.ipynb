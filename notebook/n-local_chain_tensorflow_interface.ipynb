{
 "cells": [
  {
   "cell_type": "markdown",
   "id": "181c0eac",
   "metadata": {},
   "source": [
    "# TensorFlow and TensorNetwork Devices\n",
    "\n",
    "This notebook compares the performance of the TensorNetwork device used with TensorFlow.\n",
    "We find the speedup over autograd on default qubit to be significant and allows a new tier of networks to be optimized with relative efficieny.\n",
    "Using the Tensor Network backend we are able to optimize a 20-qubit network in roughly 5 minutes on a laptop computer."
   ]
  },
  {
   "cell_type": "code",
   "execution_count": 1,
   "id": "a638cefd",
   "metadata": {},
   "outputs": [],
   "source": [
    "import pennylane as qml\n",
    "from pennylane import numpy as np\n",
    "import matplotlib.pyplot as plt\n",
    "import time\n",
    "\n",
    "import tensorflow as tf\n",
    "\n",
    "from context import qnetvo as QNopt"
   ]
  },
  {
   "cell_type": "markdown",
   "id": "980b8943",
   "metadata": {},
   "source": [
    "### Setup"
   ]
  },
  {
   "cell_type": "code",
   "execution_count": 2,
   "id": "375260f7",
   "metadata": {},
   "outputs": [],
   "source": [
    "def bell_state_local_RY(settings, wires):\n",
    "    qml.Hadamard(wires[0])\n",
    "    qml.CNOT(wires=wires[0:2])\n",
    "        \n",
    "    qml.RY(settings[0], wires=wires[0])\n",
    "    qml.RY(settings[1], wires=wires[1])\n",
    "\n",
    "def static_nlocal_prepare_nodes(n):\n",
    "    return [QNopt.PrepareNode(1, [2*i, 2*i + 1], bell_state_local_RY, 2) for i in range(n)]\n",
    "\n",
    "def local_RY_measure_nodes(n):\n",
    "    meas_nodes = [QNopt.MeasureNode(2, 2, [0], QNopt.local_RY, 1)]\n",
    "    meas_nodes.extend([\n",
    "        QNopt.MeasureNode(2, 2, [2*i + 1, 2*i + 2], QNopt.local_RY, 2) for i in range(0,n-1)\n",
    "    ])\n",
    "    meas_nodes.append(QNopt.MeasureNode(2, 2, [2*n-1], QNopt.local_RY, 1))\n",
    "    \n",
    "    return meas_nodes\n",
    "\n",
    "def tn_optimize_nlocal_chain(n):\n",
    "    print(\"n : \", n)\n",
    "\n",
    "    tn_prep_nodes = static_nlocal_prepare_nodes(n)\n",
    "    tn_meas_nodes = local_RY_measure_nodes(n)\n",
    "    \n",
    "    tn_nlocal_ansatz = QNopt.NetworkAnsatz(tn_prep_nodes, tn_meas_nodes)\n",
    "    tn_nlocal_ansatz.dev = qml.device(\"default.tensor.tf\",\n",
    "        wires=tn_nlocal_ansatz.network_wires,\n",
    "        representation=\"exact\",\n",
    "        contraction_method=\"auto\"\n",
    "    )\n",
    "    \n",
    "    tn_settings = tn_nlocal_ansatz.tf_rand_scenario_settings()\n",
    "\n",
    "    tn_cost = QNopt.nlocal_chain_cost_22(tn_nlocal_ansatz, interface=\"tf\", diff_method=\"backprop\")\n",
    "    tn_opt_dict = QNopt.gradient_descent(\n",
    "        tn_cost,\n",
    "        tn_settings,\n",
    "        num_steps=15,\n",
    "        step_size=0.8,\n",
    "        sample_width = 5,\n",
    "        interface=\"tf\"\n",
    "    )\n",
    "    \n",
    "    print(\"max score : \", tn_opt_dict[\"opt_score\"])\n",
    "    \n",
    "    return tn_opt_dict  \n",
    "\n",
    "def tf_optimize_nlocal_chain(n):\n",
    "    print(\"n : \", n)\n",
    "\n",
    "    tf_prep_nodes = static_nlocal_prepare_nodes(n)\n",
    "    tf_meas_nodes = local_RY_measure_nodes(n)\n",
    "    \n",
    "    tf_nlocal_ansatz = QNopt.NetworkAnsatz(tf_prep_nodes, tf_meas_nodes)\n",
    "\n",
    "    tf_settings = tf_nlocal_ansatz.tf_rand_scenario_settings()\n",
    "\n",
    "\n",
    "    tf_cost = QNopt.nlocal_chain_cost_22(tf_nlocal_ansatz, interface=\"tf\", diff_method=\"backprop\")\n",
    "    tf_opt_dict = QNopt.gradient_descent(\n",
    "        tf_cost,\n",
    "        tf_settings,\n",
    "        num_steps=15,\n",
    "        step_size=0.8,\n",
    "        sample_width = 5,\n",
    "        interface=\"tf\"\n",
    "    )\n",
    "    \n",
    "    print(\"max score : \", tf_opt_dict[\"opt_score\"])\n",
    "    \n",
    "    return tf_opt_dict \n",
    "\n",
    "def ag_optimize_nlocal_chain(n):\n",
    "    print(\"n : \", n)\n",
    "\n",
    "    ag_prep_nodes = static_nlocal_prepare_nodes(n)\n",
    "    ag_meas_nodes = local_RY_measure_nodes(n)\n",
    "    \n",
    "    ag_nlocal_ansatz = QNopt.NetworkAnsatz(ag_prep_nodes, ag_meas_nodes)\n",
    "    \n",
    "    ag_settings = ag_nlocal_ansatz.rand_scenario_settings()\n",
    "\n",
    "    ag_cost = QNopt.nlocal_chain_cost_22(ag_nlocal_ansatz, interface=\"autograd\", diff_method=\"backprop\")\n",
    "    ag_opt_dict = QNopt.gradient_descent(\n",
    "        ag_cost,\n",
    "        ag_settings,\n",
    "        num_steps=15,\n",
    "        step_size=0.8,\n",
    "        sample_width = 5\n",
    "    )\n",
    "    \n",
    "    print(\"max score : \", ag_opt_dict[\"opt_score\"])\n",
    "    \n",
    "    return ag_opt_dict "
   ]
  },
  {
   "cell_type": "markdown",
   "id": "8be2a059",
   "metadata": {},
   "source": [
    "## Interface Comparison on Backpropagation\n",
    "\n",
    "### Autograd"
   ]
  },
  {
   "cell_type": "code",
   "execution_count": 3,
   "id": "936dc34f",
   "metadata": {},
   "outputs": [
    {
     "name": "stdout",
     "output_type": "stream",
     "text": [
      "n :  6\n",
      "iteration :  0 , score :  0.2910119273912153\n",
      "iteration :  5 , score :  1.3328754190425522\n",
      "iteration :  10 , score :  1.4111477848643927\n",
      "max score :  1.4141033563290029\n",
      "CPU times: user 4.19 s, sys: 151 ms, total: 4.34 s\n",
      "Wall time: 4.37 s\n"
     ]
    }
   ],
   "source": [
    "%%time\n",
    "\n",
    "np.random.seed(1)\n",
    "ag6_opt_dict = ag_optimize_nlocal_chain(6)"
   ]
  },
  {
   "cell_type": "markdown",
   "id": "119ae775",
   "metadata": {},
   "source": [
    "### TensorFlow"
   ]
  },
  {
   "cell_type": "code",
   "execution_count": 4,
   "id": "d0ccf86f",
   "metadata": {},
   "outputs": [
    {
     "name": "stdout",
     "output_type": "stream",
     "text": [
      "n :  6\n"
     ]
    },
    {
     "name": "stderr",
     "output_type": "stream",
     "text": [
      "2021-09-29 20:07:27.887002: I tensorflow/core/platform/cpu_feature_guard.cc:142] This TensorFlow binary is optimized with oneAPI Deep Neural Network Library (oneDNN) to use the following CPU instructions in performance-critical operations:  AVX2 FMA\n",
      "To enable them in other operations, rebuild TensorFlow with the appropriate compiler flags.\n"
     ]
    },
    {
     "name": "stdout",
     "output_type": "stream",
     "text": [
      "iteration :  0 , score :  tf.Tensor(0.2910119273912166, shape=(), dtype=float64)\n",
      "iteration :  5 , score :  tf.Tensor(1.3328754203891258, shape=(), dtype=float64)\n",
      "iteration :  10 , score :  tf.Tensor(1.4111477851022385, shape=(), dtype=float64)\n",
      "max score :  tf.Tensor(1.414103356343892, shape=(), dtype=float64)\n",
      "CPU times: user 24.7 s, sys: 2.04 s, total: 26.7 s\n",
      "Wall time: 14.9 s\n"
     ]
    }
   ],
   "source": [
    "%%time\n",
    "\n",
    "np.random.seed(1)\n",
    "tf6_opt_dict = tf_optimize_nlocal_chain(6)"
   ]
  },
  {
   "cell_type": "markdown",
   "id": "4247255f",
   "metadata": {},
   "source": [
    "### TensorFlow with TensorNetwork Device"
   ]
  },
  {
   "cell_type": "code",
   "execution_count": 5,
   "id": "51c9c4aa",
   "metadata": {},
   "outputs": [
    {
     "name": "stdout",
     "output_type": "stream",
     "text": [
      "n :  6\n",
      "iteration :  0 , score :  tf.Tensor(0.29101192739121495, shape=(), dtype=float64)\n",
      "iteration :  5 , score :  tf.Tensor(1.332875420389127, shape=(), dtype=float64)\n",
      "iteration :  10 , score :  tf.Tensor(1.4111477851022394, shape=(), dtype=float64)\n",
      "max score :  tf.Tensor(1.4141033563438956, shape=(), dtype=float64)\n",
      "CPU times: user 14.6 s, sys: 535 ms, total: 15.2 s\n",
      "Wall time: 12.6 s\n"
     ]
    }
   ],
   "source": [
    "%%time\n",
    "\n",
    "np.random.seed(1)\n",
    "tn6_opt_dict = tn_optimize_nlocal_chain(6)"
   ]
  },
  {
   "cell_type": "markdown",
   "id": "998bb2cc",
   "metadata": {},
   "source": [
    "## Scaling TensorFlow on TensorNetwork Devices"
   ]
  },
  {
   "cell_type": "code",
   "execution_count": 6,
   "id": "acd66813",
   "metadata": {},
   "outputs": [
    {
     "name": "stdout",
     "output_type": "stream",
     "text": [
      "n :  7\n",
      "iteration :  0 , score :  tf.Tensor(0.22747569616624647, shape=(), dtype=float64)\n",
      "iteration :  5 , score :  tf.Tensor(1.3903842877476185, shape=(), dtype=float64)\n",
      "iteration :  10 , score :  tf.Tensor(1.4134552295515312, shape=(), dtype=float64)\n",
      "max score :  tf.Tensor(1.4141865830313491, shape=(), dtype=float64)\n",
      "CPU times: user 27.1 s, sys: 1.01 s, total: 28.1 s\n",
      "Wall time: 16.2 s\n"
     ]
    }
   ],
   "source": [
    "%%time\n",
    "\n",
    "np.random.seed(1)\n",
    "n7_opt_dict = tn_optimize_nlocal_chain(7)"
   ]
  },
  {
   "cell_type": "code",
   "execution_count": 7,
   "id": "ebf4cba7",
   "metadata": {},
   "outputs": [
    {
     "name": "stdout",
     "output_type": "stream",
     "text": [
      "n :  8\n",
      "iteration :  0 , score :  tf.Tensor(0.09333571468401858, shape=(), dtype=float64)\n",
      "iteration :  5 , score :  tf.Tensor(1.3438207937679794, shape=(), dtype=float64)\n",
      "iteration :  10 , score :  tf.Tensor(1.412792647394611, shape=(), dtype=float64)\n",
      "max score :  tf.Tensor(1.4141627006090363, shape=(), dtype=float64)\n",
      "CPU times: user 1min 26s, sys: 3 s, total: 1min 29s\n",
      "Wall time: 26 s\n"
     ]
    }
   ],
   "source": [
    "%%time\n",
    "\n",
    "np.random.seed(1)\n",
    "n8_opt_dict = tn_optimize_nlocal_chain(8)"
   ]
  },
  {
   "cell_type": "code",
   "execution_count": 8,
   "id": "83c758e7",
   "metadata": {},
   "outputs": [
    {
     "name": "stdout",
     "output_type": "stream",
     "text": [
      "n :  9\n",
      "iteration :  0 , score :  tf.Tensor(0.06313287953314478, shape=(), dtype=float64)\n",
      "iteration :  5 , score :  tf.Tensor(1.3406735018404106, shape=(), dtype=float64)\n",
      "iteration :  10 , score :  tf.Tensor(1.413166243593456, shape=(), dtype=float64)\n",
      "max score :  tf.Tensor(1.4141764073218084, shape=(), dtype=float64)\n",
      "CPU times: user 6min 50s, sys: 24.7 s, total: 7min 14s\n",
      "Wall time: 1min 7s\n"
     ]
    }
   ],
   "source": [
    "%%time\n",
    "\n",
    "np.random.seed(3)\n",
    "n9_opt_dict = tn_optimize_nlocal_chain(9)"
   ]
  },
  {
   "cell_type": "markdown",
   "id": "d1c14e14",
   "metadata": {},
   "source": [
    "## TensorNetwork Outperforms Default Qubit"
   ]
  },
  {
   "cell_type": "code",
   "execution_count": 9,
   "id": "e71ed1d3",
   "metadata": {},
   "outputs": [
    {
     "name": "stdout",
     "output_type": "stream",
     "text": [
      "n :  9\n",
      "iteration :  0 , score :  0.06313287953314589\n",
      "iteration :  5 , score :  1.340673496587733\n",
      "iteration :  10 , score :  1.4131662434911583\n",
      "max score :  1.414176407316137\n",
      "CPU times: user 3min 40s, sys: 35.1 s, total: 4min 15s\n",
      "Wall time: 2min 5s\n"
     ]
    }
   ],
   "source": [
    "%%time\n",
    "\n",
    "np.random.seed(3)\n",
    "n9_ag_opt_dict = ag_optimize_nlocal_chain(9)"
   ]
  },
  {
   "cell_type": "markdown",
   "id": "727bb6a4",
   "metadata": {},
   "source": [
    "## Max \"Efficient\" (<10min) Optimization, $n=10$ (20 Qubits)"
   ]
  },
  {
   "cell_type": "code",
   "execution_count": 10,
   "id": "2c9e1068",
   "metadata": {},
   "outputs": [
    {
     "name": "stdout",
     "output_type": "stream",
     "text": [
      "n :  10\n",
      "iteration :  0 , score :  tf.Tensor(0.045666421669793685, shape=(), dtype=float64)\n",
      "iteration :  5 , score :  tf.Tensor(1.0793722535234427, shape=(), dtype=float64)\n",
      "iteration :  10 , score :  tf.Tensor(1.3897130609471136, shape=(), dtype=float64)\n",
      "max score :  tf.Tensor(1.4132963148318258, shape=(), dtype=float64)\n",
      "CPU times: user 34min 42s, sys: 1min 2s, total: 35min 45s\n",
      "Wall time: 4min 23s\n"
     ]
    }
   ],
   "source": [
    "%%time\n",
    "\n",
    "np.random.seed(1)\n",
    "n10_opt_dict = tn_optimize_nlocal_chain(10)"
   ]
  },
  {
   "cell_type": "code",
   "execution_count": null,
   "id": "627f81c4",
   "metadata": {},
   "outputs": [],
   "source": []
  }
 ],
 "metadata": {
  "@webio": {
   "lastCommId": null,
   "lastKernelId": null
  },
  "kernelspec": {
   "display_name": "Python 3",
   "language": "python",
   "name": "python3"
  },
  "language_info": {
   "codemirror_mode": {
    "name": "ipython",
    "version": 3
   },
   "file_extension": ".py",
   "mimetype": "text/x-python",
   "name": "python",
   "nbconvert_exporter": "python",
   "pygments_lexer": "ipython3",
   "version": "3.8.11"
  }
 },
 "nbformat": 4,
 "nbformat_minor": 5
}
