{
 "cells": [
  {
   "cell_type": "markdown",
   "id": "3735ff5d",
   "metadata": {},
   "source": [
    "# TensorFlow and TensorNetwork Devices\n",
    "\n",
    "This notebook compares the performance of the TensorNetwork device used with TensorFlow.\n",
    "We find the speedup over autograd on default qubit to be significant and allows a new tier of networks to be optimized with relative efficieny.\n",
    "Using the Tensor Network backend we are able to optimize a 20-qubit network in roughly 5 minutes on a laptop computer."
   ]
  },
  {
   "cell_type": "code",
   "execution_count": 1,
   "id": "fc95eaba",
   "metadata": {},
   "outputs": [],
   "source": [
    "import pennylane as qml\n",
    "from pennylane import numpy as np\n",
    "import matplotlib.pyplot as plt\n",
    "import time\n",
    "\n",
    "import tensorflow as tf\n",
    "\n",
    "from context import QNetOptimizer as QNopt"
   ]
  },
  {
   "cell_type": "markdown",
   "id": "8ef73864",
   "metadata": {},
   "source": [
    "### Setup"
   ]
  },
  {
   "cell_type": "code",
   "execution_count": 2,
   "id": "8ab53dbe",
   "metadata": {},
   "outputs": [],
   "source": [
    "def bell_state_local_RY(settings, wires):\n",
    "    qml.Hadamard(wires[0])\n",
    "    qml.CNOT(wires=wires[0:2])\n",
    "        \n",
    "    qml.RY(settings[0], wires=wires[0])\n",
    "    qml.RY(settings[1], wires=wires[1])\n",
    "\n",
    "def static_nlocal_prepare_nodes(n):\n",
    "    return [QNopt.PrepareNode(1, [2*i, 2*i + 1], bell_state_local_RY, 2) for i in range(n)]\n",
    "\n",
    "def local_RY_measure_nodes(n):\n",
    "    meas_nodes = [QNopt.MeasureNode(2, 2, [0], QNopt.local_RY, 1)]\n",
    "    meas_nodes.extend([\n",
    "        QNopt.MeasureNode(2, 2, [2*i + 1, 2*i + 2], QNopt.local_RY, 2) for i in range(0,n-1)\n",
    "    ])\n",
    "    meas_nodes.append(QNopt.MeasureNode(2, 2, [2*n-1], QNopt.local_RY, 1))\n",
    "    \n",
    "    return meas_nodes\n",
    "\n",
    "def tn_optimize_nlocal_chain(n):\n",
    "    print(\"n : \", n)\n",
    "\n",
    "    tn_prep_nodes = static_nlocal_prepare_nodes(n)\n",
    "    tn_meas_nodes = local_RY_measure_nodes(n)\n",
    "    \n",
    "    tn_nlocal_ansatz = QNopt.NetworkAnsatz(tn_prep_nodes, tn_meas_nodes)\n",
    "    tn_nlocal_ansatz.dev = qml.device(\"default.tensor.tf\",\n",
    "        wires=tn_nlocal_ansatz.network_wires,\n",
    "        representation=\"exact\",\n",
    "        contraction_method=\"auto\"\n",
    "    )\n",
    "    \n",
    "    np_settings = tn_nlocal_ansatz.rand_scenario_settings()\n",
    "\n",
    "    tn_settings = [\n",
    "        [tf.Variable(settings) for settings in np_settings[0]],\n",
    "        [tf.Variable(settings) for settings in np_settings[1]],\n",
    "    ]\n",
    "\n",
    "    tn_cost = QNopt.nlocal_chain_cost_22(tn_nlocal_ansatz, interface=\"tf\", diff_method=\"backprop\")\n",
    "    tn_opt_dict = QNopt.gradient_descent(\n",
    "        tn_cost,\n",
    "        tn_settings,\n",
    "        num_steps=15,\n",
    "        step_size=0.8,\n",
    "        sample_width = 3,\n",
    "        interface=\"tf\"\n",
    "    )\n",
    "    \n",
    "    print(\"max score : \", tn_opt_dict[\"opt_score\"])\n",
    "    \n",
    "    return tn_opt_dict  \n",
    "\n",
    "def tf_optimize_nlocal_chain(n):\n",
    "    print(\"n : \", n)\n",
    "\n",
    "    tf_prep_nodes = static_nlocal_prepare_nodes(n)\n",
    "    tf_meas_nodes = local_RY_measure_nodes(n)\n",
    "    \n",
    "    tf_nlocal_ansatz = QNopt.NetworkAnsatz(tf_prep_nodes, tf_meas_nodes)\n",
    "\n",
    "    np_settings = tf_nlocal_ansatz.rand_scenario_settings()\n",
    "\n",
    "    tf_settings = [\n",
    "        [tf.Variable(settings) for settings in np_settings[0]],\n",
    "        [tf.Variable(settings) for settings in np_settings[1]],\n",
    "    ]\n",
    "\n",
    "    tf_cost = QNopt.nlocal_chain_cost_22(tf_nlocal_ansatz, interface=\"tf\", diff_method=\"backprop\")\n",
    "    tf_opt_dict = QNopt.gradient_descent(\n",
    "        tf_cost,\n",
    "        tf_settings,\n",
    "        num_steps=15,\n",
    "        step_size=0.8,\n",
    "        sample_width = 3,\n",
    "        interface=\"tf\"\n",
    "    )\n",
    "    \n",
    "    print(\"max score : \", tf_opt_dict[\"opt_score\"])\n",
    "    \n",
    "    return tf_opt_dict \n",
    "\n",
    "def ag_optimize_nlocal_chain(n):\n",
    "    print(\"n : \", n)\n",
    "\n",
    "    ag_prep_nodes = static_nlocal_prepare_nodes(n)\n",
    "    ag_meas_nodes = local_RY_measure_nodes(n)\n",
    "    \n",
    "    ag_nlocal_ansatz = QNopt.NetworkAnsatz(ag_prep_nodes, ag_meas_nodes)\n",
    "    \n",
    "    ag_settings = ag_nlocal_ansatz.rand_scenario_settings()\n",
    "\n",
    "    ag_cost = QNopt.nlocal_chain_cost_22(ag_nlocal_ansatz, interface=\"autograd\", diff_method=\"backprop\")\n",
    "    ag_opt_dict = QNopt.gradient_descent(\n",
    "        ag_cost,\n",
    "        ag_settings,\n",
    "        num_steps=15,\n",
    "        step_size=0.8,\n",
    "        sample_width = 3\n",
    "    )\n",
    "    \n",
    "    print(\"max score : \", ag_opt_dict[\"opt_score\"])\n",
    "    \n",
    "    return ag_opt_dict "
   ]
  },
  {
   "cell_type": "markdown",
   "id": "fc5fe75d",
   "metadata": {},
   "source": [
    "## Interface Comparison on Backpropagation\n",
    "\n",
    "### Autograd"
   ]
  },
  {
   "cell_type": "code",
   "execution_count": 3,
   "id": "98a11bf9",
   "metadata": {},
   "outputs": [
    {
     "name": "stdout",
     "output_type": "stream",
     "text": [
      "n :  6\n",
      "iteration :  0 , score :  0.2910119273912153\n",
      "iteration :  3 , score :  1.170438972976621\n",
      "iteration :  6 , score :  1.3713732007878927\n",
      "iteration :  9 , score :  1.4082694211302902\n",
      "iteration :  12 , score :  1.4134015966515074\n",
      "max score :  1.4141033563290029\n",
      "CPU times: user 4.64 s, sys: 167 ms, total: 4.8 s\n",
      "Wall time: 4.86 s\n"
     ]
    }
   ],
   "source": [
    "%%time\n",
    "\n",
    "np.random.seed(1)\n",
    "ag6_opt_dict = ag_optimize_nlocal_chain(6)"
   ]
  },
  {
   "cell_type": "markdown",
   "id": "4c2e0b66",
   "metadata": {},
   "source": [
    "### TensorFlow"
   ]
  },
  {
   "cell_type": "code",
   "execution_count": 4,
   "id": "62a7f08f",
   "metadata": {},
   "outputs": [
    {
     "name": "stdout",
     "output_type": "stream",
     "text": [
      "n :  6\n"
     ]
    },
    {
     "name": "stderr",
     "output_type": "stream",
     "text": [
      "2021-09-29 17:17:01.887528: I tensorflow/core/platform/cpu_feature_guard.cc:142] This TensorFlow binary is optimized with oneAPI Deep Neural Network Library (oneDNN) to use the following CPU instructions in performance-critical operations:  AVX2 FMA\n",
      "To enable them in other operations, rebuild TensorFlow with the appropriate compiler flags.\n"
     ]
    },
    {
     "name": "stdout",
     "output_type": "stream",
     "text": [
      "iteration :  0 , score :  tf.Tensor(0.2910119273912166, shape=(), dtype=float64)\n",
      "iteration :  3 , score :  tf.Tensor(1.1704389666959336, shape=(), dtype=float64)\n",
      "iteration :  6 , score :  tf.Tensor(1.371373202152422, shape=(), dtype=float64)\n",
      "iteration :  9 , score :  tf.Tensor(1.408269421524657, shape=(), dtype=float64)\n",
      "iteration :  12 , score :  tf.Tensor(1.4134015967330096, shape=(), dtype=float64)\n",
      "max score :  tf.Tensor(1.414103356343892, shape=(), dtype=float64)\n",
      "CPU times: user 26.1 s, sys: 2.12 s, total: 28.3 s\n",
      "Wall time: 15.8 s\n"
     ]
    }
   ],
   "source": [
    "%%time\n",
    "\n",
    "np.random.seed(1)\n",
    "tf6_opt_dict = tf_optimize_nlocal_chain(6)"
   ]
  },
  {
   "cell_type": "markdown",
   "id": "451cc9d5",
   "metadata": {},
   "source": [
    "### TensorFlow with TensorNetwork Device"
   ]
  },
  {
   "cell_type": "code",
   "execution_count": 5,
   "id": "c3ede532",
   "metadata": {},
   "outputs": [
    {
     "name": "stdout",
     "output_type": "stream",
     "text": [
      "n :  6\n",
      "iteration :  0 , score :  tf.Tensor(0.2910119273912156, shape=(), dtype=float64)\n",
      "iteration :  3 , score :  tf.Tensor(1.1704389666959438, shape=(), dtype=float64)\n",
      "iteration :  6 , score :  tf.Tensor(1.3713732021524205, shape=(), dtype=float64)\n",
      "iteration :  9 , score :  tf.Tensor(1.4082694215246558, shape=(), dtype=float64)\n",
      "iteration :  12 , score :  tf.Tensor(1.413401596733006, shape=(), dtype=float64)\n",
      "max score :  tf.Tensor(1.4141033563438952, shape=(), dtype=float64)\n",
      "CPU times: user 15.7 s, sys: 552 ms, total: 16.3 s\n",
      "Wall time: 13.6 s\n"
     ]
    }
   ],
   "source": [
    "%%time\n",
    "\n",
    "np.random.seed(1)\n",
    "tn6_opt_dict = tn_optimize_nlocal_chain(6)"
   ]
  },
  {
   "cell_type": "markdown",
   "id": "4247ee43",
   "metadata": {},
   "source": [
    "## Scaling TensorFlow on TensorNetwork Devices"
   ]
  },
  {
   "cell_type": "code",
   "execution_count": 6,
   "id": "a587ace0",
   "metadata": {},
   "outputs": [
    {
     "name": "stdout",
     "output_type": "stream",
     "text": [
      "n :  7\n",
      "iteration :  0 , score :  tf.Tensor(0.22747569616624702, shape=(), dtype=float64)\n",
      "iteration :  3 , score :  tf.Tensor(1.291311561594983, shape=(), dtype=float64)\n",
      "iteration :  6 , score :  tf.Tensor(1.4027941585015897, shape=(), dtype=float64)\n",
      "iteration :  9 , score :  tf.Tensor(1.4127345535776898, shape=(), dtype=float64)\n",
      "iteration :  12 , score :  tf.Tensor(1.4140139673514156, shape=(), dtype=float64)\n",
      "max score :  tf.Tensor(1.4141865830313487, shape=(), dtype=float64)\n",
      "CPU times: user 28.4 s, sys: 946 ms, total: 29.4 s\n",
      "Wall time: 16.9 s\n"
     ]
    }
   ],
   "source": [
    "%%time\n",
    "\n",
    "np.random.seed(1)\n",
    "n7_opt_dict = tn_optimize_nlocal_chain(7)"
   ]
  },
  {
   "cell_type": "code",
   "execution_count": 7,
   "id": "26d78880",
   "metadata": {},
   "outputs": [
    {
     "name": "stdout",
     "output_type": "stream",
     "text": [
      "n :  8\n",
      "iteration :  0 , score :  tf.Tensor(0.09333571468401751, shape=(), dtype=float64)\n",
      "iteration :  3 , score :  tf.Tensor(1.0352364320233645, shape=(), dtype=float64)\n",
      "iteration :  6 , score :  tf.Tensor(1.3867815281096727, shape=(), dtype=float64)\n",
      "iteration :  9 , score :  tf.Tensor(1.4114182484350573, shape=(), dtype=float64)\n",
      "iteration :  12 , score :  tf.Tensor(1.413839586621107, shape=(), dtype=float64)\n",
      "max score :  tf.Tensor(1.4141627006090363, shape=(), dtype=float64)\n",
      "CPU times: user 1min 27s, sys: 2.51 s, total: 1min 29s\n",
      "Wall time: 25.7 s\n"
     ]
    }
   ],
   "source": [
    "%%time\n",
    "\n",
    "np.random.seed(1)\n",
    "n8_opt_dict = tn_optimize_nlocal_chain(8)"
   ]
  },
  {
   "cell_type": "code",
   "execution_count": 8,
   "id": "6bc83833",
   "metadata": {},
   "outputs": [
    {
     "name": "stdout",
     "output_type": "stream",
     "text": [
      "n :  9\n",
      "iteration :  0 , score :  tf.Tensor(0.06313287953314659, shape=(), dtype=float64)\n",
      "iteration :  3 , score :  tf.Tensor(1.0021867112636502, shape=(), dtype=float64)\n",
      "iteration :  6 , score :  tf.Tensor(1.3889188065625029, shape=(), dtype=float64)\n",
      "iteration :  9 , score :  tf.Tensor(1.4121259750140072, shape=(), dtype=float64)\n",
      "iteration :  12 , score :  tf.Tensor(1.4139399330166496, shape=(), dtype=float64)\n",
      "max score :  tf.Tensor(1.4141764073218086, shape=(), dtype=float64)\n",
      "CPU times: user 7min 36s, sys: 25.9 s, total: 8min 2s\n",
      "Wall time: 1min 17s\n"
     ]
    }
   ],
   "source": [
    "%%time\n",
    "\n",
    "np.random.seed(3)\n",
    "n9_opt_dict = tn_optimize_nlocal_chain(9)"
   ]
  },
  {
   "cell_type": "markdown",
   "id": "47045cb4",
   "metadata": {},
   "source": [
    "## TensorNetwork Outperforms Default Qubit"
   ]
  },
  {
   "cell_type": "code",
   "execution_count": 9,
   "id": "9c4ae2e4",
   "metadata": {},
   "outputs": [
    {
     "name": "stdout",
     "output_type": "stream",
     "text": [
      "n :  9\n",
      "iteration :  0 , score :  0.06313287953314589\n",
      "iteration :  3 , score :  1.002186701610961\n",
      "iteration :  6 , score :  1.3889188043775538\n",
      "iteration :  9 , score :  1.412125974825977\n",
      "iteration :  12 , score :  1.4139399329842919\n",
      "max score :  1.414176407316137\n",
      "CPU times: user 3min 48s, sys: 34.8 s, total: 4min 23s\n",
      "Wall time: 2min 3s\n"
     ]
    }
   ],
   "source": [
    "%%time\n",
    "\n",
    "np.random.seed(3)\n",
    "n9_ag_opt_dict = ag_optimize_nlocal_chain(9)"
   ]
  },
  {
   "cell_type": "markdown",
   "id": "0e4c3fea",
   "metadata": {},
   "source": [
    "## Max \"Efficient\" (<10min) Optimization, $n=10$ (20 Qubits)"
   ]
  },
  {
   "cell_type": "code",
   "execution_count": 10,
   "id": "d4651ef7",
   "metadata": {},
   "outputs": [
    {
     "name": "stdout",
     "output_type": "stream",
     "text": [
      "n :  10\n",
      "iteration :  0 , score :  tf.Tensor(0.04566642166979497, shape=(), dtype=float64)\n",
      "iteration :  3 , score :  tf.Tensor(0.5583340198239084, shape=(), dtype=float64)\n",
      "iteration :  6 , score :  tf.Tensor(1.18085092014525, shape=(), dtype=float64)\n",
      "iteration :  9 , score :  tf.Tensor(1.3678963583309893, shape=(), dtype=float64)\n",
      "iteration :  12 , score :  tf.Tensor(1.4075520618921875, shape=(), dtype=float64)\n",
      "max score :  tf.Tensor(1.4132963148318258, shape=(), dtype=float64)\n",
      "CPU times: user 38min 19s, sys: 1min 3s, total: 39min 23s\n",
      "Wall time: 4min 46s\n"
     ]
    }
   ],
   "source": [
    "%%time\n",
    "\n",
    "np.random.seed(1)\n",
    "n10_opt_dict = tn_optimize_nlocal_chain(10)"
   ]
  },
  {
   "cell_type": "code",
   "execution_count": null,
   "id": "7ee06659",
   "metadata": {},
   "outputs": [],
   "source": []
  }
 ],
 "metadata": {
  "@webio": {
   "lastCommId": null,
   "lastKernelId": null
  },
  "kernelspec": {
   "display_name": "Python 3",
   "language": "python",
   "name": "python3"
  },
  "language_info": {
   "codemirror_mode": {
    "name": "ipython",
    "version": 3
   },
   "file_extension": ".py",
   "mimetype": "text/x-python",
   "name": "python",
   "nbconvert_exporter": "python",
   "pygments_lexer": "ipython3",
   "version": "3.8.11"
  }
 },
 "nbformat": 4,
 "nbformat_minor": 5
}
