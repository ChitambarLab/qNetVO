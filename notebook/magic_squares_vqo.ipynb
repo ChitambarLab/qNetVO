{
 "cells": [
  {
   "cell_type": "markdown",
   "metadata": {},
   "source": [
    "# VQO of the Magic Squares Game\n",
    "\n",
    "In this notebook, we demonstrate the use of variational quantum optimization (VQO) to find optimal quantum strategies for the magic square game."
   ]
  },
  {
   "cell_type": "code",
   "execution_count": 1,
   "metadata": {},
   "outputs": [
    {
     "name": "stderr",
     "output_type": "stream",
     "text": [
      "WARNING:matplotlib.style.core:In /Users/brian/opt/anaconda3/lib/python3.7/site-packages/matplotlib/mpl-data/stylelib/_classic_test.mplstyle: \n",
      "The text.latex.preview rcparam was deprecated in Matplotlib 3.3 and will be removed two minor releases later.\n",
      "WARNING:matplotlib.style.core:In /Users/brian/opt/anaconda3/lib/python3.7/site-packages/matplotlib/mpl-data/stylelib/_classic_test.mplstyle: \n",
      "The mathtext.fallback_to_cm rcparam was deprecated in Matplotlib 3.3 and will be removed two minor releases later.\n",
      "WARNING:matplotlib.style.core:In /Users/brian/opt/anaconda3/lib/python3.7/site-packages/matplotlib/mpl-data/stylelib/_classic_test.mplstyle: Support for setting the 'mathtext.fallback_to_cm' rcParam is deprecated since 3.3 and will be removed two minor releases later; use 'mathtext.fallback : 'cm' instead.\n",
      "WARNING:matplotlib.style.core:In /Users/brian/opt/anaconda3/lib/python3.7/site-packages/matplotlib/mpl-data/stylelib/_classic_test.mplstyle: \n",
      "The validate_bool_maybe_none function was deprecated in Matplotlib 3.3 and will be removed two minor releases later.\n",
      "WARNING:matplotlib.style.core:In /Users/brian/opt/anaconda3/lib/python3.7/site-packages/matplotlib/mpl-data/stylelib/_classic_test.mplstyle: \n",
      "The savefig.jpeg_quality rcparam was deprecated in Matplotlib 3.3 and will be removed two minor releases later.\n",
      "WARNING:matplotlib.style.core:In /Users/brian/opt/anaconda3/lib/python3.7/site-packages/matplotlib/mpl-data/stylelib/_classic_test.mplstyle: \n",
      "The keymap.all_axes rcparam was deprecated in Matplotlib 3.3 and will be removed two minor releases later.\n",
      "WARNING:matplotlib.style.core:In /Users/brian/opt/anaconda3/lib/python3.7/site-packages/matplotlib/mpl-data/stylelib/_classic_test.mplstyle: \n",
      "The animation.avconv_path rcparam was deprecated in Matplotlib 3.3 and will be removed two minor releases later.\n",
      "WARNING:matplotlib.style.core:In /Users/brian/opt/anaconda3/lib/python3.7/site-packages/matplotlib/mpl-data/stylelib/_classic_test.mplstyle: \n",
      "The animation.avconv_args rcparam was deprecated in Matplotlib 3.3 and will be removed two minor releases later.\n"
     ]
    }
   ],
   "source": [
    "import pennylane as qml\n",
    "from pennylane import numpy as np\n",
    "import matplotlib.pyplot as plt"
   ]
  },
  {
   "cell_type": "markdown",
   "metadata": {},
   "source": [
    "## Implementing the Optimal Quantum Strategy\n",
    "\n",
    "In this section, we show how PennyLane can be used to simulate the optimal quantum strategy for the magic squares game.\n",
    "The optimal quantum strategy is implemented as described in Appendix C of https://arxiv.org/pdf/1909.02479.pdf.\n",
    "\n",
    "### Ideal State Preparation\n",
    "\n",
    "For the ideal quantum strategy, the state is initialized as \n",
    "\n",
    "$$\n",
    "|\\psi_{A_1A_2B_1B_2}\\rangle = \\frac{1}{2}\\left(|00\\rangle_{A_1A_2}|11\\rangle_{B_1B_2} + |11\\rangle_{A_1A_2}|00\\rangle_{B_1B_2}- |01\\rangle_{A_1A_2}|10\\rangle_{B_1B_2} - |10\\rangle_{A_1A_2}|01\\rangle_{B_1B_2} \\right)\n",
    "$$"
   ]
  },
  {
   "cell_type": "code",
   "execution_count": 2,
   "metadata": {},
   "outputs": [
    {
     "name": "stdout",
     "output_type": "stream",
     "text": [
      " 0: ──X──H──────╭C──╭┤ State \n",
      " 1: ──X──H──╭C──│───├┤ State \n",
      " 2: ──X─────│───╰X──├┤ State \n",
      " 3: ──X─────╰X──────╰┤ State \n",
      "\n"
     ]
    }
   ],
   "source": [
    "dev = qml.device(\"default.qubit\", wires=range(4))\n",
    "\n",
    "def ideal_init_state():\n",
    "    for i in range(4):\n",
    "        qml.PauliX(wires=[i])\n",
    "\n",
    "    for i in range(2):\n",
    "        qml.Hadamard(wires=[i])\n",
    "        qml.CNOT(wires=[i,i+2])\n",
    "    \n",
    "@qml.qnode(dev)\n",
    "def ideal_init_state_qnode_test():\n",
    "    ideal_init_state()\n",
    "    \n",
    "    return qml.state()\n",
    "\n",
    "assert np.allclose(ideal_init_state_qnode_test(), np.array([0,0,0,1,0,0,-1,0,0,-1,0,0,1,0,0,0])/2)\n",
    "\n",
    "print(ideal_init_state_qnode_test.draw())"
   ]
  },
  {
   "cell_type": "markdown",
   "metadata": {},
   "source": [
    "### Ideal Measurments\n",
    "\n",
    "The ideal measurements are encoded as unitaries applied to the initialized states.\n",
    "These unitaries perform a rotation on the computational basis to effectively create a new measurement basis."
   ]
  },
  {
   "cell_type": "code",
   "execution_count": 3,
   "metadata": {},
   "outputs": [],
   "source": [
    "# TODO: reconstruct ideal unitaries as expressed in appendix C of https://arxiv.org/pdf/1909.02479.pdf."
   ]
  },
  {
   "cell_type": "markdown",
   "metadata": {},
   "source": [
    "### Verifying Unitaries\n",
    "\n",
    "To construct a unitary matrix from a sequence of gates, we need to perform unitary tomography on the quantum circuit.\n",
    "This is easily done in PennyLane using the `qml.state()` return value to get the state vector from the quantum simulator."
   ]
  },
  {
   "cell_type": "code",
   "execution_count": 3,
   "metadata": {},
   "outputs": [],
   "source": [
    "def unitary_tomography(device, quantum_fn, *args, verbose=False, **kwargs):\n",
    "        \n",
    "    @qml.qnode(device)\n",
    "    def test_unitary_circ(val):\n",
    "        bin_vals = np.binary_repr(val,len(test_dev.wires))\n",
    "\n",
    "        for (i, bin_val) in enumerate(bin_vals):\n",
    "            if int(bin_val) == 1:\n",
    "                qml.PauliX(wires=test_dev.wires[i])\n",
    "\n",
    "        quantum_fn(*args, **kwargs)\n",
    "\n",
    "        return qml.state()\n",
    "    \n",
    "    dim = 2**len(device.wires)\n",
    "    evaluated_unitary = np.zeros((dim,dim), dtype=complex)\n",
    "    for val in range(dim):\n",
    "        state = test_unitary_circ(val)\n",
    "        \n",
    "        if verbose:\n",
    "            print(\"initialized basis state :\", val)\n",
    "            print(test_unitary_circ.draw())\n",
    "\n",
    "            print(\"state :\", state)\n",
    "\n",
    "        evaluated_unitary[0:,val] = state\n",
    "\n",
    "    return evaluated_unitary"
   ]
  },
  {
   "cell_type": "markdown",
   "metadata": {},
   "source": [
    "## Optimizing the Optimal Quantum Strategy\n",
    "\n",
    "We need a cost function to minimize with respect to the magic squares game.\n",
    "This can simply be $-P_{win}$ which is the negative winning probability for quantum magic squares strategy.\n",
    "The winning probability is computed as $P_{win} = \\sum_{x,y=0}^2 P(win|x,y)$ where $P(win|x,y)$ is the probability that the $x^{th}$ bit of Alice equals the $y^{th}$ bit of Bob.\n",
    "The first two bits of Alice and Bob's respective bitstrings are procured from the measurement outcomes on the two local qubits held by each party.\n",
    "The third bit is chosen such that the parity of the whole bit string is correct (Alice has even parity and Bob has odd parity).\n",
    "Given the set of probabilities $P(a_0,a_1,b_0,b_1|x,y)$ where all $a_i, b_j\\in\\{0,1\\}$, the winning probability can easily be computed.\n",
    "\n",
    "We now compute the winning probability for the magic square game and implement it as a cost function to be minimized."
   ]
  },
  {
   "cell_type": "code",
   "execution_count": 15,
   "metadata": {},
   "outputs": [],
   "source": [
    "# This is a factory function to create a cost function based upon the\n",
    "# quantum circuit expressed in probs_qnode\n",
    "def magic_squares_cost(probs_qnode):\n",
    "    \n",
    "    def cost(settings):\n",
    "        state_settings, A_settings, B_settings = settings\n",
    "\n",
    "        score = 0\n",
    "        for x in [0,1,2]:\n",
    "            for y in [0,1,2]:\n",
    "                probs = probs_qnode(state_settings, A_settings[x], B_settings[y])\n",
    "\n",
    "                for i in range(16):\n",
    "                    bit_string = [int(x) for x in np.binary_repr(i,4)]\n",
    "\n",
    "                    A_parity_bit = 0 if (bit_string[0] + bit_string[1]) % 2 == 0 else 1\n",
    "                    B_parity_bit = 1 if (bit_string[2] + bit_string[3]) % 2 == 0 else 0\n",
    "\n",
    "                    A_bits = bit_string[0:2] + [A_parity_bit]\n",
    "                    B_bits = bit_string[2:] + [B_parity_bit]            \n",
    "\n",
    "                    if A_bits[y] == B_bits[x]:\n",
    "                        score += probs[i]\n",
    "\n",
    "        return -(score/9)\n",
    "    \n",
    "    return cost\n",
    "\n",
    "# creates randomized initial settings for magic squares qnodes\n",
    "def rand_magic_squares_settings(num_state_settings, num_A_settings, num_B_settings):\n",
    "    state_settings = 2 * np.pi * np.random.random(num_state_settings)\n",
    "    A_settings = [\n",
    "        2 * np.pi * np.random.random(num_A_settings) - np.pi for i in range(3)\n",
    "    ]\n",
    "    B_settings = [\n",
    "        2 * np.pi * np.random.random(num_B_settings) - np.pi for i in range(3)\n",
    "    ]\n",
    "    \n",
    "    return state_settings, A_settings, B_settings\n"
   ]
  },
  {
   "cell_type": "markdown",
   "metadata": {},
   "source": [
    "### Optimizing Measurments with Ideal State Preparation\n",
    "\n",
    "With the entangled state fixed as the ideal state, we use VQO to find the optimal quantum measurements for the magic square game.\n",
    "First we define a measurement ansatz which applies an arbitrary two-qubit gate to Alice and Bob's resepective states.\n",
    "Simples ansatz circuits likely exist, but the dimensions are small enough that we can optimize over the complete quantum state space."
   ]
  },
  {
   "cell_type": "code",
   "execution_count": 16,
   "metadata": {},
   "outputs": [],
   "source": [
    "@qml.qnode(dev)\n",
    "def measurement_qnode(state_settings, settingsA, settingsB):\n",
    "#     ideal_init_state()\n",
    "    \n",
    "    qml.templates.subroutines.ArbitraryUnitary(settingsA, wires=dev.wires[0:2])\n",
    "    qml.templates.subroutines.ArbitraryUnitary(settingsB, wires=dev.wires[2:])\n",
    "    \n",
    "    return qml.probs(wires=dev.wires)"
   ]
  },
  {
   "cell_type": "markdown",
   "metadata": {},
   "source": [
    "Next, we perform gradient descent to minimze the magic squares cost function."
   ]
  },
  {
   "cell_type": "code",
   "execution_count": 18,
   "metadata": {},
   "outputs": [
    {
     "name": "stdout",
     "output_type": "stream",
     "text": [
      "iteration :  0 , score :  0.4433143145116584\n",
      "iteration :  10 , score :  0.5606060792472338\n",
      "iteration :  20 , score :  0.6962875821943145\n",
      "iteration :  30 , score :  0.7793355123054937\n",
      "iteration :  40 , score :  0.8291398763100155\n",
      "iteration :  50 , score :  0.8571305175895726\n",
      "iteration :  60 , score :  0.8710086885972914\n",
      "iteration :  70 , score :  0.8781870913988722\n",
      "iteration :  80 , score :  0.8821148340307173\n",
      "iteration :  90 , score :  0.884376312600547\n",
      "iteration :  100 , score :  0.8857457351462393\n",
      "iteration :  110 , score :  0.8866155149389547\n",
      "iteration :  120 , score :  0.8871920488240386\n",
      "iteration :  130 , score :  0.8875886028564467\n",
      "iteration :  140 , score :  0.8878701398111284\n",
      "final score :  0.8880755246414924\n",
      "CPU times: user 47 s, sys: 525 ms, total: 47.5 s\n",
      "Wall time: 47.9 s\n"
     ]
    }
   ],
   "source": [
    "%%time\n",
    "\n",
    "opt = qml.GradientDescentOptimizer(stepsize=0.5)\n",
    "num_steps = 150\n",
    "sample_width = 10\n",
    "\n",
    "measurement_cost = magic_squares_cost(measurement_qnode)\n",
    "\n",
    "init_settings = rand_magic_squares_settings(0,15,15)\n",
    "scores = []\n",
    "samples = []\n",
    "settings_history = []\n",
    "\n",
    "# performing gradient descent\n",
    "for i in range(num_steps):\n",
    "    if i % sample_width == 0:\n",
    "        score = -(measurement_cost(init_settings))\n",
    "        scores.append(score)\n",
    "        samples.append(i)\n",
    "\n",
    "        print(\"iteration : \", i, \", score : \", score)\n",
    "\n",
    "    # updating settings\n",
    "    init_settings = opt.step(measurement_cost, init_settings)\n",
    "    settings_history.append(init_settings)\n",
    "\n",
    "opt_score = -(measurement_cost(init_settings))\n",
    "\n",
    "scores.append(opt_score)\n",
    "samples.append(num_steps - 1)\n",
    "\n",
    "print(\"final score : \", opt_score)"
   ]
  },
  {
   "cell_type": "code",
   "execution_count": 14,
   "metadata": {},
   "outputs": [
    {
     "data": {
      "image/png": "[encoded data removed]",
      "text/plain": [
       "<Figure size 432x288 with 1 Axes>"
      ]
     },
     "metadata": {
      "needs_background": "light"
     },
     "output_type": "display_data"
    }
   ],
   "source": [
    "plt.plot(range(16), scores , label = \"Magic Squares Optimization\")\n",
    "plt.plot(range(16), [17/18]*len(scores), label = r\"Classical Bound\")\n",
    "plt.plot(range(16), [1]*len(scores), label = \"Quantum Bound\")\n",
    "plt.title(\"Magic Squares Optimization over Measurements\")\n",
    "plt.xlabel(\"Iteration (x10)\")\n",
    "plt.ylabel(\"Winning Probability\")\n",
    "plt.legend()\n",
    "plt.show()"
   ]
  },
  {
   "cell_type": "code",
   "execution_count": 8,
   "metadata": {},
   "outputs": [
    {
     "name": "stdout",
     "output_type": "stream",
     "text": [
      "Alice's unitaries\n",
      "x :  0\n",
      "[[-0.54 +0.529j -0.022-0.484j -0.146-0.092j  0.343-0.217j]\n",
      " [-0.276-0.594j -0.534-0.163j -0.157+0.123j -0.104-0.456j]\n",
      " [-0.   +0.j    -0.107-0.443j  0.422-0.563j -0.534+0.108j]\n",
      " [ 0.   -0.j    -0.398-0.295j  0.406+0.52j   0.205+0.526j]]\n",
      "x :  1\n",
      "[[-0.368-0.003j  0.067+0.445j -0.209-0.035j -0.149+0.772j]\n",
      " [-0.   -0.j     0.43 +0.115j  0.573-0.688j -0.028+0.015j]\n",
      " [-0.896-0.248j  0.02 -0.177j  0.076+0.035j  0.136-0.28j ]\n",
      " [-0.   +0.j     0.299-0.692j  0.242+0.297j -0.375+0.38j ]]\n",
      "x :  2\n",
      "[[-0.8  +0.092j  0.287+0.397j -0.299+0.132j -0.063-0.031j]\n",
      " [-0.   -0.j     0.476-0.026j  0.02 -0.744j  0.141+0.446j]\n",
      " [ 0.   -0.j    -0.002-0.301j -0.306-0.221j -0.871-0.094j]\n",
      " [ 0.533+0.26j   0.039+0.664j -0.439-0.068j -0.05 -0.081j]]\n",
      "Bob's unitaries\n",
      "y :  0\n",
      "[[-0.   -0.j     0.023+0.177j -0.187-0.951j -0.114+0.121j]\n",
      " [ 0.898-0.351j  0.017+0.04j   0.046+0.018j  0.096+0.237j]\n",
      " [-0.099-0.245j -0.146+0.064j -0.062+0.17j  -0.861+0.362j]\n",
      " [ 0.   -0.j    -0.795+0.556j -0.135+0.08j   0.166-0.085j]]\n",
      "y :  1\n",
      "[[-0.   -0.j     0.023+0.177j -0.187-0.951j -0.114+0.121j]\n",
      " [ 0.898-0.351j  0.017+0.04j   0.046+0.018j  0.096+0.237j]\n",
      " [-0.099-0.245j -0.146+0.064j -0.062+0.17j  -0.861+0.362j]\n",
      " [ 0.   -0.j    -0.795+0.556j -0.135+0.08j   0.166-0.085j]]\n",
      "y :  2\n",
      "[[-0.   -0.j     0.023+0.177j -0.187-0.951j -0.114+0.121j]\n",
      " [ 0.898-0.351j  0.017+0.04j   0.046+0.018j  0.096+0.237j]\n",
      " [-0.099-0.245j -0.146+0.064j -0.062+0.17j  -0.861+0.362j]\n",
      " [ 0.   -0.j    -0.795+0.556j -0.135+0.08j   0.166-0.085j]]\n"
     ]
    }
   ],
   "source": [
    "test_dev = qml.device(\"default.qubit\", wires=range(2))\n",
    "def test_two_qubit_unitary(settings, wires):\n",
    "    qml.templates.subroutines.ArbitraryUnitary(settings, wires=wires)\n",
    "\n",
    "print(\"Alice's unitaries\")\n",
    "for x in [0,1,2]:\n",
    "    print(\"x : \", x)\n",
    "    mat = unitary_tomography(test_dev, test_two_qubit_unitary, init_settings[1][x],wires=test_dev.wires)\n",
    "    print(mat.round(3))\n",
    "    \n",
    "print(\"Bob's unitaries\")\n",
    "for y in [0,1,2]:\n",
    "    print(\"y : \", y)\n",
    "    mat = unitary_tomography(test_dev, test_two_qubit_unitary, init_settings[2][x],wires=test_dev.wires)\n",
    "    print(mat.round(3))\n"
   ]
  },
  {
   "cell_type": "markdown",
   "metadata": {},
   "source": [
    "### Optimizing Entangled States for Optimal Quantum Strategy\n",
    "\n",
    "With the measurements fixed as the ideal measurements, we demonstrate the use of VQO to find a four-qubit state that performs the optimal quantum strategy."
   ]
  },
  {
   "cell_type": "code",
   "execution_count": 10,
   "metadata": {},
   "outputs": [],
   "source": [
    "# TODO: "
   ]
  },
  {
   "cell_type": "markdown",
   "metadata": {},
   "source": [
    "### Finding Optimal Quantum States and Measurements for the Magic Square Game\n",
    "\n",
    "In this section, we use VQO to find a quantum state and measurements that win the magic squares game with perfect probability."
   ]
  },
  {
   "cell_type": "code",
   "execution_count": 11,
   "metadata": {},
   "outputs": [],
   "source": [
    "@qml.qnode(dev)\n",
    "def general_magic_squares_qnode(state_settings, settingsA, settingsB):\n",
    "    qml.templates.subroutines.ArbitraryUnitary(state_settings, wires=dev.wires)\n",
    "    \n",
    "    qml.templates.subroutines.ArbitraryUnitary(settingsA, wires=dev.wires[0:2])\n",
    "    qml.templates.subroutines.ArbitraryUnitary(settingsB, wires=dev.wires[2:])\n",
    "    \n",
    "    return qml.probs(wires=dev.wires)"
   ]
  },
  {
   "cell_type": "markdown",
   "metadata": {},
   "source": [
    "Now we optimize the winning probability over the complete state and measurement spaces."
   ]
  },
  {
   "cell_type": "code",
   "execution_count": 12,
   "metadata": {},
   "outputs": [
    {
     "name": "stdout",
     "output_type": "stream",
     "text": [
      "iteration :  0 , score :  0.5348510860020586\n",
      "iteration :  10 , score :  0.7175614746375654\n",
      "iteration :  20 , score :  0.8396404346863825\n",
      "iteration :  30 , score :  0.9049605298293257\n",
      "iteration :  40 , score :  0.9414380837590559\n",
      "iteration :  50 , score :  0.9631638742999231\n",
      "iteration :  60 , score :  0.9763905259431466\n",
      "iteration :  70 , score :  0.9845624976742013\n",
      "iteration :  80 , score :  0.9896950273248317\n",
      "iteration :  90 , score :  0.9929774591220046\n",
      "iteration :  100 , score :  0.9951160220693309\n",
      "iteration :  110 , score :  0.9965349347766802\n",
      "iteration :  120 , score :  0.9974930937977378\n",
      "iteration :  130 , score :  0.9981512928114051\n",
      "iteration :  140 , score :  0.9986111195200544\n",
      "final score :  0.9989377757032278\n",
      "CPU times: user 8min 14s, sys: 3.79 s, total: 8min 18s\n",
      "Wall time: 8min 21s\n"
     ]
    }
   ],
   "source": [
    "%%time\n",
    "\n",
    "opt = qml.GradientDescentOptimizer(stepsize=0.1)\n",
    "num_steps = 150\n",
    "sample_width = 10\n",
    "gen_cost = magic_squares_cost(general_magic_squares_qnode)\n",
    "\n",
    "init_settings = rand_magic_squares_settings(255,15,15)\n",
    "scores = []\n",
    "samples = []\n",
    "settings_history = []\n",
    "\n",
    "# performing gradient descent\n",
    "for i in range(num_steps):\n",
    "    if i % sample_width == 0:\n",
    "        score = -(gen_cost(init_settings))\n",
    "        scores.append(score)\n",
    "        samples.append(i)\n",
    "\n",
    "        print(\"iteration : \", i, \", score : \", score)\n",
    "\n",
    "    # updating the initialized settings\n",
    "    init_settings = opt.step(gen_cost, init_settings)\n",
    "    settings_history.append(init_settings)\n",
    "\n",
    "opt_score = -(gen_cost(init_settings))\n",
    "\n",
    "scores.append(opt_score)\n",
    "samples.append(num_steps - 1)\n",
    "\n",
    "print(\"final score : \", opt_score)"
   ]
  },
  {
   "cell_type": "code",
   "execution_count": 14,
   "metadata": {},
   "outputs": [
    {
     "data": {
      "image/png": "[encoded data removed]",
      "text/plain": [
       "<Figure size 432x288 with 1 Axes>"
      ]
     },
     "metadata": {
      "needs_background": "light"
     },
     "output_type": "display_data"
    }
   ],
   "source": [
    "plt.plot(range(16), scores , label = \"Magic Squares Optimization\")\n",
    "plt.plot(range(16), [17/18]*len(scores), label = r\"Classical Bound\")\n",
    "plt.plot(range(16), [1]*len(scores), label = \"Quantum Bound\")\n",
    "plt.title(\"General Magic Squares Optimization\")\n",
    "plt.xlabel(\"Iteration (x10)\")\n",
    "plt.ylabel(\"Winning Probability\")\n",
    "plt.legend()\n",
    "plt.show()"
   ]
  },
  {
   "cell_type": "code",
   "execution_count": null,
   "metadata": {},
   "outputs": [],
   "source": []
  }
 ],
 "metadata": {
  "@webio": {
   "lastCommId": null,
   "lastKernelId": null
  },
  "kernelspec": {
   "display_name": "Python 3",
   "language": "python",
   "name": "python3"
  },
  "language_info": {
   "codemirror_mode": {
    "name": "ipython",
    "version": 3
   },
   "file_extension": ".py",
   "mimetype": "text/x-python",
   "name": "python",
   "nbconvert_exporter": "python",
   "pygments_lexer": "ipython3",
   "version": "3.7.4"
  }
 },
 "nbformat": 4,
 "nbformat_minor": 5
}
