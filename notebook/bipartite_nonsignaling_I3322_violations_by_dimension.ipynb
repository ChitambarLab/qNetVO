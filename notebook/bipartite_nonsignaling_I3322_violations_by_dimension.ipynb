{
 "cells": [
  {
   "cell_type": "markdown",
   "id": "f2d9cd0c",
   "metadata": {},
   "source": [
    "# Optimizing Quantum Violations for the $I_{3322}$ Bell Inequality"
   ]
  },
  {
   "cell_type": "code",
   "execution_count": 1,
   "id": "5db30cf1",
   "metadata": {},
   "outputs": [],
   "source": [
    "import pennylane as qml\n",
    "from pennylane import numpy as np\n",
    "import matplotlib.pyplot as plt\n",
    "import time\n",
    "\n",
    "from context import QNetOptimizer as QNopt"
   ]
  },
  {
   "cell_type": "markdown",
   "id": "c6430bcb",
   "metadata": {},
   "source": [
    "## Bipartite Non-Signaling Scenario\n",
    "\n",
    "Consider the bipartite non-signaling scenario where Alice and Bob each have three classical inputs and two classical outputs.\n",
    "This Bell scenario can be modeled as a prepare and measure network with a single preparation node and two measurement nodes, Alice and Bob.\n",
    "The ansatz circuit for preparation and measurement is dictated by the local Hilbert space dimensions used by Alice and Bob and will not be specified until later.\n",
    "For now, we'll use `network_ansatz` to refer to this bipartite non-signaling scenarios ansatz circuit.\n",
    "\n",
    "## The $I_{3322}$ Bell Inequality\n",
    "\n",
    "The Bell inequalities bounding this scenario are computed in full by [I. Pitowsky and K. Svozil](https://journals.aps.org/pra/).\n",
    "It was later shown by [D. Collins and N. Gisin](https://iopscience.iop.org/article/10.1088/0305-4470/37/5/021/meta?casa_token=RZb3nMLhJIUAAAAA:gF2JkOypzzEwTxiTiC19UN3lBPUiq2MW0KB47JcD7LNh4GyoF2-dTE1YyB7qu9SWkg5sO1AoyfM) that there is one novel Bell inequality for this scenario, the $I_{3322}$ inequality.\n",
    "For inputs $x,y\\in \\{0,1,2\\}$ and outputs $a,b\\in \\{0,1\\}$, the $I_{3322}$ Bell inequality is expressed as\n",
    "\n",
    "\\begin{align}\n",
    "    I_{3322} := &-P_A(0|0) -2P_B(0|0) - P_B(0|1) + P(00|00) +P(00|01) + P(00|02) \\\\\n",
    "    &+ P(00|10) + P(00|11) - p(00|12) + P(00|20) - P(00|21) \n",
    "\\end{align}\n",
    "\n",
    "The classical upper bound is $I_{3322} \\leq \\beta_C = 0$.\n",
    "An interesting feature of this inequality is that the amount of quantum violation increases with larger entanglement Hilbert space dimensions.\n",
    "Bounds for the infinite dimensional quantum case were produced by [K. Pal and T. Vertesi](https://journals.aps.org/pra/abstract/10.1103/PhysRevA.82.022116) and found to be $I_{3322}\\leq \\beta_Q \\leq 0.250\\: 875\\: 38$.\n",
    "\n",
    "When the multi-qubit case is run as a quantum circuit, a measurement is applied to each local qubit resulting in an $2^N$ outcome measurement.\n",
    "The $I_{3322}$ inequality is defined for dichotomic measurements, hence, the measurement results must be post-processed.\n",
    "We'll express the probabilities for the $2^N$ outcome measurement as $P(\\vec{a},\\vec{b}|x,y)$ where $\\vec{a}$ and $\\vec{b}$ are each $N$-bit strings.\n",
    "Post-processing is applied to $P(\\vec{a},\\vec{b}|x,y)$ to reduce them into joint probabilities of dichotomic observables $P(a,b|x,y)$.\n",
    "The $I_{3322}$ inequality only requires dichotomic probabilities $P(00|xy)$ which are calculated as\n",
    "\n",
    "$$\n",
    "P(00|xy) = \\{Even\\}_A\\{Even\\}_B = \\sum_{\\vec{a}\\in \\{Even\\}} \\sum_{\\vec{b}\\in\\{Even\\}} P(\\vec{a},\\vec{b}|x,y)\n",
    "$$\n",
    "\n",
    "where $\\vec{a} = a_0 a_1 a_2\\dots$ and $\\vec{b} = b_0 b_1 b_2 \\dots$ are bit strings whose parity distinguishes them as belonging to the set of $Even$ or $Odd$ parity bitstrings.\n",
    "For convenience we write functions to construct the set of ids for the even valued bitstrings in a vectors $\\vec{a}$ or $\\vec{b}$."
   ]
  },
  {
   "cell_type": "code",
   "execution_count": 2,
   "id": "b3b5b997",
   "metadata": {},
   "outputs": [],
   "source": [
    "def parity_vector(n_qubits):\n",
    "    \"\"\"Constructs a vector with +/- 1 elements. (+) and (-) correspond to even and odd parity respectively.\"\"\"\n",
    "    if n_qubits == 1:\n",
    "        return np.array([1, -1])\n",
    "    \n",
    "    return np.kron([1, -1], parity_vector(n_qubits - 1))\n",
    "\n",
    "def even_parity_ids(n_qubits):\n",
    "    \"\"\"Collects the ids of the (+) elements in the parity_vector()\"\"\"\n",
    "    p_vec = parity_vector(n_qubits)\n",
    "    return np.argwhere(p_vec == 1).flatten()\n",
    "\n",
    "def multi_qubit_I_3322_post_processing(n_qubits, probs_vec):\n",
    "    \"\"\"Applies the post-process to coarse-grain to a dichotomic measurement.\"\"\"\n",
    "    probs = np.reshape(probs_vec, (2**n_qubits, 2**n_qubits))\n",
    "    \n",
    "    ev_ids = even_parity_ids(n_qubits)\n",
    "    \n",
    "    return sum([ sum([probs[a,b] for b in ev_ids]) for a in ev_ids])"
   ]
  },
  {
   "cell_type": "markdown",
   "id": "5514bd93",
   "metadata": {},
   "source": [
    "Next, we create constructors for general $I_{3322}$ qnodes and cost functions."
   ]
  },
  {
   "cell_type": "code",
   "execution_count": 3,
   "id": "27aaae0b",
   "metadata": {},
   "outputs": [],
   "source": [
    "def _I_3322_local_observables(network_ansatz):\n",
    "    \"\"\"Construct list of local observables for Alice and Bob.\"\"\"\n",
    "    obs_list = []\n",
    "    for node in network_ansatz.measure_nodes:\n",
    "        obs = None\n",
    "        for wire in node.wires:\n",
    "            if obs == None:\n",
    "                obs = qml.PauliZ(wire)\n",
    "            else:\n",
    "                obs = obs @ qml.PauliZ(wire)\n",
    "        \n",
    "        obs_list.append(obs)\n",
    "    \n",
    "    return obs_list\n",
    "\n",
    "def _I_3322_local_expvals_qnode(network_ansatz):\n",
    "    \"\"\"Construct a qnode for computing local observable expectations.\"\"\"\n",
    "    observables = _I_3322_local_observables(network_ansatz)\n",
    "    \n",
    "    @qml.qnode(network_ansatz.dev)\n",
    "    def circuit(prepare_settings, measure_settings):\n",
    "        network_ansatz.fn(prepare_settings, measure_settings)\n",
    "        \n",
    "        return [qml.expval(obs) for obs in observables]\n",
    "    \n",
    "    return circuit\n",
    "\n",
    "def _I_3322_joint_probs_qnode(network_ansatz):\n",
    "    \"\"\"Construct a qnode for computing joint probabilities in the computational basis.\"\"\"\n",
    "    @qml.qnode(network_ansatz.dev)\n",
    "    def circuit(prepare_settings, measure_settings):\n",
    "        network_ansatz.fn(prepare_settings, measure_settings)\n",
    "        \n",
    "        return qml.probs(wires=network_ansatz.measure_wires)\n",
    "    \n",
    "    return circuit\n",
    "\n",
    "def _I_3322_expval_cost(network_ansatz):\n",
    "    r\"\"\"Constructs a generic $I_{3322}$ cost function.\"\"\"\n",
    "\n",
    "    I_3322_joint_probs_qnode = _I_3322_joint_probs_qnode(network_ansatz) \n",
    "    local_expval_qnode = _I_3322_local_expvals_qnode(network_ansatz)\n",
    "    \n",
    "    def cost(scenario_settings):\n",
    "        θ = network_ansatz.layer_settings(scenario_settings[0], [0])\n",
    "        score = 0\n",
    "   \n",
    "        for (x, y, mult) in [(0,0,1),(0,1,1),(0,2,1),(1,0,1),(1,1,1),(1,2,-1),(2,0,1),(2,1,-1)]:\n",
    "            ϕ = network_ansatz.layer_settings(scenario_settings[1], [x, y])\n",
    "            \n",
    "            probs_vec_xy = I_3322_joint_probs_qnode(θ, ϕ)\n",
    "            prob00_xy = multi_qubit_I_3322_post_processing(len(network_ansatz.measure_wires)//2, probs_vec_xy)\n",
    "    \n",
    "            score += mult * prob00_xy\n",
    "\n",
    "        ϕ_00 = network_ansatz.layer_settings(scenario_settings[1], [0,0])\n",
    "        ϕ_11 = network_ansatz.layer_settings(scenario_settings[1], [1,1])\n",
    "        \n",
    "        expval_00 = local_expval_qnode(θ,ϕ_00)\n",
    "        expval_11 = local_expval_qnode(θ,ϕ_11)\n",
    "\n",
    "        # - P_A(0|0)\n",
    "        score += -1 * (expval_00[0] + 1)/2\n",
    "\n",
    "        # - 2 * P_B(0|0)\n",
    "        score += -2 * (expval_00[1] + 1)/2\n",
    "\n",
    "        # - P_B(0|1)\n",
    "        score += -1 * (expval_11[1] + 1)/2\n",
    "\n",
    "        return -(score)    \n",
    "\n",
    "    return cost"
   ]
  },
  {
   "cell_type": "markdown",
   "id": "37ac1098",
   "metadata": {},
   "source": [
    "## Qubit Case\n",
    "\n",
    "Using an arbitrary qubit parameterization, the maximal violation is found to be close to 0.25 for local measurements on single qubits."
   ]
  },
  {
   "cell_type": "code",
   "execution_count": 4,
   "id": "f0e4ad2c",
   "metadata": {},
   "outputs": [],
   "source": [
    "local_qubits = 1\n",
    "\n",
    "prepare_nodes = [QNopt.PrepareNode(1,range(2*local_qubits),qml.templates.subroutines.ArbitraryUnitary, 4**(2*local_qubits)-1)]\n",
    "measure_nodes = [\n",
    "    QNopt.MeasureNode(3,2, [0], qml.templates.subroutines.ArbitraryUnitary, 4**(2*local_qubits//2) - 1),\n",
    "    QNopt.MeasureNode(3,2, [1], qml.templates.subroutines.ArbitraryUnitary, 4**(2*local_qubits//2) - 1)\n",
    "]\n",
    "\n",
    "qubit_ansatz = QNopt.NetworkAnsatz(prepare_nodes, measure_nodes)"
   ]
  },
  {
   "cell_type": "code",
   "execution_count": 5,
   "id": "2ca7c62e",
   "metadata": {},
   "outputs": [
    {
     "name": "stdout",
     "output_type": "stream",
     "text": [
      "iteration :  0 , score :  -0.5003337183486474\n",
      "iteration :  25 , score :  0.14027235872102134\n",
      "iteration :  50 , score :  0.23036546571232686\n",
      "iteration :  75 , score :  0.2473426472520564\n",
      "iteration :  100 , score :  0.24964192548143876\n",
      "iteration :  125 , score :  0.2499501959133641\n",
      "iteration :  150 , score :  0.24999294854974957\n",
      "iteration :  175 , score :  0.2499989945091543\n"
     ]
    }
   ],
   "source": [
    "# perform gradient descent\n",
    "init_settings = qubit_ansatz.rand_scenario_settings()\n",
    "I_3322_cost = _I_3322_expval_cost(qubit_ansatz) \n",
    "\n",
    "opt_dict = QNopt.gradient_descent(I_3322_cost, init_settings, step_size = 0.2, num_steps=200)"
   ]
  },
  {
   "cell_type": "code",
   "execution_count": 6,
   "id": "9c1ddb0d",
   "metadata": {},
   "outputs": [
    {
     "data": {
      "image/png": "[encoded data removed]",
      "text/plain": [
       "<Figure size 432x288 with 1 Axes>"
      ]
     },
     "metadata": {
      "needs_background": "light"
     },
     "output_type": "display_data"
    }
   ],
   "source": [
    "# Plot the score of the Bell throughout the optimization inequality\n",
    "plt.plot(opt_dict[\"samples\"], opt_dict[\"scores\"], label = r\"$I_{3322}$ Qubit Optimzation\")\n",
    "plt.plot(opt_dict[\"samples\"], [0]*len(opt_dict[\"samples\"]), label = \"Classical Bound\")\n",
    "plt.plot(opt_dict[\"samples\"], [0.25]*len(opt_dict[\"samples\"]), label = \"Quantum Bound\")\n",
    "plt.title(r\"$I_{3322}$ Optimization over General Parameter Space\")\n",
    "plt.xlabel(\"Iteration\")\n",
    "plt.ylabel(r\"$I_{3322}$ Score\")\n",
    "plt.legend()\n",
    "plt.show()"
   ]
  },
  {
   "cell_type": "markdown",
   "id": "c0497508",
   "metadata": {},
   "source": [
    "## Multi-Qubit Case\n",
    "\n",
    "In the multi-qubit case for the $I_{3322}$ inequality, Alice and Bob have have access to a larger shared Hilbert space.\n",
    "This allows more flexibility in the entanglement shared between Alice and Bob.\n",
    "We'll now show the $I_{3322}$ optimization over examples of different prepare and measure ansatzes.\n",
    "We note that our optimizations can be run with relative efficiency for up to 10-qubits total.\n",
    "\n",
    "### GHZ State Preparation and Local RY and RX Rotated Measurements\n",
    "\n",
    "Here we investigate the case where Alice and Bob share a GHZ state prepared on $2N$-qubits where Alice and Bob each hold $N$ qubits locally."
   ]
  },
  {
   "cell_type": "code",
   "execution_count": 7,
   "id": "6c6a1a6d",
   "metadata": {},
   "outputs": [
    {
     "name": "stdout",
     "output_type": "stream",
     "text": [
      "n_local_qubits :  1\n",
      "iteration :  0 , score :  -1.6488366728736694\n",
      "iteration :  25 , score :  0.016563615301259382\n",
      "iteration :  50 , score :  0.23391841134096625\n",
      "iteration :  75 , score :  0.24843747557238993\n",
      "iteration :  100 , score :  0.24981301234280728\n",
      "iteration :  125 , score :  0.24997404095555886\n",
      "iteration :  150 , score :  0.2499958931690216\n",
      "iteration :  175 , score :  0.24999926854986398\n",
      "iteration :  200 , score :  0.24999985667718638\n",
      "iteration :  225 , score :  0.2499999699968214\n",
      "iteration :  250 , score :  0.24999999345912371\n",
      "iteration :  275 , score :  0.24999999854093824\n",
      "opt_score :  0.24999999967047204\n",
      "elapsed time :  11.735491752624512\n",
      "n_local_qubits :  2\n",
      "iteration :  0 , score :  -0.7583779879630907\n",
      "iteration :  25 , score :  -0.052461749449583706\n",
      "iteration :  50 , score :  0.14777898826857983\n",
      "iteration :  75 , score :  0.18365798472315759\n",
      "iteration :  100 , score :  0.19728463198368446\n",
      "iteration :  125 , score :  0.2034653366247926\n",
      "iteration :  150 , score :  0.20585390542222126\n",
      "iteration :  175 , score :  0.20668369206767145\n",
      "iteration :  200 , score :  0.2069618485548313\n",
      "iteration :  225 , score :  0.20705481407175985\n",
      "iteration :  250 , score :  0.20708636465692093\n",
      "iteration :  275 , score :  0.20709748964981245\n",
      "opt_score :  0.20710172776702462\n",
      "elapsed time :  18.97852897644043\n",
      "n_local_qubits :  2\n",
      "iteration :  0 , score :  -1.3448267915621805\n",
      "iteration :  25 , score :  -0.056679230584695706\n",
      "iteration :  50 , score :  0.03685536550491331\n",
      "iteration :  75 , score :  0.0699221887537132\n",
      "iteration :  100 , score :  0.0980389591283296\n",
      "iteration :  125 , score :  0.13939975233877433\n",
      "iteration :  150 , score :  0.1897031197860503\n",
      "iteration :  175 , score :  0.22080847829571193\n",
      "iteration :  200 , score :  0.23519840129037078\n",
      "iteration :  225 , score :  0.24210997750170582\n",
      "iteration :  250 , score :  0.24568304928991314\n",
      "iteration :  275 , score :  0.24761261779128363\n",
      "opt_score :  0.24867502406909509\n",
      "elapsed time :  18.603081941604614\n",
      "n_local_qubits :  3\n",
      "iteration :  0 , score :  -0.8022820298378197\n",
      "iteration :  25 , score :  -0.3003016177663338\n",
      "iteration :  50 , score :  -0.011326088758643493\n",
      "iteration :  75 , score :  0.1230652937507668\n",
      "iteration :  100 , score :  0.1931754070566405\n",
      "iteration :  125 , score :  0.2287968556029627\n",
      "iteration :  150 , score :  0.24093643824795752\n",
      "iteration :  175 , score :  0.245189548772073\n",
      "iteration :  200 , score :  0.24707242676715824\n",
      "iteration :  225 , score :  0.2480763394517056\n",
      "iteration :  250 , score :  0.24867236778781399\n",
      "iteration :  275 , score :  0.24905079228833582\n",
      "opt_score :  0.2493033594766194\n",
      "elapsed time :  28.85574173927307\n",
      "n_local_qubits :  4\n",
      "iteration :  0 , score :  -1.0762451854685966\n",
      "iteration :  25 , score :  -0.6261894749150512\n",
      "iteration :  50 , score :  -0.1306740825942948\n",
      "iteration :  75 , score :  0.15449579494697607\n",
      "iteration :  100 , score :  0.2255855629082152\n",
      "iteration :  125 , score :  0.2414152668278885\n",
      "iteration :  150 , score :  0.24614921629915582\n",
      "iteration :  175 , score :  0.24800171128767556\n",
      "iteration :  200 , score :  0.24885656414708573\n",
      "iteration :  225 , score :  0.24929617671579907\n",
      "iteration :  250 , score :  0.24954169397390386\n",
      "iteration :  275 , score :  0.24968825844235865\n",
      "opt_score :  0.24978055862381005\n",
      "elapsed time :  47.65436315536499\n",
      "n_local_qubits :  5\n",
      "iteration :  0 , score :  -1.0000806381611798\n",
      "iteration :  25 , score :  -0.5500938210543289\n",
      "iteration :  50 , score :  -0.37391382283521923\n",
      "iteration :  75 , score :  -0.2520197069085326\n",
      "iteration :  100 , score :  -0.12547684087525734\n",
      "iteration :  125 , score :  -0.030672630958078484\n",
      "iteration :  150 , score :  0.07629962730384454\n",
      "iteration :  175 , score :  0.10924508912917119\n",
      "iteration :  200 , score :  0.12072598258280332\n",
      "iteration :  225 , score :  0.13192404356774023\n",
      "iteration :  250 , score :  0.14882068509608182\n",
      "iteration :  275 , score :  0.1754882629798571\n",
      "opt_score :  0.20541733765082926\n",
      "elapsed time :  110.70405006408691\n",
      "n_local_qubits :  5\n",
      "iteration :  0 , score :  -1.0116830093611886\n",
      "iteration :  25 , score :  -0.8662630365973829\n",
      "iteration :  50 , score :  -0.6715035791661959\n",
      "iteration :  75 , score :  -0.5161741859450009\n",
      "iteration :  100 , score :  -0.26174833312828083\n",
      "iteration :  125 , score :  0.03266884654460256\n",
      "iteration :  150 , score :  0.15950845974523098\n",
      "iteration :  175 , score :  0.213649095925883\n",
      "iteration :  200 , score :  0.23477933465594658\n",
      "iteration :  225 , score :  0.24256269612414627\n",
      "iteration :  250 , score :  0.24566693285801078\n",
      "iteration :  275 , score :  0.24712817509748808\n",
      "opt_score :  0.2479341101826389\n",
      "elapsed time :  105.06114482879639\n"
     ]
    }
   ],
   "source": [
    "def qubit_RXRY(settings, wires):        \n",
    "    for i, wire in enumerate(wires):\n",
    "        qml.RY(settings[2*i], wires=wire)\n",
    "        qml.RX(settings[2*i + 1], wires=wire) \n",
    "\n",
    "np.random.seed(1)\n",
    "sampled_optimizations = []\n",
    "for n_local_qubits in range(1,6):\n",
    "    ghz_prepare_nodes = [QNopt.PrepareNode(1,range(2*n_local_qubits),QNopt.ghz_state_preparation, 0)]\n",
    "    local_rxry_measure_nodes = [\n",
    "        QNopt.MeasureNode(3,2, range(n_local_qubits), qubit_RXRY, 2*n_local_qubits),\n",
    "        QNopt.MeasureNode(3,2, range(n_local_qubits, 2*n_local_qubits), qubit_RXRY, 2*n_local_qubits)\n",
    "    ]\n",
    "\n",
    "    ghz_local_rxry_ansatz = QNopt.NetworkAnsatz(ghz_prepare_nodes, local_rxry_measure_nodes)\n",
    "    \n",
    "    opt_dict = {\"opt_score\" : 0}\n",
    "    while opt_dict[\"opt_score\"] < 0.24:\n",
    "        print(\"n_local_qubits : \", n_local_qubits)\n",
    "        ghz_local_rxry_settings = ghz_local_rxry_ansatz.rand_scenario_settings()\n",
    "        I_3322_cost_ghz_local_rxry = _I_3322_expval_cost(ghz_local_rxry_ansatz) \n",
    "    \n",
    "        start = time.time()\n",
    "        opt_dict = QNopt.gradient_descent(I_3322_cost_ghz_local_rxry, ghz_local_rxry_settings, step_size = 0.15, num_steps=300)\n",
    "        stop = time.time()\n",
    "        print(\"opt_score : \", opt_dict[\"opt_score\"])\n",
    "        print(\"elapsed time : \", stop - start)\n",
    "\n",
    "        \n",
    "    sampled_optimizations.append(opt_dict)    "
   ]
  },
  {
   "cell_type": "code",
   "execution_count": 8,
   "id": "a9371cec",
   "metadata": {},
   "outputs": [
    {
     "data": {
      "image/png": "[encoded data removed]",
      "text/plain": [
       "<Figure size 432x288 with 1 Axes>"
      ]
     },
     "metadata": {
      "needs_background": "light"
     },
     "output_type": "display_data"
    }
   ],
   "source": [
    "for i, opt_dict in enumerate(sampled_optimizations):\n",
    "    plt.plot(opt_dict[\"samples\"], opt_dict[\"scores\"], label = r\"$I_{3322}$\" + f\" {i+1}-Qubit Optimzation\")\n",
    "    \n",
    "plt.plot(opt_dict[\"samples\"], [0]*len(opt_dict[\"samples\"]), label = \"Classical Bound\")\n",
    "plt.plot(opt_dict[\"samples\"], [0.25]*len(opt_dict[\"samples\"]), label = \"Quantum Bound for Qubits\")\n",
    "plt.title(r\"$I_{3322}$ Optimization with GHZ Preparation\" +  \"\\n and Qubit RX and RY Rotated Measurements\")\n",
    "plt.xlabel(\"Iteration\")\n",
    "plt.ylabel(r\"$I_{3322}$ Score\")\n",
    "plt.legend()\n",
    "plt.show()"
   ]
  },
  {
   "cell_type": "markdown",
   "id": "4d9316d2",
   "metadata": {},
   "source": [
    "### Bell State Copy Preparations\n",
    "\n",
    "An alternative state preparation is when Alice and Bob share $N$ entangled Bell pairs.\n",
    "An interesting observation is that for this case, the quantum violation of $0.25$ can be obtained using only RY rotations on each measured qubit wire."
   ]
  },
  {
   "cell_type": "code",
   "execution_count": 9,
   "id": "a5fe78b6",
   "metadata": {},
   "outputs": [
    {
     "name": "stdout",
     "output_type": "stream",
     "text": [
      "n_local_qubits :  1\n",
      "iteration :  0 , score :  -1.4015336544356836\n",
      "iteration :  25 , score :  0.14154208187191752\n",
      "iteration :  50 , score :  0.24581708179328565\n",
      "iteration :  75 , score :  0.24968565345505978\n",
      "iteration :  100 , score :  0.24996509311020487\n",
      "iteration :  125 , score :  0.2499943411214267\n",
      "iteration :  150 , score :  0.24999889449202817\n",
      "iteration :  175 , score :  0.24999977054475364\n",
      "iteration :  200 , score :  0.2499999515737681\n",
      "iteration :  225 , score :  0.2499999897348597\n",
      "iteration :  250 , score :  0.2499999978215781\n",
      "iteration :  275 , score :  0.24999999953756902\n",
      "opt_score :  0.2499999999018283\n",
      "elapsed time :  7.451910972595215\n",
      "n_local_qubits :  2\n",
      "iteration :  0 , score :  -1.0430611532845053\n",
      "iteration :  25 , score :  0.020945306306206835\n",
      "iteration :  50 , score :  0.10994219375978176\n",
      "iteration :  75 , score :  0.12365907392677178\n",
      "iteration :  100 , score :  0.12490872916365037\n",
      "iteration :  125 , score :  0.12501158571759952\n",
      "iteration :  150 , score :  0.12503123938310923\n",
      "iteration :  175 , score :  0.1250458834151127\n",
      "iteration :  200 , score :  0.12506411698452435\n",
      "iteration :  225 , score :  0.1250897124057886\n",
      "iteration :  250 , score :  0.12512780978283677\n",
      "iteration :  275 , score :  0.12518766622721333\n",
      "opt_score :  0.12528764608735887\n",
      "elapsed time :  11.778531789779663\n",
      "n_local_qubits :  2\n",
      "iteration :  0 , score :  -1.4944163694344847\n",
      "iteration :  25 , score :  0.19116807462091456\n",
      "iteration :  50 , score :  0.23865474405531284\n",
      "iteration :  75 , score :  0.2479849643436971\n",
      "iteration :  100 , score :  0.24961937742411333\n",
      "iteration :  125 , score :  0.24992250416453343\n",
      "iteration :  150 , score :  0.2499837550358568\n",
      "iteration :  175 , score :  0.24999656384194902\n",
      "iteration :  200 , score :  0.24999927126715882\n",
      "iteration :  225 , score :  0.24999984533592334\n",
      "iteration :  250 , score :  0.2499999671675983\n",
      "iteration :  275 , score :  0.24999999302985687\n",
      "opt_score :  0.24999999852025168\n",
      "elapsed time :  12.089946269989014\n",
      "n_local_qubits :  3\n",
      "iteration :  0 , score :  -1.1735309314835427\n",
      "iteration :  25 , score :  -0.036646954914520746\n",
      "iteration :  50 , score :  0.09446020263092247\n",
      "iteration :  75 , score :  0.13217002080630236\n",
      "iteration :  100 , score :  0.16540121155540044\n",
      "iteration :  125 , score :  0.17994987918665206\n",
      "iteration :  150 , score :  0.1901052129918508\n",
      "iteration :  175 , score :  0.21289537284384785\n",
      "iteration :  200 , score :  0.2391140353689516\n",
      "iteration :  225 , score :  0.24800775200375424\n",
      "iteration :  250 , score :  0.24962702187727803\n",
      "iteration :  275 , score :  0.24992445983429157\n",
      "opt_score :  0.24998419344894085\n",
      "elapsed time :  20.396456003189087\n",
      "n_local_qubits :  4\n",
      "iteration :  0 , score :  -1.2093967772192349\n",
      "iteration :  25 , score :  -0.39346264998859803\n",
      "iteration :  50 , score :  -0.08889659834492503\n",
      "iteration :  75 , score :  0.11205511662702339\n",
      "iteration :  100 , score :  0.17044350583544476\n",
      "iteration :  125 , score :  0.18477479883513537\n",
      "iteration :  150 , score :  0.20467049818620087\n",
      "iteration :  175 , score :  0.23355212228635658\n",
      "iteration :  200 , score :  0.24678157432659864\n",
      "iteration :  225 , score :  0.24940635520886278\n",
      "iteration :  250 , score :  0.2498809129982522\n",
      "iteration :  275 , score :  0.24997514711497315\n",
      "opt_score :  0.24999474920697518\n",
      "elapsed time :  36.863426208496094\n",
      "n_local_qubits :  5\n",
      "iteration :  0 , score :  -0.4271608615324105\n",
      "iteration :  25 , score :  0.041105657593200284\n",
      "iteration :  50 , score :  0.16210683144104365\n",
      "iteration :  75 , score :  0.21513623873442844\n",
      "iteration :  100 , score :  0.24205014687086024\n",
      "iteration :  125 , score :  0.24845905361943377\n",
      "iteration :  150 , score :  0.24968863225496518\n",
      "iteration :  175 , score :  0.24993501552756214\n",
      "iteration :  200 , score :  0.24998627656088557\n",
      "iteration :  225 , score :  0.24999709112391644\n",
      "iteration :  250 , score :  0.24999938273382716\n",
      "iteration :  275 , score :  0.24999986897233928\n",
      "opt_score :  0.24999997218396608\n",
      "elapsed time :  82.61647391319275\n"
     ]
    }
   ],
   "source": [
    "def bell_state_copies(settings, wires):        \n",
    "    for i in range(len(wires)//2):\n",
    "        qml.Hadamard(wires=wires[i])\n",
    "        qml.CNOT(wires=[wires[i],wires[i+len(wires)//2]])\n",
    "\n",
    "def qubit_RY(settings, wires):        \n",
    "    for i, wire in enumerate(wires):\n",
    "        qml.RY(settings[i], wires=wire)\n",
    "\n",
    "bell_copies_optimizations = []\n",
    "for n_local_qubits in range(1,6):\n",
    "    bell_copies_prepare_nodes = [QNopt.PrepareNode(1,range(2*n_local_qubits),bell_state_copies, 0)]\n",
    "    local_rxry_measure_nodes = [\n",
    "        QNopt.MeasureNode(3,2, range(n_local_qubits), qubit_RY, n_local_qubits),\n",
    "        QNopt.MeasureNode(3,2, range(n_local_qubits, 2*n_local_qubits), qubit_RY, n_local_qubits)\n",
    "    ]\n",
    "\n",
    "    bell_copies_local_rxry_ansatz = QNopt.NetworkAnsatz(bell_copies_prepare_nodes, local_rxry_measure_nodes)\n",
    "    \n",
    "    opt_dict = {\"opt_score\" : 0}\n",
    "    while opt_dict[\"opt_score\"] < 0.24:\n",
    "        print(\"n_local_qubits : \", n_local_qubits)\n",
    "        bell_copies_local_rxry_settings = bell_copies_local_rxry_ansatz.rand_scenario_settings()\n",
    "        I_3322_cost_bell_copies_local_rxry = _I_3322_expval_cost(bell_copies_local_rxry_ansatz) \n",
    "        \n",
    "        start = time.time()\n",
    "        opt_dict = QNopt.gradient_descent(I_3322_cost_bell_copies_local_rxry, bell_copies_local_rxry_settings, step_size = 0.15, num_steps=300)\n",
    "        stop = time.time()\n",
    "        print(\"opt_score : \", opt_dict[\"opt_score\"])\n",
    "        print(\"elapsed time : \", stop - start)\n",
    "        \n",
    "    bell_copies_optimizations.append(opt_dict)    "
   ]
  },
  {
   "cell_type": "code",
   "execution_count": 10,
   "id": "781f9c3a",
   "metadata": {},
   "outputs": [
    {
     "data": {
      "image/png": "[encoded data removed]",
      "text/plain": [
       "<Figure size 432x288 with 1 Axes>"
      ]
     },
     "metadata": {
      "needs_background": "light"
     },
     "output_type": "display_data"
    }
   ],
   "source": [
    "for i, opt_dict in enumerate(bell_copies_optimizations):\n",
    "    if i == 0:\n",
    "        plt.plot(opt_dict[\"samples\"], [0]*len(opt_dict[\"samples\"]), label = \"Classical Bound\")\n",
    "        plt.plot(opt_dict[\"samples\"], [0.25]*len(opt_dict[\"samples\"]), label = \"Quantum Bound for Qubits\")\n",
    "    \n",
    "    plt.plot(opt_dict[\"samples\"], opt_dict[\"scores\"], label = r\"$I_{3322}$\" + f\" {i+1}-Qubit Optimzation\")\n",
    "    \n",
    "plt.title(r\"$I_{3322}$ Optimization with Bell State Copy Preparation\" +  \"\\n and Qubit RY Rotated Measurements\")\n",
    "plt.xlabel(\"Iteration\")\n",
    "plt.ylabel(r\"$I_{3322}$ Score\")\n",
    "plt.legend()\n",
    "plt.show()"
   ]
  },
  {
   "cell_type": "markdown",
   "id": "c38c5bf2",
   "metadata": {},
   "source": [
    "### Two-Qubit Case GHZ State and Arbitrary Measurements"
   ]
  },
  {
   "cell_type": "code",
   "execution_count": 11,
   "id": "33061b24",
   "metadata": {},
   "outputs": [],
   "source": [
    "n_local_qubits = 2\n",
    "\n",
    "ghz_prepare_nodes = [QNopt.PrepareNode(1,range(2*n_local_qubits),QNopt.ghz_state_preparation, 0)]\n",
    "arb_measure_nodes = [\n",
    "    QNopt.MeasureNode(3,2, [0,1], qml.templates.subroutines.ArbitraryUnitary, 4**(n_local_qubits) - 1),\n",
    "    QNopt.MeasureNode(3,2, [2,3], qml.templates.subroutines.ArbitraryUnitary, 4**(n_local_qubits) - 1)\n",
    "]\n",
    "\n",
    "ghz_arb_ansatz = QNopt.NetworkAnsatz(ghz_prepare_nodes, arb_measure_nodes)"
   ]
  },
  {
   "cell_type": "code",
   "execution_count": 12,
   "id": "16e79568",
   "metadata": {},
   "outputs": [
    {
     "name": "stdout",
     "output_type": "stream",
     "text": [
      "iteration :  0 , score :  -0.9393187059336029\n",
      "iteration :  25 , score :  0.06537843333167537\n",
      "iteration :  50 , score :  0.1442417563397807\n",
      "iteration :  75 , score :  0.20303775415459235\n",
      "iteration :  100 , score :  0.23126883329333203\n",
      "iteration :  125 , score :  0.24051605759639116\n",
      "iteration :  150 , score :  0.24432032256395758\n",
      "iteration :  175 , score :  0.24629945065593695\n",
      "iteration :  200 , score :  0.24746686664992568\n",
      "iteration :  225 , score :  0.24820062861559278\n",
      "CPU times: user 1min 4s, sys: 417 ms, total: 1min 4s\n",
      "Wall time: 1min 5s\n"
     ]
    }
   ],
   "source": [
    "%%time\n",
    "\n",
    "np.random.seed(1)  # optimization is susceptible to local optima, fixing initial conditions for good example\n",
    "ghz_arb_settings = ghz_arb_ansatz.rand_scenario_settings()\n",
    "I_3322_cost_ghz_arb = _I_3322_expval_cost(ghz_arb_ansatz) \n",
    "\n",
    "ghz_arb_opt_dict = QNopt.gradient_descent(I_3322_cost_ghz_arb, ghz_arb_settings, step_size = 0.2, num_steps=250)"
   ]
  },
  {
   "cell_type": "code",
   "execution_count": 13,
   "id": "5ffbc6b5",
   "metadata": {},
   "outputs": [
    {
     "data": {
      "image/png": "[encoded data removed]",
      "text/plain": [
       "<Figure size 432x288 with 1 Axes>"
      ]
     },
     "metadata": {
      "needs_background": "light"
     },
     "output_type": "display_data"
    }
   ],
   "source": [
    "plt.plot(ghz_arb_opt_dict[\"samples\"], [0]*len(ghz_arb_opt_dict[\"samples\"]), label = \"Classical Bound\")\n",
    "plt.plot(ghz_arb_opt_dict[\"samples\"], [0.25]*len(ghz_arb_opt_dict[\"samples\"]), label = \"Quantum Bound for Qubits\")\n",
    "    \n",
    "plt.plot(ghz_arb_opt_dict[\"samples\"], ghz_arb_opt_dict[\"scores\"], label = r\"$I_{3322}$\" + f\" {2}-Qubit Optimzation\")\n",
    "    \n",
    "plt.title(r\"$I_{3322}$ Optimization with GHZ Preparation\" +  \"\\n and Arbitrary 2-Qubit Measurements\")\n",
    "plt.xlabel(\"Iteration\")\n",
    "plt.ylabel(r\"$I_{3322}$ Score\")\n",
    "plt.legend()\n",
    "plt.show()"
   ]
  },
  {
   "cell_type": "markdown",
   "id": "15a15581",
   "metadata": {},
   "source": [
    "### Two-Qubit Case Bell Copy Preparation and Arbitrary Measurement"
   ]
  },
  {
   "cell_type": "code",
   "execution_count": 14,
   "id": "db1e5e8b",
   "metadata": {},
   "outputs": [],
   "source": [
    "n_local_qubits = 2\n",
    "\n",
    "bell_copy_prepare_nodes = [QNopt.PrepareNode(1,range(2*n_local_qubits),bell_state_copies, 0)]\n",
    "arb_measure_nodes = [\n",
    "    QNopt.MeasureNode(3,2, [0,1], qml.templates.subroutines.ArbitraryUnitary, 4**(n_local_qubits) - 1),\n",
    "    QNopt.MeasureNode(3,2, [2,3], qml.templates.subroutines.ArbitraryUnitary, 4**(n_local_qubits) - 1)\n",
    "]\n",
    "\n",
    "bell_copy_arb_ansatz = QNopt.NetworkAnsatz(bell_copy_prepare_nodes, arb_measure_nodes)"
   ]
  },
  {
   "cell_type": "code",
   "execution_count": 15,
   "id": "bdb226d7",
   "metadata": {},
   "outputs": [
    {
     "name": "stdout",
     "output_type": "stream",
     "text": [
      "iteration :  0 , score :  -0.9803150968491762\n",
      "iteration :  25 , score :  0.09801141465695173\n",
      "iteration :  50 , score :  0.2010958938548597\n",
      "iteration :  75 , score :  0.23255446831454307\n",
      "iteration :  100 , score :  0.24290677862809656\n",
      "iteration :  125 , score :  0.24700681732690621\n",
      "iteration :  150 , score :  0.2487592269870535\n",
      "iteration :  175 , score :  0.2494967660853583\n",
      "iteration :  200 , score :  0.24979768846149353\n",
      "iteration :  225 , score :  0.2499181395987533\n",
      "CPU times: user 1min 3s, sys: 375 ms, total: 1min 3s\n",
      "Wall time: 1min 4s\n"
     ]
    }
   ],
   "source": [
    "%%time\n",
    "\n",
    "bell_copy_arb_settings = bell_copy_arb_ansatz.rand_scenario_settings()\n",
    "I_3322_cost_bell_copy_arb = _I_3322_expval_cost(bell_copy_arb_ansatz) \n",
    "\n",
    "bell_copy_arb_opt_dict = QNopt.gradient_descent(I_3322_cost_bell_copy_arb, bell_copy_arb_settings, step_size = 0.2, num_steps=250)"
   ]
  },
  {
   "cell_type": "code",
   "execution_count": 16,
   "id": "9e4104ea",
   "metadata": {},
   "outputs": [
    {
     "data": {
      "image/png": "[encoded data removed]",
      "text/plain": [
       "<Figure size 432x288 with 1 Axes>"
      ]
     },
     "metadata": {
      "needs_background": "light"
     },
     "output_type": "display_data"
    }
   ],
   "source": [
    "plt.plot(bell_copy_arb_opt_dict[\"samples\"], [0]*len(bell_copy_arb_opt_dict[\"samples\"]), label = \"Classical Bound\")\n",
    "plt.plot(bell_copy_arb_opt_dict[\"samples\"], [0.25]*len(bell_copy_arb_opt_dict[\"samples\"]), label = \"Quantum Bound for Qubits\")\n",
    "    \n",
    "plt.plot(bell_copy_arb_opt_dict[\"samples\"], bell_copy_arb_opt_dict[\"scores\"], label = r\"$I_{3322}$\" + f\" {2}-Qubit Optimzation\")\n",
    "    \n",
    "plt.title(r\"$I_{3322}$ Optimization with Bell Copy Preparation\" +  \"\\n and Arbitrary 2-Qubit Measurements\")\n",
    "plt.xlabel(\"Iteration\")\n",
    "plt.ylabel(r\"$I_{3322}$ Score\")\n",
    "plt.legend()\n",
    "plt.show()"
   ]
  },
  {
   "cell_type": "markdown",
   "id": "eb4e35ab",
   "metadata": {},
   "source": [
    "## Scratchwork"
   ]
  },
  {
   "cell_type": "code",
   "execution_count": null,
   "id": "85d0455a",
   "metadata": {},
   "outputs": [],
   "source": []
  }
 ],
 "metadata": {
  "@webio": {
   "lastCommId": null,
   "lastKernelId": null
  },
  "kernelspec": {
   "display_name": "Python 3",
   "language": "python",
   "name": "python3"
  },
  "language_info": {
   "codemirror_mode": {
    "name": "ipython",
    "version": 3
   },
   "file_extension": ".py",
   "mimetype": "text/x-python",
   "name": "python",
   "nbconvert_exporter": "python",
   "pygments_lexer": "ipython3",
   "version": "3.8.10"
  }
 },
 "nbformat": 4,
 "nbformat_minor": 5
}
