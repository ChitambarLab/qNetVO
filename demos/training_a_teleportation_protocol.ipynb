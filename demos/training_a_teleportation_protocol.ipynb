{
 "cells": [
  {
   "attachments": {},
   "cell_type": "markdown",
   "metadata": {},
   "source": [
    "# Training a Teleportation Protocol\n",
    "\n",
    "In this notebook we demo how `qnetvo` can be used to train LOCC protocols such as teleportation.\n",
    "For details about the quantum teleportation protocol please review the [Wikipedia article on quantum teleportation](https://en.wikipedia.org/wiki/Quantum_teleportation)."
   ]
  },
  {
   "cell_type": "code",
   "execution_count": 1,
   "metadata": {},
   "outputs": [],
   "source": [
    "import pennylane as qml\n",
    "import numpy as np\n",
    "from pennylane import numpy as qnp\n",
    "from scipy.stats import unitary_group\n",
    "from matplotlib import pyplot as plt\n",
    "\n",
    "import qnetvo"
   ]
  },
  {
   "attachments": {},
   "cell_type": "markdown",
   "metadata": {},
   "source": [
    "## State Preparation\n",
    "\n",
    "We begin by defining the preparation nodes.\n",
    "Teleportation requires entanglement between the two parties, so we consider a general two-qubit state preparation."
   ]
  },
  {
   "cell_type": "code",
   "execution_count": 2,
   "metadata": {},
   "outputs": [],
   "source": [
    "entanglement_prep_node = qnetvo.PrepareNode(\n",
    "    wires=[1,2], ansatz_fn=qml.ArbitraryStatePreparation, num_settings=6\n",
    ")"
   ]
  },
  {
   "attachments": {},
   "cell_type": "markdown",
   "metadata": {},
   "source": [
    "Since the input to the telelportation protocol is a quantum state, we create a generator function to create the input qubit state from a vector.\n",
    "That is, the following function returns the prepare node that initializes the specified state."
   ]
  },
  {
   "cell_type": "code",
   "execution_count": 3,
   "metadata": {},
   "outputs": [],
   "source": [
    "def input_prep_node(state_vec):\n",
    "    def circuit(settings, wires):\n",
    "        qml.QubitStateVector(state_vec, wires=wires[0])\n",
    "\n",
    "    return qnetvo.PrepareNode(wires=[0], ansatz_fn=circuit)"
   ]
  },
  {
   "attachments": {},
   "cell_type": "markdown",
   "metadata": {},
   "source": [
    "## Classical Communication\n",
    "\n",
    "In quantum teleportation a Bell state measurement must be applied to the input state and one qubit of the entangled pair.\n",
    "The result is then communicated to the receiving party who can apply conditional operations to recover the input state.\n",
    "\n",
    "We use an arbitrary two-qubit measurement whose two-bit measurement is output as classical communication."
   ]
  },
  {
   "cell_type": "code",
   "execution_count": 4,
   "metadata": {},
   "outputs": [],
   "source": [
    "def cc_sender_circ(settings, wires):\n",
    "    qml.ArbitraryUnitary(settings, wires=wires[0:2])\n",
    "\n",
    "    b0 = qml.measure(wires[0])\n",
    "    b1 = qml.measure(wires[1])\n",
    "\n",
    "    return [b0, b1]\n",
    "\n",
    "cc_sender_node = qnetvo.CCSenderNode(wires=[0,1], cc_wires_out=[0,1], ansatz_fn=cc_sender_circ, num_settings=15)"
   ]
  },
  {
   "attachments": {},
   "cell_type": "markdown",
   "metadata": {},
   "source": [
    "The classical communication is received and used to condition a decoding operation.\n",
    "As an ansatz we consider a general qubit unitary for these conditional operations."
   ]
  },
  {
   "cell_type": "code",
   "execution_count": 5,
   "metadata": {},
   "outputs": [],
   "source": [
    "def cc_receiver_circ(settings, wires, cc_wires):\n",
    "    qml.cond((cc_wires[0] == 0) & (cc_wires[1] == 1), qml.Rot)(*settings[0:3], wires=wires[0])\n",
    "    qml.cond((cc_wires[0] == 1) & (cc_wires[1] == 0), qml.Rot)(*settings[3:6], wires=wires[0])\n",
    "    qml.cond((cc_wires[0] == 0) & (cc_wires[1] == 1), qml.Rot)(*settings[6:9], wires=wires[0])\n",
    "    qml.cond((cc_wires[0] == 1) & (cc_wires[1] == 1), qml.Rot)(*settings[9:12], wires=wires[0])\n",
    "\n",
    "\n",
    "cc_receiver_node = qnetvo.CCReceiverNode(wires=[2], cc_wires_in=[0,1], ansatz_fn=cc_receiver_circ, num_settings=12)"
   ]
  },
  {
   "attachments": {},
   "cell_type": "markdown",
   "metadata": {},
   "source": [
    "## Quantifying Teleportation Success\n",
    "\n",
    "To train a teleportation protocol, we need a metric of success.\n",
    "Thus, we use the fidelity to measure the distance between the input state and the output from the teleportation protocol.\n",
    "Furthermore, a cost function should consider the average fidelity across many states to accurately determine the fidelity of the teleportation channel.\n",
    "\n",
    "We now write a generator for cost functions that will calculate the average teleportation fidelity, evaluated for a collection of input qubit state vectors."
   ]
  },
  {
   "cell_type": "code",
   "execution_count": 6,
   "metadata": {},
   "outputs": [],
   "source": [
    "def cost_fn(input_states):\n",
    "    input_prep_nodes = [input_prep_node(state) for state in input_states]\n",
    "    ansatzes = [\n",
    "        qnetvo.NetworkAnsatz(\n",
    "            [input_prep_node, entanglement_prep_node], [cc_sender_node], [cc_receiver_node]\n",
    "        )\n",
    "        for input_prep_node in input_prep_nodes\n",
    "    ]\n",
    "\n",
    "    # construct a qnode that outputs a density matrix\n",
    "    def teleport_qnode_fn(ansatz):\n",
    "        @qml.qnode(qml.device(**ansatz.dev_kwargs))\n",
    "        def teleport(settings):\n",
    "            ansatz.fn(settings)\n",
    "            return qml.density_matrix(2)\n",
    "\n",
    "        return teleport\n",
    "\n",
    "    teleport_circuits = [teleport_qnode_fn(ansatz) for ansatz in ansatzes]\n",
    "\n",
    "    # minimize average teleportation fidelity\n",
    "    def cost(*settings):\n",
    "        cost_val = 0\n",
    "        for i in range(len(teleport_circuits)):\n",
    "            teleport_circuit = teleport_circuits[i]\n",
    "            input_state = input_states[i]\n",
    "\n",
    "            rho = teleport_circuit(settings)\n",
    "            rho_target = np.outer(input_state, input_state.conj())\n",
    "\n",
    "            cost_val -= qml.math.fidelity(rho, rho_target)\n",
    "\n",
    "        return cost_val / len(teleport_circuits)\n",
    "\n",
    "    return cost"
   ]
  },
  {
   "attachments": {},
   "cell_type": "markdown",
   "metadata": {},
   "source": [
    "## Training a Teleportation Protocol\n",
    "\n",
    "We first select a collection of training states to use while training the protocol.\n",
    "We find that a handful of basis states are sufficient for good results."
   ]
  },
  {
   "cell_type": "code",
   "execution_count": 18,
   "metadata": {},
   "outputs": [
    {
     "name": "stdout",
     "output_type": "stream",
     "text": [
      "iteration :  0 , score :  0.445580425075628\n",
      "elapsed time :  0.1780836582183838\n"
     ]
    },
    {
     "name": "stderr",
     "output_type": "stream",
     "text": [
      "/Users/brian/opt/anaconda3/envs/qnetvo-dev/lib/python3.8/site-packages/autograd/numpy/numpy_vjps.py:99: RuntimeWarning: divide by zero encountered in power\n",
      "  defvjp(anp.sqrt,    lambda ans, x : lambda g: g * 0.5 * x**-0.5)\n",
      "/Users/brian/opt/anaconda3/envs/qnetvo-dev/lib/python3.8/site-packages/autograd/numpy/numpy_wrapper.py:156: ComplexWarning: Casting complex values to real discards the imaginary part\n",
      "  return A.astype(dtype, order, casting, subok, copy)\n"
     ]
    },
    {
     "name": "stdout",
     "output_type": "stream",
     "text": [
      "iteration :  1 , score :  0.5104139044762752\n",
      "elapsed time :  0.41513776779174805\n",
      "iteration :  2 , score :  0.5610955553606712\n",
      "elapsed time :  0.16901016235351562\n",
      "iteration :  3 , score :  0.6123439812121834\n",
      "elapsed time :  0.15636992454528809\n",
      "iteration :  4 , score :  0.6681650368219783\n",
      "elapsed time :  0.16772103309631348\n",
      "iteration :  5 , score :  0.7193979785084887\n",
      "elapsed time :  0.16275811195373535\n",
      "iteration :  6 , score :  0.7548412203027298\n",
      "elapsed time :  0.16580915451049805\n",
      "iteration :  7 , score :  0.7755006561872579\n",
      "elapsed time :  0.1644601821899414\n",
      "iteration :  8 , score :  0.7882213622357312\n",
      "elapsed time :  0.16831302642822266\n",
      "iteration :  9 , score :  0.7975022871748982\n",
      "elapsed time :  0.30495214462280273\n",
      "iteration :  10 , score :  0.8053691054550415\n",
      "elapsed time :  0.16187787055969238\n",
      "iteration :  11 , score :  0.8127130283819043\n",
      "elapsed time :  0.16684412956237793\n",
      "iteration :  12 , score :  0.8199814559401901\n",
      "elapsed time :  0.15870022773742676\n",
      "iteration :  13 , score :  0.8274296342210795\n",
      "elapsed time :  0.16224932670593262\n",
      "iteration :  14 , score :  0.8352079883158892\n",
      "elapsed time :  0.16206789016723633\n",
      "iteration :  15 , score :  0.8433972562467708\n",
      "elapsed time :  0.16806316375732422\n",
      "iteration :  16 , score :  0.8520295139434365\n",
      "elapsed time :  0.17008399963378906\n",
      "iteration :  17 , score :  0.8611061447521737\n",
      "elapsed time :  0.3021810054779053\n",
      "iteration :  18 , score :  0.8706121811008527\n",
      "elapsed time :  0.15897321701049805\n",
      "iteration :  19 , score :  0.8805225177340492\n",
      "elapsed time :  0.1555802822113037\n",
      "iteration :  20 , score :  0.8907956378647983\n",
      "elapsed time :  0.17013287544250488\n",
      "iteration :  21 , score :  0.9013566232684398\n",
      "elapsed time :  0.15749120712280273\n",
      "iteration :  22 , score :  0.9120773845804286\n",
      "elapsed time :  0.16106104850769043\n",
      "iteration :  23 , score :  0.9227659057600223\n",
      "elapsed time :  0.16029620170593262\n",
      "iteration :  24 , score :  0.9331743053855465\n",
      "elapsed time :  0.3057677745819092\n",
      "iteration :  25 , score :  0.9430278462459772\n",
      "elapsed time :  0.16966724395751953\n",
      "iteration :  26 , score :  0.9520681843766805\n",
      "elapsed time :  0.16509008407592773\n",
      "iteration :  27 , score :  0.9600967418394093\n",
      "elapsed time :  0.16663479804992676\n",
      "iteration :  28 , score :  0.9670043982283711\n",
      "elapsed time :  0.16746807098388672\n",
      "iteration :  29 , score :  0.9727786971191983\n",
      "elapsed time :  0.16695380210876465\n",
      "iteration :  30 , score :  0.977489577573758\n",
      "elapsed time :  0.1690371036529541\n",
      "iteration :  31 , score :  0.981261883385244\n",
      "elapsed time :  0.31412410736083984\n",
      "iteration :  32 , score :  0.9842453180468594\n",
      "elapsed time :  0.1605978012084961\n",
      "iteration :  33 , score :  0.9865901909194928\n",
      "elapsed time :  0.1688539981842041\n",
      "iteration :  34 , score :  0.9884319325041732\n",
      "elapsed time :  0.17394208908081055\n",
      "iteration :  35 , score :  0.9898842577630393\n",
      "elapsed time :  0.17843890190124512\n",
      "iteration :  36 , score :  0.9910381729118571\n",
      "elapsed time :  0.18777894973754883\n",
      "iteration :  37 , score :  0.9919641717057756\n",
      "elapsed time :  0.16787099838256836\n",
      "iteration :  38 , score :  0.992715838997012\n",
      "elapsed time :  0.3149120807647705\n",
      "iteration :  39 , score :  0.9933335018443684\n",
      "elapsed time :  0.16615700721740723\n",
      "iteration :  40 , score :  0.9938473986834712\n",
      "elapsed time :  0.1688382625579834\n",
      "iteration :  41 , score :  0.9942801634112737\n",
      "elapsed time :  0.17877197265625\n",
      "iteration :  42 , score :  0.9946489669247782\n",
      "elapsed time :  0.16383600234985352\n",
      "iteration :  43 , score :  0.9949667805960617\n",
      "elapsed time :  0.19645404815673828\n",
      "iteration :  44 , score :  0.9952435857566597\n",
      "elapsed time :  0.17071080207824707\n",
      "iteration :  45 , score :  0.995487089749032\n",
      "elapsed time :  0.3356008529663086\n",
      "iteration :  46 , score :  0.9957032678173622\n",
      "elapsed time :  0.17138195037841797\n",
      "iteration :  47 , score :  0.9958968603986574\n",
      "elapsed time :  0.16431617736816406\n",
      "iteration :  48 , score :  0.9960715807223866\n",
      "elapsed time :  0.17143607139587402\n",
      "iteration :  49 , score :  0.9962304145549854\n",
      "elapsed time :  0.16787505149841309\n",
      "iteration :  50 , score :  0.9963757759731187\n",
      "elapsed time :  0.1809678077697754\n",
      "iteration :  51 , score :  0.9965095707822702\n",
      "elapsed time :  0.1726367473602295\n",
      "iteration :  52 , score :  0.9966334016425162\n",
      "elapsed time :  0.1592268943786621\n",
      "iteration :  53 , score :  0.9967485840032055\n",
      "elapsed time :  0.3111569881439209\n",
      "iteration :  54 , score :  0.9968561306930586\n",
      "elapsed time :  0.1672379970550537\n",
      "iteration :  55 , score :  0.9969569910128371\n",
      "elapsed time :  0.16994500160217285\n",
      "iteration :  56 , score :  0.9970518864798298\n",
      "elapsed time :  0.16216015815734863\n",
      "iteration :  57 , score :  0.9971414430115572\n",
      "elapsed time :  0.15083813667297363\n",
      "iteration :  58 , score :  0.9972262067061299\n",
      "elapsed time :  0.14895105361938477\n",
      "iteration :  59 , score :  0.9973066138252493\n",
      "elapsed time :  0.16013598442077637\n",
      "iteration :  60 , score :  0.9973830630288961\n",
      "elapsed time :  0.31279587745666504\n",
      "iteration :  61 , score :  0.9974558998142093\n",
      "elapsed time :  0.1751861572265625\n",
      "iteration :  62 , score :  0.9975254021742685\n",
      "elapsed time :  0.16745805740356445\n",
      "iteration :  63 , score :  0.9975918517118717\n",
      "elapsed time :  0.1669168472290039\n",
      "iteration :  64 , score :  0.9976554416839842\n",
      "elapsed time :  0.16086602210998535\n",
      "iteration :  65 , score :  0.9977164020473488\n",
      "elapsed time :  0.19840216636657715\n",
      "iteration :  66 , score :  0.9977748904186315\n",
      "elapsed time :  0.16012883186340332\n",
      "iteration :  67 , score :  0.9978310774226674\n",
      "elapsed time :  0.31041693687438965\n",
      "iteration :  68 , score :  0.9978851105711134\n",
      "elapsed time :  0.17079901695251465\n",
      "iteration :  69 , score :  0.9979371053197597\n",
      "elapsed time :  0.16890692710876465\n",
      "iteration :  70 , score :  0.9979871823238589\n",
      "elapsed time :  0.17151188850402832\n",
      "iteration :  71 , score :  0.9980354674566049\n",
      "elapsed time :  0.1689469814300537\n",
      "iteration :  72 , score :  0.998082032992162\n",
      "elapsed time :  0.17431974411010742\n",
      "iteration :  73 , score :  0.9981269887089587\n",
      "elapsed time :  0.17156028747558594\n",
      "iteration :  74 , score :  0.9981703976574652\n",
      "elapsed time :  0.3177921772003174\n",
      "iteration :  75 , score :  0.9982123598998278\n",
      "elapsed time :  0.16550183296203613\n",
      "iteration :  76 , score :  0.9982529255173451\n",
      "elapsed time :  0.18162775039672852\n",
      "iteration :  77 , score :  0.9982921712820683\n",
      "elapsed time :  0.16076207160949707\n",
      "iteration :  78 , score :  0.9983301520297982\n",
      "elapsed time :  0.17298316955566406\n",
      "iteration :  79 , score :  0.9983669284949135\n",
      "elapsed time :  0.1539618968963623\n",
      "iteration :  80 , score :  0.9984025594539037\n",
      "elapsed time :  0.17119383811950684\n",
      "iteration :  81 , score :  0.9984370894242233\n",
      "elapsed time :  0.35457301139831543\n",
      "iteration :  82 , score :  0.9984705659229938\n",
      "elapsed time :  0.15891814231872559\n",
      "iteration :  83 , score :  0.9985030319104643\n",
      "elapsed time :  0.1690988540649414\n",
      "iteration :  84 , score :  0.9985345297064712\n",
      "elapsed time :  0.17147397994995117\n",
      "iteration :  85 , score :  0.9985651066630165\n",
      "elapsed time :  0.15415668487548828\n",
      "iteration :  86 , score :  0.9985947725655396\n",
      "elapsed time :  0.16313910484313965\n",
      "iteration :  87 , score :  0.9986236009200118\n",
      "elapsed time :  0.16717815399169922\n",
      "iteration :  88 , score :  0.9986516072058584\n",
      "elapsed time :  0.30596208572387695\n",
      "iteration :  89 , score :  0.9986788134974174\n",
      "elapsed time :  0.17156982421875\n",
      "iteration :  90 , score :  0.9987052582546992\n",
      "elapsed time :  0.15491104125976562\n",
      "iteration :  91 , score :  0.9987309779613617\n",
      "elapsed time :  0.1675260066986084\n",
      "iteration :  92 , score :  0.9987559918708268\n",
      "elapsed time :  0.160261869430542\n",
      "iteration :  93 , score :  0.9987803141690866\n",
      "elapsed time :  0.16126799583435059\n",
      "iteration :  94 , score :  0.9988039859069439\n",
      "elapsed time :  0.15979814529418945\n",
      "iteration :  95 , score :  0.9988270276165091\n",
      "elapsed time :  0.33045291900634766\n",
      "iteration :  96 , score :  0.9988494631789702\n",
      "elapsed time :  0.16574788093566895\n",
      "iteration :  97 , score :  0.9988712985977926\n",
      "elapsed time :  0.15214109420776367\n",
      "iteration :  98 , score :  0.9988925718004611\n",
      "elapsed time :  0.15214800834655762\n",
      "iteration :  99 , score :  0.998913301078838\n",
      "elapsed time :  0.1677720546722412\n"
     ]
    }
   ],
   "source": [
    "\n",
    "training_states = [\n",
    "    np.array([1, 0]),\n",
    "    np.array([1, 1]) / np.sqrt(2),\n",
    "    np.array([1, -1]) / np.sqrt(2),\n",
    "    np.array([1, 1j]) / np.sqrt(2),\n",
    "]\n",
    "\n",
    "training_cost = cost_fn(training_states)\n",
    "\n",
    "init_settings = qnetvo.NetworkAnsatz(\n",
    "    [input_prep_node(training_states[0]), entanglement_prep_node],\n",
    "    [cc_sender_node],\n",
    "    [cc_receiver_node],\n",
    ").rand_network_settings()\n",
    "\n",
    "# optimizing teleportation protocol\n",
    "opt_dict = qnetvo.gradient_descent(\n",
    "    training_cost,\n",
    "    init_settings,\n",
    "    step_size=1.6,\n",
    "    num_steps=100,\n",
    "    sample_width=1,\n",
    "    verbose=True,\n",
    ")"
   ]
  },
  {
   "attachments": {},
   "cell_type": "markdown",
   "metadata": {},
   "source": [
    "## Testing Trained Teleportation Protocol\n",
    "\n",
    "We test the trained protocol to see how well it performs.\n",
    "To do this, we randomly select 100 qubit states and construct a new cost function for testing the trained protocol.\n",
    "We then apply our optimal settings into the test cost function to find the test score."
   ]
  },
  {
   "cell_type": "code",
   "execution_count": 19,
   "metadata": {},
   "outputs": [
    {
     "name": "stdout",
     "output_type": "stream",
     "text": [
      "test score :  0.9987094023535446\n"
     ]
    }
   ],
   "source": [
    "# generating new random states to test teleportation protocol\n",
    "test_states = [unitary_group.rvs(2)[:, 0] for i in range(100)]\n",
    "test_cost = cost_fn(test_states)\n",
    "\n",
    "# np.isclose(test_cost(*opt_dict[\"opt_settings\"]), -1, atol=5e-3)\n",
    "test_score = - test_cost(*opt_dict[\"opt_settings\"])\n",
    "\n",
    "print(\"test score : \", test_score)"
   ]
  },
  {
   "attachments": {},
   "cell_type": "markdown",
   "metadata": {},
   "source": [
    "Finally, we plot the gradient descent optimization and the test score to show how they compare.\n",
    "Since the fidelity is maximal at value one, we use (1 - Average Fidelity) to measure closeness on a logscale"
   ]
  },
  {
   "cell_type": "code",
   "execution_count": 28,
   "metadata": {},
   "outputs": [
    {
     "data": {
      "text/plain": [
       "<matplotlib.legend.Legend at 0x7f8b04513400>"
      ]
     },
     "execution_count": 28,
     "metadata": {},
     "output_type": "execute_result"
    },
    {
     "data": {
      "image/png": "[encoded data removed]",
      "text/plain": [
       "<Figure size 640x480 with 1 Axes>"
      ]
     },
     "metadata": {},
     "output_type": "display_data"
    }
   ],
   "source": [
    "plt.semilogy(range(0,101), 1 - np.array(opt_dict[\"scores\"]), label=\"Optimization on Training Set\", linewidth=4)\n",
    "plt.semilogy(range(0,101), 1 - np.array([test_score]*101), label=\"Performance on Test Set\", linewidth=4)\n",
    "plt.title(\"Learning a Teleportation Protocol\", size=24)\n",
    "plt.ylabel(\"1 - Average Fidelity\", size=18)\n",
    "plt.xlabel(\"Gradient Descent Iteration\", size=16)\n",
    "plt.grid()\n",
    "plt.legend(fontsize=14)\n"
   ]
  },
  {
   "cell_type": "code",
   "execution_count": 13,
   "metadata": {},
   "outputs": [
    {
     "data": {
      "text/plain": [
       "101"
      ]
     },
     "execution_count": 13,
     "metadata": {},
     "output_type": "execute_result"
    }
   ],
   "source": [
    "len(opt_dict[\"scores\"])"
   ]
  },
  {
   "cell_type": "code",
   "execution_count": null,
   "metadata": {},
   "outputs": [],
   "source": []
  }
 ],
 "metadata": {
  "kernelspec": {
   "display_name": "qnetvo-dev",
   "language": "python",
   "name": "python3"
  },
  "language_info": {
   "codemirror_mode": {
    "name": "ipython",
    "version": 3
   },
   "file_extension": ".py",
   "mimetype": "text/x-python",
   "name": "python",
   "nbconvert_exporter": "python",
   "pygments_lexer": "ipython3",
   "version": "3.8.16"
  },
  "orig_nbformat": 4,
  "vscode": {
   "interpreter": {
    "hash": "bf906d009870ab36df32fdec1148597d29f4d9e023d00c674a99e7b7acf9227e"
   }
  }
 },
 "nbformat": 4,
 "nbformat_minor": 2
}
