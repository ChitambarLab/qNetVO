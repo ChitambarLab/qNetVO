{
 "cells": [
  {
   "attachments": {},
   "cell_type": "markdown",
   "metadata": {},
   "source": [
    "# Training a Teleportation Protocol\n",
    "\n",
    "In this notebook we demo how `qnetvo` can be used to train LOCC protocols such as teleportation.\n",
    "For details about the quantum teleportation protocol please review the [Wikipedia article on quantum teleportation](https://en.wikipedia.org/wiki/Quantum_teleportation)."
   ]
  },
  {
   "cell_type": "code",
   "execution_count": 1,
   "metadata": {},
   "outputs": [],
   "source": [
    "import pennylane as qml\n",
    "import numpy as np\n",
    "from pennylane import numpy as qnp\n",
    "from scipy.stats import unitary_group\n",
    "from  matplotlib import pyplot as plt\n",
    "\n",
    "import qnetvo"
   ]
  },
  {
   "attachments": {},
   "cell_type": "markdown",
   "metadata": {},
   "source": [
    "## State Preparation\n",
    "\n",
    "We begin by defining the preparation nodes.\n",
    "Teleportation requires entanglement between the two parties we consider a general two-qubit state preparation."
   ]
  },
  {
   "cell_type": "code",
   "execution_count": 2,
   "metadata": {},
   "outputs": [],
   "source": [
    "entanglement_prep_node = qnetvo.PrepareNode(\n",
    "    wires=[1,2], ansatz_fn=qml.ArbitraryStatePreparation, num_settings=6\n",
    ")"
   ]
  },
  {
   "attachments": {},
   "cell_type": "markdown",
   "metadata": {},
   "source": [
    "Since the input to the telelportation protocol is a quantum state, we create a generator function to create the input qubit state from a vector.\n",
    "That is, the following function returns the prepare node that initializes the specified state."
   ]
  },
  {
   "cell_type": "code",
   "execution_count": 3,
   "metadata": {},
   "outputs": [],
   "source": [
    "def input_prep_node(state_vec):\n",
    "    def circuit(settings, wires):\n",
    "        qml.QubitStateVector(state_vec, wires=wires[0])\n",
    "\n",
    "    return qnetvo.PrepareNode(wires=[0], ansatz_fn=circuit)"
   ]
  },
  {
   "attachments": {},
   "cell_type": "markdown",
   "metadata": {},
   "source": [
    "## Classical Communication\n",
    "\n",
    "In quantum teleportation a Bell state measurement must be applied to the input state and one qubit of the entangled pair.\n",
    "The result is then communicated to the receiving party who can apply conditional operations to recover the input state.\n",
    "\n",
    "We use an arbitrary two-qubit measurement whose two-bit measurement is output as classical communication."
   ]
  },
  {
   "cell_type": "code",
   "execution_count": 4,
   "metadata": {},
   "outputs": [],
   "source": [
    "def cc_sender_circ(settings, wires):\n",
    "    qml.ArbitraryUnitary(settings, wires=wires[0:2])\n",
    "\n",
    "    b0 = qml.measure(wires[0])\n",
    "    b1 = qml.measure(wires[1])\n",
    "\n",
    "    return [b0, b1]\n",
    "\n",
    "cc_sender_node = qnetvo.CCSenderNode(wires=[0,1], cc_wires_out=[0,1], ansatz_fn=cc_sender_circ, num_settings=15)"
   ]
  },
  {
   "attachments": {},
   "cell_type": "markdown",
   "metadata": {},
   "source": [
    "The classical communication is received and used to condition a decoding operation.\n",
    "As an ansatz we consider a general qubit unitary for these conditional operations."
   ]
  },
  {
   "cell_type": "code",
   "execution_count": 5,
   "metadata": {},
   "outputs": [],
   "source": [
    "def cc_receiver_circ(settings, wires, cc_wires):\n",
    "    qml.cond((cc_wires[0] == 0) & (cc_wires[1] == 1), qml.Rot)(*settings[0:3], wires=wires[0])\n",
    "    qml.cond((cc_wires[0] == 1) & (cc_wires[1] == 0), qml.Rot)(*settings[3:6], wires=wires[0])\n",
    "    qml.cond((cc_wires[0] == 0) & (cc_wires[1] == 1), qml.Rot)(*settings[6:9], wires=wires[0])\n",
    "    qml.cond((cc_wires[0] == 1) & (cc_wires[1] == 1), qml.Rot)(*settings[9:12], wires=wires[0])\n",
    "\n",
    "\n",
    "cc_receiver_node = qnetvo.CCReceiverNode(wires=[2], cc_wires=[0,1], ansatz_fn=cc_receiver_circ, num_settings=12)"
   ]
  },
  {
   "attachments": {},
   "cell_type": "markdown",
   "metadata": {},
   "source": [
    "## Quantifying Teleportation Success\n",
    "\n",
    "To train a teleportation protocol, we need a metric of success.\n",
    "Thus, we use the fidelity as to measure the distance between the input state and the output from the teleportation protocol.\n",
    "Furthermore, a cost function should consider the average fidelity across many states to accurately determine the fidelity of the teleportation channel.\n",
    "\n",
    "We now write a generator for cost functions that will evaluate the average teleportation fidelity, evaluated for a collection of input qubit state vectors."
   ]
  },
  {
   "cell_type": "code",
   "execution_count": 6,
   "metadata": {},
   "outputs": [],
   "source": [
    "def cost_fn(input_states):\n",
    "    input_prep_nodes = [input_prep_node(state) for state in input_states]\n",
    "    ansatzes = [\n",
    "        qnetvo.NetworkAnsatz(\n",
    "            [input_prep_node, entanglement_prep_node], [cc_sender_node], [cc_receiver_node]\n",
    "        )\n",
    "        for input_prep_node in input_prep_nodes\n",
    "    ]\n",
    "\n",
    "    # construct a qnode that outputs a density matrix\n",
    "    def teleport_qnode_fn(ansatz):\n",
    "        @qml.qnode(ansatz.dev)\n",
    "        def teleport(settings):\n",
    "            ansatz.fn(settings)\n",
    "            return qml.density_matrix(2)\n",
    "\n",
    "        return teleport\n",
    "\n",
    "    teleport_circuits = [teleport_qnode_fn(ansatz) for ansatz in ansatzes]\n",
    "\n",
    "    # minimize average teleportation fidelity\n",
    "    def cost(*settings):\n",
    "        cost_val = 0\n",
    "        for i in range(len(teleport_circuits)):\n",
    "            teleport_circuit = teleport_circuits[i]\n",
    "            input_state = input_states[i]\n",
    "\n",
    "            rho = teleport_circuit(settings)\n",
    "            rho_target = np.outer(input_state, input_state.conj())\n",
    "\n",
    "            cost_val -= qml.math.fidelity(rho, rho_target)\n",
    "\n",
    "        return cost_val / len(teleport_circuits)\n",
    "\n",
    "    return cost"
   ]
  },
  {
   "attachments": {},
   "cell_type": "markdown",
   "metadata": {},
   "source": [
    "## Training a Teleportation Protocol\n",
    "\n",
    "We first select a collection of trainin states to use while training the protocol.\n",
    "We find that a handful of basis states are sufficient for good results."
   ]
  },
  {
   "cell_type": "code",
   "execution_count": 7,
   "metadata": {},
   "outputs": [
    {
     "name": "stdout",
     "output_type": "stream",
     "text": [
      "iteration :  0 , score :  0.5471578936824525\n",
      "elapsed time :  0.15990495681762695\n"
     ]
    },
    {
     "name": "stderr",
     "output_type": "stream",
     "text": [
      "/Users/brian/opt/anaconda3/envs/qnetvo-dev/lib/python3.8/site-packages/autograd/numpy/numpy_vjps.py:99: RuntimeWarning: divide by zero encountered in power\n",
      "  defvjp(anp.sqrt,    lambda ans, x : lambda g: g * 0.5 * x**-0.5)\n",
      "/Users/brian/opt/anaconda3/envs/qnetvo-dev/lib/python3.8/site-packages/autograd/numpy/numpy_wrapper.py:156: ComplexWarning: Casting complex values to real discards the imaginary part\n",
      "  return A.astype(dtype, order, casting, subok, copy)\n"
     ]
    },
    {
     "name": "stdout",
     "output_type": "stream",
     "text": [
      "iteration :  5 , score :  0.7365692836042733\n",
      "elapsed time :  0.14696431159973145\n",
      "iteration :  10 , score :  0.7802061134911843\n",
      "elapsed time :  0.15634918212890625\n",
      "iteration :  15 , score :  0.7983938565147153\n",
      "elapsed time :  0.17164015769958496\n",
      "iteration :  20 , score :  0.8146976718570577\n",
      "elapsed time :  0.1689281463623047\n",
      "iteration :  25 , score :  0.8377913977604947\n",
      "elapsed time :  0.22272300720214844\n",
      "iteration :  30 , score :  0.8702682058128497\n",
      "elapsed time :  0.32303309440612793\n",
      "iteration :  35 , score :  0.9032539214762972\n",
      "elapsed time :  0.2129042148590088\n",
      "iteration :  40 , score :  0.9276985920706474\n",
      "elapsed time :  0.14165568351745605\n",
      "iteration :  45 , score :  0.9463588748709624\n",
      "elapsed time :  0.16031408309936523\n",
      "iteration :  50 , score :  0.9604746352425042\n",
      "elapsed time :  0.23927998542785645\n",
      "iteration :  55 , score :  0.9705820237490765\n",
      "elapsed time :  0.252208948135376\n",
      "iteration :  60 , score :  0.9778326026118188\n",
      "elapsed time :  0.2579042911529541\n",
      "iteration :  65 , score :  0.9832022153054324\n",
      "elapsed time :  0.1417548656463623\n",
      "iteration :  70 , score :  0.9872532194471586\n",
      "elapsed time :  0.13967013359069824\n",
      "iteration :  75 , score :  0.9903255700182646\n",
      "elapsed time :  0.13951373100280762\n",
      "iteration :  80 , score :  0.9926573237651528\n",
      "elapsed time :  0.1433851718902588\n",
      "iteration :  85 , score :  0.9944264191013579\n",
      "elapsed time :  0.13999104499816895\n",
      "iteration :  90 , score :  0.9957680360507993\n",
      "elapsed time :  0.1411750316619873\n",
      "iteration :  95 , score :  0.9967851066889944\n",
      "elapsed time :  0.1392650604248047\n"
     ]
    }
   ],
   "source": [
    "\n",
    "training_states = [\n",
    "    np.array([1, 0]),\n",
    "    np.array([1, 1]) / np.sqrt(2),\n",
    "    np.array([1, -1]) / np.sqrt(2),\n",
    "    np.array([1, 1j]) / np.sqrt(2),\n",
    "]\n",
    "\n",
    "training_cost = cost_fn(training_states)\n",
    "\n",
    "init_settings = qnetvo.NetworkAnsatz(\n",
    "    [input_prep_node(training_states[0]), entanglement_prep_node],\n",
    "    [cc_sender_node],\n",
    "    [cc_receiver_node],\n",
    ").rand_network_settings()\n",
    "\n",
    "# optimizing teleportation protocol\n",
    "opt_dict = qnetvo.gradient_descent(\n",
    "    training_cost,\n",
    "    init_settings,\n",
    "    step_size=1.5,\n",
    "    num_steps=100,\n",
    "    sample_width=5,\n",
    "    verbose=True,\n",
    ")"
   ]
  },
  {
   "attachments": {},
   "cell_type": "markdown",
   "metadata": {},
   "source": [
    "## Testing Trained Teleportation Protocol\n",
    "\n",
    "We test the trained protocol to see how well it performs.\n",
    "To do this, we randomly select 100 qubit states and construct a new cost function for testing the trained protocol.\n",
    "We then apply our optimal settings into the test cost function to find the test score."
   ]
  },
  {
   "cell_type": "code",
   "execution_count": 8,
   "metadata": {},
   "outputs": [
    {
     "name": "stdout",
     "output_type": "stream",
     "text": [
      "test score :  0.9934535233349875\n"
     ]
    }
   ],
   "source": [
    "# generating new random states to test teleportation protocol\n",
    "test_states = [unitary_group.rvs(2)[:, 0] for i in range(100)]\n",
    "test_cost = cost_fn(test_states)\n",
    "\n",
    "# np.isclose(test_cost(*opt_dict[\"opt_settings\"]), -1, atol=5e-3)\n",
    "test_score = - test_cost(*opt_dict[\"opt_settings\"])\n",
    "\n",
    "print(\"test score : \", test_score)"
   ]
  },
  {
   "attachments": {},
   "cell_type": "markdown",
   "metadata": {},
   "source": [
    "Finally, we plot the gradient descent optimization and the test score to show how they compare.\n",
    "Since the fidelity is maximal at value one, we use (1 - Average Fidelity) to measure closeness on a logscale"
   ]
  },
  {
   "cell_type": "code",
   "execution_count": 9,
   "metadata": {},
   "outputs": [
    {
     "data": {
      "text/plain": [
       "Text(0.5, 0, 'Gradient Descent Iteration')"
      ]
     },
     "execution_count": 9,
     "metadata": {},
     "output_type": "execute_result"
    },
    {
     "data": {
      "image/png": "[encoded data removed]",
      "text/plain": [
       "<Figure size 640x480 with 1 Axes>"
      ]
     },
     "metadata": {},
     "output_type": "display_data"
    }
   ],
   "source": [
    "plt.semilogy(range(0,101,5), 1 - np.array(opt_dict[\"scores\"]))\n",
    "plt.semilogy(range(0,101,5), 1 - np.array([test_score]*21))\n",
    "plt.ylabel(\"1 - Average Fidelity\")\n",
    "plt.xlabel(\"Gradient Descent Iteration\")\n"
   ]
  },
  {
   "cell_type": "code",
   "execution_count": null,
   "metadata": {},
   "outputs": [],
   "source": []
  }
 ],
 "metadata": {
  "kernelspec": {
   "display_name": "qnetvo-dev",
   "language": "python",
   "name": "python3"
  },
  "language_info": {
   "codemirror_mode": {
    "name": "ipython",
    "version": 3
   },
   "file_extension": ".py",
   "mimetype": "text/x-python",
   "name": "python",
   "nbconvert_exporter": "python",
   "pygments_lexer": "ipython3",
   "version": "3.8.15"
  },
  "orig_nbformat": 4,
  "vscode": {
   "interpreter": {
    "hash": "bf906d009870ab36df32fdec1148597d29f4d9e023d00c674a99e7b7acf9227e"
   }
  }
 },
 "nbformat": 4,
 "nbformat_minor": 2
}
