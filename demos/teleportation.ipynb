{
 "cells": [
  {
   "cell_type": "code",
   "execution_count": 1,
   "metadata": {},
   "outputs": [],
   "source": [
    "import pennylane as qml\n",
    "import torch\n",
    "import numpy as np\n",
    "from pennylane import numpy as qnp\n",
    "from scipy.stats import unitary_group\n",
    "\n",
    "import qnetvo"
   ]
  },
  {
   "cell_type": "code",
   "execution_count": 162,
   "metadata": {},
   "outputs": [
    {
     "name": "stdout",
     "output_type": "stream",
     "text": [
      "tensor([ 0.6537-0.5764j, -0.4861+0.0644j], dtype=torch.complex128)\n",
      "tensor([[ 0.7596+0.0000j, -0.3549+0.2381j],\n",
      "        [-0.3549-0.2381j,  0.2404+0.0000j]], dtype=torch.complex128)\n"
     ]
    }
   ],
   "source": [
    "dev = qml.device(\"default.qubit.torch\", wires=3)\n",
    "input_state = torch.tensor(unitary_group.rvs(2)[:, 0], requires_grad=False)\n",
    "rho_target = torch.outer(input_state, input_state.conj())\n",
    "\n",
    "print(input_state)\n",
    "print(rho_target)\n",
    "\n",
    "dev2 = qml.device(\"default.qubit\", wires=3)"
   ]
  },
  {
   "cell_type": "code",
   "execution_count": 84,
   "metadata": {},
   "outputs": [],
   "source": [
    "def rx_rz_rotation(phi, psi, wires):\n",
    "    qml.RX(phi, wires=wires)\n",
    "    qml.RZ(psi, wires=wires)\n",
    "\n",
    "def pauli_xz(wires):\n",
    "    qml.PauliZ(wires=wires)\n",
    "    qml.PauliX(wires=wires)"
   ]
  },
  {
   "cell_type": "code",
   "execution_count": 181,
   "metadata": {},
   "outputs": [],
   "source": [
    "\n",
    "@qml.qnode(dev, interface=\"torch\")\n",
    "def hardcoded_teleportation(settings):\n",
    "    qml.QubitStateVector(input_state, wires=0)\n",
    "\n",
    "    qml.Hadamard(wires=[1])\n",
    "    qml.CNOT(wires=[1,2])\n",
    "    qml.CNOT(wires=[0,1])\n",
    "    qml.Hadamard(wires=[0])\n",
    "\n",
    "    m1 = qml.measure(0)\n",
    "    m2 = qml.measure(1)\n",
    "\n",
    "    # qml.cond(m1 == 1, qml.PauliZ)(wires=2)\n",
    "    # qml.cond(m2 == 1, qml.PauliX)(wires=2)\n",
    "    qml.cond((m1 == 1) & (m2 == 0), qml.PauliZ)(wires=2)\n",
    "    qml.cond((m2 == 1) & (m1 == 0), qml.PauliX)(wires=2)\n",
    "    qml.cond((m2 == 1) & (m1 == 1), pauli_xz)(wires=2)\n",
    "    \n",
    "    # Return state on final wire\n",
    "    return qml.density_matrix(wires=2)\n",
    "\n",
    "\n",
    "\n",
    "\n",
    "@qml.qnode(dev, interface=\"torch\")\n",
    "def teleport(settings, input_state):\n",
    "    # Prepare input state\n",
    "    qml.QubitStateVector(input_state, wires=0)\n",
    "\n",
    "    # Prepare Bell state\n",
    "    qml.ArbitraryStatePreparation(settings[0], wires=[1, 2])\n",
    "    # qml.Hadamard(wires=[1])\n",
    "    # qml.CNOT(wires=[1,2])\n",
    "\n",
    "    # qml.CNOT(wires=[0,1])\n",
    "    # qml.Hadamard(wires=[0])\n",
    "\n",
    "    # # Apply gates\n",
    "    qml.ArbitraryUnitary(settings[1], wires=[0, 1])\n",
    "\n",
    "    # Measure first two wires\n",
    "    m1 = qml.measure(0)\n",
    "    m2 = qml.measure(1)\n",
    "    \n",
    "    # Condition final wire on results    \n",
    "    # options = qml.apply_to_measurement(decision)(m1, m2)\n",
    "    \n",
    "    qml.cond((m1 == 0) & (m2 == 0), qml.Rot)(*settings[2][0], wires=2)\n",
    "    qml.cond((m1 == 1) & (m2 == 0), qml.Rot)(*settings[2][1], wires=2)\n",
    "    qml.cond((m2 == 1) & (m1 == 0), qml.Rot)(*settings[2][2], wires=2)\n",
    "    qml.cond((m2 == 1) & (m1 == 1), qml.Rot)(*settings[2][3], wires=2)\n",
    "    \n",
    "    # Return state on final wire\n",
    "    return qml.density_matrix(wires=2)\n",
    "\n",
    "\n",
    "@qml.qnode(dev2)\n",
    "def teleport2(settings, input_state):\n",
    "    # Prepare input state\n",
    "    qml.QubitStateVector(input_state, wires=0)\n",
    "\n",
    "    # Prepare Bell state\n",
    "    qml.ArbitraryStatePreparation(settings[0:6], wires=[1, 2])\n",
    "    # qml.Hadamard(wires=[1])\n",
    "    # qml.CNOT(wires=[1,2])\n",
    "\n",
    "    # qml.CNOT(wires=[0,1])\n",
    "    # qml.Hadamard(wires=[0])\n",
    "\n",
    "    # # Apply gates\n",
    "    qml.ArbitraryUnitary(settings[6:21], wires=[0, 1])\n",
    "\n",
    "    # Measure first two wires\n",
    "    m1 = qml.measure(0)\n",
    "    m2 = qml.measure(1)\n",
    "    \n",
    "    # Condition final wire on results    \n",
    "    # options = qml.apply_to_measurement(decision)(m1, m2)\n",
    "    \n",
    "    qml.cond((m1 == 0) & (m2 == 0), qml.Rot)(*settings[21:24], wires=2)\n",
    "    qml.cond((m1 == 1) & (m2 == 0), qml.Rot)(*settings[24:27], wires=2)\n",
    "    qml.cond((m2 == 1) & (m1 == 0), qml.Rot)(*settings[27:30], wires=2)\n",
    "    qml.cond((m2 == 1) & (m1 == 1), qml.Rot)(*settings[30:33], wires=2)\n",
    "    \n",
    "    # Return state on final wire\n",
    "    return qml.density_matrix(wires=2)"
   ]
  },
  {
   "cell_type": "code",
   "execution_count": 146,
   "metadata": {},
   "outputs": [
    {
     "data": {
      "text/plain": [
       "tensor([[0.9553+0.0000j, 0.0765+0.1920j],\n",
       "        [0.0765-0.1920j, 0.0447+0.0000j]], dtype=torch.complex128)"
      ]
     },
     "execution_count": 146,
     "metadata": {},
     "output_type": "execute_result"
    }
   ],
   "source": [
    "\n",
    "hardcoded_teleportation([])\n"
   ]
  },
  {
   "cell_type": "code",
   "execution_count": 182,
   "metadata": {},
   "outputs": [
    {
     "name": "stdout",
     "output_type": "stream",
     "text": [
      "teleport :  tensor([[ 0.6730+0.0000j, -0.1008-0.2693j],\n",
      "        [-0.1008+0.2693j,  0.3270+0.0000j]], dtype=torch.complex128,\n",
      "       grad_fn=<SqueezeBackward0>)\n",
      "cost :  tensor(-0.1711, dtype=torch.float64, grad_fn=<NegBackward0>)\n",
      "taget :  tensor([[0.2171+0.0000j, 0.0541+0.4087j],\n",
      "        [0.0541-0.4087j, 0.7829+0.0000j]], dtype=torch.complex128)\n"
     ]
    },
    {
     "ename": "ValueError",
     "evalue": "Weights tensor must be of shape (6,); got (2,).",
     "output_type": "error",
     "traceback": [
      "\u001b[0;31m---------------------------------------------------------------------------\u001b[0m",
      "\u001b[0;31mValueError\u001b[0m                                Traceback (most recent call last)",
      "Cell \u001b[0;32mIn[182], line 43\u001b[0m\n\u001b[1;32m     40\u001b[0m \u001b[39mprint\u001b[39m(\u001b[39m\"\u001b[39m\u001b[39mcost : \u001b[39m\u001b[39m\"\u001b[39m, cost(settings, input_states[\u001b[39m0\u001b[39m]))\n\u001b[1;32m     41\u001b[0m \u001b[39mprint\u001b[39m(\u001b[39m\"\u001b[39m\u001b[39mtaget : \u001b[39m\u001b[39m\"\u001b[39m, torch\u001b[39m.\u001b[39mouter(input_states[\u001b[39m0\u001b[39m], input_states[\u001b[39m0\u001b[39m]\u001b[39m.\u001b[39mconj()))\n\u001b[0;32m---> 43\u001b[0m true_cost2(np_settings, np_input_states)\n",
      "Cell \u001b[0;32mIn[182], line 33\u001b[0m, in \u001b[0;36mtrue_cost2\u001b[0;34m(settings, input_states)\u001b[0m\n\u001b[1;32m     31\u001b[0m cost_val \u001b[39m=\u001b[39m \u001b[39m0\u001b[39m\n\u001b[1;32m     32\u001b[0m \u001b[39mfor\u001b[39;00m input_state \u001b[39min\u001b[39;00m input_states:\n\u001b[0;32m---> 33\u001b[0m     cost_val \u001b[39m+\u001b[39m\u001b[39m=\u001b[39m cost2(settings, input_state)\n\u001b[1;32m     35\u001b[0m \u001b[39mreturn\u001b[39;00m cost_val \u001b[39m/\u001b[39m \u001b[39mlen\u001b[39m(input_states)\n",
      "Cell \u001b[0;32mIn[182], line 7\u001b[0m, in \u001b[0;36mcost2\u001b[0;34m(settings, input_state)\u001b[0m\n\u001b[1;32m      6\u001b[0m \u001b[39mdef\u001b[39;00m \u001b[39mcost2\u001b[39m(settings, input_state):\n\u001b[0;32m----> 7\u001b[0m     rho \u001b[39m=\u001b[39m teleport2(settings, input_state)\n\u001b[1;32m      8\u001b[0m     rho_target \u001b[39m=\u001b[39m np\u001b[39m.\u001b[39mouter(input_state, input_state\u001b[39m.\u001b[39mconj())\n\u001b[1;32m      9\u001b[0m     \u001b[39mreturn\u001b[39;00m \u001b[39m-\u001b[39m qml\u001b[39m.\u001b[39mmath\u001b[39m.\u001b[39mfidelity(rho, rho_target)\n",
      "File \u001b[0;32m~/opt/anaconda3/envs/qnetvo-dev/lib/python3.8/site-packages/pennylane/qnode.py:800\u001b[0m, in \u001b[0;36mQNode.__call__\u001b[0;34m(self, *args, **kwargs)\u001b[0m\n\u001b[1;32m    797\u001b[0m         set_shots(\u001b[39mself\u001b[39m\u001b[39m.\u001b[39m_original_device, override_shots)(\u001b[39mself\u001b[39m\u001b[39m.\u001b[39m_update_gradient_fn)()\n\u001b[1;32m    799\u001b[0m \u001b[39m# construct the tape\u001b[39;00m\n\u001b[0;32m--> 800\u001b[0m \u001b[39mself\u001b[39;49m\u001b[39m.\u001b[39;49mconstruct(args, kwargs)\n\u001b[1;32m    802\u001b[0m cache \u001b[39m=\u001b[39m \u001b[39mself\u001b[39m\u001b[39m.\u001b[39mexecute_kwargs\u001b[39m.\u001b[39mget(\u001b[39m\"\u001b[39m\u001b[39mcache\u001b[39m\u001b[39m\"\u001b[39m, \u001b[39mFalse\u001b[39;00m)\n\u001b[1;32m    803\u001b[0m using_custom_cache \u001b[39m=\u001b[39m (\n\u001b[1;32m    804\u001b[0m     \u001b[39mhasattr\u001b[39m(cache, \u001b[39m\"\u001b[39m\u001b[39m__getitem__\u001b[39m\u001b[39m\"\u001b[39m)\n\u001b[1;32m    805\u001b[0m     \u001b[39mand\u001b[39;00m \u001b[39mhasattr\u001b[39m(cache, \u001b[39m\"\u001b[39m\u001b[39m__setitem__\u001b[39m\u001b[39m\"\u001b[39m)\n\u001b[1;32m    806\u001b[0m     \u001b[39mand\u001b[39;00m \u001b[39mhasattr\u001b[39m(cache, \u001b[39m\"\u001b[39m\u001b[39m__delitem__\u001b[39m\u001b[39m\"\u001b[39m)\n\u001b[1;32m    807\u001b[0m )\n",
      "File \u001b[0;32m~/opt/anaconda3/envs/qnetvo-dev/lib/python3.8/site-packages/pennylane/qnode.py:711\u001b[0m, in \u001b[0;36mQNode.construct\u001b[0;34m(self, args, kwargs)\u001b[0m\n\u001b[1;32m    708\u001b[0m \u001b[39mdef\u001b[39;00m \u001b[39mconstruct\u001b[39m(\u001b[39mself\u001b[39m, args, kwargs):\n\u001b[1;32m    709\u001b[0m     \u001b[39m\"\"\"Call the quantum function with a tape context, ensuring the operations get queued.\"\"\"\u001b[39;00m\n\u001b[0;32m--> 711\u001b[0m     \u001b[39mself\u001b[39m\u001b[39m.\u001b[39m_tape \u001b[39m=\u001b[39m make_qscript(\u001b[39mself\u001b[39;49m\u001b[39m.\u001b[39;49mfunc)(\u001b[39m*\u001b[39;49margs, \u001b[39m*\u001b[39;49m\u001b[39m*\u001b[39;49mkwargs)\n\u001b[1;32m    712\u001b[0m     \u001b[39mself\u001b[39m\u001b[39m.\u001b[39m_tape\u001b[39m.\u001b[39m_queue_category \u001b[39m=\u001b[39m \u001b[39m\"\u001b[39m\u001b[39m_ops\u001b[39m\u001b[39m\"\u001b[39m\n\u001b[1;32m    713\u001b[0m     \u001b[39mself\u001b[39m\u001b[39m.\u001b[39m_qfunc_output \u001b[39m=\u001b[39m \u001b[39mself\u001b[39m\u001b[39m.\u001b[39mtape\u001b[39m.\u001b[39m_qfunc_output\n",
      "File \u001b[0;32m~/opt/anaconda3/envs/qnetvo-dev/lib/python3.8/site-packages/pennylane/tape/qscript.py:1346\u001b[0m, in \u001b[0;36mmake_qscript.<locals>.wrapper\u001b[0;34m(*args, **kwargs)\u001b[0m\n\u001b[1;32m   1344\u001b[0m \u001b[39mdef\u001b[39;00m \u001b[39mwrapper\u001b[39m(\u001b[39m*\u001b[39margs, \u001b[39m*\u001b[39m\u001b[39m*\u001b[39mkwargs):\n\u001b[1;32m   1345\u001b[0m     \u001b[39mwith\u001b[39;00m AnnotatedQueue() \u001b[39mas\u001b[39;00m q:\n\u001b[0;32m-> 1346\u001b[0m         result \u001b[39m=\u001b[39m fn(\u001b[39m*\u001b[39;49margs, \u001b[39m*\u001b[39;49m\u001b[39m*\u001b[39;49mkwargs)\n\u001b[1;32m   1348\u001b[0m     qscript \u001b[39m=\u001b[39m QuantumScript\u001b[39m.\u001b[39mfrom_queue(q)\n\u001b[1;32m   1349\u001b[0m     qscript\u001b[39m.\u001b[39m_qfunc_output \u001b[39m=\u001b[39m result\n",
      "Cell \u001b[0;32mIn[181], line 63\u001b[0m, in \u001b[0;36mteleport2\u001b[0;34m(settings, input_state)\u001b[0m\n\u001b[1;32m     60\u001b[0m qml\u001b[39m.\u001b[39mQubitStateVector(input_state, wires\u001b[39m=\u001b[39m\u001b[39m0\u001b[39m)\n\u001b[1;32m     62\u001b[0m \u001b[39m# Prepare Bell state\u001b[39;00m\n\u001b[0;32m---> 63\u001b[0m qml\u001b[39m.\u001b[39;49mArbitraryStatePreparation(settings[\u001b[39m0\u001b[39;49m:\u001b[39m6\u001b[39;49m], wires\u001b[39m=\u001b[39;49m[\u001b[39m1\u001b[39;49m, \u001b[39m2\u001b[39;49m])\n\u001b[1;32m     64\u001b[0m \u001b[39m# qml.Hadamard(wires=[1])\u001b[39;00m\n\u001b[1;32m     65\u001b[0m \u001b[39m# qml.CNOT(wires=[1,2])\u001b[39;00m\n\u001b[1;32m     66\u001b[0m \n\u001b[0;32m   (...)\u001b[0m\n\u001b[1;32m     69\u001b[0m \n\u001b[1;32m     70\u001b[0m \u001b[39m# # Apply gates\u001b[39;00m\n\u001b[1;32m     71\u001b[0m qml\u001b[39m.\u001b[39mArbitraryUnitary(settings[\u001b[39m6\u001b[39m:\u001b[39m21\u001b[39m], wires\u001b[39m=\u001b[39m[\u001b[39m0\u001b[39m, \u001b[39m1\u001b[39m])\n",
      "File \u001b[0;32m~/opt/anaconda3/envs/qnetvo-dev/lib/python3.8/site-packages/pennylane/templates/state_preparations/arbitrary_state_preparation.py:89\u001b[0m, in \u001b[0;36mArbitraryStatePreparation.__init__\u001b[0;34m(self, weights, wires, do_queue, id)\u001b[0m\n\u001b[1;32m     87\u001b[0m shape \u001b[39m=\u001b[39m qml\u001b[39m.\u001b[39mmath\u001b[39m.\u001b[39mshape(weights)\n\u001b[1;32m     88\u001b[0m \u001b[39mif\u001b[39;00m shape \u001b[39m!=\u001b[39m (\u001b[39m2\u001b[39m \u001b[39m*\u001b[39m\u001b[39m*\u001b[39m (\u001b[39mlen\u001b[39m(wires) \u001b[39m+\u001b[39m \u001b[39m1\u001b[39m) \u001b[39m-\u001b[39m \u001b[39m2\u001b[39m,):\n\u001b[0;32m---> 89\u001b[0m     \u001b[39mraise\u001b[39;00m \u001b[39mValueError\u001b[39;00m(\n\u001b[1;32m     90\u001b[0m         \u001b[39mf\u001b[39m\u001b[39m\"\u001b[39m\u001b[39mWeights tensor must be of shape \u001b[39m\u001b[39m{\u001b[39;00m(\u001b[39m2\u001b[39m \u001b[39m*\u001b[39m\u001b[39m*\u001b[39m (\u001b[39mlen\u001b[39m(wires) \u001b[39m+\u001b[39m \u001b[39m1\u001b[39m) \u001b[39m-\u001b[39m \u001b[39m2\u001b[39m,)\u001b[39m}\u001b[39;00m\u001b[39m; got \u001b[39m\u001b[39m{\u001b[39;00mshape\u001b[39m}\u001b[39;00m\u001b[39m.\u001b[39m\u001b[39m\"\u001b[39m\n\u001b[1;32m     91\u001b[0m     )\n\u001b[1;32m     93\u001b[0m \u001b[39msuper\u001b[39m()\u001b[39m.\u001b[39m\u001b[39m__init__\u001b[39m(weights, wires\u001b[39m=\u001b[39mwires, do_queue\u001b[39m=\u001b[39mdo_queue, \u001b[39mid\u001b[39m\u001b[39m=\u001b[39m\u001b[39mid\u001b[39m)\n",
      "\u001b[0;31mValueError\u001b[0m: Weights tensor must be of shape (6,); got (2,)."
     ]
    }
   ],
   "source": [
    "def cost(settings, input_state):\n",
    "    rho = teleport(settings, input_state)\n",
    "    rho_target = torch.outer(input_state, input_state.conj())\n",
    "    return - qml.math.fidelity(rho, rho_target)\n",
    "\n",
    "def cost2(settings, input_state):\n",
    "    rho = teleport2(settings, input_state)\n",
    "    rho_target = np.outer(input_state, input_state.conj())\n",
    "    return - qml.math.fidelity(rho, rho_target)\n",
    "\n",
    "\n",
    "\n",
    "input_states = [\n",
    "    torch.tensor(unitary_group.rvs(2)[:, 0], requires_grad=False)\n",
    "    for i in range(10)\n",
    "]\n",
    "\n",
    "np_input_states = [\n",
    "    qnp.array(unitary_group.rvs(2)[:, 0], requires_grad=False)\n",
    "    for i in range(10)\n",
    "]\n",
    "\n",
    "def true_cost(settings, input_states):\n",
    "    cost_val = 0\n",
    "    for input_state in input_states:\n",
    "        cost_val += cost(settings, input_state)\n",
    "\n",
    "    return cost_val / len(input_states)\n",
    "\n",
    "def true_cost2(settings, input_states):\n",
    "    cost_val = 0\n",
    "    for input_state in input_states:\n",
    "        cost_val += cost2(settings, input_state)\n",
    "\n",
    "    return cost_val / len(input_states)\n",
    "\n",
    "\n",
    "\n",
    "print(\"teleport : \", teleport(settings, input_states[0]))\n",
    "print(\"cost : \", cost(settings, input_states[0]))\n",
    "print(\"taget : \", torch.outer(input_states[0], input_states[0].conj()))\n",
    "\n",
    "true_cost2(np_settings, np_input_states)\n",
    "\n"
   ]
  },
  {
   "cell_type": "code",
   "execution_count": 168,
   "metadata": {},
   "outputs": [
    {
     "name": "stdout",
     "output_type": "stream",
     "text": [
      "0 tensor(-0.5453, dtype=torch.float64, grad_fn=<DivBackward0>)\n"
     ]
    },
    {
     "ename": "KeyboardInterrupt",
     "evalue": "",
     "output_type": "error",
     "traceback": [
      "\u001b[0;31m---------------------------------------------------------------------------\u001b[0m",
      "\u001b[0;31mKeyboardInterrupt\u001b[0m                         Traceback (most recent call last)",
      "Cell \u001b[0;32mIn[168], line 31\u001b[0m\n\u001b[1;32m     29\u001b[0m optimizer\u001b[39m.\u001b[39mzero_grad()\n\u001b[1;32m     30\u001b[0m res \u001b[39m=\u001b[39m true_cost(settings, input_states)\n\u001b[0;32m---> 31\u001b[0m res\u001b[39m.\u001b[39;49mbackward()\n\u001b[1;32m     32\u001b[0m optimizer\u001b[39m.\u001b[39mstep()\n\u001b[1;32m     34\u001b[0m \u001b[39mif\u001b[39;00m i \u001b[39m%\u001b[39m \u001b[39m50\u001b[39m \u001b[39m==\u001b[39m \u001b[39m0\u001b[39m:\n",
      "File \u001b[0;32m~/opt/anaconda3/envs/qnetvo-dev/lib/python3.8/site-packages/torch/_tensor.py:488\u001b[0m, in \u001b[0;36mTensor.backward\u001b[0;34m(self, gradient, retain_graph, create_graph, inputs)\u001b[0m\n\u001b[1;32m    478\u001b[0m \u001b[39mif\u001b[39;00m has_torch_function_unary(\u001b[39mself\u001b[39m):\n\u001b[1;32m    479\u001b[0m     \u001b[39mreturn\u001b[39;00m handle_torch_function(\n\u001b[1;32m    480\u001b[0m         Tensor\u001b[39m.\u001b[39mbackward,\n\u001b[1;32m    481\u001b[0m         (\u001b[39mself\u001b[39m,),\n\u001b[0;32m   (...)\u001b[0m\n\u001b[1;32m    486\u001b[0m         inputs\u001b[39m=\u001b[39minputs,\n\u001b[1;32m    487\u001b[0m     )\n\u001b[0;32m--> 488\u001b[0m torch\u001b[39m.\u001b[39;49mautograd\u001b[39m.\u001b[39;49mbackward(\n\u001b[1;32m    489\u001b[0m     \u001b[39mself\u001b[39;49m, gradient, retain_graph, create_graph, inputs\u001b[39m=\u001b[39;49minputs\n\u001b[1;32m    490\u001b[0m )\n",
      "File \u001b[0;32m~/opt/anaconda3/envs/qnetvo-dev/lib/python3.8/site-packages/torch/autograd/__init__.py:197\u001b[0m, in \u001b[0;36mbackward\u001b[0;34m(tensors, grad_tensors, retain_graph, create_graph, grad_variables, inputs)\u001b[0m\n\u001b[1;32m    192\u001b[0m     retain_graph \u001b[39m=\u001b[39m create_graph\n\u001b[1;32m    194\u001b[0m \u001b[39m# The reason we repeat same the comment below is that\u001b[39;00m\n\u001b[1;32m    195\u001b[0m \u001b[39m# some Python versions print out the first line of a multi-line function\u001b[39;00m\n\u001b[1;32m    196\u001b[0m \u001b[39m# calls in the traceback and some print out the last line\u001b[39;00m\n\u001b[0;32m--> 197\u001b[0m Variable\u001b[39m.\u001b[39;49m_execution_engine\u001b[39m.\u001b[39;49mrun_backward(  \u001b[39m# Calls into the C++ engine to run the backward pass\u001b[39;49;00m\n\u001b[1;32m    198\u001b[0m     tensors, grad_tensors_, retain_graph, create_graph, inputs,\n\u001b[1;32m    199\u001b[0m     allow_unreachable\u001b[39m=\u001b[39;49m\u001b[39mTrue\u001b[39;49;00m, accumulate_grad\u001b[39m=\u001b[39;49m\u001b[39mTrue\u001b[39;49;00m)\n",
      "\u001b[0;31mKeyboardInterrupt\u001b[0m: "
     ]
    }
   ],
   "source": [
    "settings = [\n",
    "    torch.tensor(np.random.random((6)), requires_grad=True),\n",
    "    torch.tensor(np.random.random((15)), requires_grad=True),\n",
    "    torch.tensor(np.random.random((4, 3)), requires_grad=True)\n",
    "]\n",
    "\n",
    "np_settings = qnp.random.rand()\n",
    "# input_states = [\n",
    "#     torch.tensor(unitary_group.rvs(2)[:, 0], requires_grad=False)\n",
    "#     for i in range(10)\n",
    "# ]\n",
    "input_states = [\n",
    "    torch.tensor([1,0] , requires_grad=False),\n",
    "    torch.tensor([0,1], requires_grad=False),\n",
    "    torch.tensor([1/np.sqrt(2),1/np.sqrt(2)] , requires_grad=False),\n",
    "    torch.tensor([1/np.sqrt(2),-1/np.sqrt(2)] , requires_grad=False),\n",
    "    torch.tensor([1/np.sqrt(2),1j/np.sqrt(2)] , requires_grad=False),\n",
    "]\n",
    "\n",
    "\n",
    "optimizer = torch.optim.SGD(settings, lr=1)\n",
    "\n",
    "for i in range(251):\n",
    "    \n",
    "    optimizer.zero_grad()\n",
    "    res = true_cost(settings, input_states)\n",
    "    res.backward()\n",
    "    optimizer.step()\n",
    "    \n",
    "    if i % 50 == 0:\n",
    "        print(i, true_cost(settings, input_states))"
   ]
  },
  {
   "cell_type": "code",
   "execution_count": 161,
   "metadata": {},
   "outputs": [
    {
     "name": "stdout",
     "output_type": "stream",
     "text": [
      "cost :  tensor(-1.0000, dtype=torch.float64, grad_fn=<DivBackward0>)\n",
      "teleport state :  tensor([[0.2751+0.0000j, 0.4281+0.1272j],\n",
      "        [0.4281-0.1272j, 0.7249+0.0000j]], dtype=torch.complex128,\n",
      "       grad_fn=<SqueezeBackward0>)\n",
      "target  tensor([[0.2751+0.0000j, 0.4281+0.1272j],\n",
      "        [0.4281-0.1272j, 0.7249+0.0000j]], dtype=torch.complex128)\n"
     ]
    }
   ],
   "source": [
    "test_input_states = [\n",
    "    torch.tensor(unitary_group.rvs(2)[:, 0], requires_grad=False)\n",
    "    for i in range(50)\n",
    "]\n",
    "\n",
    "\n",
    "print(\"cost : \", true_cost(settings, test_input_states))\n",
    "print(\"teleport state : \", teleport(settings, test_input_states[0]))\n",
    "print(\"target \", torch.outer(test_input_states[0], test_input_states[0].conj()))"
   ]
  },
  {
   "cell_type": "code",
   "execution_count": 193,
   "metadata": {},
   "outputs": [
    {
     "name": "stderr",
     "output_type": "stream",
     "text": [
      "/Users/brian/opt/anaconda3/envs/qnetvo-dev/lib/python3.8/site-packages/autograd/numpy/numpy_wrapper.py:156: ComplexWarning: Casting complex values to real discards the imaginary part\n",
      "  return A.astype(dtype, order, casting, subok, copy)\n",
      "/Users/brian/opt/anaconda3/envs/qnetvo-dev/lib/python3.8/site-packages/autograd/numpy/numpy_vjps.py:99: RuntimeWarning: divide by zero encountered in power\n",
      "  defvjp(anp.sqrt,    lambda ans, x : lambda g: g * 0.5 * x**-0.5)\n"
     ]
    },
    {
     "name": "stdout",
     "output_type": "stream",
     "text": [
      "0 -0.5810263392124135\n",
      "50 -0.7222905181765544\n",
      "100 -0.7256482466570291\n",
      "150 -0.791781956955881\n",
      "200 -0.9041128931488929\n",
      "250 -0.9982939704561391\n"
     ]
    }
   ],
   "source": [
    "np_settings = qnp.random.rand(33, requires_grad=True)\n",
    "\n",
    "np_input_states = [\n",
    "    qnp.array([1,0] , requires_grad=False),\n",
    "    qnp.array([0,1], requires_grad=False),\n",
    "    qnp.array([1/np.sqrt(2),1/np.sqrt(2)] , requires_grad=False),\n",
    "    qnp.array([1/np.sqrt(2),-1/np.sqrt(2)] , requires_grad=False),\n",
    "    qnp.array([1/np.sqrt(2),1j/np.sqrt(2)] , requires_grad=False),\n",
    "]\n",
    "\n",
    "blah_cost = lambda settings: true_cost2(settings, np_input_states)\n",
    "\n",
    "optimizer = qml.GradientDescentOptimizer(stepsize=1)\n",
    "\n",
    "for i in range(251):\n",
    "\n",
    "    np_settings, cost_val = optimizer.step_and_cost(blah_cost, np_settings)\n",
    "    \n",
    "    if i % 50 == 0:\n",
    "        print(i, cost_val)"
   ]
  },
  {
   "cell_type": "code",
   "execution_count": 194,
   "metadata": {},
   "outputs": [
    {
     "name": "stdout",
     "output_type": "stream",
     "text": [
      "cost :  -0.9981013987557017\n",
      "teleport state :  [[ 0.70280003+0.j         -0.28090135-0.35891963j]\n",
      " [-0.28090135+0.35891963j  0.29719997+0.j        ]]\n",
      "target  [[ 0.70325375+0.j         -0.28183576-0.35952262j]\n",
      " [-0.28183576+0.35952262j  0.29674625+0.j        ]]\n"
     ]
    }
   ],
   "source": [
    "np_test_input_states = [\n",
    "    qnp.array(unitary_group.rvs(2)[:, 0], requires_grad=False)\n",
    "    for i in range(50)\n",
    "]\n",
    "\n",
    "\n",
    "print(\"cost : \", true_cost2(np_settings, np_test_input_states))\n",
    "print(\"teleport state : \", teleport2(np_settings, np_test_input_states[0]))\n",
    "print(\"target \", qnp.outer(np_test_input_states[0], np_test_input_states[0].conj()))"
   ]
  },
  {
   "cell_type": "code",
   "execution_count": 10,
   "metadata": {},
   "outputs": [],
   "source": [
    "prep_nodes = [\n",
    "    qnetvo.PrepareNode(1, [0], lambda settings, wires, cc_wires: qml.Hadamard(wires=wires), 0),\n",
    "    qnetvo.PrepareNode(1, [1, 2], lambda settings, wires, cc_wires: qnetvo.ghz_state(settings, wires), 0)\n",
    "]\n",
    "\n",
    "def measure_circuit(settings, wires, cc_wires):\n",
    "    qml.CNOT(wires[0:2])\n",
    "    qml.Hadamard(wires=[0])\n",
    "\n",
    "    b0 = qml.measure(wires[0])\n",
    "    b1 = qml.measure(wires[1])\n",
    "\n",
    "    return [b0, b1]\n",
    "\n",
    "cc_measure_nodes = [\n",
    "    qnetvo.CCMeasureNode(1, [0,1], [0,1], measure_circuit, 0)\n",
    "]\n",
    "\n",
    "def pauli_xz(wires):\n",
    "    qml.PauliX(wires)\n",
    "    qml.PauliZ(wires)\n",
    "\n",
    "def cc_in_circuit(settings, wires, cc_wires):\n",
    "\n",
    "    qml.cond((cc_wires[0] == 1) & (cc_wires[1] == 0), qml.PauliZ)(wires=2)\n",
    "    qml.cond((cc_wires[0] == 0) & (cc_wires[1] == 1), qml.PauliX)(wires=2)\n",
    "    qml.cond((cc_wires[0] == 1) & (cc_wires[1] == 1), pauli_xz)(wires=2)\n",
    "    \n",
    "\n",
    "meas_nodes = [\n",
    "    qnetvo.MeasureNode(1, 2, [2], cc_in_circuit, 0, cc_wires_in=[0,1])\n",
    "]"
   ]
  },
  {
   "cell_type": "code",
   "execution_count": 11,
   "metadata": {},
   "outputs": [],
   "source": [
    "ansatz = qnetvo.NetworkAnsatz(prep_nodes, cc_measure_nodes, meas_nodes)"
   ]
  },
  {
   "cell_type": "code",
   "execution_count": 12,
   "metadata": {},
   "outputs": [],
   "source": [
    "@qml.qnode(ansatz.dev)\n",
    "def circ():\n",
    "    ansatz.fn([])\n",
    "    return qml.density_matrix(2)\n"
   ]
  },
  {
   "cell_type": "code",
   "execution_count": 13,
   "metadata": {},
   "outputs": [
    {
     "data": {
      "text/plain": [
       "tensor([[0.5+0.j, 0.5+0.j],\n",
       "        [0.5+0.j, 0.5+0.j]], requires_grad=True)"
      ]
     },
     "execution_count": 13,
     "metadata": {},
     "output_type": "execute_result"
    }
   ],
   "source": [
    "circ()"
   ]
  },
  {
   "cell_type": "code",
   "execution_count": 15,
   "metadata": {},
   "outputs": [],
   "source": [
    "opt_prep_nodes = [\n",
    "    qnetvo.PrepareNode(1, [0], lambda settings, wires, cc_wires: qml.Hadamard(wires=wires), 0),\n",
    "    qnetvo.PrepareNode(1, [1, 2], lambda settings, wires, cc_wires: qml.ArbitraryStatePreparation(settings, wires), 6)\n",
    "]\n",
    "\n",
    "def measure_circuit(settings, wires, cc_wires):\n",
    "    qml.ArbitraryUnitary(settings, wires)\n",
    "\n",
    "    b0 = qml.measure(wires[0])\n",
    "    b1 = qml.measure(wires[1])\n",
    "\n",
    "    return [b0, b1]\n",
    "\n",
    "opt_cc_measure_nodes = [\n",
    "    qnetvo.CCMeasureNode(1, [0,1], [0,1], measure_circuit, 15)\n",
    "]\n",
    "\n",
    "def ry_rz(settings, wires):\n",
    "    qml.RY(settings[0], wires)\n",
    "    qml.RZ(settings[1], wires)\n",
    "\n",
    "def cc_in_circuit(settings, wires, cc_wires):\n",
    "\n",
    "    qml.cond((cc_wires[0] == 0) & (cc_wires[1] == 1), ry_rz)(settings[0:2], wires=2)\n",
    "    qml.cond((cc_wires[0] == 1) & (cc_wires[1] == 0), ry_rz)(settings[2:4], wires=2)\n",
    "    qml.cond((cc_wires[0] == 0) & (cc_wires[1] == 1), ry_rz)(settings[4:6], wires=2)\n",
    "    qml.cond((cc_wires[0] == 1) & (cc_wires[1] == 1), ry_rz)(settings[6:8], wires=2)\n",
    "    \n",
    "\n",
    "opt_meas_nodes = [\n",
    "    qnetvo.MeasureNode(1, 2, [2], cc_in_circuit, 8, cc_wires_in=[0,1])\n",
    "]"
   ]
  },
  {
   "cell_type": "code",
   "execution_count": 16,
   "metadata": {},
   "outputs": [],
   "source": [
    "opt_ansatz = qnetvo.NetworkAnsatz(opt_prep_nodes, opt_cc_measure_nodes, opt_meas_nodes)"
   ]
  },
  {
   "cell_type": "code",
   "execution_count": 25,
   "metadata": {},
   "outputs": [
    {
     "name": "stdout",
     "output_type": "stream",
     "text": [
      "iteration :  0 , score :  0.5708701522852179\n",
      "elapsed time :  0.059288978576660156\n",
      "iteration :  25 , score :  0.9299854436339567\n",
      "elapsed time :  0.044187068939208984\n",
      "iteration :  50 , score :  0.980427584173603\n",
      "elapsed time :  0.043660879135131836\n",
      "iteration :  75 , score :  0.9901438699975584\n",
      "elapsed time :  0.04353904724121094\n",
      "iteration :  100 , score :  0.9936266432710954\n",
      "elapsed time :  0.04364204406738281\n",
      "iteration :  125 , score :  0.9954184495419954\n",
      "elapsed time :  0.03859305381774902\n"
     ]
    }
   ],
   "source": [
    "init_settings = opt_ansatz.rand_network_settings()\n",
    "\n",
    "@qml.qnode(opt_ansatz.dev)\n",
    "def teleport(settings):\n",
    "    opt_ansatz.fn(settings)\n",
    "    return qml.density_matrix(2)\n",
    "\n",
    "def cost(*settings):\n",
    "    rho = teleport(settings)\n",
    "    rho_target = np.array([[1,1],[1,1]])/2\n",
    "    return - qml.math.fidelity(rho, rho_target)\n",
    "\n",
    "opt_dict = qnetvo.gradient_descent(cost, init_settings)\n"
   ]
  },
  {
   "cell_type": "code",
   "execution_count": null,
   "metadata": {},
   "outputs": [],
   "source": []
  }
 ],
 "metadata": {
  "kernelspec": {
   "display_name": "qnetvo-dev",
   "language": "python",
   "name": "python3"
  },
  "language_info": {
   "codemirror_mode": {
    "name": "ipython",
    "version": 3
   },
   "file_extension": ".py",
   "mimetype": "text/x-python",
   "name": "python",
   "nbconvert_exporter": "python",
   "pygments_lexer": "ipython3",
   "version": "3.8.15"
  },
  "orig_nbformat": 4,
  "vscode": {
   "interpreter": {
    "hash": "bf906d009870ab36df32fdec1148597d29f4d9e023d00c674a99e7b7acf9227e"
   }
  }
 },
 "nbformat": 4,
 "nbformat_minor": 2
}
