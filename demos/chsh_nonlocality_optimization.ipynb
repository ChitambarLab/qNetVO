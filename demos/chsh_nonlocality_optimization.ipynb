{
 "cells": [
  {
   "attachments": {},
   "cell_type": "markdown",
   "id": "ba6db402",
   "metadata": {},
   "source": [
    "# Optimization of CHSH Nonlocality\n",
    "\n",
    "This notebook considers the CHSH scenario where the entangled state $\\rho^{AB}$ is prepared and distributed to two non-signaling measurement nodes that apply dichotomic observables $A_x$ and $B_y$.\n",
    "Here $x,y\\in\\{0,1\\}$ and $|\\langle A_x B_y\\rangle|\\leq1$.\n",
    "The bipartite correlator is constructed as\n",
    "\n",
    "$$\n",
    "\\langle A_x B_y\\rangle = \\text{Tr}[A_x \\otimes B_x \\rho^{AB}].\n",
    "$$\n",
    "\n",
    "The CHSH inequality is then defined as,\n",
    "\n",
    "$$\n",
    "S_{CHSH} := \\langle A_0B_0\\rangle + \\langle A_0 B_1\\rangle + \\langle A_1 B_0 \\rangle - \\langle A_1 B_1 \\rangle \\leq 2.\n",
    "$$\n",
    "\n",
    "For quantum systems $S_{CHSH}\\leq2\\sqrt{2}$.\n",
    "\n",
    "The goal of this demo is to use `qnetvo` to find preparation and measurement settings that achieve the maximal quantum violation of the CHSH inequality."
   ]
  },
  {
   "cell_type": "code",
   "execution_count": 1,
   "id": "a06a06be",
   "metadata": {},
   "outputs": [],
   "source": [
    "import pennylane as qml\n",
    "from pennylane import numpy as np\n",
    "import matplotlib.pyplot as plt\n",
    "\n",
    "import qnetvo as qnet"
   ]
  },
  {
   "cell_type": "markdown",
   "id": "72005229",
   "metadata": {},
   "source": [
    "## CHSH Ansatz\n",
    "\n",
    "We now use `qnetvo` to create arbitrary preparation and measurement node ansatzes and combine them to create the `chsh_ansatz`."
   ]
  },
  {
   "cell_type": "code",
   "execution_count": 2,
   "id": "a5644a97",
   "metadata": {},
   "outputs": [],
   "source": [
    "prep_nodes = [\n",
    "    qnet.PrepareNode(1, [0,1], qml.ArbitraryStatePreparation, 6)\n",
    "]\n",
    "meas_nodes = [\n",
    "    qnet.MeasureNode(2, 2, [0], qml.ArbitraryUnitary, 3),\n",
    "    qnet.MeasureNode(2, 2, [1], qml.ArbitraryUnitary, 3),\n",
    "]\n",
    "\n",
    "chsh_ansatz = qnet.NetworkAnsatz(prep_nodes, meas_nodes)\n",
    "chsh_ansatz_shots = qnet.NetworkAnsatz(prep_nodes, meas_nodes, dev_kwargs={\n",
    "    \"name\" : \"default.qubit\",\n",
    "    \"shots\" : 2000,\n",
    "})"
   ]
  },
  {
   "cell_type": "markdown",
   "id": "88651ca2",
   "metadata": {},
   "source": [
    "## CHSH Cost\n",
    "\n",
    "The cost function is simply $-S_{CHSH}$.\n",
    "Minimizing this quantity is equivalent to maximizing the the CHSH inequality.\n",
    "The cost function is conveniently provided by `qnetvo`.\n",
    "The differentation method must be specified during cost function creation.\n",
    "We construct two cost functions, one using backpropagation and the other the parameter-shift rule."
   ]
  },
  {
   "cell_type": "code",
   "execution_count": 3,
   "id": "66e09f40",
   "metadata": {},
   "outputs": [],
   "source": [
    "# backpropagation cost function\n",
    "chsh_cost_bp = qnet.chsh_inequality_cost(chsh_ansatz)\n",
    "\n",
    "# parameter-shift rule cost function\n",
    "chsh_cost_ps = qnet.chsh_inequality_cost(chsh_ansatz_shots, diff_method=\"parameter-shift\")"
   ]
  },
  {
   "cell_type": "markdown",
   "id": "81c03045",
   "metadata": {},
   "source": [
    "## Optimizing the CHSH Violation\n",
    "\n",
    "### Basic Gradient Descent with Backpropagation\n",
    "\n",
    "In the first experiment, we show a standard gradient descent optimization using backpropagation."
   ]
  },
  {
   "cell_type": "code",
   "execution_count": 4,
   "id": "93e72467",
   "metadata": {},
   "outputs": [
    {
     "name": "stderr",
     "output_type": "stream",
     "text": [
      "/Users/brian/opt/anaconda3/envs/qnetvo-dev/lib/python3.8/site-packages/pennylane/_grad.py:95: UserWarning: Starting with PennyLane v0.21.0, when using Autograd, inputs have to explicitly specify requires_grad=True (or the argnum argument must be passed) in order for trainable parameters to be identified.\n",
      "  warnings.warn(\n"
     ]
    },
    {
     "name": "stdout",
     "output_type": "stream",
     "text": [
      "max chsh score:  2.8259651165075406\n",
      "theoretical score:  2.8284271247461903\n"
     ]
    }
   ],
   "source": [
    "np.random.seed(66)\n",
    "settings = chsh_ansatz.rand_scenario_settings()\n",
    "\n",
    "chsh_bp_opt_dict = qnet.gradient_descent(\n",
    "    chsh_cost_bp,\n",
    "    settings,\n",
    "    step_size=0.4,\n",
    "    sample_width=1,\n",
    "    num_steps=20,\n",
    "    verbose=False\n",
    ")\n",
    "\n",
    "print(\"max chsh score: \", chsh_bp_opt_dict[\"opt_score\"])\n",
    "print(\"theoretical score: \", 2*np.sqrt(2))"
   ]
  },
  {
   "cell_type": "markdown",
   "id": "d90aa658",
   "metadata": {},
   "source": [
    "### Natural Gradient Descent with Backpropagation\n",
    "\n",
    "Next, we show how the [natural gradient](https://arxiv.org/abs/1909.02108) can be applied.\n",
    "`qnetvo` provides a special natural gradient function constructor for the CHSH inequality."
   ]
  },
  {
   "cell_type": "code",
   "execution_count": 5,
   "id": "d21e824e",
   "metadata": {},
   "outputs": [
    {
     "name": "stderr",
     "output_type": "stream",
     "text": [
      "/Users/brian/opt/anaconda3/envs/qnetvo-dev/lib/python3.8/site-packages/pennylane/_grad.py:199: UserWarning: Starting with PennyLane v0.21.0, when using Autograd, inputs have to explicitly specify requires_grad=True (or the argnum argument must be passed) in order for trainable parameters to be identified.\n",
      "  warnings.warn(\n"
     ]
    },
    {
     "name": "stdout",
     "output_type": "stream",
     "text": [
      "max chsh nat grad score:  2.8271540473584222\n",
      "theoretical score:  2.8284271247461903\n"
     ]
    }
   ],
   "source": [
    "chsh_ng = qnet.chsh_natural_grad(chsh_ansatz)\n",
    "\n",
    "np.random.seed(66)\n",
    "settings = chsh_ansatz.rand_scenario_settings()\n",
    "\n",
    "chsh_ng_bp_opt_dict = qnet.gradient_descent(\n",
    "    chsh_cost_bp,\n",
    "    settings,\n",
    "    step_size=0.09,\n",
    "    sample_width=1,\n",
    "    num_steps=20,\n",
    "    grad_fn=chsh_ng,\n",
    "    verbose=False\n",
    ")\n",
    "\n",
    "print(\"max chsh nat grad score: \", chsh_ng_bp_opt_dict[\"opt_score\"])\n",
    "print(\"theoretical score: \", 2*np.sqrt(2))"
   ]
  },
  {
   "cell_type": "markdown",
   "id": "91c24866",
   "metadata": {},
   "source": [
    "### Basic Gradient Descent with Parameter-Shift Rule"
   ]
  },
  {
   "cell_type": "code",
   "execution_count": 6,
   "id": "47f7b4f8",
   "metadata": {},
   "outputs": [
    {
     "name": "stdout",
     "output_type": "stream",
     "text": [
      "max chsh score:  2.78\n",
      "theoretical score:  2.8284271247461903\n"
     ]
    }
   ],
   "source": [
    "np.random.seed(66)\n",
    "settings = chsh_ansatz_shots.rand_scenario_settings()\n",
    "\n",
    "chsh_ps_opt_dict = qnet.gradient_descent(\n",
    "    chsh_cost_ps,\n",
    "    settings,\n",
    "    step_size=0.4,\n",
    "    sample_width=1,\n",
    "    num_steps=20,\n",
    "    verbose=False\n",
    ")\n",
    "\n",
    "print(\"max chsh score: \", chsh_ps_opt_dict[\"opt_score\"])\n",
    "print(\"theoretical score: \", 2*np.sqrt(2))"
   ]
  },
  {
   "cell_type": "markdown",
   "id": "8807e663",
   "metadata": {},
   "source": [
    "### Plotting Optimizations"
   ]
  },
  {
   "cell_type": "code",
   "execution_count": 7,
   "id": "225f5a57",
   "metadata": {},
   "outputs": [
    {
     "data": {
      "image/png": "[encoded data removed]",
      "text/plain": [
       "<Figure size 432x288 with 1 Axes>"
      ]
     },
     "metadata": {
      "needs_background": "light"
     },
     "output_type": "display_data"
    }
   ],
   "source": [
    "# Plot the individual observables\n",
    "samples = chsh_bp_opt_dict[\"samples\"]\n",
    "plt.plot(samples, [2]*len(samples), label = \"Classical Bound\")\n",
    "plt.plot(samples, [2*np.sqrt(2)]*len(samples), label = \"Quantum Bound\")\n",
    "plt.plot(samples, chsh_bp_opt_dict[\"scores\"], \"o--\", label = \"Basic Gradient Descent Backprop\")\n",
    "plt.plot(samples, chsh_ng_bp_opt_dict[\"scores\"], \"*--\", label = \"Natural Gradient Descent Backprop\")\n",
    "plt.plot(samples, chsh_ps_opt_dict[\"scores\"], \"d--\", label = \"Basic Gradient Descent Param-Shift\")\n",
    "\n",
    "plt.title(\"CHSH Optimizations\")\n",
    "plt.xlabel(\"Gradient Descent Iteration\")\n",
    "plt.ylabel(\"CHSH Score\")\n",
    "plt.legend()\n",
    "plt.show()"
   ]
  },
  {
   "cell_type": "code",
   "execution_count": null,
   "id": "1b958e06",
   "metadata": {},
   "outputs": [],
   "source": []
  }
 ],
 "metadata": {
  "@webio": {
   "lastCommId": null,
   "lastKernelId": null
  },
  "kernelspec": {
   "display_name": "Python 3 (ipykernel)",
   "language": "python",
   "name": "python3"
  },
  "language_info": {
   "codemirror_mode": {
    "name": "ipython",
    "version": 3
   },
   "file_extension": ".py",
   "mimetype": "text/x-python",
   "name": "python",
   "nbconvert_exporter": "python",
   "pygments_lexer": "ipython3",
   "version": "3.8.12"
  }
 },
 "nbformat": 4,
 "nbformat_minor": 5
}
