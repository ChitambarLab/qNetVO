{
 "cells": [
  {
   "cell_type": "markdown",
   "id": "6a9eff38",
   "metadata": {},
   "source": [
    "# Parallelizing Remote QNode Execution\n",
    "\n",
    "This notebook demonstrates the importance of parallelizing the evaluation of cost functions gradients when using remote hardware.\n",
    "For this demonstration, we use open-access IBM quantum hardware simulators and qNetVO's parallelization functionality built on dask.\n",
    "These simulators have relatively short queue-times in comparison to the available quantum computers yet reveal the advantages of parallelizing the web requests used to invoke the remote IBM Q services."
   ]
  },
  {
   "cell_type": "code",
   "execution_count": 1,
   "id": "db7fdf02",
   "metadata": {},
   "outputs": [],
   "source": [
    "import pennylane as qml\n",
    "from pennylane import numpy as np\n",
    "\n",
    "import qnetvo as qnet"
   ]
  },
  {
   "cell_type": "code",
   "execution_count": 2,
   "id": "d591320e",
   "metadata": {},
   "outputs": [],
   "source": [
    "from qiskit import IBMQ\n",
    "\n",
    "# For details regarding integration between PennyLane and IMB Quantum,\n",
    "# see https://pennylaneqiskit.readthedocs.io/en/latest/devices/ibmq.html#accounts-and-tokens\n",
    "provider = IBMQ.load_account()"
   ]
  },
  {
   "cell_type": "markdown",
   "id": "f585b5b9",
   "metadata": {},
   "source": [
    "## Setup\n",
    "\n",
    "For simplicity, we consider a CHSH scenario ansatz with a static Bell state preparation and local qubit measurements optimized over the $xz$-plane.\n",
    "The qnodes are executed/trained remotely on the `ibmq_qasm_simulator`.\n",
    "In certain cases, qnode execution is performed locally for greater efficiency."
   ]
  },
  {
   "cell_type": "code",
   "execution_count": 3,
   "id": "b7c98039",
   "metadata": {},
   "outputs": [],
   "source": [
    "prep_nodes = [\n",
    "    qnet.PrepareNode(1, [0,1], qnet.ghz_state, 0)\n",
    "]\n",
    "meas_nodes = [\n",
    "    qnet.MeasureNode(2, 2, [0], qnet.local_RY, 1),\n",
    "    qnet.MeasureNode(2, 2, [1], qnet.local_RY, 1)\n",
    "]\n",
    "\n",
    "dev_ibm_qasm = {\n",
    "    \"name\" : \"qiskit.ibmq\",\n",
    "    \"shots\" : 2000,\n",
    "    \"backend\" : \"ibmq_qasm_simulator\",\n",
    "    \"provider\" : provider\n",
    "}\n",
    "\n",
    "local_sim_chsh_ansatz = qnet.NetworkAnsatz(prep_nodes, meas_nodes)\n",
    "ibm_sim_chsh_ansatz = qnet.NetworkAnsatz(\n",
    "    prep_nodes, meas_nodes, dev_kwargs = dev_ibm_qasm\n",
    ")"
   ]
  },
  {
   "cell_type": "markdown",
   "id": "0c3a125e",
   "metadata": {},
   "source": [
    "## QNode Execution Parallelization\n",
    "\n",
    "We now demonstrate the performance gains granted by parallelizing qnode execution across IBM Q hardware simulator devices.\n",
    "In this example the CHSH cost function requires 4 remote qnode executions which are first run serially and then, in parallel.\n",
    "\n",
    "### Non-Parallelized Remote QNode Execution\n",
    "\n",
    "By default, PennyLane will chain web requests invoking remote qnode execution serially. \n",
    "This is a great ineffeciency granted that each of these qnode executions are independent from each other."
   ]
  },
  {
   "cell_type": "code",
   "execution_count": 4,
   "id": "ea2d4714",
   "metadata": {},
   "outputs": [
    {
     "name": "stderr",
     "output_type": "stream",
     "text": [
      "WARNING:websocket:websocket connected\n",
      "WARNING:websocket:websocket connected\n",
      "WARNING:websocket:websocket connected\n",
      "WARNING:websocket:websocket connected\n"
     ]
    },
    {
     "name": "stdout",
     "output_type": "stream",
     "text": [
      "CPU times: user 477 ms, sys: 53.9 ms, total: 531 ms\n",
      "Wall time: 25.7 s\n"
     ]
    },
    {
     "data": {
      "text/plain": [
       "-0.589"
      ]
     },
     "execution_count": 4,
     "metadata": {},
     "output_type": "execute_result"
    }
   ],
   "source": [
    "%%time\n",
    "\n",
    "chsh_cost = qnet.chsh_inequality_cost_fn(ibm_sim_chsh_ansatz)\n",
    "\n",
    "np.random.seed(13)\n",
    "rand_settings = ibm_sim_chsh_ansatz.rand_network_settings()\n",
    "\n",
    "chsh_cost(*rand_settings)"
   ]
  },
  {
   "cell_type": "markdown",
   "id": "f70765ce",
   "metadata": {},
   "source": [
    "### Parallelized Remote QNode Execution\n",
    "\n",
    "A factor of roughly 2-4x speedup is found by parallelizing the qnode execution across 4 separate threads.\n",
    "This speedup persists even when a single remote device runs all qnode executions because the parallelized web requests populate the queue sooner than serial web requests.\n",
    "\n"
   ]
  },
  {
   "cell_type": "code",
   "execution_count": 5,
   "id": "ff8d749f",
   "metadata": {},
   "outputs": [
    {
     "name": "stderr",
     "output_type": "stream",
     "text": [
      "WARNING:websocket:websocket connected\n",
      "WARNING:websocket:websocket connected\n",
      "WARNING:websocket:websocket connected\n",
      "WARNING:websocket:websocket connected\n"
     ]
    },
    {
     "name": "stdout",
     "output_type": "stream",
     "text": [
      "CPU times: user 424 ms, sys: 49.3 ms, total: 473 ms\n",
      "Wall time: 14.1 s\n"
     ]
    },
    {
     "data": {
      "text/plain": [
       "-0.626"
      ]
     },
     "execution_count": 5,
     "metadata": {},
     "output_type": "execute_result"
    }
   ],
   "source": [
    "%%time\n",
    "\n",
    "parallel_chsh_cost = qnet.chsh_inequality_cost_fn(\n",
    "    ibm_sim_chsh_ansatz, parallel=True\n",
    ")\n",
    "\n",
    "np.random.seed(13)\n",
    "rand_settings = ibm_sim_chsh_ansatz.rand_network_settings()\n",
    "\n",
    "parallel_chsh_cost(*rand_settings)"
   ]
  },
  {
   "cell_type": "markdown",
   "id": "96acc766",
   "metadata": {},
   "source": [
    "## QNode Gradients on Remote Hardware\n",
    "\n",
    "In this section we demonstrate that performance gains granted by parallelizing gradient computation of remote qnodes.\n",
    "The gradient is evaluated using the parameter shift rule.\n",
    "\n",
    "\n",
    "### Non-Parallelized Remote Gradient Computation\n",
    "\n",
    "By default, all cost functions and gradients are evaluated serially on remote hardware.\n",
    "This requires 28 web requests in total to IBM remote simulator."
   ]
  },
  {
   "cell_type": "code",
   "execution_count": 6,
   "id": "0ee1ef80",
   "metadata": {},
   "outputs": [
    {
     "name": "stderr",
     "output_type": "stream",
     "text": [
      "WARNING:websocket:websocket connected\n",
      "WARNING:websocket:websocket connected\n",
      "WARNING:websocket:websocket connected\n",
      "WARNING:websocket:websocket connected\n"
     ]
    },
    {
     "name": "stdout",
     "output_type": "stream",
     "text": [
      "iteration :  0 , score :  0.647\n"
     ]
    },
    {
     "name": "stderr",
     "output_type": "stream",
     "text": [
      "WARNING:websocket:websocket connected\n",
      "WARNING:websocket:websocket connected\n",
      "WARNING:websocket:websocket connected\n",
      "WARNING:websocket:websocket connected\n",
      "WARNING:websocket:websocket connected\n",
      "WARNING:websocket:websocket connected\n",
      "WARNING:websocket:websocket connected\n",
      "WARNING:websocket:websocket connected\n"
     ]
    },
    {
     "name": "stdout",
     "output_type": "stream",
     "text": [
      "elapsed time :  199.9208381175995\n"
     ]
    },
    {
     "name": "stderr",
     "output_type": "stream",
     "text": [
      "WARNING:websocket:websocket connected\n",
      "WARNING:websocket:websocket connected\n",
      "WARNING:websocket:websocket connected\n",
      "WARNING:websocket:websocket connected\n"
     ]
    },
    {
     "name": "stdout",
     "output_type": "stream",
     "text": [
      "CPU times: user 1.41 s, sys: 98.4 ms, total: 1.51 s\n",
      "Wall time: 4min 46s\n"
     ]
    },
    {
     "data": {
      "text/plain": [
       "{'datetime': '2022-09-23T14:57:29Z',\n",
       " 'opt_score': 1.1340000000000001,\n",
       " 'opt_settings': [tensor(1.86520571, requires_grad=True),\n",
       "  tensor(-1.60177715, requires_grad=True),\n",
       "  tensor(2.05925211, requires_grad=True),\n",
       "  tensor(2.73383852, requires_grad=True)],\n",
       " 'scores': [0.647, 1.1340000000000001],\n",
       " 'samples': [0, 1],\n",
       " 'settings_history': [[tensor(1.74485571, requires_grad=True),\n",
       "   tensor(-1.64907715, requires_grad=True),\n",
       "   tensor(2.03750211, requires_grad=True),\n",
       "   tensor(2.92638852, requires_grad=True)],\n",
       "  [tensor(1.86520571, requires_grad=True),\n",
       "   tensor(-1.60177715, requires_grad=True),\n",
       "   tensor(2.05925211, requires_grad=True),\n",
       "   tensor(2.73383852, requires_grad=True)]],\n",
       " 'step_times': [199.9208381175995, 199.9208381175995],\n",
       " 'step_size': 0.1}"
      ]
     },
     "execution_count": 6,
     "metadata": {},
     "output_type": "execute_result"
    }
   ],
   "source": [
    "%%time\n",
    "\n",
    "ibm_sim_chsh_cost = qnet.chsh_inequality_cost_fn(ibm_sim_chsh_ansatz)\n",
    "\n",
    "np.random.seed(13)\n",
    "rand_settings = ibm_sim_chsh_ansatz.rand_network_settings()\n",
    "\n",
    "qnet.gradient_descent(\n",
    "    ibm_sim_chsh_cost,\n",
    "    rand_settings,\n",
    "    num_steps=1,\n",
    "    sample_width=1,\n",
    "    step_size=0.1\n",
    ")"
   ]
  },
  {
   "cell_type": "markdown",
   "id": "f8dcaa9a",
   "metadata": {},
   "source": [
    "### Parallelized Remote Gradient Computation\n",
    "\n",
    "To speed up the gradient computation, we parallelize the parameter shift rule across 4 web requests.\n",
    "In total only 20 web requests to remote IBM hardware are needed where we are able to drop 8 requests from the previous example by evaluating the cost function locally.\n",
    "The training is then isolated in 20 web requests split across four independent threads.\n",
    "We see a rough 4x improvement in training time."
   ]
  },
  {
   "cell_type": "code",
   "execution_count": 7,
   "id": "5af72a1e",
   "metadata": {},
   "outputs": [
    {
     "name": "stdout",
     "output_type": "stream",
     "text": [
      "iteration :  0 , score :  0.6183525458603143\n"
     ]
    },
    {
     "name": "stderr",
     "output_type": "stream",
     "text": [
      "WARNING:websocket:websocket connected\n",
      "WARNING:websocket:websocket connected\n",
      "WARNING:websocket:websocket connected\n",
      "WARNING:websocket:websocket connected\n",
      "WARNING:websocket:websocket connected\n",
      "WARNING:websocket:websocket connected\n",
      "WARNING:websocket:websocket connected\n",
      "WARNING:websocket:websocket connected\n"
     ]
    },
    {
     "name": "stdout",
     "output_type": "stream",
     "text": [
      "elapsed time :  28.06047487258911\n",
      "CPU times: user 762 ms, sys: 56.7 ms, total: 818 ms\n",
      "Wall time: 28.1 s\n"
     ]
    },
    {
     "data": {
      "text/plain": [
       "{'datetime': '2022-09-23T15:02:16Z',\n",
       " 'opt_score': 1.1265334933929982,\n",
       " 'opt_settings': [tensor(1.86705571, requires_grad=True),\n",
       "  tensor(-1.60237715, requires_grad=True),\n",
       "  tensor(2.05830211, requires_grad=True),\n",
       "  tensor(2.73478852, requires_grad=True)],\n",
       " 'scores': [0.6183525458603143, 1.1265334933929982],\n",
       " 'samples': [0, 1],\n",
       " 'settings_history': [[tensor(1.74485571, requires_grad=True),\n",
       "   tensor(-1.64907715, requires_grad=True),\n",
       "   tensor(2.03750211, requires_grad=True),\n",
       "   tensor(2.92638852, requires_grad=True)],\n",
       "  [tensor(1.86705571, requires_grad=True),\n",
       "   tensor(-1.60237715, requires_grad=True),\n",
       "   tensor(2.05830211, requires_grad=True),\n",
       "   tensor(2.73478852, requires_grad=True)]],\n",
       " 'step_times': [28.06047487258911, 28.06047487258911],\n",
       " 'step_size': 0.1}"
      ]
     },
     "execution_count": 7,
     "metadata": {},
     "output_type": "execute_result"
    }
   ],
   "source": [
    "%%time\n",
    "\n",
    "local_sim_chsh_cost = qnet.chsh_inequality_cost_fn(local_sim_chsh_ansatz)\n",
    "parallel_grad_fn = qnet.parallel_chsh_grad_fn(\n",
    "    ibm_sim_chsh_ansatz, diff_method=\"parameter-shift\"\n",
    ")\n",
    "\n",
    "\n",
    "np.random.seed(13)\n",
    "rand_settings = ibm_sim_chsh_ansatz.rand_network_settings()\n",
    "\n",
    "qnet.gradient_descent(\n",
    "    local_sim_chsh_cost,\n",
    "    rand_settings,\n",
    "    num_steps=1,\n",
    "    sample_width=1,\n",
    "    step_size=0.1,\n",
    "    grad_fn=parallel_grad_fn\n",
    ")"
   ]
  },
  {
   "cell_type": "code",
   "execution_count": 8,
   "id": "3e71ec0f",
   "metadata": {},
   "outputs": [
    {
     "name": "stdout",
     "output_type": "stream",
     "text": [
      "iteration :  0 , score :  0.6183525458603143\n"
     ]
    },
    {
     "name": "stderr",
     "output_type": "stream",
     "text": [
      "WARNING:websocket:websocket connected\n",
      "WARNING:websocket:websocket connected\n",
      "WARNING:websocket:websocket connected\n",
      "WARNING:websocket:websocket connected\n",
      "WARNING:websocket:websocket connected\n",
      "WARNING:websocket:websocket connected\n",
      "WARNING:websocket:websocket connected\n",
      "WARNING:websocket:websocket connected\n",
      "WARNING:websocket:websocket connected\n",
      "WARNING:websocket:websocket connected\n",
      "WARNING:websocket:websocket connected\n",
      "WARNING:websocket:websocket connected\n"
     ]
    },
    {
     "name": "stdout",
     "output_type": "stream",
     "text": [
      "elapsed time :  115.36319899559021\n",
      "CPU times: user 953 ms, sys: 71.8 ms, total: 1.02 s\n",
      "Wall time: 1min 55s\n"
     ]
    },
    {
     "data": {
      "text/plain": [
       "{'datetime': '2022-09-23T15:02:44Z',\n",
       " 'opt_score': 1.5436297536118553,\n",
       " 'opt_settings': [tensor(1.98802261, requires_grad=True),\n",
       "  tensor(-1.55292314, requires_grad=True),\n",
       "  tensor(2.08209161, requires_grad=True),\n",
       "  tensor(2.5424781, requires_grad=True)],\n",
       " 'scores': [0.6183525458603143, 1.5436297536118553],\n",
       " 'samples': [0, 1],\n",
       " 'settings_history': [[tensor(1.74485571, requires_grad=True),\n",
       "   tensor(-1.64907715, requires_grad=True),\n",
       "   tensor(2.03750211, requires_grad=True),\n",
       "   tensor(2.92638852, requires_grad=True)],\n",
       "  [tensor(1.98802261, requires_grad=True),\n",
       "   tensor(-1.55292314, requires_grad=True),\n",
       "   tensor(2.08209161, requires_grad=True),\n",
       "   tensor(2.5424781, requires_grad=True)]],\n",
       " 'step_times': [115.36319899559021, 115.36319899559021],\n",
       " 'step_size': 0.1}"
      ]
     },
     "execution_count": 8,
     "metadata": {},
     "output_type": "execute_result"
    }
   ],
   "source": [
    "%%time\n",
    "\n",
    "local_sim_chsh_cost = qnet.chsh_inequality_cost_fn(local_sim_chsh_ansatz)\n",
    "parallel_grad_fn = qnet.parallel_chsh_grad_fn(\n",
    "    ibm_sim_chsh_ansatz, natural_grad=True, diff_method=\"parameter-shift\"\n",
    ")\n",
    "\n",
    "\n",
    "np.random.seed(13)\n",
    "rand_settings = ibm_sim_chsh_ansatz.rand_network_settings()\n",
    "\n",
    "qnet.gradient_descent(\n",
    "    local_sim_chsh_cost,\n",
    "    rand_settings,\n",
    "    num_steps=1,\n",
    "    sample_width=1,\n",
    "    step_size=0.1,\n",
    "    grad_fn=parallel_grad_fn\n",
    ")"
   ]
  },
  {
   "cell_type": "code",
   "execution_count": null,
   "id": "357f7391",
   "metadata": {},
   "outputs": [],
   "source": []
  }
 ],
 "metadata": {
  "@webio": {
   "lastCommId": null,
   "lastKernelId": null
  },
  "kernelspec": {
   "display_name": "Python 3 (ipykernel)",
   "language": "python",
   "name": "python3"
  },
  "language_info": {
   "codemirror_mode": {
    "name": "ipython",
    "version": 3
   },
   "file_extension": ".py",
   "mimetype": "text/x-python",
   "name": "python",
   "nbconvert_exporter": "python",
   "pygments_lexer": "ipython3",
   "version": "3.8.13"
  }
 },
 "nbformat": 4,
 "nbformat_minor": 5
}
