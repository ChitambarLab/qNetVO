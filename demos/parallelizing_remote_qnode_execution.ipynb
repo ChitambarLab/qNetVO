{
 "cells": [
  {
   "cell_type": "markdown",
   "id": "6a9eff38",
   "metadata": {},
   "source": [
    "# Parallelizing Remote QNode Execution\n",
    "\n",
    "This notebook demonstrates the importance of parallelizing the evaluation of cost functions gradients when using remote hardware.\n",
    "For this demonstration, we use open-access IBM quantum hardware simulators and qNetVO's parallelization functionality built on dask.\n",
    "These simulators have relatively short queue-times in comparison to the available quantum computers yet reveal the advantages of parallelizing the web requests used to invoke the remote IBM Q services."
   ]
  },
  {
   "cell_type": "code",
   "execution_count": 1,
   "id": "db7fdf02",
   "metadata": {},
   "outputs": [],
   "source": [
    "import pennylane as qml\n",
    "from pennylane import numpy as np\n",
    "\n",
    "import qnetvo as qnet"
   ]
  },
  {
   "cell_type": "code",
   "execution_count": 2,
   "id": "d591320e",
   "metadata": {},
   "outputs": [],
   "source": [
    "from qiskit import IBMQ\n",
    "\n",
    "# For details regarding integration between PennyLane and IMB Quantum,\n",
    "# see https://pennylaneqiskit.readthedocs.io/en/latest/devices/ibmq.html#accounts-and-tokens\n",
    "provider = IBMQ.load_account()"
   ]
  },
  {
   "cell_type": "markdown",
   "id": "f585b5b9",
   "metadata": {},
   "source": [
    "## Setup\n",
    "\n",
    "For simplicity, we consider a CHSH scenario ansatz with a static Bell state preparation and local qubit measurements optimized over the $xz$-plane.\n",
    "The qnodes are executed/trained remotely on the `ibmq_qasm_simulator`.\n",
    "In certain cases, qnode execution is performed locally for greater efficiency."
   ]
  },
  {
   "cell_type": "code",
   "execution_count": 3,
   "id": "b7c98039",
   "metadata": {},
   "outputs": [],
   "source": [
    "prep_nodes = [\n",
    "    qnet.PrepareNode(1, [0,1], qnet.ghz_state, 0)\n",
    "]\n",
    "meas_nodes = [\n",
    "    qnet.MeasureNode(2, 2, [0], qnet.local_RY, 1),\n",
    "    qnet.MeasureNode(2, 2, [1], qnet.local_RY, 1)\n",
    "]\n",
    "\n",
    "dev_ibm_qasm = {\n",
    "    \"name\" : \"qiskit.ibmq\",\n",
    "    \"shots\" : 2000,\n",
    "    \"backend\" : \"ibmq_qasm_simulator\",\n",
    "    \"provider\" : provider\n",
    "}\n",
    "\n",
    "local_sim_chsh_ansatz = qnet.NetworkAnsatz(prep_nodes, meas_nodes)\n",
    "ibm_sim_chsh_ansatz = qnet.NetworkAnsatz(\n",
    "    prep_nodes, meas_nodes, dev_kwargs = dev_ibm_qasm\n",
    ")"
   ]
  },
  {
   "cell_type": "markdown",
   "id": "0c3a125e",
   "metadata": {},
   "source": [
    "## QNode Execution Parallelization\n",
    "\n",
    "We now demonstrate the performance gains granted by parallelizing qnode execution across IBM Q hardware simulator devices.\n",
    "In this example the CHSH cost function requires 4 remote qnode executions which are first run serially and then, in parallel.\n",
    "\n",
    "### Non-Parallelized Remote QNode Execution\n",
    "\n",
    "By default, PennyLane will chain web requests invoking remote qnode execution serially. \n",
    "This is a great ineffeciency granted that each of these qnode executions are independent from each other."
   ]
  },
  {
   "cell_type": "code",
   "execution_count": 4,
   "id": "ea2d4714",
   "metadata": {},
   "outputs": [
    {
     "name": "stdout",
     "output_type": "stream",
     "text": [
      "CPU times: user 424 ms, sys: 60.6 ms, total: 484 ms\n",
      "Wall time: 1min 42s\n"
     ]
    },
    {
     "data": {
      "text/plain": [
       "-0.5900000000000001"
      ]
     },
     "execution_count": 4,
     "metadata": {},
     "output_type": "execute_result"
    }
   ],
   "source": [
    "%%time\n",
    "\n",
    "chsh_cost = qnet.chsh_inequality_cost(ibm_sim_chsh_ansatz)\n",
    "\n",
    "np.random.seed(13)\n",
    "rand_settings = ibm_sim_chsh_ansatz.rand_scenario_settings()\n",
    "\n",
    "chsh_cost(rand_settings)"
   ]
  },
  {
   "cell_type": "markdown",
   "id": "f70765ce",
   "metadata": {},
   "source": [
    "### Parallelized Remote QNode Execution\n",
    "\n",
    "A factor of roughly 2-4x speedup is found by parallelizing the qnode execution across 4 separate threads.\n",
    "This speedup persists even when a single remote device runs all qnode executions because the parallelized web requests populate the queue sooner than serial web requests.\n",
    "\n"
   ]
  },
  {
   "cell_type": "code",
   "execution_count": 5,
   "id": "ff8d749f",
   "metadata": {},
   "outputs": [
    {
     "name": "stdout",
     "output_type": "stream",
     "text": [
      "CPU times: user 550 ms, sys: 63.6 ms, total: 614 ms\n",
      "Wall time: 1min 7s\n"
     ]
    },
    {
     "data": {
      "text/plain": [
       "-0.623"
      ]
     },
     "execution_count": 5,
     "metadata": {},
     "output_type": "execute_result"
    }
   ],
   "source": [
    "%%time\n",
    "\n",
    "parallel_chsh_cost = qnet.chsh_inequality_cost(\n",
    "    ibm_sim_chsh_ansatz, parallel=True\n",
    ")\n",
    "\n",
    "np.random.seed(13)\n",
    "rand_settings = ibm_sim_chsh_ansatz.rand_scenario_settings()\n",
    "\n",
    "parallel_chsh_cost(rand_settings)"
   ]
  },
  {
   "cell_type": "markdown",
   "id": "96acc766",
   "metadata": {},
   "source": [
    "## QNode Gradients on Remote Hardware\n",
    "\n",
    "In this section we demonstrate that performance gains granted by parallelizing gradient computation of remote qnodes.\n",
    "The gradient is evaluated using the parameter shift rule.\n",
    "\n",
    "\n",
    "### Non-Parallelized Remote Gradient Computation\n",
    "\n",
    "By default, all cost functions and gradients are evaluated serially on remote hardware.\n",
    "This requires 28 web requests in total to IBM remote simulator."
   ]
  },
  {
   "cell_type": "code",
   "execution_count": 6,
   "id": "0ee1ef80",
   "metadata": {},
   "outputs": [
    {
     "name": "stdout",
     "output_type": "stream",
     "text": [
      "iteration :  0 , score :  0.593\n"
     ]
    },
    {
     "name": "stderr",
     "output_type": "stream",
     "text": [
      "/Users/brian/opt/anaconda3/envs/qnetvo-dev/lib/python3.8/site-packages/pennylane/_grad.py:95: UserWarning: Starting with PennyLane v0.21.0, when using Autograd, inputs have to explicitly specify requires_grad=True (or the argnum argument must be passed) in order for trainable parameters to be identified.\n",
      "  warnings.warn(\n"
     ]
    },
    {
     "name": "stdout",
     "output_type": "stream",
     "text": [
      "elapsed time :  203.24513292312622\n",
      "CPU times: user 1.37 s, sys: 108 ms, total: 1.48 s\n",
      "Wall time: 5min 11s\n"
     ]
    },
    {
     "data": {
      "text/plain": [
       "{'datetime': '2022-03-11T01:20:23Z',\n",
       " 'opt_score': 1.1219999999999999,\n",
       " 'opt_settings': [[array([], shape=(1, 0), dtype=float64)],\n",
       "  [array([[ 1.86705571],\n",
       "          [-1.60057715]]),\n",
       "   array([[2.06410211],\n",
       "          [2.73448852]])]],\n",
       " 'scores': [0.593, 1.1219999999999999],\n",
       " 'samples': [0, 1],\n",
       " 'settings_history': [[[tensor([], shape=(1, 0), dtype=float64, requires_grad=True)],\n",
       "   [tensor([[ 1.74485571],\n",
       "            [-1.64907715]], requires_grad=True),\n",
       "    tensor([[2.03750211],\n",
       "            [2.92638852]], requires_grad=True)]],\n",
       "  [[array([], shape=(1, 0), dtype=float64)],\n",
       "   [array([[ 1.86705571],\n",
       "           [-1.60057715]]),\n",
       "    array([[2.06410211],\n",
       "           [2.73448852]])]]],\n",
       " 'step_times': [203.24513292312622, 203.24513292312622],\n",
       " 'step_size': 0.1}"
      ]
     },
     "execution_count": 6,
     "metadata": {},
     "output_type": "execute_result"
    }
   ],
   "source": [
    "%%time\n",
    "\n",
    "ibm_sim_chsh_cost = qnet.chsh_inequality_cost(ibm_sim_chsh_ansatz)\n",
    "\n",
    "np.random.seed(13)\n",
    "rand_settings = ibm_sim_chsh_ansatz.rand_scenario_settings()\n",
    "\n",
    "qnet.gradient_descent(\n",
    "    ibm_sim_chsh_cost,\n",
    "    rand_settings,\n",
    "    num_steps=1,\n",
    "    sample_width=1,\n",
    "    step_size=0.1\n",
    ")"
   ]
  },
  {
   "cell_type": "markdown",
   "id": "f8dcaa9a",
   "metadata": {},
   "source": [
    "### Parallelized Remote Gradient Computation\n",
    "\n",
    "To speed up the gradient computation, we parallelize the parameter shift rule across 4 web requests.\n",
    "In total only 20 web requests to remote IBM hardware are needed where we are able to drop 8 requests from the previous example by evaluating the cost function locally.\n",
    "The training is then isolated in 20 web requests split across four independent threads.\n",
    "We see a rough 4x improvement in training time."
   ]
  },
  {
   "cell_type": "code",
   "execution_count": 7,
   "id": "5af72a1e",
   "metadata": {},
   "outputs": [
    {
     "name": "stdout",
     "output_type": "stream",
     "text": [
      "iteration :  0 , score :  0.6183525458603143\n",
      "elapsed time :  85.40099000930786\n",
      "CPU times: user 867 ms, sys: 56.6 ms, total: 923 ms\n",
      "Wall time: 1min 25s\n"
     ]
    },
    {
     "data": {
      "text/plain": [
       "{'datetime': '2022-03-11T01:25:35Z',\n",
       " 'opt_score': 1.1223370944726292,\n",
       " 'opt_settings': [[array([], shape=(1, 0), dtype=float64)],\n",
       "  [array([[ 1.86385571],\n",
       "          [-1.60207715]]),\n",
       "   array([[2.05915211],\n",
       "          [2.73568852]])]],\n",
       " 'scores': [0.6183525458603143, 1.1223370944726292],\n",
       " 'samples': [0, 1],\n",
       " 'settings_history': [[[tensor([], shape=(1, 0), dtype=float64, requires_grad=True)],\n",
       "   [tensor([[ 1.74485571],\n",
       "            [-1.64907715]], requires_grad=True),\n",
       "    tensor([[2.03750211],\n",
       "            [2.92638852]], requires_grad=True)]],\n",
       "  [[array([], shape=(1, 0), dtype=float64)],\n",
       "   [array([[ 1.86385571],\n",
       "           [-1.60207715]]),\n",
       "    array([[2.05915211],\n",
       "           [2.73568852]])]]],\n",
       " 'step_times': [85.40099000930786, 85.40099000930786],\n",
       " 'step_size': 0.1}"
      ]
     },
     "execution_count": 7,
     "metadata": {},
     "output_type": "execute_result"
    }
   ],
   "source": [
    "%%time\n",
    "\n",
    "local_sim_chsh_cost = qnet.chsh_inequality_cost(local_sim_chsh_ansatz)\n",
    "parallel_grad_fn = qnet.parallel_chsh_grad(\n",
    "    ibm_sim_chsh_ansatz, diff_method=\"parameter-shift\"\n",
    ")\n",
    "\n",
    "\n",
    "np.random.seed(13)\n",
    "rand_settings = ibm_sim_chsh_ansatz.rand_scenario_settings()\n",
    "\n",
    "qnet.gradient_descent(\n",
    "    local_sim_chsh_cost,\n",
    "    rand_settings,\n",
    "    num_steps=1,\n",
    "    sample_width=1,\n",
    "    step_size=0.1,\n",
    "    grad_fn=parallel_grad_fn\n",
    ")"
   ]
  },
  {
   "cell_type": "code",
   "execution_count": null,
   "id": "3e71ec0f",
   "metadata": {},
   "outputs": [],
   "source": []
  }
 ],
 "metadata": {
  "@webio": {
   "lastCommId": null,
   "lastKernelId": null
  },
  "kernelspec": {
   "display_name": "Python 3 (ipykernel)",
   "language": "python",
   "name": "python3"
  },
  "language_info": {
   "codemirror_mode": {
    "name": "ipython",
    "version": 3
   },
   "file_extension": ".py",
   "mimetype": "text/x-python",
   "name": "python",
   "nbconvert_exporter": "python",
   "pygments_lexer": "ipython3",
   "version": "3.8.12"
  }
 },
 "nbformat": 4,
 "nbformat_minor": 5
}
