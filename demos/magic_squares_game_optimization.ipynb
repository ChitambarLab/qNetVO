{
 "cells": [
  {
   "cell_type": "markdown",
   "id": "1446547a",
   "metadata": {},
   "source": [
    "# Magic Squares Game Optimization\n",
    "\n",
    "In this notebook, we demonstrate the use of variational quantum optimization (VQO) to find optimal quantum strategies for the magic squares game."
   ]
  },
  {
   "cell_type": "code",
   "execution_count": 1,
   "id": "1f269597",
   "metadata": {},
   "outputs": [],
   "source": [
    "import pennylane as qml\n",
    "from pennylane import numpy as np\n",
    "import matplotlib.pyplot as plt\n",
    "\n",
    "import qnetvo as qnet"
   ]
  },
  {
   "cell_type": "markdown",
   "id": "9b52d58f",
   "metadata": {},
   "source": [
    "## Finding the Perfect Winning Probability\n",
    "\n",
    "The magic squares game and the optimal quantum strategy are described in https://arxiv.org/abs/quant-ph/0407221.\n",
    "The magic squares cost function minimizes $-P_{\\text{Win}}$ and is outlined in more detail in the `qnetvo` docs."
   ]
  },
  {
   "cell_type": "markdown",
   "id": "61b9d955",
   "metadata": {},
   "source": [
    "### Optimizing Measurments for Fixed State Preparations\n",
    "\n",
    "In this section, we will optimize arbitrary two-qubit measurements against different state preparations including, a 4-qubit GHZ state, two copies of a Bell state, a single Bell state, and no entanglement.\n",
    "Each optimization will be performed on 4-qubit wires."
   ]
  },
  {
   "cell_type": "code",
   "execution_count": 2,
   "id": "39b56666",
   "metadata": {},
   "outputs": [],
   "source": [
    "bell_copies_prep_node = [\n",
    "    qnet.PrepareNode(1, [0,1,2,3], qnet.bell_state_copies, 0)\n",
    "]\n",
    "ghz_prep_node = [\n",
    "    qnet.PrepareNode(1, [0,1,2,3], qnet.ghz_state, 0)\n",
    "]\n",
    "max_entangled_prep_node = [\n",
    "    qnet.PrepareNode(1, [0,2], qnet.max_entangled_state, 3)\n",
    "]\n",
    "classical_prep_node = [\n",
    "    qnet.PrepareNode(1, [0,1,2,3], lambda settings, wires: None, 0)\n",
    "]\n",
    "\n",
    "measure_nodes = [\n",
    "    qnet.MeasureNode(3, 4, [0,1], qml.ArbitraryUnitary, 15),\n",
    "    qnet.MeasureNode(3, 4, [2,3], qml.ArbitraryUnitary, 15),\n",
    "]\n",
    "\n",
    "classical_ansatz = qnet.NetworkAnsatz(classical_prep_node, measure_nodes)\n",
    "max_entangled_ansatz = qnet.NetworkAnsatz(max_entangled_prep_node, measure_nodes)\n",
    "ghz_state_ansatz = qnet.NetworkAnsatz(ghz_prep_node, measure_nodes)\n",
    "bell_copies_ansatz = qnet.NetworkAnsatz(bell_copies_prep_node, measure_nodes)"
   ]
  },
  {
   "cell_type": "markdown",
   "id": "dae1e477",
   "metadata": {},
   "source": [
    "Next, we perform gradient descent to minimze the magic squares cost function with respect to each of the above state preparations."
   ]
  },
  {
   "cell_type": "markdown",
   "id": "d6d0f039",
   "metadata": {},
   "source": [
    "## Classical State Preparation"
   ]
  },
  {
   "cell_type": "code",
   "execution_count": 3,
   "id": "a3377569",
   "metadata": {},
   "outputs": [
    {
     "name": "stderr",
     "output_type": "stream",
     "text": [
      "/Users/brian/opt/anaconda3/envs/qnetvo-dev/lib/python3.8/site-packages/pennylane/_grad.py:95: UserWarning: Starting with PennyLane v0.21.0, when using Autograd, inputs have to explicitly specify requires_grad=True (or the argnum argument must be passed) in order for trainable parameters to be identified.\n",
      "  warnings.warn(\n"
     ]
    },
    {
     "name": "stdout",
     "output_type": "stream",
     "text": [
      "opt score :  0.8888798713795558\n",
      "CPU times: user 30.6 s, sys: 102 ms, total: 30.7 s\n",
      "Wall time: 30.7 s\n"
     ]
    }
   ],
   "source": [
    "%%time\n",
    "np.random.seed(2)\n",
    "\n",
    "classical_opt_dict = qnet.gradient_descent(\n",
    "    qnet.magic_squares_game_cost(classical_ansatz),\n",
    "    classical_ansatz.rand_scenario_settings(),\n",
    "    step_size=3.5,\n",
    "    num_steps=100,\n",
    "    sample_width=5,\n",
    "    verbose=False\n",
    ")\n",
    "\n",
    "print(\"opt score : \", classical_opt_dict[\"opt_score\"])"
   ]
  },
  {
   "cell_type": "markdown",
   "id": "223de90d",
   "metadata": {},
   "source": [
    "## 4-Qubit GHZ State Preparation"
   ]
  },
  {
   "cell_type": "code",
   "execution_count": 4,
   "id": "4a5788ce",
   "metadata": {},
   "outputs": [
    {
     "name": "stdout",
     "output_type": "stream",
     "text": [
      "opt score :  0.955244701837105\n",
      "CPU times: user 31.9 s, sys: 133 ms, total: 32 s\n",
      "Wall time: 32 s\n"
     ]
    }
   ],
   "source": [
    "%%time\n",
    "np.random.seed(2)\n",
    "\n",
    "ghz_state_opt_dict = qnet.gradient_descent(\n",
    "    qnet.magic_squares_game_cost(ghz_state_ansatz),\n",
    "    ghz_state_ansatz.rand_scenario_settings(),\n",
    "    step_size=3.5,\n",
    "    num_steps=100,\n",
    "    sample_width=5,\n",
    "    verbose=False\n",
    ")\n",
    "\n",
    "print(\"opt score : \", ghz_state_opt_dict[\"opt_score\"])"
   ]
  },
  {
   "cell_type": "markdown",
   "id": "d90b7dad",
   "metadata": {},
   "source": [
    "## Arbitrary Maximally Entangled 2-Qubit State Preparation"
   ]
  },
  {
   "cell_type": "code",
   "execution_count": 11,
   "id": "ba4ab4e9",
   "metadata": {},
   "outputs": [
    {
     "name": "stdout",
     "output_type": "stream",
     "text": [
      "iteration :  0 , score :  0.4851396844059199\n",
      "elapsed time :  0.3537461757659912\n",
      "iteration :  5 , score :  0.658387385514295\n",
      "elapsed time :  0.2553107738494873\n",
      "iteration :  10 , score :  0.7032587972803029\n",
      "elapsed time :  0.3224608898162842\n",
      "iteration :  15 , score :  0.7332214324813751\n",
      "elapsed time :  0.3196909427642822\n",
      "iteration :  20 , score :  0.7604316515863432\n",
      "elapsed time :  0.3316459655761719\n",
      "iteration :  25 , score :  0.7851542492948242\n",
      "elapsed time :  0.3175520896911621\n",
      "iteration :  30 , score :  0.8094369348466018\n",
      "elapsed time :  0.32849693298339844\n",
      "iteration :  35 , score :  0.8443960620540354\n",
      "elapsed time :  0.32380127906799316\n",
      "iteration :  40 , score :  0.884056717593187\n",
      "elapsed time :  0.3567368984222412\n",
      "iteration :  45 , score :  0.9084930323464833\n",
      "elapsed time :  0.33891892433166504\n",
      "iteration :  50 , score :  0.9241414919537695\n",
      "elapsed time :  0.33577704429626465\n",
      "iteration :  55 , score :  0.9349621587689513\n",
      "elapsed time :  0.34005188941955566\n",
      "iteration :  60 , score :  0.9423352194469743\n",
      "elapsed time :  0.3321390151977539\n",
      "iteration :  65 , score :  0.9471924325817995\n",
      "elapsed time :  0.33080601692199707\n",
      "iteration :  70 , score :  0.9501685822307577\n",
      "elapsed time :  0.33194804191589355\n",
      "iteration :  75 , score :  0.9518896810653895\n",
      "elapsed time :  0.3173251152038574\n",
      "iteration :  80 , score :  0.95288705409184\n",
      "elapsed time :  0.4104321002960205\n",
      "iteration :  85 , score :  0.953495649595287\n",
      "elapsed time :  0.32161593437194824\n",
      "iteration :  90 , score :  0.9538923772165894\n",
      "elapsed time :  0.3233978748321533\n",
      "iteration :  95 , score :  0.9541664852530816\n",
      "elapsed time :  0.32184410095214844\n",
      "opt score :  0.954364712050632\n",
      "CPU times: user 33.6 s, sys: 472 ms, total: 34.1 s\n",
      "Wall time: 33.8 s\n"
     ]
    }
   ],
   "source": [
    "%%time\n",
    "np.random.seed(1)\n",
    "\n",
    "max_entangled_opt_dict = qnet.gradient_descent(\n",
    "    qnet.magic_squares_game_cost(max_entangled_ansatz),\n",
    "    max_entangled_ansatz.rand_scenario_settings(),\n",
    "    step_size=2,\n",
    "    num_steps=100,\n",
    "    sample_width=5,\n",
    "    verbose=True\n",
    ")\n",
    "\n",
    "print(\"opt score : \", max_entangled_opt_dict[\"opt_score\"])"
   ]
  },
  {
   "cell_type": "markdown",
   "id": "c4db9b24",
   "metadata": {},
   "source": [
    "## Two Copies of a Bell State"
   ]
  },
  {
   "cell_type": "code",
   "execution_count": 6,
   "id": "f40c3bfe",
   "metadata": {},
   "outputs": [
    {
     "name": "stdout",
     "output_type": "stream",
     "text": [
      "opt score :  0.999894033930867\n",
      "CPU times: user 30.7 s, sys: 101 ms, total: 30.8 s\n",
      "Wall time: 30.8 s\n"
     ]
    }
   ],
   "source": [
    "%%time\n",
    "np.random.seed(2)\n",
    "\n",
    "bell_copies_opt_dict = qnet.gradient_descent(\n",
    "    qnet.magic_squares_game_cost(bell_copies_ansatz),\n",
    "    bell_copies_ansatz.rand_scenario_settings(),\n",
    "    step_size=3.5,\n",
    "    num_steps=100,\n",
    "    sample_width=5,\n",
    "    verbose=False\n",
    ")\n",
    "\n",
    "print(\"opt score : \", bell_copies_opt_dict[\"opt_score\"])"
   ]
  },
  {
   "cell_type": "markdown",
   "id": "211d8aa1",
   "metadata": {},
   "source": [
    "## Plotting Optimization Data\n",
    "\n",
    "The optimization data is shown in the plot below.\n",
    "As expected, we find that the classical ansatz to achieve the classical bound and the two Bell states to achieve the quantum bound.\n",
    "We find that a single maximally entangeld 2-qubit state provides an improvement over the lower bound.\n",
    "Similarly, a 4-qubit GHZ state achieves the same score as a 2-qubit maximally entangled state."
   ]
  },
  {
   "cell_type": "code",
   "execution_count": 12,
   "id": "f60e70e9",
   "metadata": {},
   "outputs": [
    {
     "data": {
      "image/png": "[encoded data removed]",
      "text/plain": [
       "<Figure size 432x288 with 1 Axes>"
      ]
     },
     "metadata": {
      "needs_background": "light"
     },
     "output_type": "display_data"
    }
   ],
   "source": [
    "samples = bell_copies_opt_dict[\"samples\"]\n",
    "\n",
    "plt.plot(samples, [1] * len(samples), label = \"Quantum Bound\")\n",
    "plt.plot(samples, [8/9] * len(samples), \"--\", label = \"Classical Bound\")\n",
    "\n",
    "plt.plot(samples, classical_opt_dict[\"scores\"], \"o:\", label=\"Classical State\")\n",
    "plt.plot(samples, ghz_state_opt_dict[\"scores\"], \"o:\", label = \"4-Qubit GHZ State\")\n",
    "plt.plot(samples, max_entangled_opt_dict[\"scores\"], \"o:\", label=\"2-Qubit Max Entangled State\")\n",
    "plt.plot(samples, bell_copies_opt_dict[\"scores\"], \"o:\", label = \"Two Bell State Copies\")\n",
    "\n",
    "plt.title(\"Magic Squares Quantum Strategy Optimization\")\n",
    "plt.xlabel(\"Gradient Descent Iteration\")\n",
    "plt.ylabel(\"Winning Probability\")\n",
    "plt.legend()\n",
    "plt.show()"
   ]
  },
  {
   "cell_type": "code",
   "execution_count": null,
   "id": "fe600b2f",
   "metadata": {},
   "outputs": [],
   "source": []
  }
 ],
 "metadata": {
  "@webio": {
   "lastCommId": null,
   "lastKernelId": null
  },
  "kernelspec": {
   "display_name": "Python 3 (ipykernel)",
   "language": "python",
   "name": "python3"
  },
  "language_info": {
   "codemirror_mode": {
    "name": "ipython",
    "version": 3
   },
   "file_extension": ".py",
   "mimetype": "text/x-python",
   "name": "python",
   "nbconvert_exporter": "python",
   "pygments_lexer": "ipython3",
   "version": "3.8.12"
  }
 },
 "nbformat": 4,
 "nbformat_minor": 5
}
