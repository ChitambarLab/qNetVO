{
 "cells": [
  {
   "cell_type": "markdown",
   "id": "30184dee",
   "metadata": {},
   "source": [
    "# Mermin-Klyshko Nonlocality Optimization\n",
    "\n",
    "This notebook demonstrates the optimization of nonlocality with respect to the Mermin-Klyshko inequality.\n",
    "The Mermin-klyshko has an interesting exponential separation between classical and quantum bounds.\n",
    "The optimal quantum state preparation is known to be the GHZ state."
   ]
  },
  {
   "cell_type": "code",
   "execution_count": 1,
   "id": "c8f81e80",
   "metadata": {},
   "outputs": [],
   "source": [
    "import qnetvo as qnet\n",
    "\n",
    "import pennylane as qml\n",
    "from pennylane import numpy as np\n",
    "\n",
    "import matplotlib.pyplot as plt"
   ]
  },
  {
   "cell_type": "markdown",
   "id": "b0202cde",
   "metadata": {},
   "source": [
    "## Setup\n",
    "\n",
    "We first create functions to generate the preparation and measurement nodes for classical and quantum settings."
   ]
  },
  {
   "cell_type": "code",
   "execution_count": 2,
   "id": "7eb40b65",
   "metadata": {},
   "outputs": [],
   "source": [
    "def cl_prep_nodes(n):\n",
    "    return [\n",
    "        qnet.PrepareNode(1, range(n), lambda settings, wires: None, 0)\n",
    "    ]\n",
    "\n",
    "def ghz_prep_nodes(n):\n",
    "    return [\n",
    "        qnet.PrepareNode(1, range(n), qnet.ghz_state, 0)\n",
    "    ]\n",
    "\n",
    "\n",
    "def ry_meas_nodes(n):\n",
    "    return [\n",
    "        qnet.MeasureNode(2, 2, [i], qnet.local_RY, 1)\n",
    "        for i in range(n)\n",
    "    ]\n",
    "\n",
    "def rzry_rot(settings, wires):\n",
    "    qml.RZ(settings[0], wires=wires)\n",
    "    qml.RY(np.pi/2, wires=wires)\n",
    "\n",
    "    \n",
    "def rzry_meas_nodes(n):\n",
    "    return [\n",
    "        qnet.MeasureNode(2, 2, [i], rzry_rot, 1)\n",
    "        for i in range(n)\n",
    "    ]"
   ]
  },
  {
   "cell_type": "markdown",
   "id": "93fa5c92",
   "metadata": {},
   "source": [
    "# Optimizations"
   ]
  },
  {
   "cell_type": "markdown",
   "id": "0d6f3e8a",
   "metadata": {},
   "source": [
    "## n = 3"
   ]
  },
  {
   "cell_type": "code",
   "execution_count": 3,
   "id": "7697366d",
   "metadata": {},
   "outputs": [
    {
     "name": "stdout",
     "output_type": "stream",
     "text": [
      "classical bound :  4\n",
      "quantum bound :  8.0 \n",
      "\n",
      "classical optimzation\n",
      "iteration :  0 , score :  1.6513055781271406\n",
      "elapsed time :  0.06955909729003906\n",
      "iteration :  5 , score :  3.9999604053418363\n",
      "elapsed time :  0.019002914428710938\n",
      "iteration :  10 , score :  3.9999998934802883\n",
      "elapsed time :  0.019855737686157227\n",
      "iteration :  15 , score :  3.9999999993561457\n",
      "elapsed time :  0.015079975128173828\n",
      "max score :  3.9999999999961067\n",
      "\n",
      "quantum optimization\n",
      "iteration :  0 , score :  -5.158868986983439\n",
      "elapsed time :  0.01626300811767578\n",
      "iteration :  10 , score :  7.968255599118695\n",
      "elapsed time :  0.01659393310546875\n",
      "max score :  7.99999883318393\n",
      "[tensor(3.07519597, requires_grad=True), tensor(1.50464739, requires_grad=True), tensor(3.06688246, requires_grad=True), tensor(1.49509518, requires_grad=True), tensor(-1.42949351, requires_grad=True), tensor(3.2832468, requires_grad=True)]\n"
     ]
    }
   ],
   "source": [
    "n = 3\n",
    "\n",
    "print(\"classical bound : \", qnet.mermin_klyshko_classical_bound(n))\n",
    "print(\"quantum bound : \", qnet.mermin_klyshko_quantum_bound(n), \"\\n\")\n",
    "\n",
    "print(\"classical optimzation\")\n",
    "cl_ansatz = qnet.NetworkAnsatz(cl_prep_nodes(n), ry_meas_nodes(n))\n",
    "cl_opt_dict = qnet.gradient_descent(\n",
    "    qnet.mermin_klyshko_cost_fn(cl_ansatz),\n",
    "    cl_ansatz.rand_network_settings(),\n",
    "    sample_width = 5,\n",
    "    num_steps = 20,\n",
    "    step_size = 0.4\n",
    ")\n",
    "print(\"max score : \", cl_opt_dict[\"opt_score\"])\n",
    "\n",
    "print(\"\\nquantum optimization\")\n",
    "ghz_ansatz = qnet.NetworkAnsatz(ghz_prep_nodes(n), rzry_meas_nodes(n))\n",
    "ghz_opt_dict = qnet.gradient_descent(\n",
    "    qnet.mermin_klyshko_cost_fn(ghz_ansatz),\n",
    "    ghz_ansatz.rand_network_settings(),\n",
    "    sample_width = 10,\n",
    "    num_steps = 20,\n",
    "    step_size = 0.1\n",
    ")\n",
    "print(\"max score : \", ghz_opt_dict[\"opt_score\"])\n",
    "print(ghz_opt_dict[\"opt_settings\"])"
   ]
  },
  {
   "cell_type": "markdown",
   "id": "8d2c06c4",
   "metadata": {},
   "source": [
    "## n = 4"
   ]
  },
  {
   "cell_type": "code",
   "execution_count": 4,
   "id": "34abd0c9",
   "metadata": {},
   "outputs": [
    {
     "name": "stdout",
     "output_type": "stream",
     "text": [
      "classical bound :  8\n",
      "quantum bound :  22.627416997969522 \n",
      "\n",
      "classical\n",
      "iteration :  0 , score :  -0.10021150911505239\n",
      "elapsed time :  0.07665300369262695\n",
      "iteration :  5 , score :  7.880605211399187\n",
      "elapsed time :  0.15471100807189941\n",
      "iteration :  10 , score :  7.9812192836653075\n",
      "elapsed time :  0.09177589416503906\n",
      "iteration :  15 , score :  7.99258190598585\n",
      "elapsed time :  0.10307717323303223\n",
      "max score 7.996102513699257\n",
      "\n",
      "quantum optimization\n",
      "iteration :  0 , score :  12.10269187921348\n",
      "elapsed time :  0.08192992210388184\n",
      "iteration :  10 , score :  22.62727936273091\n",
      "elapsed time :  0.09756183624267578\n",
      "iteration :  20 , score :  22.62741695961418\n",
      "elapsed time :  0.10313200950622559\n",
      "iteration :  30 , score :  22.627416997411604\n",
      "elapsed time :  0.10974502563476562\n",
      "max score :  22.627416997961234\n",
      "[tensor(-0.32305202, requires_grad=True), tensor(1.24774431, requires_grad=True), tensor(-2.94596631, requires_grad=True), tensor(-1.37516999, requires_grad=True), tensor(-3.14499394, requires_grad=True), tensor(-1.57419762, requires_grad=True), tensor(-2.22536667, requires_grad=True), tensor(-0.65457034, requires_grad=True)]\n"
     ]
    }
   ],
   "source": [
    "n = 4\n",
    "\n",
    "print(\"classical bound : \", qnet.mermin_klyshko_classical_bound(n))\n",
    "print(\"quantum bound : \", qnet.mermin_klyshko_quantum_bound(n), \"\\n\")\n",
    "\n",
    "print(\"classical\")\n",
    "cl_ansatz = qnet.NetworkAnsatz(cl_prep_nodes(n), ry_meas_nodes(n))\n",
    "cl_opt_dict = qnet.gradient_descent(\n",
    "    qnet.mermin_klyshko_cost_fn(cl_ansatz),\n",
    "    cl_ansatz.rand_network_settings(),\n",
    "    sample_width = 5,\n",
    "    num_steps = 20,\n",
    "    step_size = 0.2\n",
    ")\n",
    "print(\"max score\", cl_opt_dict[\"opt_score\"])\n",
    "\n",
    "print(\"\\nquantum optimization\")\n",
    "ghz_ansatz = qnet.NetworkAnsatz(ghz_prep_nodes(n), rzry_meas_nodes(n))\n",
    "np.random.seed(1)\n",
    "ghz_opt_dict = qnet.gradient_descent(\n",
    "    qnet.mermin_klyshko_cost_fn(ghz_ansatz),\n",
    "    ghz_ansatz.rand_network_settings(),\n",
    "    sample_width = 10,\n",
    "    num_steps = 40,\n",
    "    step_size = 0.04\n",
    ")\n",
    "print(\"max score : \", ghz_opt_dict[\"opt_score\"])\n",
    "print(ghz_opt_dict[\"opt_settings\"])"
   ]
  },
  {
   "cell_type": "markdown",
   "id": "deee30c1",
   "metadata": {},
   "source": [
    "## n = 5"
   ]
  },
  {
   "cell_type": "code",
   "execution_count": 5,
   "id": "3272c5bf",
   "metadata": {},
   "outputs": [
    {
     "name": "stdout",
     "output_type": "stream",
     "text": [
      "classical bound :  16\n",
      "quantum bound :  64.0 \n",
      "\n",
      "classical optimization\n",
      "iteration :  0 , score :  5.022995939689165\n",
      "elapsed time :  0.09735512733459473\n",
      "iteration :  5 , score :  15.904093925941835\n",
      "elapsed time :  0.13842296600341797\n",
      "max score :  15.990299319049566\n",
      "\n",
      "quantum optimization\n",
      "iteration :  0 , score :  -30.816320489400397\n",
      "elapsed time :  0.1145029067993164\n",
      "iteration :  7 , score :  28.41431365691741\n",
      "elapsed time :  0.10351085662841797\n",
      "iteration :  14 , score :  63.60623389257651\n",
      "elapsed time :  0.10725879669189453\n",
      "iteration :  21 , score :  63.99820398612704\n",
      "elapsed time :  0.1532289981842041\n",
      "iteration :  28 , score :  63.99999188193693\n",
      "elapsed time :  0.10921216011047363\n",
      "max score :  63.99999996330749\n",
      "[tensor(-0.28875605, requires_grad=True), tensor(1.28205151, requires_grad=True), tensor(-2.91167017, requires_grad=True), tensor(-1.34086296, requires_grad=True), tensor(0.03087215, requires_grad=True), tensor(-4.68146053, requires_grad=True), tensor(-2.19105414, requires_grad=True), tensor(-0.6202797, requires_grad=True), tensor(-0.9225922, requires_grad=True), tensor(0.64817781, requires_grad=True)]\n"
     ]
    }
   ],
   "source": [
    "n = 5\n",
    "\n",
    "print(\"classical bound : \", qnet.mermin_klyshko_classical_bound(n))\n",
    "print(\"quantum bound : \", qnet.mermin_klyshko_quantum_bound(n), \"\\n\")\n",
    "\n",
    "print(\"classical optimization\")\n",
    "cl_ansatz = qnet.NetworkAnsatz(cl_prep_nodes(n), ry_meas_nodes(n))\n",
    "cl_opt_dict = qnet.gradient_descent(\n",
    "    qnet.mermin_klyshko_cost_fn(cl_ansatz),\n",
    "    cl_ansatz.rand_network_settings(),\n",
    "    sample_width = 5,\n",
    "    num_steps = 10,\n",
    "    step_size = 0.1\n",
    ")\n",
    "print(\"max score : \", cl_opt_dict[\"opt_score\"])\n",
    "\n",
    "print(\"\\nquantum optimization\")\n",
    "ghz_ansatz = qnet.NetworkAnsatz(ghz_prep_nodes(n), rzry_meas_nodes(n))\n",
    "np.random.seed(1)\n",
    "ghz_opt_dict = qnet.gradient_descent(\n",
    "    qnet.mermin_klyshko_cost_fn(ghz_ansatz),\n",
    "    ghz_ansatz.rand_network_settings(),\n",
    "    sample_width = 7,\n",
    "    num_steps = 35,\n",
    "    step_size = 0.01\n",
    ")\n",
    "print(\"max score : \", ghz_opt_dict[\"opt_score\"])\n",
    "print(ghz_opt_dict[\"opt_settings\"])"
   ]
  },
  {
   "cell_type": "markdown",
   "id": "e9bfd0ed",
   "metadata": {},
   "source": [
    "## n = 6"
   ]
  },
  {
   "cell_type": "code",
   "execution_count": 6,
   "id": "a156674b",
   "metadata": {},
   "outputs": [
    {
     "name": "stdout",
     "output_type": "stream",
     "text": [
      "classical bound :  32\n",
      "quantum bound :  181.01933598375618 \n",
      "\n",
      "\n",
      "classical optimziation\n",
      "iteration :  0 , score :  4.2033679594592765\n",
      "elapsed time :  0.5753090381622314\n",
      "iteration :  5 , score :  31.2285079287877\n",
      "elapsed time :  0.668921947479248\n",
      "iteration :  10 , score :  31.926902578106233\n",
      "elapsed time :  0.4852778911590576\n",
      "max score :  31.973110623871396\n",
      "\n",
      "quantum optimization\n",
      "iteration :  0 , score :  91.75782099682029\n",
      "elapsed time :  0.5629787445068359\n",
      "iteration :  5 , score :  178.64468783281944\n",
      "elapsed time :  0.5353968143463135\n",
      "iteration :  10 , score :  180.99226193770355\n",
      "elapsed time :  0.48822021484375\n",
      "iteration :  15 , score :  181.01902889455243\n",
      "elapsed time :  0.4367411136627197\n",
      "iteration :  20 , score :  181.01930963936746\n",
      "elapsed time :  0.49780988693237305\n",
      "max score :  181.0192234215522\n",
      "[tensor(-0.3544713, requires_grad=True), tensor(1.21633266, requires_grad=True), tensor(-2.97738552, requires_grad=True), tensor(-1.40658171, requires_grad=True), tensor(-3.17639242, requires_grad=True), tensor(-1.60563007, requires_grad=True), tensor(-2.25677572, requires_grad=True), tensor(-0.68599221, requires_grad=True), tensor(-0.98831485, requires_grad=True), tensor(0.58246636, requires_grad=True), tensor(-0.45792908, requires_grad=True), tensor(1.11286955, requires_grad=True)]\n"
     ]
    }
   ],
   "source": [
    "n = 6\n",
    "\n",
    "print(\"classical bound : \", qnet.mermin_klyshko_classical_bound(n))\n",
    "print(\"quantum bound : \", qnet.mermin_klyshko_quantum_bound(n), \"\\n\")\n",
    "\n",
    "print(\"\\nclassical optimziation\")\n",
    "cl_ansatz = qnet.NetworkAnsatz(cl_prep_nodes(n), ry_meas_nodes(n))\n",
    "cl_opt_dict = qnet.gradient_descent(\n",
    "    qnet.mermin_klyshko_cost_fn(cl_ansatz),\n",
    "    cl_ansatz.rand_network_settings(),\n",
    "    sample_width = 5,\n",
    "    num_steps = 15,\n",
    "    step_size = 0.05\n",
    ")\n",
    "print(\"max score : \", cl_opt_dict[\"opt_score\"])\n",
    "\n",
    "print(\"\\nquantum optimization\")\n",
    "ghz_ansatz = qnet.NetworkAnsatz(ghz_prep_nodes(n), rzry_meas_nodes(n))\n",
    "np.random.seed(1)\n",
    "ghz_opt_dict = qnet.gradient_descent(\n",
    "    qnet.mermin_klyshko_cost_fn(ghz_ansatz),\n",
    "    ghz_ansatz.rand_network_settings(),\n",
    "    sample_width = 5,\n",
    "    num_steps = 25,\n",
    "    step_size = 0.004\n",
    ")\n",
    "print(\"max score : \", ghz_opt_dict[\"opt_score\"])\n",
    "print(ghz_opt_dict[\"opt_settings\"])"
   ]
  },
  {
   "cell_type": "markdown",
   "id": "b476cc2f",
   "metadata": {},
   "source": [
    "## n = 7"
   ]
  },
  {
   "cell_type": "code",
   "execution_count": 7,
   "id": "fa310529",
   "metadata": {},
   "outputs": [
    {
     "name": "stdout",
     "output_type": "stream",
     "text": [
      "classical bound :  64\n",
      "quantum bound :  512.0 \n",
      "\n",
      "\n",
      "classical optimziation\n",
      "iteration :  0 , score :  -3.4948874818977407\n",
      "elapsed time :  0.548940896987915\n",
      "iteration :  5 , score :  0.7846902985560518\n",
      "elapsed time :  0.5974001884460449\n",
      "iteration :  10 , score :  8.55250284548391\n",
      "elapsed time :  0.7349109649658203\n",
      "iteration :  15 , score :  56.608638814998166\n",
      "elapsed time :  0.7158291339874268\n",
      "max score :  63.99978211246262\n",
      "\n",
      "quantum optimization\n",
      "iteration :  0 , score :  -59.532891596932146\n",
      "elapsed time :  0.5783298015594482\n",
      "iteration :  5 , score :  489.15933006814913\n",
      "elapsed time :  0.5588128566741943\n",
      "iteration :  10 , score :  463.1114030501951\n",
      "elapsed time :  0.6466021537780762\n",
      "iteration :  15 , score :  454.78665174428113\n",
      "elapsed time :  0.5944042205810547\n",
      "max score :  505.9050309836782\n",
      "[tensor(-1.26844742, requires_grad=True), tensor(0.30551241, requires_grad=True), tensor(-3.8913305, requires_grad=True), tensor(-2.3174331, requires_grad=True), tensor(-4.08255988, requires_grad=True), tensor(-2.52425897, requires_grad=True), tensor(-3.16655379, requires_grad=True), tensor(-1.60101052, requires_grad=True), tensor(-1.89763927, requires_grad=True), tensor(-0.3330056, requires_grad=True), tensor(-1.37082385, requires_grad=True), tensor(0.20096795, requires_grad=True), tensor(-4.57415114, requires_grad=True), tensor(3.26704327, requires_grad=True)]\n"
     ]
    }
   ],
   "source": [
    "n = 7\n",
    "\n",
    "print(\"classical bound : \", qnet.mermin_klyshko_classical_bound(n))\n",
    "print(\"quantum bound : \", qnet.mermin_klyshko_quantum_bound(n), \"\\n\")\n",
    "\n",
    "print(\"\\nclassical optimziation\")\n",
    "cl_ansatz = qnet.NetworkAnsatz(cl_prep_nodes(n), ry_meas_nodes(n))\n",
    "cl_opt_dict = qnet.gradient_descent(\n",
    "    qnet.mermin_klyshko_cost_fn(cl_ansatz),\n",
    "    cl_ansatz.rand_network_settings(),\n",
    "    sample_width = 5,\n",
    "    num_steps = 20,\n",
    "    step_size = 0.03\n",
    ")\n",
    "print(\"max score : \", cl_opt_dict[\"opt_score\"])\n",
    "\n",
    "print(\"\\nquantum optimization\")\n",
    "ghz_ansatz = qnet.NetworkAnsatz(ghz_prep_nodes(n), rzry_meas_nodes(n))\n",
    "np.random.seed(1)\n",
    "ghz_opt_dict = qnet.gradient_descent(\n",
    "    qnet.mermin_klyshko_cost_fn(ghz_ansatz),\n",
    "    ghz_ansatz.rand_network_settings(),\n",
    "    sample_width = 5,\n",
    "    num_steps = 20,\n",
    "    step_size = 0.003\n",
    ")\n",
    "print(\"max score : \", ghz_opt_dict[\"opt_score\"])\n",
    "print(ghz_opt_dict[\"opt_settings\"])"
   ]
  },
  {
   "cell_type": "code",
   "execution_count": null,
   "id": "a794f3f5",
   "metadata": {},
   "outputs": [],
   "source": []
  }
 ],
 "metadata": {
  "@webio": {
   "lastCommId": null,
   "lastKernelId": null
  },
  "kernelspec": {
   "display_name": "Python 3 (ipykernel)",
   "language": "python",
   "name": "python3"
  },
  "language_info": {
   "codemirror_mode": {
    "name": "ipython",
    "version": 3
   },
   "file_extension": ".py",
   "mimetype": "text/x-python",
   "name": "python",
   "nbconvert_exporter": "python",
   "pygments_lexer": "ipython3",
   "version": "3.8.13"
  }
 },
 "nbformat": 4,
 "nbformat_minor": 5
}
