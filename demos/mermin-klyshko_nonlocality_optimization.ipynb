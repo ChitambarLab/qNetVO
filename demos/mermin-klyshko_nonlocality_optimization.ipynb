{
 "cells": [
  {
   "cell_type": "markdown",
   "id": "30184dee",
   "metadata": {},
   "source": [
    "# Mermin-Klyshko Nonlocality Optimization\n",
    "\n",
    "This notebook demonstrates the optimization of nonlocality with respect to the Mermin-Klyshko inequality.\n",
    "The Mermin-klyshko has an interesting exponential separation between classical and quantum bounds.\n",
    "The optimal quantum state preparation is known to be the GHZ state."
   ]
  },
  {
   "cell_type": "code",
   "execution_count": 1,
   "id": "c8f81e80",
   "metadata": {},
   "outputs": [],
   "source": [
    "import qnetvo as qnet\n",
    "\n",
    "import pennylane as qml\n",
    "from pennylane import numpy as np\n",
    "\n",
    "import matplotlib.pyplot as plt"
   ]
  },
  {
   "cell_type": "markdown",
   "id": "b0202cde",
   "metadata": {},
   "source": [
    "## Setup\n",
    "\n",
    "We first create functions to generate the preparation and measurement nodes for classical and quantum settings."
   ]
  },
  {
   "cell_type": "code",
   "execution_count": 2,
   "id": "7eb40b65",
   "metadata": {},
   "outputs": [],
   "source": [
    "def cl_prep_nodes(n):\n",
    "    return [\n",
    "        qnet.PrepareNode(1, range(n), lambda settings, wires: None, 0)\n",
    "    ]\n",
    "\n",
    "def ghz_prep_nodes(n):\n",
    "    return [\n",
    "        qnet.PrepareNode(1, range(n), qnet.ghz_state, 0)\n",
    "    ]\n",
    "\n",
    "\n",
    "def ry_meas_nodes(n):\n",
    "    return [\n",
    "        qnet.MeasureNode(2, 2, [i], qnet.local_RY, 1)\n",
    "        for i in range(n)\n",
    "    ]\n",
    "\n",
    "def rzry_rot(settings, wires):\n",
    "    qml.RZ(settings[0], wires=wires)\n",
    "    qml.RY(np.pi/2, wires=wires)\n",
    "\n",
    "    \n",
    "def rzry_meas_nodes(n):\n",
    "    return [\n",
    "        qnet.MeasureNode(2, 2, [i], rzry_rot, 1)\n",
    "        for i in range(n)\n",
    "    ]"
   ]
  },
  {
   "cell_type": "markdown",
   "id": "93fa5c92",
   "metadata": {},
   "source": [
    "# Optimizations"
   ]
  },
  {
   "cell_type": "markdown",
   "id": "0d6f3e8a",
   "metadata": {},
   "source": [
    "## n = 3"
   ]
  },
  {
   "cell_type": "code",
   "execution_count": 3,
   "id": "7697366d",
   "metadata": {},
   "outputs": [
    {
     "name": "stdout",
     "output_type": "stream",
     "text": [
      "classical bound :  4\n",
      "quantum bound :  8.0 \n",
      "\n",
      "classical optimzation\n",
      "iteration :  0 , score :  2.269478144611965\n",
      "elapsed time :  0.023085832595825195\n",
      "iteration :  5 , score :  3.988660074519093\n",
      "elapsed time :  0.022394180297851562\n",
      "iteration :  10 , score :  3.9973656038596777\n",
      "elapsed time :  0.01487588882446289\n",
      "iteration :  15 , score :  3.99919889361163\n",
      "elapsed time :  0.014913082122802734\n",
      "max score :  3.9997376080773637\n",
      "\n",
      "quantum optimization\n",
      "iteration :  0 , score :  -1.9692253268465407\n",
      "elapsed time :  0.024997711181640625\n",
      "iteration :  10 , score :  7.996703574883997\n",
      "elapsed time :  0.028477907180786133\n",
      "max score :  7.999999879407054\n",
      "[tensor(2.30289106, requires_grad=True), tensor(3.87357333, requires_grad=True), tensor(-2.11046267, requires_grad=True), tensor(-0.53976483, requires_grad=True), tensor(1.37831778, requires_grad=True), tensor(-3.33375833, requires_grad=True)]\n"
     ]
    }
   ],
   "source": [
    "n = 3\n",
    "\n",
    "print(\"classical bound : \", qnet.mermin_klyshko_classical_bound(n))\n",
    "print(\"quantum bound : \", qnet.mermin_klyshko_quantum_bound(n), \"\\n\")\n",
    "\n",
    "print(\"classical optimzation\")\n",
    "cl_ansatz = qnet.NetworkAnsatz(cl_prep_nodes(n), ry_meas_nodes(n))\n",
    "cl_opt_dict = qnet.gradient_descent(\n",
    "    qnet.mermin_klyshko_cost_fn(cl_ansatz),\n",
    "    cl_ansatz.rand_network_settings(),\n",
    "    sample_width = 5,\n",
    "    num_steps = 20,\n",
    "    step_size = 0.4\n",
    ")\n",
    "print(\"max score : \", cl_opt_dict[\"opt_score\"])\n",
    "\n",
    "print(\"\\nquantum optimization\")\n",
    "ghz_ansatz = qnet.NetworkAnsatz(ghz_prep_nodes(n), rzry_meas_nodes(n))\n",
    "ghz_opt_dict = qnet.gradient_descent(\n",
    "    qnet.mermin_klyshko_cost_fn(ghz_ansatz),\n",
    "    ghz_ansatz.rand_network_settings(),\n",
    "    sample_width = 10,\n",
    "    num_steps = 20,\n",
    "    step_size = 0.1\n",
    ")\n",
    "print(\"max score : \", ghz_opt_dict[\"opt_score\"])\n",
    "print(ghz_opt_dict[\"opt_settings\"])"
   ]
  },
  {
   "cell_type": "markdown",
   "id": "8d2c06c4",
   "metadata": {},
   "source": [
    "## n = 4"
   ]
  },
  {
   "cell_type": "code",
   "execution_count": 4,
   "id": "34abd0c9",
   "metadata": {},
   "outputs": [
    {
     "name": "stdout",
     "output_type": "stream",
     "text": [
      "classical bound :  8\n",
      "quantum bound :  22.627416997969522 \n",
      "\n",
      "classical\n",
      "iteration :  0 , score :  2.9165756157510945\n",
      "elapsed time :  0.16971588134765625\n",
      "iteration :  5 , score :  7.9985747733693895\n",
      "elapsed time :  0.12235498428344727\n",
      "iteration :  10 , score :  7.999999662006812\n",
      "elapsed time :  0.10654401779174805\n",
      "iteration :  15 , score :  7.999999998625014\n",
      "elapsed time :  0.11244797706604004\n",
      "max score 7.999999999991739\n",
      "\n",
      "quantum optimization\n",
      "iteration :  0 , score :  12.10269187921348\n",
      "elapsed time :  0.11647891998291016\n",
      "iteration :  10 , score :  22.62727936273091\n",
      "elapsed time :  0.09160113334655762\n",
      "iteration :  20 , score :  22.62741695961418\n",
      "elapsed time :  0.17101383209228516\n",
      "iteration :  30 , score :  22.627416997411604\n",
      "elapsed time :  0.10201191902160645\n",
      "max score :  22.627416997961234\n",
      "[tensor(-0.32305202, requires_grad=True), tensor(1.24774431, requires_grad=True), tensor(-2.94596631, requires_grad=True), tensor(-1.37516999, requires_grad=True), tensor(-3.14499394, requires_grad=True), tensor(-1.57419762, requires_grad=True), tensor(-2.22536667, requires_grad=True), tensor(-0.65457034, requires_grad=True)]\n"
     ]
    }
   ],
   "source": [
    "n = 4\n",
    "\n",
    "print(\"classical bound : \", qnet.mermin_klyshko_classical_bound(n))\n",
    "print(\"quantum bound : \", qnet.mermin_klyshko_quantum_bound(n), \"\\n\")\n",
    "\n",
    "print(\"classical\")\n",
    "cl_ansatz = qnet.NetworkAnsatz(cl_prep_nodes(n), ry_meas_nodes(n))\n",
    "cl_opt_dict = qnet.gradient_descent(\n",
    "    qnet.mermin_klyshko_cost_fn(cl_ansatz),\n",
    "    cl_ansatz.rand_network_settings(),\n",
    "    sample_width = 5,\n",
    "    num_steps = 20,\n",
    "    step_size = 0.2\n",
    ")\n",
    "print(\"max score\", cl_opt_dict[\"opt_score\"])\n",
    "\n",
    "print(\"\\nquantum optimization\")\n",
    "ghz_ansatz = qnet.NetworkAnsatz(ghz_prep_nodes(n), rzry_meas_nodes(n))\n",
    "np.random.seed(1)\n",
    "ghz_opt_dict = qnet.gradient_descent(\n",
    "    qnet.mermin_klyshko_cost_fn(ghz_ansatz),\n",
    "    ghz_ansatz.rand_network_settings(),\n",
    "    sample_width = 10,\n",
    "    num_steps = 40,\n",
    "    step_size = 0.04\n",
    ")\n",
    "print(\"max score : \", ghz_opt_dict[\"opt_score\"])\n",
    "print(ghz_opt_dict[\"opt_settings\"])"
   ]
  },
  {
   "cell_type": "markdown",
   "id": "deee30c1",
   "metadata": {},
   "source": [
    "## n = 5"
   ]
  },
  {
   "cell_type": "code",
   "execution_count": 5,
   "id": "3272c5bf",
   "metadata": {},
   "outputs": [
    {
     "name": "stdout",
     "output_type": "stream",
     "text": [
      "classical bound :  16\n",
      "quantum bound :  64.0 \n",
      "\n",
      "classical optimization\n",
      "iteration :  0 , score :  5.022995939689165\n",
      "elapsed time :  0.1285238265991211\n",
      "iteration :  5 , score :  15.904093925941835\n",
      "elapsed time :  0.1396007537841797\n",
      "max score :  15.990299319049566\n",
      "\n",
      "quantum optimization\n",
      "iteration :  0 , score :  -30.816320489400397\n",
      "elapsed time :  0.12016606330871582\n",
      "iteration :  7 , score :  28.41431365691741\n",
      "elapsed time :  0.1295170783996582\n",
      "iteration :  14 , score :  63.60623389257651\n",
      "elapsed time :  0.20027685165405273\n",
      "iteration :  21 , score :  63.99820398612704\n",
      "elapsed time :  0.13167476654052734\n",
      "iteration :  28 , score :  63.99999188193693\n",
      "elapsed time :  0.14500212669372559\n",
      "max score :  63.99999996330749\n",
      "[tensor(-0.28875605, requires_grad=True), tensor(1.28205151, requires_grad=True), tensor(-2.91167017, requires_grad=True), tensor(-1.34086296, requires_grad=True), tensor(0.03087215, requires_grad=True), tensor(-4.68146053, requires_grad=True), tensor(-2.19105414, requires_grad=True), tensor(-0.6202797, requires_grad=True), tensor(-0.9225922, requires_grad=True), tensor(0.64817781, requires_grad=True)]\n"
     ]
    }
   ],
   "source": [
    "n = 5\n",
    "\n",
    "print(\"classical bound : \", qnet.mermin_klyshko_classical_bound(n))\n",
    "print(\"quantum bound : \", qnet.mermin_klyshko_quantum_bound(n), \"\\n\")\n",
    "\n",
    "print(\"classical optimization\")\n",
    "cl_ansatz = qnet.NetworkAnsatz(cl_prep_nodes(n), ry_meas_nodes(n))\n",
    "cl_opt_dict = qnet.gradient_descent(\n",
    "    qnet.mermin_klyshko_cost_fn(cl_ansatz),\n",
    "    cl_ansatz.rand_network_settings(),\n",
    "    sample_width = 5,\n",
    "    num_steps = 10,\n",
    "    step_size = 0.1\n",
    ")\n",
    "print(\"max score : \", cl_opt_dict[\"opt_score\"])\n",
    "\n",
    "print(\"\\nquantum optimization\")\n",
    "ghz_ansatz = qnet.NetworkAnsatz(ghz_prep_nodes(n), rzry_meas_nodes(n))\n",
    "np.random.seed(1)\n",
    "ghz_opt_dict = qnet.gradient_descent(\n",
    "    qnet.mermin_klyshko_cost_fn(ghz_ansatz),\n",
    "    ghz_ansatz.rand_network_settings(),\n",
    "    sample_width = 7,\n",
    "    num_steps = 35,\n",
    "    step_size = 0.01\n",
    ")\n",
    "print(\"max score : \", ghz_opt_dict[\"opt_score\"])\n",
    "print(ghz_opt_dict[\"opt_settings\"])"
   ]
  },
  {
   "cell_type": "markdown",
   "id": "e9bfd0ed",
   "metadata": {},
   "source": [
    "## n = 6"
   ]
  },
  {
   "cell_type": "code",
   "execution_count": 6,
   "id": "a156674b",
   "metadata": {},
   "outputs": [
    {
     "name": "stdout",
     "output_type": "stream",
     "text": [
      "classical bound :  32\n",
      "quantum bound :  181.01933598375618 \n",
      "\n",
      "\n",
      "classical optimziation\n",
      "iteration :  0 , score :  4.2033679594592765\n",
      "elapsed time :  0.5950510501861572\n",
      "iteration :  5 , score :  31.2285079287877\n",
      "elapsed time :  0.7105286121368408\n",
      "iteration :  10 , score :  31.926902578106233\n",
      "elapsed time :  0.6552371978759766\n",
      "max score :  31.973110623871396\n",
      "\n",
      "quantum optimization\n",
      "iteration :  0 , score :  91.75782099682029\n",
      "elapsed time :  0.6196279525756836\n",
      "iteration :  5 , score :  178.64468783281944\n",
      "elapsed time :  0.6625587940216064\n",
      "iteration :  10 , score :  180.99226193770355\n",
      "elapsed time :  0.660351037979126\n",
      "iteration :  15 , score :  181.01902889455243\n",
      "elapsed time :  0.6850917339324951\n",
      "iteration :  20 , score :  181.01930963936746\n",
      "elapsed time :  0.8958969116210938\n",
      "max score :  181.0192234215522\n",
      "[tensor(-0.3544713, requires_grad=True), tensor(1.21633266, requires_grad=True), tensor(-2.97738552, requires_grad=True), tensor(-1.40658171, requires_grad=True), tensor(-3.17639242, requires_grad=True), tensor(-1.60563007, requires_grad=True), tensor(-2.25677572, requires_grad=True), tensor(-0.68599221, requires_grad=True), tensor(-0.98831485, requires_grad=True), tensor(0.58246636, requires_grad=True), tensor(-0.45792908, requires_grad=True), tensor(1.11286955, requires_grad=True)]\n"
     ]
    }
   ],
   "source": [
    "n = 6\n",
    "\n",
    "print(\"classical bound : \", qnet.mermin_klyshko_classical_bound(n))\n",
    "print(\"quantum bound : \", qnet.mermin_klyshko_quantum_bound(n), \"\\n\")\n",
    "\n",
    "print(\"\\nclassical optimziation\")\n",
    "cl_ansatz = qnet.NetworkAnsatz(cl_prep_nodes(n), ry_meas_nodes(n))\n",
    "cl_opt_dict = qnet.gradient_descent(\n",
    "    qnet.mermin_klyshko_cost_fn(cl_ansatz),\n",
    "    cl_ansatz.rand_network_settings(),\n",
    "    sample_width = 5,\n",
    "    num_steps = 15,\n",
    "    step_size = 0.05\n",
    ")\n",
    "print(\"max score : \", cl_opt_dict[\"opt_score\"])\n",
    "\n",
    "print(\"\\nquantum optimization\")\n",
    "ghz_ansatz = qnet.NetworkAnsatz(ghz_prep_nodes(n), rzry_meas_nodes(n))\n",
    "np.random.seed(1)\n",
    "ghz_opt_dict = qnet.gradient_descent(\n",
    "    qnet.mermin_klyshko_cost_fn(ghz_ansatz),\n",
    "    ghz_ansatz.rand_network_settings(),\n",
    "    sample_width = 5,\n",
    "    num_steps = 25,\n",
    "    step_size = 0.004\n",
    ")\n",
    "print(\"max score : \", ghz_opt_dict[\"opt_score\"])\n",
    "print(ghz_opt_dict[\"opt_settings\"])"
   ]
  },
  {
   "cell_type": "markdown",
   "id": "b476cc2f",
   "metadata": {},
   "source": [
    "## n = 7"
   ]
  },
  {
   "cell_type": "code",
   "execution_count": 7,
   "id": "fa310529",
   "metadata": {},
   "outputs": [
    {
     "name": "stdout",
     "output_type": "stream",
     "text": [
      "classical bound :  64\n",
      "quantum bound :  512.0 \n",
      "\n",
      "\n",
      "classical optimziation\n",
      "iteration :  0 , score :  -3.4948874818977407\n",
      "elapsed time :  0.847909688949585\n",
      "iteration :  5 , score :  0.7846902985560518\n",
      "elapsed time :  0.7731490135192871\n",
      "iteration :  10 , score :  8.55250284548391\n",
      "elapsed time :  0.8968138694763184\n",
      "iteration :  15 , score :  56.608638814998166\n",
      "elapsed time :  0.9868419170379639\n",
      "max score :  63.99978211246262\n",
      "\n",
      "quantum optimization\n",
      "iteration :  0 , score :  -59.532891596932146\n",
      "elapsed time :  0.9196150302886963\n",
      "iteration :  5 , score :  489.15933006814913\n",
      "elapsed time :  0.8337159156799316\n",
      "iteration :  10 , score :  463.1114030501951\n",
      "elapsed time :  1.0076501369476318\n",
      "iteration :  15 , score :  454.78665174428113\n",
      "elapsed time :  1.0648231506347656\n",
      "max score :  505.9050309836782\n",
      "[tensor(-1.26844742, requires_grad=True), tensor(0.30551241, requires_grad=True), tensor(-3.8913305, requires_grad=True), tensor(-2.3174331, requires_grad=True), tensor(-4.08255988, requires_grad=True), tensor(-2.52425897, requires_grad=True), tensor(-3.16655379, requires_grad=True), tensor(-1.60101052, requires_grad=True), tensor(-1.89763927, requires_grad=True), tensor(-0.3330056, requires_grad=True), tensor(-1.37082385, requires_grad=True), tensor(0.20096795, requires_grad=True), tensor(-4.57415114, requires_grad=True), tensor(3.26704327, requires_grad=True)]\n"
     ]
    }
   ],
   "source": [
    "n = 7\n",
    "\n",
    "print(\"classical bound : \", qnet.mermin_klyshko_classical_bound(n))\n",
    "print(\"quantum bound : \", qnet.mermin_klyshko_quantum_bound(n), \"\\n\")\n",
    "\n",
    "print(\"\\nclassical optimziation\")\n",
    "cl_ansatz = qnet.NetworkAnsatz(cl_prep_nodes(n), ry_meas_nodes(n))\n",
    "cl_opt_dict = qnet.gradient_descent(\n",
    "    qnet.mermin_klyshko_cost_fn(cl_ansatz),\n",
    "    cl_ansatz.rand_network_settings(),\n",
    "    sample_width = 5,\n",
    "    num_steps = 20,\n",
    "    step_size = 0.03\n",
    ")\n",
    "print(\"max score : \", cl_opt_dict[\"opt_score\"])\n",
    "\n",
    "print(\"\\nquantum optimization\")\n",
    "ghz_ansatz = qnet.NetworkAnsatz(ghz_prep_nodes(n), rzry_meas_nodes(n))\n",
    "np.random.seed(1)\n",
    "ghz_opt_dict = qnet.gradient_descent(\n",
    "    qnet.mermin_klyshko_cost_fn(ghz_ansatz),\n",
    "    ghz_ansatz.rand_network_settings(),\n",
    "    sample_width = 5,\n",
    "    num_steps = 20,\n",
    "    step_size = 0.003\n",
    ")\n",
    "print(\"max score : \", ghz_opt_dict[\"opt_score\"])\n",
    "print(ghz_opt_dict[\"opt_settings\"])"
   ]
  },
  {
   "cell_type": "code",
   "execution_count": null,
   "id": "a794f3f5",
   "metadata": {},
   "outputs": [],
   "source": []
  }
 ],
 "metadata": {
  "@webio": {
   "lastCommId": null,
   "lastKernelId": null
  },
  "kernelspec": {
   "display_name": "Python 3 (ipykernel)",
   "language": "python",
   "name": "python3"
  },
  "language_info": {
   "codemirror_mode": {
    "name": "ipython",
    "version": 3
   },
   "file_extension": ".py",
   "mimetype": "text/x-python",
   "name": "python",
   "nbconvert_exporter": "python",
   "pygments_lexer": "ipython3",
   "version": "3.8.13"
  }
 },
 "nbformat": 4,
 "nbformat_minor": 5
}
