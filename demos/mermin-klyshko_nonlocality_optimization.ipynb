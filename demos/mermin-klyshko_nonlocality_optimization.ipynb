{
 "cells": [
  {
   "cell_type": "markdown",
   "id": "30184dee",
   "metadata": {},
   "source": [
    "# Mermin-Klyshko Nonlocality Optimization\n",
    "\n",
    "This notebook demonstrates the optimization of nonlocality with respect to the Mermin-Klyshko inequality.\n",
    "The Mermin-klyshko has an interesting exponential separation between classical and quantum bounds.\n",
    "The optimal quantum state preparation is known to be the GHZ state."
   ]
  },
  {
   "cell_type": "code",
   "execution_count": 8,
   "id": "c8f81e80",
   "metadata": {},
   "outputs": [],
   "source": [
    "import qnetvo as qnet\n",
    "\n",
    "import pennylane as qml\n",
    "from pennylane import numpy as np\n",
    "\n",
    "import matplotlib.pyplot as plt"
   ]
  },
  {
   "cell_type": "markdown",
   "id": "b0202cde",
   "metadata": {},
   "source": [
    "## Setup\n",
    "\n",
    "We first create functions to generate the preparation and measurement nodes for classical and quantum settings."
   ]
  },
  {
   "cell_type": "code",
   "execution_count": 2,
   "id": "7eb40b65",
   "metadata": {},
   "outputs": [],
   "source": [
    "def cl_prep_nodes(n):\n",
    "    return [\n",
    "        qnet.PrepareNode(1, range(n), lambda settings, wires: None, 0)\n",
    "    ]\n",
    "\n",
    "def ghz_prep_nodes(n):\n",
    "    return [\n",
    "        qnet.PrepareNode(1, range(n), qnet.ghz_state, 0)\n",
    "    ]\n",
    "\n",
    "\n",
    "def ry_meas_nodes(n):\n",
    "    return [\n",
    "        qnet.MeasureNode(2, 2, [i], qnet.local_RY, 1)\n",
    "        for i in range(n)\n",
    "    ]\n",
    "\n",
    "def rzry_rot(settings, wires):\n",
    "    qml.RZ(settings[0], wires=wires)\n",
    "    qml.RY(np.pi/2, wires=wires)\n",
    "\n",
    "    \n",
    "def rzry_meas_nodes(n):\n",
    "    return [\n",
    "        qnet.MeasureNode(2, 2, [i], rzry_rot, 1)\n",
    "        for i in range(n)\n",
    "    ]"
   ]
  },
  {
   "cell_type": "markdown",
   "id": "93fa5c92",
   "metadata": {},
   "source": [
    "# Optimizations"
   ]
  },
  {
   "cell_type": "markdown",
   "id": "0d6f3e8a",
   "metadata": {},
   "source": [
    "## n = 3"
   ]
  },
  {
   "cell_type": "code",
   "execution_count": 3,
   "id": "7697366d",
   "metadata": {},
   "outputs": [
    {
     "name": "stdout",
     "output_type": "stream",
     "text": [
      "classical bound :  4\n",
      "quantum bound :  8.0 \n",
      "\n",
      "classical optimzation\n",
      "iteration :  0 , score :  0.08057092136167843\n",
      "elapsed time :  0.018174171447753906\n",
      "iteration :  5 , score :  3.9137975040212796\n"
     ]
    },
    {
     "name": "stderr",
     "output_type": "stream",
     "text": [
      "/Users/brian/opt/anaconda3/envs/qnetvo-dev/lib/python3.8/site-packages/pennylane/_grad.py:95: UserWarning: Starting with PennyLane v0.21.0, when using Autograd, inputs have to explicitly specify requires_grad=True (or the argnum argument must be passed) in order for trainable parameters to be identified.\n",
      "  warnings.warn(\n"
     ]
    },
    {
     "name": "stdout",
     "output_type": "stream",
     "text": [
      "elapsed time :  0.06405401229858398\n",
      "iteration :  10 , score :  3.999495795849075\n",
      "elapsed time :  0.020214080810546875\n",
      "iteration :  15 , score :  3.9999956358903015\n",
      "elapsed time :  0.016028881072998047\n",
      "max score :  3.9999999621253\n",
      "\n",
      "quantum optimization\n",
      "iteration :  0 , score :  -5.161149075004385\n",
      "elapsed time :  0.015795230865478516\n",
      "iteration :  10 , score :  7.804172578331204\n",
      "elapsed time :  0.016555070877075195\n",
      "max score :  7.9999925027687775\n",
      "[[array([], shape=(1, 0), dtype=float64)], [array([[ 4.09133211],\n",
      "       [-3.76071889]]), array([[-1.71308089],\n",
      "       [ 2.99753983]]), array([[2.33365559],\n",
      "       [0.76366123]])]]\n"
     ]
    }
   ],
   "source": [
    "n = 3\n",
    "\n",
    "print(\"classical bound : \", qnet.mermin_klyshko_classical_bound(n))\n",
    "print(\"quantum bound : \", qnet.mermin_klyshko_quantum_bound(n), \"\\n\")\n",
    "\n",
    "print(\"classical optimzation\")\n",
    "cl_ansatz = qnet.NetworkAnsatz(cl_prep_nodes(n), ry_meas_nodes(n))\n",
    "cl_opt_dict = qnet.gradient_descent(\n",
    "    qnet.mermin_klyshko_cost_fn(cl_ansatz),\n",
    "    cl_ansatz.rand_scenario_settings(),\n",
    "    sample_width = 5,\n",
    "    num_steps = 20,\n",
    "    step_size = 0.4\n",
    ")\n",
    "print(\"max score : \", cl_opt_dict[\"opt_score\"])\n",
    "\n",
    "print(\"\\nquantum optimization\")\n",
    "ghz_ansatz = qnet.NetworkAnsatz(ghz_prep_nodes(n), rzry_meas_nodes(n))\n",
    "ghz_opt_dict = qnet.gradient_descent(\n",
    "    qnet.mermin_klyshko_cost_fn(ghz_ansatz),\n",
    "    ghz_ansatz.rand_scenario_settings(),\n",
    "    sample_width = 10,\n",
    "    num_steps = 20,\n",
    "    step_size = 0.1\n",
    ")\n",
    "print(\"max score : \", ghz_opt_dict[\"opt_score\"])\n",
    "print(ghz_opt_dict[\"opt_settings\"])"
   ]
  },
  {
   "cell_type": "markdown",
   "id": "8d2c06c4",
   "metadata": {},
   "source": [
    "## n = 4"
   ]
  },
  {
   "cell_type": "code",
   "execution_count": 4,
   "id": "34abd0c9",
   "metadata": {},
   "outputs": [
    {
     "name": "stdout",
     "output_type": "stream",
     "text": [
      "classical bound :  8\n",
      "quantum bound :  22.627416997969522 \n",
      "\n",
      "classical\n",
      "iteration :  0 , score :  -2.3334330921524686\n",
      "elapsed time :  0.13529586791992188\n",
      "iteration :  5 , score :  7.994558852829025\n",
      "elapsed time :  0.13629388809204102\n",
      "iteration :  10 , score :  7.99999111663814\n",
      "elapsed time :  0.08094525337219238\n",
      "iteration :  15 , score :  7.9999999808119275\n",
      "elapsed time :  0.07611680030822754\n",
      "max score 7.999999999934312\n",
      "\n",
      "quantum optimization\n",
      "iteration :  0 , score :  12.10269187921348\n",
      "elapsed time :  0.07215309143066406\n",
      "iteration :  10 , score :  22.62727936273091\n",
      "elapsed time :  0.08942127227783203\n",
      "iteration :  20 , score :  22.627416959614177\n",
      "elapsed time :  0.08278918266296387\n",
      "iteration :  30 , score :  22.627416997411604\n",
      "elapsed time :  0.08835315704345703\n",
      "max score :  22.627416997961234\n",
      "[[array([], shape=(1, 0), dtype=float64)], [array([[-0.32305202],\n",
      "       [ 1.24774431]]), array([[-2.94596631],\n",
      "       [-1.37516999]]), array([[-3.14499394],\n",
      "       [-1.57419762]]), array([[-2.22536667],\n",
      "       [-0.65457034]])]]\n"
     ]
    }
   ],
   "source": [
    "n = 4\n",
    "\n",
    "print(\"classical bound : \", qnet.mermin_klyshko_classical_bound(n))\n",
    "print(\"quantum bound : \", qnet.mermin_klyshko_quantum_bound(n), \"\\n\")\n",
    "\n",
    "print(\"classical\")\n",
    "cl_ansatz = qnet.NetworkAnsatz(cl_prep_nodes(n), ry_meas_nodes(n))\n",
    "cl_opt_dict = qnet.gradient_descent(\n",
    "    qnet.mermin_klyshko_cost_fn(cl_ansatz),\n",
    "    cl_ansatz.rand_scenario_settings(),\n",
    "    sample_width = 5,\n",
    "    num_steps = 20,\n",
    "    step_size = 0.2\n",
    ")\n",
    "print(\"max score\", cl_opt_dict[\"opt_score\"])\n",
    "\n",
    "print(\"\\nquantum optimization\")\n",
    "ghz_ansatz = qnet.NetworkAnsatz(ghz_prep_nodes(n), rzry_meas_nodes(n))\n",
    "np.random.seed(1)\n",
    "ghz_opt_dict = qnet.gradient_descent(\n",
    "    qnet.mermin_klyshko_cost_fn(ghz_ansatz),\n",
    "    ghz_ansatz.rand_scenario_settings(),\n",
    "    sample_width = 10,\n",
    "    num_steps = 40,\n",
    "    step_size = 0.04\n",
    ")\n",
    "print(\"max score : \", ghz_opt_dict[\"opt_score\"])\n",
    "print(ghz_opt_dict[\"opt_settings\"])"
   ]
  },
  {
   "cell_type": "markdown",
   "id": "deee30c1",
   "metadata": {},
   "source": [
    "## n = 5"
   ]
  },
  {
   "cell_type": "code",
   "execution_count": 5,
   "id": "3272c5bf",
   "metadata": {},
   "outputs": [
    {
     "name": "stdout",
     "output_type": "stream",
     "text": [
      "classical bound :  16\n",
      "quantum bound :  64.0 \n",
      "\n",
      "classical optimization\n",
      "iteration :  0 , score :  5.022995939689165\n",
      "elapsed time :  0.1043558120727539\n",
      "iteration :  5 , score :  15.904093925941835\n",
      "elapsed time :  0.1550767421722412\n",
      "max score :  15.990299319049566\n",
      "\n",
      "quantum optimization\n",
      "iteration :  0 , score :  -30.816320489400397\n",
      "elapsed time :  0.09635186195373535\n",
      "iteration :  7 , score :  28.414313656917436\n",
      "elapsed time :  0.10416221618652344\n",
      "iteration :  14 , score :  63.60623389257651\n",
      "elapsed time :  0.0906379222869873\n",
      "iteration :  21 , score :  63.99820398612704\n",
      "elapsed time :  0.09159302711486816\n",
      "iteration :  28 , score :  63.999991881936936\n",
      "elapsed time :  0.22861289978027344\n",
      "max score :  63.99999996330749\n",
      "[[array([], shape=(1, 0), dtype=float64)], [array([[-0.28875605],\n",
      "       [ 1.28205151]]), array([[-2.91167017],\n",
      "       [-1.34086296]]), array([[ 0.03087215],\n",
      "       [-4.68146053]]), array([[-2.19105414],\n",
      "       [-0.6202797 ]]), array([[-0.9225922 ],\n",
      "       [ 0.64817781]])]]\n"
     ]
    }
   ],
   "source": [
    "n = 5\n",
    "\n",
    "print(\"classical bound : \", qnet.mermin_klyshko_classical_bound(n))\n",
    "print(\"quantum bound : \", qnet.mermin_klyshko_quantum_bound(n), \"\\n\")\n",
    "\n",
    "print(\"classical optimization\")\n",
    "cl_ansatz = qnet.NetworkAnsatz(cl_prep_nodes(n), ry_meas_nodes(n))\n",
    "cl_opt_dict = qnet.gradient_descent(\n",
    "    qnet.mermin_klyshko_cost_fn(cl_ansatz),\n",
    "    cl_ansatz.rand_scenario_settings(),\n",
    "    sample_width = 5,\n",
    "    num_steps = 10,\n",
    "    step_size = 0.1\n",
    ")\n",
    "print(\"max score : \", cl_opt_dict[\"opt_score\"])\n",
    "\n",
    "print(\"\\nquantum optimization\")\n",
    "ghz_ansatz = qnet.NetworkAnsatz(ghz_prep_nodes(n), rzry_meas_nodes(n))\n",
    "np.random.seed(1)\n",
    "ghz_opt_dict = qnet.gradient_descent(\n",
    "    qnet.mermin_klyshko_cost_fn(ghz_ansatz),\n",
    "    ghz_ansatz.rand_scenario_settings(),\n",
    "    sample_width = 7,\n",
    "    num_steps = 35,\n",
    "    step_size = 0.01\n",
    ")\n",
    "print(\"max score : \", ghz_opt_dict[\"opt_score\"])\n",
    "print(ghz_opt_dict[\"opt_settings\"])"
   ]
  },
  {
   "cell_type": "markdown",
   "id": "e9bfd0ed",
   "metadata": {},
   "source": [
    "## n = 6"
   ]
  },
  {
   "cell_type": "code",
   "execution_count": 6,
   "id": "a156674b",
   "metadata": {},
   "outputs": [
    {
     "name": "stdout",
     "output_type": "stream",
     "text": [
      "classical bound :  32\n",
      "quantum bound :  181.01933598375618 \n",
      "\n",
      "\n",
      "classical optimziation\n",
      "iteration :  0 , score :  4.2033679594592765\n",
      "elapsed time :  0.5713059902191162\n",
      "iteration :  5 , score :  31.228507928787703\n",
      "elapsed time :  0.6001589298248291\n",
      "iteration :  10 , score :  31.926902578106223\n",
      "elapsed time :  0.6208829879760742\n",
      "max score :  31.973110623871403\n",
      "\n",
      "quantum optimization\n",
      "iteration :  0 , score :  91.75782099682029\n",
      "elapsed time :  0.5303659439086914\n",
      "iteration :  5 , score :  178.64468783281947\n",
      "elapsed time :  0.4604151248931885\n",
      "iteration :  10 , score :  180.99226193770355\n",
      "elapsed time :  0.4456291198730469\n",
      "iteration :  15 , score :  181.01902889455246\n",
      "elapsed time :  0.5454108715057373\n",
      "iteration :  20 , score :  181.0193096393674\n",
      "elapsed time :  0.6256589889526367\n",
      "max score :  181.01922342155228\n",
      "[[array([], shape=(1, 0), dtype=float64)], [array([[-0.3544713 ],\n",
      "       [ 1.21633266]]), array([[-2.97738552],\n",
      "       [-1.40658171]]), array([[-3.17639242],\n",
      "       [-1.60563007]]), array([[-2.25677572],\n",
      "       [-0.68599221]]), array([[-0.98831485],\n",
      "       [ 0.58246636]]), array([[-0.45792908],\n",
      "       [ 1.11286955]])]]\n"
     ]
    }
   ],
   "source": [
    "n = 6\n",
    "\n",
    "print(\"classical bound : \", qnet.mermin_klyshko_classical_bound(n))\n",
    "print(\"quantum bound : \", qnet.mermin_klyshko_quantum_bound(n), \"\\n\")\n",
    "\n",
    "print(\"\\nclassical optimziation\")\n",
    "cl_ansatz = qnet.NetworkAnsatz(cl_prep_nodes(n), ry_meas_nodes(n))\n",
    "cl_opt_dict = qnet.gradient_descent(\n",
    "    qnet.mermin_klyshko_cost_fn(cl_ansatz),\n",
    "    cl_ansatz.rand_scenario_settings(),\n",
    "    sample_width = 5,\n",
    "    num_steps = 15,\n",
    "    step_size = 0.05\n",
    ")\n",
    "print(\"max score : \", cl_opt_dict[\"opt_score\"])\n",
    "\n",
    "print(\"\\nquantum optimization\")\n",
    "ghz_ansatz = qnet.NetworkAnsatz(ghz_prep_nodes(n), rzry_meas_nodes(n))\n",
    "np.random.seed(1)\n",
    "ghz_opt_dict = qnet.gradient_descent(\n",
    "    qnet.mermin_klyshko_cost_fn(ghz_ansatz),\n",
    "    ghz_ansatz.rand_scenario_settings(),\n",
    "    sample_width = 5,\n",
    "    num_steps = 25,\n",
    "    step_size = 0.004\n",
    ")\n",
    "print(\"max score : \", ghz_opt_dict[\"opt_score\"])\n",
    "print(ghz_opt_dict[\"opt_settings\"])"
   ]
  },
  {
   "cell_type": "markdown",
   "id": "b476cc2f",
   "metadata": {},
   "source": [
    "## n = 7"
   ]
  },
  {
   "cell_type": "code",
   "execution_count": 7,
   "id": "fa310529",
   "metadata": {},
   "outputs": [
    {
     "name": "stdout",
     "output_type": "stream",
     "text": [
      "classical bound :  64\n",
      "quantum bound :  512.0 \n",
      "\n",
      "\n",
      "classical optimziation\n",
      "iteration :  0 , score :  -3.4948874818977407\n",
      "elapsed time :  0.6523752212524414\n",
      "iteration :  5 , score :  0.7846902985560488\n",
      "elapsed time :  0.5587630271911621\n",
      "iteration :  10 , score :  8.552502845483886\n",
      "elapsed time :  0.6389880180358887\n",
      "iteration :  15 , score :  56.60863881499812\n",
      "elapsed time :  0.5517799854278564\n",
      "max score :  63.999782112462626\n",
      "\n",
      "quantum optimization\n",
      "iteration :  0 , score :  -59.532891596932146\n",
      "elapsed time :  0.5147020816802979\n",
      "iteration :  5 , score :  489.15933006814925\n",
      "elapsed time :  0.5164101123809814\n",
      "iteration :  10 , score :  463.11140305017517\n",
      "elapsed time :  0.5192990303039551\n",
      "iteration :  15 , score :  454.7866517711171\n",
      "elapsed time :  0.4973440170288086\n",
      "max score :  505.90502433763487\n",
      "[[array([], shape=(1, 0), dtype=float64)], [array([[-1.26844741],\n",
      "       [ 0.30551242]]), array([[-3.89133049],\n",
      "       [-2.31743309]]), array([[-4.08255987],\n",
      "       [-2.52425896]]), array([[-3.16655378],\n",
      "       [-1.60101051]]), array([[-1.89763925],\n",
      "       [-0.33300559]]), array([[-1.37082384],\n",
      "       [ 0.20096796]]), array([[-4.57415113],\n",
      "       [ 3.26704329]])]]\n"
     ]
    }
   ],
   "source": [
    "n = 7\n",
    "\n",
    "print(\"classical bound : \", qnet.mermin_klyshko_classical_bound(n))\n",
    "print(\"quantum bound : \", qnet.mermin_klyshko_quantum_bound(n), \"\\n\")\n",
    "\n",
    "print(\"\\nclassical optimziation\")\n",
    "cl_ansatz = qnet.NetworkAnsatz(cl_prep_nodes(n), ry_meas_nodes(n))\n",
    "cl_opt_dict = qnet.gradient_descent(\n",
    "    qnet.mermin_klyshko_cost_fn(cl_ansatz),\n",
    "    cl_ansatz.rand_scenario_settings(),\n",
    "    sample_width = 5,\n",
    "    num_steps = 20,\n",
    "    step_size = 0.03\n",
    ")\n",
    "print(\"max score : \", cl_opt_dict[\"opt_score\"])\n",
    "\n",
    "print(\"\\nquantum optimization\")\n",
    "ghz_ansatz = qnet.NetworkAnsatz(ghz_prep_nodes(n), rzry_meas_nodes(n))\n",
    "np.random.seed(1)\n",
    "ghz_opt_dict = qnet.gradient_descent(\n",
    "    qnet.mermin_klyshko_cost_fn(ghz_ansatz),\n",
    "    ghz_ansatz.rand_scenario_settings(),\n",
    "    sample_width = 5,\n",
    "    num_steps = 20,\n",
    "    step_size = 0.003\n",
    ")\n",
    "print(\"max score : \", ghz_opt_dict[\"opt_score\"])\n",
    "print(ghz_opt_dict[\"opt_settings\"])"
   ]
  },
  {
   "cell_type": "code",
   "execution_count": null,
   "id": "a794f3f5",
   "metadata": {},
   "outputs": [],
   "source": []
  }
 ],
 "metadata": {
  "@webio": {
   "lastCommId": null,
   "lastKernelId": null
  },
  "kernelspec": {
   "display_name": "Python 3 (ipykernel)",
   "language": "python",
   "name": "python3"
  },
  "language_info": {
   "codemirror_mode": {
    "name": "ipython",
    "version": 3
   },
   "file_extension": ".py",
   "mimetype": "text/x-python",
   "name": "python",
   "nbconvert_exporter": "python",
   "pygments_lexer": "ipython3",
   "version": "3.8.12"
  }
 },
 "nbformat": 4,
 "nbformat_minor": 5
}
